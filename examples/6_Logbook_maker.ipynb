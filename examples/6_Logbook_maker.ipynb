{
 "cells": [
  {
   "cell_type": "markdown",
   "metadata": {
    "pycharm": {
     "name": "#%% md\n"
    }
   },
   "source": [
    "# peaks Tutorial 6: Logbook Maker\n",
    "\n",
    "Program to complete automatic logbook keeping of ARPES measurements in the lab and at beamlines."
   ]
  },
  {
   "cell_type": "markdown",
   "metadata": {
    "pycharm": {
     "name": "#%% md\n"
    }
   },
   "source": [
    "## User interface"
   ]
  },
  {
   "cell_type": "code",
   "execution_count": 1,
   "metadata": {
    "pycharm": {
     "name": "#%%\n"
    }
   },
   "outputs": [
    {
     "name": "stdout",
     "output_type": "stream",
     "text": [
      "Please select which system you will be using\n"
     ]
    },
    {
     "data": {
      "text/plain": "VBox(children=(HBox(children=(Dropdown(description='System:', layout=Layout(width='174px'), options=('ARPES', …",
      "application/vnd.jupyter.widget-view+json": {
       "version_major": 2,
       "version_minor": 0,
       "model_id": "3cebf706be8344cd94ef3d414193a9d3"
      }
     },
     "metadata": {},
     "output_type": "display_data"
    },
    {
     "data": {
      "text/plain": "<peaks.logbook.logbook_UI.logbook at 0x7fe21abdf8e0>"
     },
     "execution_count": 1,
     "metadata": {},
     "output_type": "execute_result"
    }
   ],
   "source": [
    "import sys\n",
    "sys.path.insert(0, '../../..')\n",
    "from peaks import *\n",
    "data_path = '../../../'\n",
    "logbook(data_path)"
   ]
  },
  {
   "cell_type": "markdown",
   "metadata": {
    "pycharm": {
     "name": "#%% md\n"
    }
   },
   "source": [
    "## Usage statistics"
   ]
  },
  {
   "cell_type": "markdown",
   "metadata": {
    "pycharm": {
     "name": "#%% md\n"
    }
   },
   "source": []
  },
  {
   "cell_type": "code",
   "execution_count": 1,
   "metadata": {
    "pycharm": {
     "name": "#%%\n"
    }
   },
   "outputs": [],
   "source": [
    "from peaks.logbook.logbook_fns import usage_stats"
   ]
  },
  {
   "cell_type": "code",
   "execution_count": 2,
   "metadata": {
    "pycharm": {
     "name": "#%%\n"
    }
   },
   "outputs": [
    {
     "name": "stdout",
     "output_type": "stream",
     "text": [
      "ARPES usage:\n",
      "     Total duration:\n",
      "          SPA0 XCL068 (Leverhulme TMDs): 68 hours and 24 minutes\n",
      "          SPA0 YEP285 (strain): 5 hours and 59 minutes\n",
      "     Percentage of total duration:\n",
      "          SPA0 XCL068 (Leverhulme TMDs): 91.9%\n",
      "          SPA0 YEP285 (strain): 8.1%\n",
      "     Capped duration:\n",
      "          SPA0 XCL068 (Leverhulme TMDs): 64 hours and 7 minutes\n",
      "          SPA0 YEP285 (strain): 5 hours and 59 minutes\n",
      "     Percentage of capped duration:\n",
      "          SPA0 XCL068 (Leverhulme TMDs): 91.4%\n",
      "          SPA0 YEP285 (strain): 8.6%\n",
      "\n",
      "Spin-ARPES system search failed - no entries after the entered start date\n",
      "\n"
     ]
    }
   ],
   "source": [
    "usage_stats(\"2022-11-01\",\"2022-12-31\")"
   ]
  },
  {
   "cell_type": "code",
   "execution_count": null,
   "metadata": {
    "pycharm": {
     "name": "#%%\n"
    }
   },
   "outputs": [],
   "source": [
    "from peaks.logbook.logbook_fns import usage_stats"
   ]
  },
  {
   "cell_type": "code",
   "execution_count": null,
   "metadata": {
    "pycharm": {
     "name": "#%%\n"
    }
   },
   "outputs": [],
   "source": [
    "usage_stats(\"2022-07-01\",\"2022-08-31\")"
   ]
  },
  {
   "cell_type": "markdown",
   "metadata": {
    "pycharm": {
     "name": "#%% md\n"
    }
   },
   "source": [
    "## Instructions"
   ]
  },
  {
   "cell_type": "code",
   "execution_count": null,
   "metadata": {
    "pycharm": {
     "name": "#%%\n"
    }
   },
   "outputs": [],
   "source": [
    "usage_stats(\"2022-07-01\",\"2022-08-31\")"
   ]
  },
  {
   "cell_type": "markdown",
   "metadata": {
    "pycharm": {
     "name": "#%% md\n"
    }
   },
   "source": [
    "## Instructions"
   ]
  },
  {
   "cell_type": "markdown",
   "metadata": {
    "pycharm": {
     "name": "#%% md\n"
    }
   },
   "source": [
    "### Start-up\n",
    "\n",
    "To start the logbook maker, call the class logbook, which takes data_path (the directory where the data folders will be created) as an argument. When the program starts, you will be asked to select the system you will be using, or if you want to start beamline logging (see beamline logging section). Once you press the 'Start lab logging' button (assuming you are not starting beamline logging), the program will check that the previous session on that system ended correctly i.e. if the previous user pressed the 'End session' button and therefore the usage logs are complete. If the previous session ended correctly, you will be asked to enter their project/session details. If instead the previous session ended incorrectly, the program will determine the state that the previous session was left in (obtaining session and project details) and give you the option to either resume the previous session (this would be used, for example, if the program or computer crashes) or automatically complete usage logs and start new session. If you select to resume the previous session, the program will take you to the main logging interface and apply the previous session and project details. If instead you select to automatically complete usage logs and start a new session, the program will assume the previous session ended 8 hours after the previous session start time and complete the usage logs. Following this, you will be asked to enter your project/session details."
   ]
  },
  {
   "cell_type": "markdown",
   "metadata": {
    "pycharm": {
     "name": "#%% md\n"
    }
   },
   "source": [
    "## Instructions"
   ]
  },
  {
   "cell_type": "markdown",
   "metadata": {
    "pycharm": {
     "name": "#%% md\n"
    }
   },
   "source": [
    "### Start-up\n",
    "\n",
    "To start the logbook maker, call the class logbook, which takes data_path (the directory where the data folders will be created) as an argument. When the program starts, you will be asked to select the system you will be using, or if you want to start beamline logging (see beamline logging section). Once you press the 'Start lab logging' button (assuming you are not starting beamline logging), the program will check that the previous session on that system ended correctly i.e. if the previous user pressed the 'End session' button and therefore the usage logs are complete. If the previous session ended correctly, you will be asked to enter their project/session details. If instead the previous session ended incorrectly, the program will determine the state that the previous session was left in (obtaining session and project details) and give you the option to either resume the previous session (this would be used, for example, if the program or computer crashes) or automatically complete usage logs and start new session. If you select to resume the previous session, the program will take you to the main logging interface and apply the previous session and project details. If instead you select to automatically complete usage logs and start a new session, the program will assume the previous session ended 8 hours after the previous session start time and complete the usage logs. Following this, you will be asked to enter your project/session details."
   ]
  },
  {
   "cell_type": "markdown",
   "metadata": {
    "pycharm": {
     "name": "#%% md\n"
    }
   },
   "source": [
    "### ARPES and spin-ARPES usage logs spreadsheet\n",
    "\n",
    "This spreadsheet is used to log the usage of the ARPES and spin-ARPES systems, and their respective helium lamps. Additionally, there is a log of projects which stores information used to continue logging a previous project.\n",
    "\n",
    "The key ID for this spreadsheet is 1b-xjFcCrhU66wUcTHAzUfpES92qkDnq7ueIXvLkdR2U\n",
    "\n",
    "There should be no reason to manually edit the contents within the ARPES and spin-ARPES systems logs or the respective helium lamps logs in the spreadsheet itself. The project log is realistically the only log that may need to be manually changed within the spreadsheet itself e.g. to update grant codes/project lead."
   ]
  },
  {
   "cell_type": "markdown",
   "metadata": {
    "pycharm": {
     "name": "#%% md\n"
    }
   },
   "source": [
    "### Start-up\n",
    "\n",
    "To start the logbook maker, call the class logbook, which takes data_path (the directory where the data folders will be created) as an argument. When the program starts, you will be asked to select the system you will be using, or if you want to start beamline logging (see beamline logging section). Once you press the 'Start lab logging' button (assuming you are not starting beamline logging), the program will check that the previous session on that system ended correctly i.e. if the previous user pressed the 'End session' button and therefore the usage logs are complete. If the previous session ended correctly, you will be asked to enter their project/session details. If instead the previous session ended incorrectly, the program will determine the state that the previous session was left in (obtaining session and project details) and give you the option to either resume the previous session (this would be used, for example, if the program or computer crashes) or automatically complete usage logs and start new session. If you select to resume the previous session, the program will take you to the main logging interface and apply the previous session and project details. If instead you select to automatically complete usage logs and start a new session, the program will assume the previous session ended 8 hours after the previous session start time and complete the usage logs. Following this, you will be asked to enter your project/session details."
   ]
  },
  {
   "cell_type": "markdown",
   "metadata": {
    "pycharm": {
     "name": "#%% md\n"
    }
   },
   "source": [
    "### ARPES and spin-ARPES usage logs spreadsheet\n",
    "\n",
    "This spreadsheet is used to log the usage of the ARPES and spin-ARPES systems, and their respective helium lamps. Additionally, there is a log of projects which stores information used to continue logging a previous project.\n",
    "\n",
    "The key ID for this spreadsheet is 1b-xjFcCrhU66wUcTHAzUfpES92qkDnq7ueIXvLkdR2U\n",
    "\n",
    "There should be no reason to manually edit the contents within the ARPES and spin-ARPES systems logs or the respective helium lamps logs in the spreadsheet itself. The project log is realistically the only log that may need to be manually changed within the spreadsheet itself e.g. to update grant codes/project lead."
   ]
  },
  {
   "cell_type": "markdown",
   "metadata": {
    "pycharm": {
     "name": "#%% md\n"
    }
   },
   "source": [
    "### Project spreadsheet\n",
    "\n",
    "A project is associated with a project spreadsheet. The project spreadsheet contains an info worksheet (which contains project information) and additional sample worksheets (which are the measurement logbooks for the samples). Do not change the name of the worksheets! \n",
    "\n",
    "When you start a new project, you will first have to create a new blank Google sheet. Following this, you must share the spreadsheet with arpes-logbooks@arpes-logbooks.iam.gserviceaccount.com (do not tick the notify people box, or we will get an email saying this notification could not be delivered since it is not really a real email address). This sharing only ever has to be done once for each spreadsheet. Then (in the program interface) you will have to enter the key ID of the blank Google sheet (the key ID is used to connect to a spreadsheet and it is the long code in the Google sheet URL shown here: https://docs.google.com/spreadsheets/d/keyID/other_stuff). The code will then automatically create a project logbook frontpage worksheet called 'Info' and a sample worksheet called the sample name. Additionally, whenever a new sample is entered in the program interface, a new sample worksheet will be created\n",
    "\n",
    "You can either use a project as a single session log and create a new project spreadsheet every time you perform measurements (e.g. project name: 2020_01_01_GM1-001), or the project can be more general and be used for many sessions, allowing you to continue an existing project (e.g. project name: TMD substrate effects).\n"
   ]
  },
  {
   "cell_type": "markdown",
   "metadata": {
    "pycharm": {
     "name": "#%% md\n"
    }
   },
   "source": [
    "### Logging options\n",
    "\n",
    "When a session is begun, the logbook maker will automatically create a sample folder as described below. Note: the class logbook takes the data_path as input (the directory where the data folders will be created). This can conclude with / or not.\n",
    "\n",
    "For measurements performed using the Phoibos 225 analyser (ARPES), the program assumes that sample files are saved in a folder at the file path data_path+/YYYY/MM/YYMMDD/sample_name/Phoibos225/ (e.g. data_path+/2020/01/200131/GM1-001/Phoibos225/). \n",
    "\n",
    "For measurements using the MBS A-1 analyser (spin-ARPES), the program assumes that sample files are saved in a folder at the file path data_path+/YYYY/MM/YYMMDD/sample_name/MBS_A1/ (e.g. data_path+/2020/01/200131/GM1-001/MBS_A1/). \n",
    "\n",
    "Start/finish helium lamp usage - the program will update the helium lamp usage log of the system being used, accordingly.\n",
    "\n",
    "Start automatic logging - the program will automatically update the active sample worksheet with new scans within the active sample folder. The logging interval is the time between these updates. To stop automatic logging, press the stop button on the second top menu (this must be done before other functions are used).\n",
    "\n",
    "Upload file - the program will upload the scan with the user inputted file name located within the active sample folder to the active sample worksheet. Note: file name must include the file name extension.\n",
    "\n",
    "Upload sample folder - the program will upload all new scans within the active sample folder to the active sample worksheet, as well as updating any scans files that have been modified since the previous logbook entry.\n",
    "\n",
    "Clean-up spreadsheet - the program will hide any files in the active sample worksheet between file names '(-' and '-)'. This can be used to hide alignment scans. Note: these files can be easily unhidden in the worksheet.\n",
    "\n",
    "New sample - the program will create a new sample worksheet in the project spreadsheet, update the usage logs and set the new sample as the active sample.\n",
    "\n",
    "End session - the program will update the usage log of the system being used and exit the main interface. Do not forget to do this when you are done for the day."
   ]
  },
  {
   "cell_type": "markdown",
   "metadata": {
    "pycharm": {
     "name": "#%% md\n"
    }
   },
   "source": [
    "### Additional options\n",
    "\n",
    "See project information - the program will display the project name, lead, grant code and spreadsheet key ID.\n",
    "\n",
    "Save spreadsheet locally - this is not yet implemented. It will allow users to download the google spreadsheet locally.\n",
    "\n",
    "Reset ARPES helium lamp log - the program will reset the ARPES helium lamp log usage since previous reset to 0 hours. Use this when the helium lamp is serviced. Reset requires confirmation button to be pressed to prevent accidental reset.\n",
    "\n",
    "Reset spin-ARPES helium lamp log - the program will reset the spin-ARPES helium lamp log usage since previous reset to 0 hours. Use this when the helium lamp is serviced. Reset requires confirmation button to be pressed to prevent accidental reset."
   ]
  },
  {
   "cell_type": "markdown",
   "metadata": {
    "pycharm": {
     "name": "#%% md\n"
    }
   },
   "source": [
    "### Beamline logging\n",
    "\n",
    "The logbook maker works much the same way for beamlines as it does for work in the St Andrews lab. Some subtle differences are that rather than saving projects, beamtimes are saved. Beamtime information is then logged in the usage log spreadsheet and is used to get the information needed to continue a beamtime session. Additionally, since less information is required to be logged (e.g. helium lamp usage), there are naturally less features for beamline logging. \n",
    "\n",
    "When a session is begun, the logbook maker will automatically create a sample folder. For measurements at beamlines, the program assumes that sample files are saved in a folder at the file path data_path+/Data/Synchrotron/beamline_name/year/month/sample_name (e.g. data_path+/Data/Synchrotron/Diamond I05-HR/2021/January/GM1-001). \n",
    "\n",
    "The current supported beamlines are Diamond i05-HR, Diamond i05-nano, MAX IV Bloch, Elettra APE and SOLEIL CASSIOPEE."
   ]
  },
  {
   "cell_type": "markdown",
   "metadata": {
    "pycharm": {
     "name": "#%% md\n"
    }
   },
   "source": [
    "### Troubleshooting\n",
    "\n",
    "If you run into any troubles, please contact me (be23@st-andrews.ac.uk) so that I can help and fix any issues with the program. Also, please suggest any improvements you think of (whether big or small)."
   ]
  }
 ],
 "metadata": {
  "kernelspec": {
   "display_name": "Python 3 (ipykernel)",
   "language": "python",
   "name": "python3"
  },
  "language_info": {
   "codemirror_mode": {
    "name": "ipython",
    "version": 3
   },
   "file_extension": ".py",
   "mimetype": "text/x-python",
   "name": "python",
   "nbconvert_exporter": "python",
   "pygments_lexer": "ipython3",
   "version": "3.10.8"
  }
 },
 "nbformat": 4,
 "nbformat_minor": 4
}