{
 "cells": [
  {
   "cell_type": "markdown",
   "metadata": {
    "pycharm": {
     "name": "#%% md\n"
    }
   },
   "source": [
    "# peaks Tutorial 4: Crystal structures, Brillouin zones, and cut planning\n",
    "\n",
    "It is often useful to overplot Brillouin zones on data, to use these for cut planning, or to have quick access to properties of the crystal structure. To this end, the `.utils.structure` module implements some basic crystal structure tools. This heavily utilises ase (https://wiki.fysik.dtu.dk/ase/index.html) as well as spglib for some primitive lattice transformations and gemmi for some additional symmetry analysis."
   ]
  },
  {
   "cell_type": "code",
   "execution_count": 1,
   "outputs": [],
   "source": [
    "#Import full PyPhoto package\n",
    "import sys\n",
    "import time\n",
    "sys.path.insert(0, '../')\n",
    "\n",
    "%load_ext autoreload\n",
    "%autoreload 2\n",
    "%aimport peaks\n",
    "from peaks import *"
   ],
   "metadata": {
    "collapsed": false,
    "pycharm": {
     "name": "#%%\n"
    }
   }
  },
  {
   "cell_type": "markdown",
   "metadata": {
    "pycharm": {
     "name": "#%% md\n"
    }
   },
   "source": [
    "## Loading a structure"
   ]
  },
  {
   "cell_type": "markdown",
   "metadata": {
    "pycharm": {
     "name": "#%% md\n"
    }
   },
   "source": [
    "The `.utils.structure.crystal` class automates structure definition/loading and subsequent plotting/inspection in a convenient form:"
   ]
  },
  {
   "cell_type": "code",
   "execution_count": 2,
   "metadata": {
    "pycharm": {
     "name": "#%%\n"
    }
   },
   "outputs": [
    {
     "name": "stdout",
     "output_type": "stream",
     "text": [
      "Help on function crystal in module peaks.utils.structure:\n",
      "\n",
      "crystal(struc, **kwargs)\n",
      "    Accepts or generates a crystal structure file in the appropriate ase.atoms.Atoms format for passing to the\n",
      "    peaks structure class\n",
      "    \n",
      "        Input:\n",
      "            struc - crystal structure in one of several formats:\n",
      "                - existing ase.atoms.Atoms object, e.g. as loaded using load_structure()\n",
      "                - existing pymatgen.core.structure.Structure object\n",
      "                - string giving file path to relevant .cif file, which is then parsed.\n",
      "                    Default parser is ase, can also specify `parser=pymatgen` to use pymatgen\n",
      "                - string giving general label of lattice type, of the following type:\n",
      "                    sc, fcc, bcc, tetragonal, bct, hcp, rhombohedral, orthorhombic, mcl, diamond,\n",
      "                    zincblende, rocksalt, cesiumchloride, fluorite, wurtzite, or mx2.\n",
      "                        for most of these, the following parameters (see ase.build.bulk) can be optionally\n",
      "                        specified as kwargs:\n",
      "                            name (string) - compound name, e.g. Fe2O3\n",
      "                            a - a-axis lattice constant in Angstroms (float)\n",
      "                            b - b-axis lattice constant in Angstroms (float)\n",
      "                            c - c-axis lattice constant in Angstroms (float)\n",
      "                            alpha - angle in degrees for rhombohedral lattice (float)\n",
      "                            covera (default = sqrt(8/3) - c/a ratio for hcp\n",
      "                            u - internal coordinate for Wurtzite structure (float)\n",
      "                            orthorhomic (default = False) -  Construct orthorhombic unit cell instead of\n",
      "                                primitive cell (bool)\n",
      "                            cubic (default = False) - construct cubic unit cell if possible (bool)\n",
      "                        for mx2 type, note only monolayers are supported (see ase.build.mx2) and the following\n",
      "                        can be specified as kwargs:\n",
      "                            formula (string) - compound name, e.g. MoS2\n",
      "                            a (default=3.18) - a-axis lattice constant in Angstroms (float)\n",
      "                            thickness (default=3.19) - slab thickness\n",
      "                            kind (default '2H') - 2H or 1T (string)\n",
      "                            size (default=(1,1,1)) - increased first two numbers for in-plane supercell\n",
      "                            vacuum (default=None)) - vacuum gap\n",
      "    \n",
      "        Returns:\n",
      "            cryst - instance of peaks crystal structure class, containing:\n",
      "                .structure - conventional lattice (ase.atoms.Atoms object)\n",
      "                .primitive - primitive lattice (ase.atoms.Atoms object)\n",
      "                .spacegroup - information on the space group\n",
      "                .symmetries - crystal symmetries of the primitive structure\n",
      "                .vectors - real and reciprocal lattice vectors\n",
      "\n"
     ]
    }
   ],
   "source": [
    "help(crystal)"
   ]
  },
  {
   "cell_type": "markdown",
   "metadata": {
    "pycharm": {
     "name": "#%% md\n"
    }
   },
   "source": [
    "You can pass an `ase.atoms.Atoms` object directly:"
   ]
  },
  {
   "cell_type": "code",
   "execution_count": 4,
   "metadata": {
    "pycharm": {
     "name": "#%%\n"
    }
   },
   "outputs": [
    {
     "name": "stdout",
     "output_type": "stream",
     "text": [
      "<class 'ase.atoms.Atoms'>\n"
     ]
    },
    {
     "name": "stderr",
     "output_type": "stream",
     "text": [
      "/Users/pdk6/Dropbox/Work/Lab/Software/PyPhoto/PyPhoto_Master/venv_office/lib/python3.8/site-packages/ase/io/cif.py:401: UserWarning: crystal system 'tetragonal' is not interpreted for space group Spacegroup(139, setting=1). This may result in wrong setting!\n",
      "  warnings.warn(\n"
     ]
    }
   ],
   "source": [
    "temp =load_structure('example_data/Sr2RuO4.cif')\n",
    "print(type(temp))\n",
    "a = crystal(temp)"
   ]
  },
  {
   "cell_type": "markdown",
   "metadata": {
    "pycharm": {
     "name": "#%% md\n"
    }
   },
   "source": [
    "You can pass a `pymatgen.core.structure.Structure` object directly:"
   ]
  },
  {
   "cell_type": "code",
   "execution_count": 5,
   "metadata": {
    "pycharm": {
     "name": "#%%\n"
    }
   },
   "outputs": [
    {
     "name": "stdout",
     "output_type": "stream",
     "text": [
      "<class 'pymatgen.core.structure.Structure'>\n"
     ]
    }
   ],
   "source": [
    "import pymatgen.core\n",
    "temp = pymatgen.core.Structure.from_file('example_data/Sr2RuO4.cif')\n",
    "print(type(temp))\n",
    "a1 = crystal(temp)"
   ]
  },
  {
   "cell_type": "markdown",
   "metadata": {
    "pycharm": {
     "name": "#%% md\n"
    }
   },
   "source": [
    "You can pass the text string to a .cif file:"
   ]
  },
  {
   "cell_type": "code",
   "execution_count": 6,
   "metadata": {
    "pycharm": {
     "name": "#%%\n"
    }
   },
   "outputs": [
    {
     "name": "stderr",
     "output_type": "stream",
     "text": [
      " Analysis warning: crystal system 'tetragonal' is not interpreted for space group Spacegroup(139, setting=1). This may result in wrong setting!\n"
     ]
    }
   ],
   "source": [
    "b = crystal('example_data/Sr2RuO4.cif')"
   ]
  },
  {
   "cell_type": "markdown",
   "metadata": {
    "pycharm": {
     "name": "#%% md\n"
    }
   },
   "source": [
    "Or you can define the crystal using standard parameters for the `ase.build.bulk` or `'ase.build.mx2` structures"
   ]
  },
  {
   "cell_type": "code",
   "execution_count": 7,
   "metadata": {
    "pycharm": {
     "name": "#%%\n"
    }
   },
   "outputs": [],
   "source": [
    "c = crystal('mx2', formula='TiSe2', kind='1T')"
   ]
  },
  {
   "cell_type": "markdown",
   "metadata": {
    "pycharm": {
     "name": "#%% md\n"
    }
   },
   "source": [
    "In general, it is best to define the structure from the .cif file if possible, to get access to the maximum amount of information. Ocasionally the `ase` parser does not return the correct result, or will not work. If you have `pymatgen` installed, you can also specify that as an alternate parser of the .cif file. "
   ]
  },
  {
   "cell_type": "code",
   "execution_count": 8,
   "metadata": {
    "pycharm": {
     "name": "#%%\n"
    }
   },
   "outputs": [],
   "source": [
    "d = crystal('example_data/Sr2RuO4.cif', parser='pymatgen')"
   ]
  },
  {
   "cell_type": "markdown",
   "metadata": {
    "pycharm": {
     "name": "#%% md\n"
    }
   },
   "source": [
    "### Structure look-up - Materials Project\n",
    "\n",
    "You can also pull crystal structure information direct from the materials project online database. For this, you should create an API key, which can be done at https://materialsproject.org \n",
    "\n",
    "The function `.utils.structure.get_structure` provides a simplified gateway to the Materials Project database for obtaining crystal structures"
   ]
  },
  {
   "cell_type": "code",
   "execution_count": 9,
   "metadata": {
    "pycharm": {
     "name": "#%%\n"
    }
   },
   "outputs": [
    {
     "name": "stdout",
     "output_type": "stream",
     "text": [
      "Help on function get_structure in module peaks.utils.structure:\n",
      "\n",
      "get_structure(compound, index=None, sg_num=None, API_key=None)\n",
      "    Attempt to automatically get the structure of a compound from the Materials Project database.\n",
      "    Requires an API key which can be generated by creating an account at https://materialsproject.org\n",
      "    \n",
      "    Input:\n",
      "        compound (str) - Formula for desired compound\n",
      "        index (int or str) - selection parameters when multiple structures are returned. Either:\n",
      "            - supply row number (int) of desired structure\n",
      "            - supply materials project ID (string) of desired structure\n",
      "        sg_num (int) - spacegroup number, used to specify particular space group only\n",
      "        API_key (str) - API key for accessing the materials project database. Not required\n",
      "          if key is stored in mp_API_key.txt in the .utils directory\n",
      "    \n",
      "    Output:\n",
      "        instance of crystal structure class or pandas df with list of available structures\n",
      "\n"
     ]
    }
   ],
   "source": [
    "help(get_structure)"
   ]
  },
  {
   "cell_type": "markdown",
   "metadata": {
    "pycharm": {
     "name": "#%% md\n"
    }
   },
   "source": [
    "If only a single record exists, an instance of the crystal structure class will be returned.\n",
    "\n",
    "You can either pass your key as an argument to the function, or you can create a file `mp_API_key.txt` in the `.utils` directory, where you include a single line with your key. Make sure you don't have a carrige return after your key."
   ]
  },
  {
   "cell_type": "code",
   "execution_count": 10,
   "metadata": {
    "pycharm": {
     "name": "#%%\n"
    }
   },
   "outputs": [],
   "source": [
    "my_key = '<<INSERT KEY HERE>>'"
   ]
  },
  {
   "cell_type": "code",
   "execution_count": 11,
   "metadata": {
    "pycharm": {
     "name": "#%%\n"
    }
   },
   "outputs": [
    {
     "name": "stderr",
     "output_type": "stream",
     "text": [
      " Analysis warning: You are using the legacy MPRester, which is deprecated. If you are not a power user, ie., you do not have a lot of legacy code that uses many different MPRester methods, it is recommended you get a new API key from the new Materials Project front end. Once you use get your new API key, using the new API key will automatically route you to using the new MPRester.\n"
     ]
    },
    {
     "name": "stdout",
     "output_type": "stream",
     "text": [
      "Single structure found, materials project ID: mp-694\n"
     ]
    },
    {
     "name": "stderr",
     "output_type": "stream",
     "text": [
      " Analysis warning: Issues encountered while parsing CIF: Some fractional coordinates rounded to ideal values to avoid issues with finite precision.\n"
     ]
    }
   ],
   "source": [
    "e = get_structure(\"VSe2\")  #If supplying key directly here, e = get_structure(\"VSe2\", API_key=my_key)"
   ]
  },
  {
   "cell_type": "markdown",
   "metadata": {
    "pycharm": {
     "name": "#%% md\n"
    }
   },
   "source": [
    "If multiple records exist, a pandas dataframe containing the spacegroup information of these will be returned"
   ]
  },
  {
   "cell_type": "code",
   "execution_count": 12,
   "metadata": {
    "pycharm": {
     "name": "#%%\n"
    }
   },
   "outputs": [
    {
     "name": "stderr",
     "output_type": "stream",
     "text": [
      " Analysis warning: You are using the legacy MPRester, which is deprecated. If you are not a power user, ie., you do not have a lot of legacy code that uses many different MPRester methods, it is recommended you get a new API key from the new Materials Project front end. Once you use get your new API key, using the new API key will automatically route you to using the new MPRester.\n"
     ]
    },
    {
     "name": "stdout",
     "output_type": "stream",
     "text": [
      "Multiple structures found. Please call function with materials project ID number of desired structure from following list:\n"
     ]
    },
    {
     "data": {
      "text/html": [
       "<div>\n",
       "<style scoped>\n",
       "    .dataframe tbody tr th:only-of-type {\n",
       "        vertical-align: middle;\n",
       "    }\n",
       "\n",
       "    .dataframe tbody tr th {\n",
       "        vertical-align: top;\n",
       "    }\n",
       "\n",
       "    .dataframe thead th {\n",
       "        text-align: right;\n",
       "    }\n",
       "</style>\n",
       "<table border=\"1\" class=\"dataframe\">\n",
       "  <thead>\n",
       "    <tr style=\"text-align: right;\">\n",
       "      <th></th>\n",
       "      <th>Spacegroup</th>\n",
       "      <th>u.c. formula</th>\n",
       "      <th>Materials project ID</th>\n",
       "    </tr>\n",
       "  </thead>\n",
       "  <tbody>\n",
       "    <tr>\n",
       "      <th>0</th>\n",
       "      <td>P1</td>\n",
       "      <td>{'Fe': 32.0, 'O': 48.0}</td>\n",
       "      <td>mp-1244911</td>\n",
       "    </tr>\n",
       "    <tr>\n",
       "      <th>1</th>\n",
       "      <td>P4_12_12</td>\n",
       "      <td>{'Fe': 64.0, 'O': 96.0}</td>\n",
       "      <td>mp-1456</td>\n",
       "    </tr>\n",
       "    <tr>\n",
       "      <th>2</th>\n",
       "      <td>P1</td>\n",
       "      <td>{'Fe': 32.0, 'O': 48.0}</td>\n",
       "      <td>mp-1245078</td>\n",
       "    </tr>\n",
       "    <tr>\n",
       "      <th>3</th>\n",
       "      <td>Pnma</td>\n",
       "      <td>{'Fe': 8.0, 'O': 12.0}</td>\n",
       "      <td>mp-1205415</td>\n",
       "    </tr>\n",
       "    <tr>\n",
       "      <th>4</th>\n",
       "      <td>Pm-3m</td>\n",
       "      <td>{'Fe': 2.0, 'O': 3.0}</td>\n",
       "      <td>mp-1068212</td>\n",
       "    </tr>\n",
       "    <tr>\n",
       "      <th>5</th>\n",
       "      <td>C2</td>\n",
       "      <td>{'Fe': 16.0, 'O': 24.0}</td>\n",
       "      <td>mp-715572</td>\n",
       "    </tr>\n",
       "    <tr>\n",
       "      <th>6</th>\n",
       "      <td>P1</td>\n",
       "      <td>{'Fe': 16.0, 'O': 24.0}</td>\n",
       "      <td>mp-776606</td>\n",
       "    </tr>\n",
       "    <tr>\n",
       "      <th>7</th>\n",
       "      <td>P1</td>\n",
       "      <td>{'Fe': 32.0, 'O': 48.0}</td>\n",
       "      <td>mp-1245084</td>\n",
       "    </tr>\n",
       "    <tr>\n",
       "      <th>8</th>\n",
       "      <td>Pbcn</td>\n",
       "      <td>{'Fe': 8.0, 'O': 12.0}</td>\n",
       "      <td>mp-510080</td>\n",
       "    </tr>\n",
       "    <tr>\n",
       "      <th>9</th>\n",
       "      <td>R-3c</td>\n",
       "      <td>{'Fe': 4.0, 'O': 6.0}</td>\n",
       "      <td>mp-19770</td>\n",
       "    </tr>\n",
       "    <tr>\n",
       "      <th>10</th>\n",
       "      <td>P3</td>\n",
       "      <td>{'Fe': 12.0, 'O': 18.0}</td>\n",
       "      <td>mp-557546</td>\n",
       "    </tr>\n",
       "    <tr>\n",
       "      <th>11</th>\n",
       "      <td>Pna2_1</td>\n",
       "      <td>{'Fe': 8.0, 'O': 12.0}</td>\n",
       "      <td>mp-715276</td>\n",
       "    </tr>\n",
       "    <tr>\n",
       "      <th>12</th>\n",
       "      <td>P3</td>\n",
       "      <td>{'Fe': 12.0, 'O': 18.0}</td>\n",
       "      <td>mp-716814</td>\n",
       "    </tr>\n",
       "    <tr>\n",
       "      <th>13</th>\n",
       "      <td>Pna2_1</td>\n",
       "      <td>{'Fe': 16.0, 'O': 24.0}</td>\n",
       "      <td>mp-542896</td>\n",
       "    </tr>\n",
       "    <tr>\n",
       "      <th>14</th>\n",
       "      <td>Cmcm</td>\n",
       "      <td>{'Fe': 4.0, 'O': 6.0}</td>\n",
       "      <td>mp-1078361</td>\n",
       "    </tr>\n",
       "    <tr>\n",
       "      <th>15</th>\n",
       "      <td>Pbca</td>\n",
       "      <td>{'Fe': 16.0, 'O': 24.0}</td>\n",
       "      <td>mp-1178392</td>\n",
       "    </tr>\n",
       "    <tr>\n",
       "      <th>16</th>\n",
       "      <td>P1</td>\n",
       "      <td>{'Fe': 64.0, 'O': 96.0}</td>\n",
       "      <td>mp-685153</td>\n",
       "    </tr>\n",
       "    <tr>\n",
       "      <th>17</th>\n",
       "      <td>P1</td>\n",
       "      <td>{'Fe': 32.0, 'O': 48.0}</td>\n",
       "      <td>mp-1245277</td>\n",
       "    </tr>\n",
       "    <tr>\n",
       "      <th>18</th>\n",
       "      <td>P1</td>\n",
       "      <td>{'Fe': 32.0, 'O': 48.0}</td>\n",
       "      <td>mp-1245019</td>\n",
       "    </tr>\n",
       "    <tr>\n",
       "      <th>19</th>\n",
       "      <td>Ia-3</td>\n",
       "      <td>{'Fe': 16.0, 'O': 24.0}</td>\n",
       "      <td>mp-565814</td>\n",
       "    </tr>\n",
       "    <tr>\n",
       "      <th>20</th>\n",
       "      <td>Cm</td>\n",
       "      <td>{'Fe': 16.0, 'O': 24.0}</td>\n",
       "      <td>mp-705547</td>\n",
       "    </tr>\n",
       "    <tr>\n",
       "      <th>21</th>\n",
       "      <td>P1</td>\n",
       "      <td>{'Fe': 32.0, 'O': 48.0}</td>\n",
       "      <td>mp-1244869</td>\n",
       "    </tr>\n",
       "    <tr>\n",
       "      <th>22</th>\n",
       "      <td>P1</td>\n",
       "      <td>{'Fe': 32.0, 'O': 48.0}</td>\n",
       "      <td>mp-1245154</td>\n",
       "    </tr>\n",
       "    <tr>\n",
       "      <th>23</th>\n",
       "      <td>Cmcm</td>\n",
       "      <td>{'Fe': 8.0, 'O': 12.0}</td>\n",
       "      <td>mvc-12005</td>\n",
       "    </tr>\n",
       "  </tbody>\n",
       "</table>\n",
       "</div>"
      ],
      "text/plain": [
       "   Spacegroup             u.c. formula Materials project ID\n",
       "0          P1  {'Fe': 32.0, 'O': 48.0}           mp-1244911\n",
       "1    P4_12_12  {'Fe': 64.0, 'O': 96.0}              mp-1456\n",
       "2          P1  {'Fe': 32.0, 'O': 48.0}           mp-1245078\n",
       "3        Pnma   {'Fe': 8.0, 'O': 12.0}           mp-1205415\n",
       "4       Pm-3m    {'Fe': 2.0, 'O': 3.0}           mp-1068212\n",
       "5          C2  {'Fe': 16.0, 'O': 24.0}            mp-715572\n",
       "6          P1  {'Fe': 16.0, 'O': 24.0}            mp-776606\n",
       "7          P1  {'Fe': 32.0, 'O': 48.0}           mp-1245084\n",
       "8        Pbcn   {'Fe': 8.0, 'O': 12.0}            mp-510080\n",
       "9        R-3c    {'Fe': 4.0, 'O': 6.0}             mp-19770\n",
       "10         P3  {'Fe': 12.0, 'O': 18.0}            mp-557546\n",
       "11     Pna2_1   {'Fe': 8.0, 'O': 12.0}            mp-715276\n",
       "12         P3  {'Fe': 12.0, 'O': 18.0}            mp-716814\n",
       "13     Pna2_1  {'Fe': 16.0, 'O': 24.0}            mp-542896\n",
       "14       Cmcm    {'Fe': 4.0, 'O': 6.0}           mp-1078361\n",
       "15       Pbca  {'Fe': 16.0, 'O': 24.0}           mp-1178392\n",
       "16         P1  {'Fe': 64.0, 'O': 96.0}            mp-685153\n",
       "17         P1  {'Fe': 32.0, 'O': 48.0}           mp-1245277\n",
       "18         P1  {'Fe': 32.0, 'O': 48.0}           mp-1245019\n",
       "19       Ia-3  {'Fe': 16.0, 'O': 24.0}            mp-565814\n",
       "20         Cm  {'Fe': 16.0, 'O': 24.0}            mp-705547\n",
       "21         P1  {'Fe': 32.0, 'O': 48.0}           mp-1244869\n",
       "22         P1  {'Fe': 32.0, 'O': 48.0}           mp-1245154\n",
       "23       Cmcm   {'Fe': 8.0, 'O': 12.0}            mvc-12005"
      ]
     },
     "metadata": {},
     "output_type": "display_data"
    }
   ],
   "source": [
    "f = get_structure(\"Fe2O3\")"
   ]
  },
  {
   "cell_type": "markdown",
   "metadata": {
    "pycharm": {
     "name": "#%% md\n"
    }
   },
   "source": [
    "You can select one of these by passing an index (row number of the above table) as an integer, or by passing the specific materials project ID number as a string:"
   ]
  },
  {
   "cell_type": "code",
   "execution_count": 13,
   "metadata": {
    "pycharm": {
     "name": "#%%\n"
    }
   },
   "outputs": [
    {
     "name": "stderr",
     "output_type": "stream",
     "text": [
      " Analysis warning: You are using the legacy MPRester, which is deprecated. If you are not a power user, ie., you do not have a lot of legacy code that uses many different MPRester methods, it is recommended you get a new API key from the new Materials Project front end. Once you use get your new API key, using the new API key will automatically route you to using the new MPRester.\n",
      " Analysis warning: Issues encountered while parsing CIF: Some fractional coordinates rounded to ideal values to avoid issues with finite precision.\n",
      " Analysis warning: You are using the legacy MPRester, which is deprecated. If you are not a power user, ie., you do not have a lot of legacy code that uses many different MPRester methods, it is recommended you get a new API key from the new Materials Project front end. Once you use get your new API key, using the new API key will automatically route you to using the new MPRester.\n"
     ]
    }
   ],
   "source": [
    "g = get_structure('Fe2O3', 'mp-609465')\n",
    "h = get_structure('Fe2O3', 22)"
   ]
  },
  {
   "cell_type": "markdown",
   "metadata": {
    "pycharm": {
     "name": "#%% md\n"
    }
   },
   "source": [
    "### Band structures\n",
    "For structures sourced from Materials Project, you can also get the electronic band structure and DOS from that database.\n",
    "\n",
    "<b>NB: This is often far from the true electronic strucutre, normally just an LDA calculation with no SOC, no +U etc., potentially with only a sparse k-grid, and so can be far off. But for a quick look, this can be quite helpful still. </b>\n",
    "    \n",
    "You can get the band strucutre using `.get_band_str()`. These band structure and DOS are then stored in `.band_str` and `.dos`. You can plot these using the various methods of pymatgen: https://pymatgen.org/pymatgen.electronic_structure.plotter.html"
   ]
  },
  {
   "cell_type": "code",
   "execution_count": 14,
   "metadata": {
    "pycharm": {
     "name": "#%%\n"
    }
   },
   "outputs": [
    {
     "name": "stdout",
     "output_type": "stream",
     "text": [
      "Help on method get_band_str in module peaks.utils.structure:\n",
      "\n",
      "get_band_str(mp_id=None, API_key=None) method of peaks.utils.structure.structure instance\n",
      "    Attempt to automatically get the band structure of a compound from the Materials Project database.\n",
      "    Requires an API key which can be generated by creating an account at https://materialsproject.org\n",
      "    \n",
      "    Input:\n",
      "        mp_id (optional, str) - materials project ID of the structure. If None is provided,\n",
      "          and it has not already been defined in the structure loading, then it will attempt\n",
      "          to determine the relevant ID, and if there are multiple options, list these and ask\n",
      "          for a specification to be made\n",
      "        API_key (str) - API key for accessing the materials project database. Not required\n",
      "          if key is stored in mp_API_key.txt in the .utils directory\n",
      "    \n",
      "    Output:\n",
      "        The band structure and DOS are added to .band_str and .DOS\n",
      "\n"
     ]
    }
   ],
   "source": [
    "help(e.get_band_str)"
   ]
  },
  {
   "cell_type": "markdown",
   "metadata": {
    "pycharm": {
     "name": "#%% md\n"
    }
   },
   "source": [
    "For a simple atom-resolved plot, you can use `.plot_band_str()` which first downloads the band structure if not already stored, and then makes a plot."
   ]
  },
  {
   "cell_type": "code",
   "execution_count": 15,
   "metadata": {
    "pycharm": {
     "name": "#%%\n"
    }
   },
   "outputs": [
    {
     "name": "stdout",
     "output_type": "stream",
     "text": [
      "Help on method plot_band_str in module peaks.utils.structure:\n",
      "\n",
      "plot_band_str(mp_id=None, API_key=None, **kwargs) method of peaks.utils.structure.structure instance\n",
      "    Plots the band structure and DOS obtained from Materials Project. If these are not already loaded\n",
      "    it will attempt to automatically get the band structure from the Materials Project database, or\n",
      "    load one as defined in the function call.\n",
      "    Requires an API key which can be generated by creating an account at https://materialsproject.org\n",
      "    \n",
      "    Input:\n",
      "        mp_id (optional, str) - materials project ID of the structure. If None is provided,\n",
      "          and it has not already been defined in the structure loading, then it will attempt\n",
      "          to determine the relevant ID, and if there are multiple options, list these and ask\n",
      "          for a specification to be made\n",
      "        API_key (str) - API key for accessing the materials project database. Not required\n",
      "          if key is stored in mp_API_key.txt in the .utils directory\n",
      "        kwargs (optional arguments to pass to pymatgen.electronic_structure.plotter.BSPlotter:\n",
      "            bs_projection (str) – “elements” or None\n",
      "            dos_projection (str) – “elements”, “orbitals”, or None\n",
      "            vb_energy_range (float) – energy in eV to show of valence bands\n",
      "            cb_energy_range (float) – energy in eV to show of conduction bands\n",
      "            fixed_cb_energy (bool) – If true, the cb_energy_range will be interpreted\n",
      "              as constant (i.e., no gap correction for cb energy)\n",
      "            egrid_interval (float) – interval for grid marks\n",
      "            font (str) – font family\n",
      "            axis_fontsize (float) – font size for axis\n",
      "            tick_fontsize (float) – font size for axis tick labels\n",
      "            legend_fontsize (float) – font size for legends\n",
      "            bs_legend (str) – matplotlib string location for legend or None\n",
      "            dos_legend (str) – matplotlib string location for legend or None\n",
      "            rgb_legend (bool) – (T/F) whether to draw RGB triangle/bar for element proj.\n",
      "            fig_size (tuple) – dimensions of figure size (width, height)\n",
      "    \n",
      "    Output:\n",
      "        A plot is shown\n",
      "\n"
     ]
    }
   ],
   "source": [
    "help(e.plot_band_str)"
   ]
  },
  {
   "cell_type": "code",
   "execution_count": 16,
   "metadata": {
    "pycharm": {
     "name": "#%%\n"
    }
   },
   "outputs": [
    {
     "name": "stderr",
     "output_type": "stream",
     "text": [
      " Analysis warning: Attempting to download band structure and DOS from Materials Project repository. NB, these are typically performed at a low level of DFT (normally plain LDA) so treat these only as a very rough guide.\n",
      " Analysis warning: You are using the legacy MPRester, which is deprecated. If you are not a power user, ie., you do not have a lot of legacy code that uses many different MPRester methods, it is recommended you get a new API key from the new Materials Project front end. Once you use get your new API key, using the new API key will automatically route you to using the new MPRester.\n"
     ]
    },
    {
     "ename": "TypeError",
     "evalue": "'type' object is not subscriptable",
     "output_type": "error",
     "traceback": [
      "\u001B[0;31m---------------------------------------------------------------------------\u001B[0m",
      "\u001B[0;31mTypeError\u001B[0m                                 Traceback (most recent call last)",
      "Input \u001B[0;32mIn [16]\u001B[0m, in \u001B[0;36m<cell line: 1>\u001B[0;34m()\u001B[0m\n\u001B[0;32m----> 1\u001B[0m \u001B[43me\u001B[49m\u001B[38;5;241;43m.\u001B[39;49m\u001B[43mplot_band_str\u001B[49m\u001B[43m(\u001B[49m\u001B[43m)\u001B[49m\n",
      "File \u001B[0;32m~/Dropbox/Work/Lab/Software/PyPhoto/PyPhoto_Master/peaks/utils/structure.py:920\u001B[0m, in \u001B[0;36mstructure.plot_band_str\u001B[0;34m(self, mp_id, API_key, **kwargs)\u001B[0m\n\u001B[1;32m    918\u001B[0m \u001B[38;5;28;01mif\u001B[39;00m \u001B[38;5;124m'\u001B[39m\u001B[38;5;124mdos_projection\u001B[39m\u001B[38;5;124m'\u001B[39m \u001B[38;5;129;01mnot\u001B[39;00m \u001B[38;5;129;01min\u001B[39;00m kwargs:\n\u001B[1;32m    919\u001B[0m     plotter\u001B[38;5;241m.\u001B[39mdos_projection \u001B[38;5;241m=\u001B[39m \u001B[38;5;124m'\u001B[39m\u001B[38;5;124melements\u001B[39m\u001B[38;5;124m'\u001B[39m\n\u001B[0;32m--> 920\u001B[0m \u001B[43mplotter\u001B[49m\u001B[38;5;241;43m.\u001B[39;49m\u001B[43mget_plot\u001B[49m\u001B[43m(\u001B[49m\u001B[38;5;28;43mself\u001B[39;49m\u001B[38;5;241;43m.\u001B[39;49m\u001B[43mband_str\u001B[49m\u001B[43m,\u001B[49m\u001B[43m \u001B[49m\u001B[38;5;28;43mself\u001B[39;49m\u001B[38;5;241;43m.\u001B[39;49m\u001B[43mDOS\u001B[49m\u001B[43m)\u001B[49m\n",
      "File \u001B[0;32m~/Dropbox/Work/Lab/Software/PyPhoto/PyPhoto_Master/venv_office/lib/python3.8/site-packages/pymatgen/electronic_structure/plotter.py:2419\u001B[0m, in \u001B[0;36mBSDOSPlotter.get_plot\u001B[0;34m(self, bs, dos)\u001B[0m\n\u001B[1;32m   2417\u001B[0m         band_energies[spin] \u001B[38;5;241m=\u001B[39m []\n\u001B[1;32m   2418\u001B[0m         \u001B[38;5;28;01mfor\u001B[39;00m band \u001B[38;5;129;01min\u001B[39;00m bs\u001B[38;5;241m.\u001B[39mbands[spin]:\n\u001B[0;32m-> 2419\u001B[0m             band \u001B[38;5;241m=\u001B[39m cast(\u001B[38;5;28;43mlist\u001B[39;49m\u001B[43m[\u001B[49m\u001B[38;5;28;43mfloat\u001B[39;49m\u001B[43m]\u001B[49m, band)\n\u001B[1;32m   2420\u001B[0m             band_energies[spin]\u001B[38;5;241m.\u001B[39mappend([e \u001B[38;5;241m-\u001B[39m bs\u001B[38;5;241m.\u001B[39mefermi \u001B[38;5;28;01mfor\u001B[39;00m e \u001B[38;5;129;01min\u001B[39;00m band])  \u001B[38;5;66;03m# type: ignore\u001B[39;00m\n\u001B[1;32m   2422\u001B[0m \u001B[38;5;66;03m# renormalize the DOS energies to Fermi level\u001B[39;00m\n",
      "\u001B[0;31mTypeError\u001B[0m: 'type' object is not subscriptable"
     ]
    },
    {
     "data": {
      "image/png": "[encoded data removed]",
      "text/plain": [
       "<Figure size 792x612 with 2 Axes>"
      ]
     },
     "metadata": {},
     "output_type": "display_data"
    }
   ],
   "source": [
    "e.plot_band_str()"
   ]
  },
  {
   "cell_type": "markdown",
   "metadata": {
    "pycharm": {
     "name": "#%% md\n"
    }
   },
   "source": [
    "If the structure isn't originally loaded from materials project, you can call with a specific materials project ID, or can call without and the function will attempt to find a compatible structure from the compound and space group. If multiple options are found, a list of possible IDs will be returned as above."
   ]
  },
  {
   "cell_type": "code",
   "execution_count": null,
   "metadata": {
    "pycharm": {
     "name": "#%%\n"
    }
   },
   "outputs": [],
   "source": [
    "a.plot_band_str()"
   ]
  },
  {
   "cell_type": "markdown",
   "metadata": {
    "pycharm": {
     "name": "#%% md\n"
    }
   },
   "source": [
    "### Substrates\n",
    "\n",
    "You can also download possible substrates for epitaxial growth, optionally defining the film orientation, using `.get_substrates`. Selection works as for `.get_bandstructure`. Again, take these with a big pinch of salt, but for an initial look can be helpful."
   ]
  },
  {
   "cell_type": "code",
   "execution_count": 17,
   "metadata": {
    "pycharm": {
     "name": "#%%\n"
    }
   },
   "outputs": [
    {
     "name": "stdout",
     "output_type": "stream",
     "text": [
      "Help on method get_substrates in module peaks.utils.structure:\n",
      "\n",
      "get_substrates(orientation=None, mp_id=None, API_key=None) method of peaks.utils.structure.structure instance\n",
      "    Gets suggested substrates from Materials Project database. Requires an API key\n",
      "       which can be generated by creating an account at https://materialsproject.org\n",
      "    \n",
      "    Input:\n",
      "        orientation (optional, tuple) - orientation for the film in format (h,k,l).\n",
      "          If none is provided, all orientations returned.\n",
      "        mp_id (optional, str) - materials project ID of the structure. If None is provided,\n",
      "          and it has not already been defined in the structure loading, then it will attempt\n",
      "          to determine the relevant ID, and if there are multiple options, list these and ask\n",
      "          for a specification to be made\n",
      "        API_key (str) - API key for accessing the materials project database. Not required\n",
      "          if key is stored in mp_API_key.txt in the .utils directory\n",
      "    \n",
      "    Output:\n",
      "        Pandas dataframe of substrate options\n",
      "\n"
     ]
    }
   ],
   "source": [
    "help(e.get_substrates)"
   ]
  },
  {
   "cell_type": "code",
   "execution_count": 18,
   "metadata": {
    "pycharm": {
     "name": "#%%\n"
    }
   },
   "outputs": [
    {
     "name": "stderr",
     "output_type": "stream",
     "text": [
      " Analysis warning: Downloading substrate options from Materials Project repository. NB, use these only as an initial guide.\n",
      " Analysis warning: You are using the legacy MPRester, which is deprecated. If you are not a power user, ie., you do not have a lot of legacy code that uses many different MPRester methods, it is recommended you get a new API key from the new Materials Project front end. Once you use get your new API key, using the new API key will automatically route you to using the new MPRester.\n"
     ]
    },
    {
     "data": {
      "text/html": [
       "<div>\n",
       "<style scoped>\n",
       "    .dataframe tbody tr th:only-of-type {\n",
       "        vertical-align: middle;\n",
       "    }\n",
       "\n",
       "    .dataframe tbody tr th {\n",
       "        vertical-align: top;\n",
       "    }\n",
       "\n",
       "    .dataframe thead th {\n",
       "        text-align: right;\n",
       "    }\n",
       "</style>\n",
       "<table border=\"1\" class=\"dataframe\">\n",
       "  <thead>\n",
       "    <tr style=\"text-align: right;\">\n",
       "      <th></th>\n",
       "      <th>Substrate</th>\n",
       "      <th>Orientation</th>\n",
       "      <th>Materials project ID</th>\n",
       "      <th>Min. coincident interface area (Ang^2)</th>\n",
       "      <th>Elastic energy (meV)</th>\n",
       "    </tr>\n",
       "  </thead>\n",
       "  <tbody>\n",
       "    <tr>\n",
       "      <th>0</th>\n",
       "      <td>BaF2</td>\n",
       "      <td>1 1 1</td>\n",
       "      <td>mp-1029</td>\n",
       "      <td>68.187440</td>\n",
       "      <td>0.003063</td>\n",
       "    </tr>\n",
       "    <tr>\n",
       "      <th>1</th>\n",
       "      <td>Si</td>\n",
       "      <td>1 1 1</td>\n",
       "      <td>mp-149</td>\n",
       "      <td>155.857006</td>\n",
       "      <td>0.003413</td>\n",
       "    </tr>\n",
       "    <tr>\n",
       "      <th>2</th>\n",
       "      <td>Cu</td>\n",
       "      <td>1 1 1</td>\n",
       "      <td>mp-30</td>\n",
       "      <td>68.187440</td>\n",
       "      <td>0.004544</td>\n",
       "    </tr>\n",
       "    <tr>\n",
       "      <th>3</th>\n",
       "      <td>CeO2</td>\n",
       "      <td>1 1 1</td>\n",
       "      <td>mp-20194</td>\n",
       "      <td>155.857006</td>\n",
       "      <td>0.004587</td>\n",
       "    </tr>\n",
       "    <tr>\n",
       "      <th>4</th>\n",
       "      <td>GaN</td>\n",
       "      <td>0 0 1</td>\n",
       "      <td>mp-804</td>\n",
       "      <td>116.892754</td>\n",
       "      <td>0.005419</td>\n",
       "    </tr>\n",
       "    <tr>\n",
       "      <th>5</th>\n",
       "      <td>InP</td>\n",
       "      <td>1 1 1</td>\n",
       "      <td>mp-20351</td>\n",
       "      <td>185.080194</td>\n",
       "      <td>0.005830</td>\n",
       "    </tr>\n",
       "    <tr>\n",
       "      <th>6</th>\n",
       "      <td>Fe3O4</td>\n",
       "      <td>1 1 1</td>\n",
       "      <td>mp-19306</td>\n",
       "      <td>126.633817</td>\n",
       "      <td>0.006453</td>\n",
       "    </tr>\n",
       "    <tr>\n",
       "      <th>7</th>\n",
       "      <td>C</td>\n",
       "      <td>0 0 1</td>\n",
       "      <td>mp-48</td>\n",
       "      <td>68.187440</td>\n",
       "      <td>0.010392</td>\n",
       "    </tr>\n",
       "    <tr>\n",
       "      <th>8</th>\n",
       "      <td>Fe2O3</td>\n",
       "      <td>0 0 1</td>\n",
       "      <td>mp-24972</td>\n",
       "      <td>68.187440</td>\n",
       "      <td>0.012865</td>\n",
       "    </tr>\n",
       "    <tr>\n",
       "      <th>9</th>\n",
       "      <td>Bi2Te3</td>\n",
       "      <td>0 0 1</td>\n",
       "      <td>mp-34202</td>\n",
       "      <td>68.187440</td>\n",
       "      <td>0.013375</td>\n",
       "    </tr>\n",
       "    <tr>\n",
       "      <th>10</th>\n",
       "      <td>CdS</td>\n",
       "      <td>0 0 1</td>\n",
       "      <td>mp-672</td>\n",
       "      <td>185.080194</td>\n",
       "      <td>0.016473</td>\n",
       "    </tr>\n",
       "    <tr>\n",
       "      <th>11</th>\n",
       "      <td>BaTiO3</td>\n",
       "      <td>1 0 1</td>\n",
       "      <td>mp-5986</td>\n",
       "      <td>116.892754</td>\n",
       "      <td>0.022183</td>\n",
       "    </tr>\n",
       "    <tr>\n",
       "      <th>12</th>\n",
       "      <td>Ge(Bi3O5)4</td>\n",
       "      <td>1 1 1</td>\n",
       "      <td>mp-23352</td>\n",
       "      <td>185.080194</td>\n",
       "      <td>0.022486</td>\n",
       "    </tr>\n",
       "    <tr>\n",
       "      <th>13</th>\n",
       "      <td>CdTe</td>\n",
       "      <td>1 1 1</td>\n",
       "      <td>mp-406</td>\n",
       "      <td>301.972949</td>\n",
       "      <td>0.026964</td>\n",
       "    </tr>\n",
       "    <tr>\n",
       "      <th>14</th>\n",
       "      <td>MgO</td>\n",
       "      <td>1 1 1</td>\n",
       "      <td>mp-1265</td>\n",
       "      <td>126.633817</td>\n",
       "      <td>0.030725</td>\n",
       "    </tr>\n",
       "    <tr>\n",
       "      <th>15</th>\n",
       "      <td>InSb</td>\n",
       "      <td>1 1 1</td>\n",
       "      <td>mp-20012</td>\n",
       "      <td>301.972949</td>\n",
       "      <td>0.035938</td>\n",
       "    </tr>\n",
       "  </tbody>\n",
       "</table>\n",
       "</div>"
      ],
      "text/plain": [
       "     Substrate Orientation Materials project ID  \\\n",
       "0         BaF2       1 1 1              mp-1029   \n",
       "1           Si       1 1 1               mp-149   \n",
       "2           Cu       1 1 1                mp-30   \n",
       "3         CeO2       1 1 1             mp-20194   \n",
       "4          GaN       0 0 1               mp-804   \n",
       "5          InP       1 1 1             mp-20351   \n",
       "6        Fe3O4       1 1 1             mp-19306   \n",
       "7            C       0 0 1                mp-48   \n",
       "8        Fe2O3       0 0 1             mp-24972   \n",
       "9       Bi2Te3       0 0 1             mp-34202   \n",
       "10         CdS       0 0 1               mp-672   \n",
       "11      BaTiO3       1 0 1              mp-5986   \n",
       "12  Ge(Bi3O5)4       1 1 1             mp-23352   \n",
       "13        CdTe       1 1 1               mp-406   \n",
       "14         MgO       1 1 1              mp-1265   \n",
       "15        InSb       1 1 1             mp-20012   \n",
       "\n",
       "    Min. coincident interface area (Ang^2)  Elastic energy (meV)  \n",
       "0                                68.187440              0.003063  \n",
       "1                               155.857006              0.003413  \n",
       "2                                68.187440              0.004544  \n",
       "3                               155.857006              0.004587  \n",
       "4                               116.892754              0.005419  \n",
       "5                               185.080194              0.005830  \n",
       "6                               126.633817              0.006453  \n",
       "7                                68.187440              0.010392  \n",
       "8                                68.187440              0.012865  \n",
       "9                                68.187440              0.013375  \n",
       "10                              185.080194              0.016473  \n",
       "11                              116.892754              0.022183  \n",
       "12                              185.080194              0.022486  \n",
       "13                              301.972949              0.026964  \n",
       "14                              126.633817              0.030725  \n",
       "15                              301.972949              0.035938  "
      ]
     },
     "metadata": {},
     "output_type": "display_data"
    }
   ],
   "source": [
    "e.get_substrates((0,0,1));"
   ]
  },
  {
   "cell_type": "code",
   "execution_count": 19,
   "metadata": {
    "pycharm": {
     "name": "#%%\n"
    }
   },
   "outputs": [
    {
     "name": "stdout",
     "output_type": "stream",
     "text": [
      "Attempting to find matching record on Materials Project from compound name and space group\n"
     ]
    },
    {
     "name": "stderr",
     "output_type": "stream",
     "text": [
      " Analysis warning: You are using the legacy MPRester, which is deprecated. If you are not a power user, ie., you do not have a lot of legacy code that uses many different MPRester methods, it is recommended you get a new API key from the new Materials Project front end. Once you use get your new API key, using the new API key will automatically route you to using the new MPRester.\n"
     ]
    },
    {
     "name": "stdout",
     "output_type": "stream",
     "text": [
      "Single structure found, materials project ID: mp-4596\n"
     ]
    },
    {
     "name": "stderr",
     "output_type": "stream",
     "text": [
      " /Users/pdk6/Dropbox/Work/Lab/Software/PyPhoto/PyPhoto_Master/peaks/utils/structure.py:969: UserWarning:Downloading substrate options from Materials Project repository. NB, use these only as an initial guide.\n",
      " /Users/pdk6/Dropbox/Work/Lab/Software/PyPhoto/PyPhoto_Master/venv_office/lib/python3.8/site-packages/pymatgen/ext/matproj.py:179: UserWarning:You are using the legacy MPRester, which is deprecated. If you are not a power user, ie., you do not have a lot of legacy code that uses many different MPRester methods, it is recommended you get a new API key from the new Materials Project front end. Once you use get your new API key, using the new API key will automatically route you to using the new MPRester.\n"
     ]
    },
    {
     "data": {
      "text/html": [
       "<div>\n",
       "<style scoped>\n",
       "    .dataframe tbody tr th:only-of-type {\n",
       "        vertical-align: middle;\n",
       "    }\n",
       "\n",
       "    .dataframe tbody tr th {\n",
       "        vertical-align: top;\n",
       "    }\n",
       "\n",
       "    .dataframe thead th {\n",
       "        text-align: right;\n",
       "    }\n",
       "</style>\n",
       "<table border=\"1\" class=\"dataframe\">\n",
       "  <thead>\n",
       "    <tr style=\"text-align: right;\">\n",
       "      <th></th>\n",
       "      <th>Substrate</th>\n",
       "      <th>Orientation</th>\n",
       "      <th>Materials project ID</th>\n",
       "      <th>Min. coincident interface area (Ang^2)</th>\n",
       "    </tr>\n",
       "  </thead>\n",
       "  <tbody>\n",
       "    <tr>\n",
       "      <th>0</th>\n",
       "      <td>LaAlO3</td>\n",
       "      <td>0 0 1</td>\n",
       "      <td>mp-2920</td>\n",
       "      <td>76.186247</td>\n",
       "    </tr>\n",
       "    <tr>\n",
       "      <th>1</th>\n",
       "      <td>LaAlO3</td>\n",
       "      <td>1 0 1</td>\n",
       "      <td>mp-2920</td>\n",
       "      <td>76.186247</td>\n",
       "    </tr>\n",
       "    <tr>\n",
       "      <th>2</th>\n",
       "      <td>AlN</td>\n",
       "      <td>0 0 1</td>\n",
       "      <td>mp-661</td>\n",
       "      <td>76.186247</td>\n",
       "    </tr>\n",
       "    <tr>\n",
       "      <th>3</th>\n",
       "      <td>AlN</td>\n",
       "      <td>1 1 0</td>\n",
       "      <td>mp-661</td>\n",
       "      <td>243.795989</td>\n",
       "    </tr>\n",
       "    <tr>\n",
       "      <th>4</th>\n",
       "      <td>AlN</td>\n",
       "      <td>1 1 1</td>\n",
       "      <td>mp-661</td>\n",
       "      <td>198.084241</td>\n",
       "    </tr>\n",
       "    <tr>\n",
       "      <th>5</th>\n",
       "      <td>CeO2</td>\n",
       "      <td>1 0 0</td>\n",
       "      <td>mp-20194</td>\n",
       "      <td>30.474499</td>\n",
       "    </tr>\n",
       "    <tr>\n",
       "      <th>6</th>\n",
       "      <td>CeO2</td>\n",
       "      <td>1 1 1</td>\n",
       "      <td>mp-20194</td>\n",
       "      <td>152.372493</td>\n",
       "    </tr>\n",
       "    <tr>\n",
       "      <th>7</th>\n",
       "      <td>GaAs</td>\n",
       "      <td>1 0 0</td>\n",
       "      <td>mp-2534</td>\n",
       "      <td>137.135244</td>\n",
       "    </tr>\n",
       "    <tr>\n",
       "      <th>8</th>\n",
       "      <td>BaF2</td>\n",
       "      <td>1 0 0</td>\n",
       "      <td>mp-1029</td>\n",
       "      <td>76.186247</td>\n",
       "    </tr>\n",
       "    <tr>\n",
       "      <th>9</th>\n",
       "      <td>GaN</td>\n",
       "      <td>0 0 1</td>\n",
       "      <td>mp-804</td>\n",
       "      <td>45.711748</td>\n",
       "    </tr>\n",
       "    <tr>\n",
       "      <th>10</th>\n",
       "      <td>GaN</td>\n",
       "      <td>1 0 0</td>\n",
       "      <td>mp-804</td>\n",
       "      <td>167.609743</td>\n",
       "    </tr>\n",
       "    <tr>\n",
       "      <th>11</th>\n",
       "      <td>DyScO3</td>\n",
       "      <td>1 0 1</td>\n",
       "      <td>mp-31120</td>\n",
       "      <td>228.558740</td>\n",
       "    </tr>\n",
       "    <tr>\n",
       "      <th>12</th>\n",
       "      <td>DyScO3</td>\n",
       "      <td>1 1 1</td>\n",
       "      <td>mp-31120</td>\n",
       "      <td>289.507737</td>\n",
       "    </tr>\n",
       "    <tr>\n",
       "      <th>13</th>\n",
       "      <td>ZnSe</td>\n",
       "      <td>1 0 0</td>\n",
       "      <td>mp-1190</td>\n",
       "      <td>137.135244</td>\n",
       "    </tr>\n",
       "    <tr>\n",
       "      <th>14</th>\n",
       "      <td>KTaO3</td>\n",
       "      <td>1 0 0</td>\n",
       "      <td>mp-3614</td>\n",
       "      <td>137.135244</td>\n",
       "    </tr>\n",
       "    <tr>\n",
       "      <th>15</th>\n",
       "      <td>SiO2</td>\n",
       "      <td>1 0 1</td>\n",
       "      <td>mp-6930</td>\n",
       "      <td>243.795989</td>\n",
       "    </tr>\n",
       "    <tr>\n",
       "      <th>16</th>\n",
       "      <td>CdS</td>\n",
       "      <td>1 0 1</td>\n",
       "      <td>mp-672</td>\n",
       "      <td>304.744987</td>\n",
       "    </tr>\n",
       "    <tr>\n",
       "      <th>17</th>\n",
       "      <td>LiF</td>\n",
       "      <td>1 0 0</td>\n",
       "      <td>mp-1138</td>\n",
       "      <td>137.135244</td>\n",
       "    </tr>\n",
       "    <tr>\n",
       "      <th>18</th>\n",
       "      <td>LiF</td>\n",
       "      <td>1 1 0</td>\n",
       "      <td>mp-1138</td>\n",
       "      <td>259.033239</td>\n",
       "    </tr>\n",
       "    <tr>\n",
       "      <th>19</th>\n",
       "      <td>KCl</td>\n",
       "      <td>1 0 0</td>\n",
       "      <td>mp-23193</td>\n",
       "      <td>198.084241</td>\n",
       "    </tr>\n",
       "    <tr>\n",
       "      <th>20</th>\n",
       "      <td>DyScO3</td>\n",
       "      <td>1 1 0</td>\n",
       "      <td>mp-31120</td>\n",
       "      <td>60.948997</td>\n",
       "    </tr>\n",
       "    <tr>\n",
       "      <th>21</th>\n",
       "      <td>Te2W</td>\n",
       "      <td>0 1 0</td>\n",
       "      <td>mp-22693</td>\n",
       "      <td>274.270488</td>\n",
       "    </tr>\n",
       "    <tr>\n",
       "      <th>22</th>\n",
       "      <td>Te2W</td>\n",
       "      <td>0 1 1</td>\n",
       "      <td>mp-22693</td>\n",
       "      <td>228.558740</td>\n",
       "    </tr>\n",
       "    <tr>\n",
       "      <th>23</th>\n",
       "      <td>InAs</td>\n",
       "      <td>1 0 0</td>\n",
       "      <td>mp-20305</td>\n",
       "      <td>76.186247</td>\n",
       "    </tr>\n",
       "    <tr>\n",
       "      <th>24</th>\n",
       "      <td>KTaO3</td>\n",
       "      <td>1 1 0</td>\n",
       "      <td>mp-3614</td>\n",
       "      <td>259.033239</td>\n",
       "    </tr>\n",
       "    <tr>\n",
       "      <th>25</th>\n",
       "      <td>KTaO3</td>\n",
       "      <td>1 1 1</td>\n",
       "      <td>mp-3614</td>\n",
       "      <td>228.558740</td>\n",
       "    </tr>\n",
       "    <tr>\n",
       "      <th>26</th>\n",
       "      <td>Te2Mo</td>\n",
       "      <td>1 0 0</td>\n",
       "      <td>mp-602</td>\n",
       "      <td>274.270488</td>\n",
       "    </tr>\n",
       "    <tr>\n",
       "      <th>27</th>\n",
       "      <td>Te2Mo</td>\n",
       "      <td>1 0 1</td>\n",
       "      <td>mp-602</td>\n",
       "      <td>274.270488</td>\n",
       "    </tr>\n",
       "    <tr>\n",
       "      <th>28</th>\n",
       "      <td>Ag</td>\n",
       "      <td>1 0 0</td>\n",
       "      <td>mp-124</td>\n",
       "      <td>137.135244</td>\n",
       "    </tr>\n",
       "  </tbody>\n",
       "</table>\n",
       "</div>"
      ],
      "text/plain": [
       "   Substrate Orientation Materials project ID  \\\n",
       "0     LaAlO3       0 0 1              mp-2920   \n",
       "1     LaAlO3       1 0 1              mp-2920   \n",
       "2        AlN       0 0 1               mp-661   \n",
       "3        AlN       1 1 0               mp-661   \n",
       "4        AlN       1 1 1               mp-661   \n",
       "5       CeO2       1 0 0             mp-20194   \n",
       "6       CeO2       1 1 1             mp-20194   \n",
       "7       GaAs       1 0 0              mp-2534   \n",
       "8       BaF2       1 0 0              mp-1029   \n",
       "9        GaN       0 0 1               mp-804   \n",
       "10       GaN       1 0 0               mp-804   \n",
       "11    DyScO3       1 0 1             mp-31120   \n",
       "12    DyScO3       1 1 1             mp-31120   \n",
       "13      ZnSe       1 0 0              mp-1190   \n",
       "14     KTaO3       1 0 0              mp-3614   \n",
       "15      SiO2       1 0 1              mp-6930   \n",
       "16       CdS       1 0 1               mp-672   \n",
       "17       LiF       1 0 0              mp-1138   \n",
       "18       LiF       1 1 0              mp-1138   \n",
       "19       KCl       1 0 0             mp-23193   \n",
       "20    DyScO3       1 1 0             mp-31120   \n",
       "21      Te2W       0 1 0             mp-22693   \n",
       "22      Te2W       0 1 1             mp-22693   \n",
       "23      InAs       1 0 0             mp-20305   \n",
       "24     KTaO3       1 1 0              mp-3614   \n",
       "25     KTaO3       1 1 1              mp-3614   \n",
       "26     Te2Mo       1 0 0               mp-602   \n",
       "27     Te2Mo       1 0 1               mp-602   \n",
       "28        Ag       1 0 0               mp-124   \n",
       "\n",
       "    Min. coincident interface area (Ang^2)  \n",
       "0                                76.186247  \n",
       "1                                76.186247  \n",
       "2                                76.186247  \n",
       "3                               243.795989  \n",
       "4                               198.084241  \n",
       "5                                30.474499  \n",
       "6                               152.372493  \n",
       "7                               137.135244  \n",
       "8                                76.186247  \n",
       "9                                45.711748  \n",
       "10                              167.609743  \n",
       "11                              228.558740  \n",
       "12                              289.507737  \n",
       "13                              137.135244  \n",
       "14                              137.135244  \n",
       "15                              243.795989  \n",
       "16                              304.744987  \n",
       "17                              137.135244  \n",
       "18                              259.033239  \n",
       "19                              198.084241  \n",
       "20                               60.948997  \n",
       "21                              274.270488  \n",
       "22                              228.558740  \n",
       "23                               76.186247  \n",
       "24                              259.033239  \n",
       "25                              228.558740  \n",
       "26                              274.270488  \n",
       "27                              274.270488  \n",
       "28                              137.135244  "
      ]
     },
     "metadata": {},
     "output_type": "display_data"
    }
   ],
   "source": [
    "a.get_substrates((0,0,1));"
   ]
  },
  {
   "cell_type": "markdown",
   "metadata": {
    "pycharm": {
     "name": "#%% md\n"
    }
   },
   "source": [
    "## Structural information"
   ]
  },
  {
   "cell_type": "markdown",
   "metadata": {
    "pycharm": {
     "name": "#%% md\n"
    }
   },
   "source": [
    "The `ase.atoms.Atoms` object is stored in `.structure`. On load, the primitive cell will be automatically attempted to be found, and is stored in `.primitive`."
   ]
  },
  {
   "cell_type": "code",
   "execution_count": 20,
   "metadata": {
    "pycharm": {
     "name": "#%%\n"
    }
   },
   "outputs": [
    {
     "data": {
      "text/plain": [
       "Atoms(symbols='Sr4Ru2O8', pbc=True, cell=[3.873, 3.873, 12.7323], spacegroup_kinds=...)"
      ]
     },
     "execution_count": 20,
     "metadata": {},
     "output_type": "execute_result"
    }
   ],
   "source": [
    "a.structure"
   ]
  },
  {
   "cell_type": "code",
   "execution_count": 21,
   "metadata": {
    "pycharm": {
     "name": "#%%\n"
    }
   },
   "outputs": [
    {
     "name": "stdout",
     "output_type": "stream",
     "text": [
      "Atom('Sr', [0.0, 0.0, 4.488135749999999], index=0)\n",
      "Atom('Sr', [0.0, 0.0, 8.24416425], index=1)\n",
      "Atom('Sr', [1.9365, 1.9365, 10.854285749999999], index=2)\n",
      "Atom('Sr', [1.9365, 1.9365, 1.878014250000001], index=3)\n",
      "Atom('Ru', [0.0, 0.0, 0.0], index=4)\n",
      "Atom('Ru', [1.9365, 1.9365, 6.36615], index=5)\n",
      "Atom('O', [0.0, 1.9365, 0.0], index=6)\n",
      "Atom('O', [1.9365, 0.0, 0.0], index=7)\n",
      "Atom('O', [1.9365, 0.0, 6.36615], index=8)\n",
      "Atom('O', [0.0, 1.9365, 6.36615], index=9)\n",
      "Atom('O', [0.0, 0.0, 2.0677255199999998], index=10)\n",
      "Atom('O', [0.0, 0.0, 10.66457448], index=11)\n",
      "Atom('O', [1.9365, 1.9365, 8.43387552], index=12)\n",
      "Atom('O', [1.9365, 1.9365, 4.29842448], index=13)\n"
     ]
    }
   ],
   "source": [
    "for i in a.structure:\n",
    "    print(i)"
   ]
  },
  {
   "cell_type": "code",
   "execution_count": 22,
   "metadata": {
    "pycharm": {
     "name": "#%%\n"
    }
   },
   "outputs": [
    {
     "data": {
      "text/plain": [
       "TET(a=3.8730000000000002203, c=12.732300000000000395)"
      ]
     },
     "execution_count": 22,
     "metadata": {},
     "output_type": "execute_result"
    }
   ],
   "source": [
    "a.structure.cell.get_bravais_lattice()"
   ]
  },
  {
   "cell_type": "code",
   "execution_count": 23,
   "metadata": {
    "pycharm": {
     "name": "#%%\n"
    }
   },
   "outputs": [
    {
     "data": {
      "text/plain": [
       "Atoms(symbols='O4RuSr2', pbc=True, cell=[[3.873, 0.0, 0.0], [0.0, 3.873, 0.0], [-1.9365, -1.9365, 6.36615]], spacegroup_kinds=...)"
      ]
     },
     "execution_count": 23,
     "metadata": {},
     "output_type": "execute_result"
    }
   ],
   "source": [
    "a.primitive"
   ]
  },
  {
   "cell_type": "code",
   "execution_count": 24,
   "metadata": {
    "pycharm": {
     "name": "#%%\n"
    }
   },
   "outputs": [
    {
     "name": "stdout",
     "output_type": "stream",
     "text": [
      "Atom('O', [0.0, 1.9365, 0.0], index=0)\n",
      "Atom('O', [0.0, -1.9364999999999999, 6.366149999999999], index=1)\n",
      "Atom('O', [0.0, 0.0, 2.0677255199999993], index=2)\n",
      "Atom('O', [1.9364999999999999, 1.9364999999999999, 4.298424479999998], index=3)\n",
      "Atom('Ru', [0.0, 0.0, 0.0], index=4)\n",
      "Atom('Sr', [0.0, 0.0, 4.488135749999998], index=5)\n",
      "Atom('Sr', [1.9365, 1.9365, 1.878014249999998], index=6)\n"
     ]
    }
   ],
   "source": [
    "for i in a.primitive:\n",
    "    print(i)"
   ]
  },
  {
   "cell_type": "code",
   "execution_count": 25,
   "metadata": {
    "pycharm": {
     "name": "#%%\n"
    }
   },
   "outputs": [
    {
     "data": {
      "text/plain": [
       "BCT(a=3.8730000000000002203, c=12.732300000000002171)"
      ]
     },
     "execution_count": 25,
     "metadata": {},
     "output_type": "execute_result"
    }
   ],
   "source": [
    "a.primitive.cell.get_bravais_lattice()"
   ]
  },
  {
   "cell_type": "markdown",
   "metadata": {
    "pycharm": {
     "name": "#%% md\n"
    }
   },
   "source": [
    "A nice display of the sites of the structure, as well as some guesses for the oxidation states of each site, can be returned from `.sites()`:"
   ]
  },
  {
   "cell_type": "code",
   "execution_count": 26,
   "metadata": {
    "pycharm": {
     "name": "#%%\n"
    }
   },
   "outputs": [
    {
     "name": "stdout",
     "output_type": "stream",
     "text": [
      "Help on method sites in module peaks.utils.structure:\n",
      "\n",
      "sites(primitive=False) method of peaks.utils.structure.structure instance\n",
      "    Display the sites of the strcutrue in a nice form (pandas dataframe), with automatic\n",
      "    estimations of the oxidation states.\n",
      "    \n",
      "      Input parameters:\n",
      "          primitive (optional, bool) - display the primative or conventional cell (default=False)\n",
      "    \n",
      "      Output:\n",
      "          pandas dataframe listing atomic positions and oxidation states\n",
      "\n"
     ]
    }
   ],
   "source": [
    "help(a.sites)"
   ]
  },
  {
   "cell_type": "code",
   "execution_count": 27,
   "metadata": {
    "pycharm": {
     "name": "#%%\n"
    }
   },
   "outputs": [
    {
     "data": {
      "text/html": [
       "<div>\n",
       "<style scoped>\n",
       "    .dataframe tbody tr th:only-of-type {\n",
       "        vertical-align: middle;\n",
       "    }\n",
       "\n",
       "    .dataframe tbody tr th {\n",
       "        vertical-align: top;\n",
       "    }\n",
       "\n",
       "    .dataframe thead th {\n",
       "        text-align: right;\n",
       "    }\n",
       "</style>\n",
       "<table border=\"1\" class=\"dataframe\">\n",
       "  <thead>\n",
       "    <tr style=\"text-align: right;\">\n",
       "      <th></th>\n",
       "      <th>Species</th>\n",
       "      <th>a</th>\n",
       "      <th>b</th>\n",
       "      <th>c</th>\n",
       "      <th>x</th>\n",
       "      <th>y</th>\n",
       "      <th>z</th>\n",
       "      <th>spacegroup_kinds</th>\n",
       "    </tr>\n",
       "  </thead>\n",
       "  <tbody>\n",
       "    <tr>\n",
       "      <th>0</th>\n",
       "      <td>(Sr2+)</td>\n",
       "      <td>0.0</td>\n",
       "      <td>0.0</td>\n",
       "      <td>0.3525</td>\n",
       "      <td>0.0000</td>\n",
       "      <td>0.0000</td>\n",
       "      <td>4.488136</td>\n",
       "      <td>0</td>\n",
       "    </tr>\n",
       "    <tr>\n",
       "      <th>1</th>\n",
       "      <td>(Sr2+)</td>\n",
       "      <td>0.0</td>\n",
       "      <td>0.0</td>\n",
       "      <td>0.6475</td>\n",
       "      <td>0.0000</td>\n",
       "      <td>0.0000</td>\n",
       "      <td>8.244164</td>\n",
       "      <td>0</td>\n",
       "    </tr>\n",
       "    <tr>\n",
       "      <th>2</th>\n",
       "      <td>(Sr2+)</td>\n",
       "      <td>0.5</td>\n",
       "      <td>0.5</td>\n",
       "      <td>0.8525</td>\n",
       "      <td>1.9365</td>\n",
       "      <td>1.9365</td>\n",
       "      <td>10.854286</td>\n",
       "      <td>0</td>\n",
       "    </tr>\n",
       "    <tr>\n",
       "      <th>3</th>\n",
       "      <td>(Sr2+)</td>\n",
       "      <td>0.5</td>\n",
       "      <td>0.5</td>\n",
       "      <td>0.1475</td>\n",
       "      <td>1.9365</td>\n",
       "      <td>1.9365</td>\n",
       "      <td>1.878014</td>\n",
       "      <td>0</td>\n",
       "    </tr>\n",
       "    <tr>\n",
       "      <th>4</th>\n",
       "      <td>(Ru4+)</td>\n",
       "      <td>0.0</td>\n",
       "      <td>0.0</td>\n",
       "      <td>0.0000</td>\n",
       "      <td>0.0000</td>\n",
       "      <td>0.0000</td>\n",
       "      <td>0.000000</td>\n",
       "      <td>1</td>\n",
       "    </tr>\n",
       "    <tr>\n",
       "      <th>5</th>\n",
       "      <td>(Ru4+)</td>\n",
       "      <td>0.5</td>\n",
       "      <td>0.5</td>\n",
       "      <td>0.5000</td>\n",
       "      <td>1.9365</td>\n",
       "      <td>1.9365</td>\n",
       "      <td>6.366150</td>\n",
       "      <td>1</td>\n",
       "    </tr>\n",
       "    <tr>\n",
       "      <th>6</th>\n",
       "      <td>(O2-)</td>\n",
       "      <td>0.0</td>\n",
       "      <td>0.5</td>\n",
       "      <td>0.0000</td>\n",
       "      <td>0.0000</td>\n",
       "      <td>1.9365</td>\n",
       "      <td>0.000000</td>\n",
       "      <td>2</td>\n",
       "    </tr>\n",
       "    <tr>\n",
       "      <th>7</th>\n",
       "      <td>(O2-)</td>\n",
       "      <td>0.5</td>\n",
       "      <td>0.0</td>\n",
       "      <td>0.0000</td>\n",
       "      <td>1.9365</td>\n",
       "      <td>0.0000</td>\n",
       "      <td>0.000000</td>\n",
       "      <td>2</td>\n",
       "    </tr>\n",
       "    <tr>\n",
       "      <th>8</th>\n",
       "      <td>(O2-)</td>\n",
       "      <td>0.5</td>\n",
       "      <td>0.0</td>\n",
       "      <td>0.5000</td>\n",
       "      <td>1.9365</td>\n",
       "      <td>0.0000</td>\n",
       "      <td>6.366150</td>\n",
       "      <td>2</td>\n",
       "    </tr>\n",
       "    <tr>\n",
       "      <th>9</th>\n",
       "      <td>(O2-)</td>\n",
       "      <td>0.0</td>\n",
       "      <td>0.5</td>\n",
       "      <td>0.5000</td>\n",
       "      <td>0.0000</td>\n",
       "      <td>1.9365</td>\n",
       "      <td>6.366150</td>\n",
       "      <td>2</td>\n",
       "    </tr>\n",
       "    <tr>\n",
       "      <th>10</th>\n",
       "      <td>(O2-)</td>\n",
       "      <td>0.0</td>\n",
       "      <td>0.0</td>\n",
       "      <td>0.1624</td>\n",
       "      <td>0.0000</td>\n",
       "      <td>0.0000</td>\n",
       "      <td>2.067726</td>\n",
       "      <td>3</td>\n",
       "    </tr>\n",
       "    <tr>\n",
       "      <th>11</th>\n",
       "      <td>(O2-)</td>\n",
       "      <td>0.0</td>\n",
       "      <td>0.0</td>\n",
       "      <td>0.8376</td>\n",
       "      <td>0.0000</td>\n",
       "      <td>0.0000</td>\n",
       "      <td>10.664574</td>\n",
       "      <td>3</td>\n",
       "    </tr>\n",
       "    <tr>\n",
       "      <th>12</th>\n",
       "      <td>(O2-)</td>\n",
       "      <td>0.5</td>\n",
       "      <td>0.5</td>\n",
       "      <td>0.6624</td>\n",
       "      <td>1.9365</td>\n",
       "      <td>1.9365</td>\n",
       "      <td>8.433876</td>\n",
       "      <td>3</td>\n",
       "    </tr>\n",
       "    <tr>\n",
       "      <th>13</th>\n",
       "      <td>(O2-)</td>\n",
       "      <td>0.5</td>\n",
       "      <td>0.5</td>\n",
       "      <td>0.3376</td>\n",
       "      <td>1.9365</td>\n",
       "      <td>1.9365</td>\n",
       "      <td>4.298424</td>\n",
       "      <td>3</td>\n",
       "    </tr>\n",
       "  </tbody>\n",
       "</table>\n",
       "</div>"
      ],
      "text/plain": [
       "   Species    a    b       c       x       y          z  spacegroup_kinds\n",
       "0   (Sr2+)  0.0  0.0  0.3525  0.0000  0.0000   4.488136                 0\n",
       "1   (Sr2+)  0.0  0.0  0.6475  0.0000  0.0000   8.244164                 0\n",
       "2   (Sr2+)  0.5  0.5  0.8525  1.9365  1.9365  10.854286                 0\n",
       "3   (Sr2+)  0.5  0.5  0.1475  1.9365  1.9365   1.878014                 0\n",
       "4   (Ru4+)  0.0  0.0  0.0000  0.0000  0.0000   0.000000                 1\n",
       "5   (Ru4+)  0.5  0.5  0.5000  1.9365  1.9365   6.366150                 1\n",
       "6    (O2-)  0.0  0.5  0.0000  0.0000  1.9365   0.000000                 2\n",
       "7    (O2-)  0.5  0.0  0.0000  1.9365  0.0000   0.000000                 2\n",
       "8    (O2-)  0.5  0.0  0.5000  1.9365  0.0000   6.366150                 2\n",
       "9    (O2-)  0.0  0.5  0.5000  0.0000  1.9365   6.366150                 2\n",
       "10   (O2-)  0.0  0.0  0.1624  0.0000  0.0000   2.067726                 3\n",
       "11   (O2-)  0.0  0.0  0.8376  0.0000  0.0000  10.664574                 3\n",
       "12   (O2-)  0.5  0.5  0.6624  1.9365  1.9365   8.433876                 3\n",
       "13   (O2-)  0.5  0.5  0.3376  1.9365  1.9365   4.298424                 3"
      ]
     },
     "execution_count": 27,
     "metadata": {},
     "output_type": "execute_result"
    }
   ],
   "source": [
    "a.sites()"
   ]
  },
  {
   "cell_type": "code",
   "execution_count": 28,
   "metadata": {
    "pycharm": {
     "name": "#%%\n"
    }
   },
   "outputs": [
    {
     "data": {
      "text/html": [
       "<div>\n",
       "<style scoped>\n",
       "    .dataframe tbody tr th:only-of-type {\n",
       "        vertical-align: middle;\n",
       "    }\n",
       "\n",
       "    .dataframe tbody tr th {\n",
       "        vertical-align: top;\n",
       "    }\n",
       "\n",
       "    .dataframe thead th {\n",
       "        text-align: right;\n",
       "    }\n",
       "</style>\n",
       "<table border=\"1\" class=\"dataframe\">\n",
       "  <thead>\n",
       "    <tr style=\"text-align: right;\">\n",
       "      <th></th>\n",
       "      <th>Species</th>\n",
       "      <th>a</th>\n",
       "      <th>b</th>\n",
       "      <th>c</th>\n",
       "      <th>x</th>\n",
       "      <th>y</th>\n",
       "      <th>z</th>\n",
       "      <th>spacegroup_kinds</th>\n",
       "    </tr>\n",
       "  </thead>\n",
       "  <tbody>\n",
       "    <tr>\n",
       "      <th>0</th>\n",
       "      <td>(O2-)</td>\n",
       "      <td>0.0000</td>\n",
       "      <td>0.5000</td>\n",
       "      <td>0.0000</td>\n",
       "      <td>0.0000</td>\n",
       "      <td>1.9365</td>\n",
       "      <td>0.000000</td>\n",
       "      <td>2</td>\n",
       "    </tr>\n",
       "    <tr>\n",
       "      <th>1</th>\n",
       "      <td>(O2-)</td>\n",
       "      <td>0.5000</td>\n",
       "      <td>0.0000</td>\n",
       "      <td>1.0000</td>\n",
       "      <td>0.0000</td>\n",
       "      <td>0.0000</td>\n",
       "      <td>6.366150</td>\n",
       "      <td>2</td>\n",
       "    </tr>\n",
       "    <tr>\n",
       "      <th>2</th>\n",
       "      <td>(O2-)</td>\n",
       "      <td>0.1624</td>\n",
       "      <td>0.1624</td>\n",
       "      <td>0.3248</td>\n",
       "      <td>0.0000</td>\n",
       "      <td>0.0000</td>\n",
       "      <td>2.067726</td>\n",
       "      <td>3</td>\n",
       "    </tr>\n",
       "    <tr>\n",
       "      <th>3</th>\n",
       "      <td>(O2-)</td>\n",
       "      <td>0.8376</td>\n",
       "      <td>0.8376</td>\n",
       "      <td>0.6752</td>\n",
       "      <td>1.9365</td>\n",
       "      <td>1.9365</td>\n",
       "      <td>4.298424</td>\n",
       "      <td>3</td>\n",
       "    </tr>\n",
       "    <tr>\n",
       "      <th>4</th>\n",
       "      <td>(Ru4+)</td>\n",
       "      <td>0.0000</td>\n",
       "      <td>0.0000</td>\n",
       "      <td>0.0000</td>\n",
       "      <td>0.0000</td>\n",
       "      <td>0.0000</td>\n",
       "      <td>0.000000</td>\n",
       "      <td>1</td>\n",
       "    </tr>\n",
       "    <tr>\n",
       "      <th>5</th>\n",
       "      <td>(Sr2+)</td>\n",
       "      <td>0.3525</td>\n",
       "      <td>0.3525</td>\n",
       "      <td>0.7050</td>\n",
       "      <td>0.0000</td>\n",
       "      <td>0.0000</td>\n",
       "      <td>4.488136</td>\n",
       "      <td>0</td>\n",
       "    </tr>\n",
       "    <tr>\n",
       "      <th>6</th>\n",
       "      <td>(Sr2+)</td>\n",
       "      <td>0.6475</td>\n",
       "      <td>0.6475</td>\n",
       "      <td>0.2950</td>\n",
       "      <td>1.9365</td>\n",
       "      <td>1.9365</td>\n",
       "      <td>1.878014</td>\n",
       "      <td>0</td>\n",
       "    </tr>\n",
       "  </tbody>\n",
       "</table>\n",
       "</div>"
      ],
      "text/plain": [
       "  Species       a       b       c       x       y         z  spacegroup_kinds\n",
       "0   (O2-)  0.0000  0.5000  0.0000  0.0000  1.9365  0.000000                 2\n",
       "1   (O2-)  0.5000  0.0000  1.0000  0.0000  0.0000  6.366150                 2\n",
       "2   (O2-)  0.1624  0.1624  0.3248  0.0000  0.0000  2.067726                 3\n",
       "3   (O2-)  0.8376  0.8376  0.6752  1.9365  1.9365  4.298424                 3\n",
       "4  (Ru4+)  0.0000  0.0000  0.0000  0.0000  0.0000  0.000000                 1\n",
       "5  (Sr2+)  0.3525  0.3525  0.7050  0.0000  0.0000  4.488136                 0\n",
       "6  (Sr2+)  0.6475  0.6475  0.2950  1.9365  1.9365  1.878014                 0"
      ]
     },
     "execution_count": 28,
     "metadata": {},
     "output_type": "execute_result"
    }
   ],
   "source": [
    "a.sites(primitive=True)"
   ]
  },
  {
   "cell_type": "markdown",
   "metadata": {
    "pycharm": {
     "name": "#%% md\n"
    }
   },
   "source": [
    "Some summary information on the spacegroup can be found from `.spacegroup`:"
   ]
  },
  {
   "cell_type": "code",
   "execution_count": 29,
   "metadata": {
    "pycharm": {
     "name": "#%%\n"
    }
   },
   "outputs": [
    {
     "data": {
      "text/plain": [
       "{'number': 139,\n",
       " 'symbol': 'I 4/m m m',\n",
       " 'crystal_system': 'tetragonal',\n",
       " 'centrosymmetric': True,\n",
       " 'symmorphic': True,\n",
       " 'enantiomorphic': False,\n",
       " 'sohncke': False}"
      ]
     },
     "execution_count": 29,
     "metadata": {},
     "output_type": "execute_result"
    }
   ],
   "source": [
    "a.spacegroup"
   ]
  },
  {
   "cell_type": "markdown",
   "metadata": {
    "pycharm": {
     "name": "#%% md\n"
    }
   },
   "source": [
    "And the relevant symmetry operations within `.symmetries`"
   ]
  },
  {
   "cell_type": "code",
   "execution_count": 30,
   "metadata": {
    "pycharm": {
     "name": "#%%\n"
    }
   },
   "outputs": [
    {
     "data": {
      "text/plain": [
       "['x,y,z',\n",
       " 'y,y-z,-x+y',\n",
       " 'y-z,x-z,-z',\n",
       " 'x-z,x,x-y',\n",
       " '-x,-x+z,-x+y',\n",
       " '-y,-x,-z',\n",
       " '-y+z,-y,x-y',\n",
       " '-x+z,-y+z,z',\n",
       " '-x,-y,-z',\n",
       " '-y,-y+z,x-y',\n",
       " '-y+z,-x+z,z',\n",
       " '-x+z,-x,-x+y',\n",
       " 'x,x-z,x-y',\n",
       " 'y,x,z',\n",
       " 'y-z,y,-x+y',\n",
       " 'x-z,y-z,-z']"
      ]
     },
     "execution_count": 30,
     "metadata": {},
     "output_type": "execute_result"
    }
   ],
   "source": [
    "a.symmetries"
   ]
  },
  {
   "cell_type": "markdown",
   "metadata": {
    "pycharm": {
     "name": "#%% md\n"
    }
   },
   "source": [
    "And the real and reciprocal lattice vectors within `.vectors`"
   ]
  },
  {
   "cell_type": "code",
   "execution_count": 31,
   "metadata": {
    "pycharm": {
     "name": "#%%\n"
    }
   },
   "outputs": [
    {
     "data": {
      "text/plain": [
       "{'conventional': {'a1': '3.873x + 0.0y + 0.0z ',\n",
       "  'a2': '0.0x + 3.873y + 0.0z ',\n",
       "  'a3': '0.0x + 0.0y + 12.7323z ',\n",
       "  'a units': 'Angstrom',\n",
       "  'b1': '1.6223044944951164x + 0.0y + 0.0z ',\n",
       "  'b2': '0.0x + 1.6223044944951164y + 0.0z ',\n",
       "  'b3': '0.0x + 0.0y + 0.493483919415941z ',\n",
       "  'b units': '1/Angstrom'},\n",
       " 'primitive': {'a1': '3.873x + 0.0y + 0.0z ',\n",
       "  'a2': '0.0x + 3.873y + 0.0z ',\n",
       "  'a3': '-1.9365x + -1.9365y + 6.36615z ',\n",
       "  'a units': 'Angstrom',\n",
       "  'b1': '1.6223044944951164x + 0.0y + 0.49348391941594066z ',\n",
       "  'b2': '0.0x + 1.6223044944951166y + 0.49348391941594083z ',\n",
       "  'b3': '0.0x + 0.0y + 0.9869678388318823z ',\n",
       "  'b units': '1/Angstrom'}}"
      ]
     },
     "execution_count": 31,
     "metadata": {},
     "output_type": "execute_result"
    }
   ],
   "source": [
    "a.vectors"
   ]
  },
  {
   "cell_type": "markdown",
   "metadata": {
    "pycharm": {
     "name": "#%% md\n"
    }
   },
   "source": [
    "## Plotting\n",
    "\n",
    "A basic plot of the structure is possible from `.plot()`"
   ]
  },
  {
   "cell_type": "code",
   "execution_count": 32,
   "metadata": {
    "pycharm": {
     "name": "#%%\n"
    }
   },
   "outputs": [
    {
     "name": "stdout",
     "output_type": "stream",
     "text": [
      "Help on function plot in module peaks.utils.structure:\n",
      "\n",
      "plot(self, primitive=False, rotation='90x, 0y, 0z', repeats=(2, 2, 1), radii=0.5, **kwargs)\n",
      "    Plot the crystal structure; thin wrapper for ase.visualize.plot.plot_atoms.\n",
      "    \n",
      "    Input parameters:\n",
      "        primitive (optional, bool) - display the primative or conventional cell (default=False)\n",
      "        rotation (optional, str) - In degrees. In the form '90x, 0y, 0z' (which is the defualt)\n",
      "        repeats (optional, tuple) - number of unit cells to repeat in each direction\n",
      "        radii (optional, float) - the radii of the atoms (default = 0.5)\n",
      "        **kwargs (additional optional arguments to pass to ase.visualize.plot.plot_atoms):\n",
      "            ax : Matplotlib subplot object\n",
      "            show_unit_cell : int, optional, default 2\n",
      "                Draw the unit cell as dashed lines depending on value:\n",
      "                0: Don't\n",
      "                1: Do\n",
      "                2: Do, making sure cell is visible\n",
      "       colors : list of strings, optional\n",
      "            Color of the atoms, must be the same length as\n",
      "            the number of atoms in the atoms object.\n",
      "        scale : float, optional\n",
      "            Scaling of the plotted atoms and lines.\n",
      "        offset : tuple (float, float), optional\n",
      "            Offset of the plotted atoms and lines.\n",
      "\n"
     ]
    }
   ],
   "source": [
    "help(structure.plot)"
   ]
  },
  {
   "cell_type": "code",
   "execution_count": 33,
   "metadata": {
    "pycharm": {
     "name": "#%%\n"
    }
   },
   "outputs": [
    {
     "data": {
      "image/png": "[encoded data removed]",
      "text/plain": [
       "<Figure size 720x360 with 4 Axes>"
      ]
     },
     "metadata": {
      "needs_background": "light"
     },
     "output_type": "display_data"
    }
   ],
   "source": [
    "fig, ax = plt.subplots(ncols=4, figsize=(10,5))\n",
    "a.plot(ax=ax[0], repeats=(2,1,1))\n",
    "a.plot(ax=ax[1], repeats=(2,1,1), rotation='90x, 90y, 0z')\n",
    "a.plot(ax=ax[2], rotation='0x, 0y, 0z')\n",
    "a.plot(ax=ax[3], primitive=True, radii=0.8)"
   ]
  },
  {
   "cell_type": "markdown",
   "metadata": {
    "pycharm": {
     "name": "#%% md\n"
    }
   },
   "source": [
    "For a more interactive view, you can call `.view()`, which launches the ase GUI in a new window, for interactive exploration. Note the menus for this contain many options."
   ]
  },
  {
   "cell_type": "code",
   "execution_count": 34,
   "metadata": {
    "pycharm": {
     "name": "#%%\n"
    }
   },
   "outputs": [
    {
     "name": "stdout",
     "output_type": "stream",
     "text": [
      "Help on method view in module peaks.utils.structure:\n",
      "\n",
      "view(primitive=False) method of peaks.utils.structure.structure instance\n",
      "    Launch interactive view of the crystal structure; thin wrapper for ase.visualize.view.\n",
      "    \n",
      "    Input parameters:\n",
      "        primitive (optional, bool) - display the primative or conventional cell (default=False)\n",
      "\n"
     ]
    }
   ],
   "source": [
    "help(a.view)"
   ]
  },
  {
   "cell_type": "code",
   "execution_count": 35,
   "metadata": {
    "pycharm": {
     "name": "#%%\n"
    }
   },
   "outputs": [],
   "source": [
    "# Uncomment to run\n",
    "# a.view()\n",
    "# a.view(primitive=True)"
   ]
  },
  {
   "cell_type": "markdown",
   "metadata": {
    "pycharm": {
     "name": "#%% md\n"
    }
   },
   "source": [
    "## X-ray diffraction patterns\n",
    "\n",
    "To simulate and plot the powder x-ray diffraction pattern for the crystal, call `.plot_xrd`. This uses the `pymatgen.analysis.diffraction.xrd` module."
   ]
  },
  {
   "cell_type": "code",
   "execution_count": 36,
   "metadata": {
    "pycharm": {
     "name": "#%%\n"
    }
   },
   "outputs": [
    {
     "name": "stdout",
     "output_type": "stream",
     "text": [
      "Help on method plot_xrd in module peaks.utils.structure:\n",
      "\n",
      "plot_xrd(primitive=False, wavelength='CuKa', two_theta_range=(0, 90), annotate_peaks='compact', symprec=0, debye_waller_factors=None, ax=None, with_labels=True, fontsize=16, ylog_scale=True, show=False) method of peaks.utils.structure.structure instance\n",
      "    Calculate and plot the powder x-ray diffraction pattern for the crystal, using the\n",
      "    pymatgen.analysis.diffraction.xrd module.\n",
      "    \n",
      "    Input parameters:\n",
      "        primitive (optional, bool) - calculate for the primative or conventional cell (default=False)\n",
      "          wavelength (str/float) – The wavelength can be specified as either a float or a string.\n",
      "          If it is a string, it must be one of:\n",
      "            'CuKa', 'CuKa2', 'CuKa1', 'CuKb1', 'MoKa', 'MoKa2', 'MoKa1', 'MoKb1',\n",
      "            'CrKa', 'CrKa2', 'CrKa1', 'CrKb1', 'FeKa', 'FeKa2', 'FeKa1', 'FeKb1',\n",
      "            'CoKa', 'CoKa2', 'CoKa1', 'CoKb1', 'AgKa', 'AgKa2', 'AgKa1', 'AgKb1'\n",
      "          If it is a float, it is interpreted as a wavelength in angstroms.\n",
      "            Defaults to “CuKa”, i.e, Cu K_alpha radiation.\n",
      "        two_theta_range ([float of length 2]) – Tuple for range of two_thetas to\n",
      "          calculate in degrees. Defaults to (0, 90). Set to None if you want all\n",
      "          diffracted beams within the limiting sphere of radius 2 / wavelength.\n",
      "        annotate_peaks (str or None) – Whether and how to annotate the peaks with hkl indices.\n",
      "          Default is ‘compact’, i.e. show short version (oriented vertically), e.g. 100.\n",
      "          If ‘full’, show long version, e.g. (1, 0, 0). If None, do not show anything.\n",
      "        symprec (float) – Symmetry precision for structure refinement.\n",
      "          If set to 0 (default), no refinement is done. Otherwise,\n",
      "          refinement is performed using spglib with provided precision.\n",
      "        ({element symbol (debye_waller_factors) – float}): Allows the specification of\n",
      "          Debye-Waller factors. Note that these factors are temperature dependent.\n",
      "        ax – matplotlib Axes or None if a new figure should be created.\n",
      "        with_labels – True to add xlabels and ylabels to the plot.\n",
      "        fontsize – (int) fontsize for peak labels.\n",
      "        ylog_scale (bool) - display with a log scale for the y-axis; defaults to True\n",
      "        show (optional, bool) - call plt.show() at end of script (default = False)\n",
      "    \n",
      "    Returns:\n",
      "        ax\n",
      "\n"
     ]
    }
   ],
   "source": [
    "help(a.plot_xrd)"
   ]
  },
  {
   "cell_type": "markdown",
   "metadata": {
    "pycharm": {
     "name": "#%% md\n"
    }
   },
   "source": [
    "E.g. plot the XRD pattern for the conventional cell (default option)"
   ]
  },
  {
   "cell_type": "code",
   "execution_count": 37,
   "metadata": {
    "pycharm": {
     "name": "#%%\n"
    }
   },
   "outputs": [
    {
     "data": {
      "text/plain": [
       "<AxesSubplot:xlabel='$2\\\\theta$ ($^\\\\circ$)', ylabel='Intensities (scaled)'>"
      ]
     },
     "execution_count": 37,
     "metadata": {},
     "output_type": "execute_result"
    },
    {
     "data": {
      "image/png": "[encoded data removed]",
      "text/plain": [
       "<Figure size 1152x720 with 1 Axes>"
      ]
     },
     "metadata": {},
     "output_type": "display_data"
    }
   ],
   "source": [
    "a.plot_xrd()"
   ]
  },
  {
   "cell_type": "markdown",
   "metadata": {
    "pycharm": {
     "name": "#%% md\n"
    }
   },
   "source": [
    "This can also be passed to a specific existing `matplotlib` axis, e.g. for overplotting on some data or having more control over the layout: "
   ]
  },
  {
   "cell_type": "code",
   "execution_count": 38,
   "metadata": {
    "pycharm": {
     "name": "#%%\n"
    }
   },
   "outputs": [
    {
     "data": {
      "text/plain": [
       "<AxesSubplot:xlabel='$2\\\\theta$ ($^\\\\circ$)', ylabel='Intensities (scaled)'>"
      ]
     },
     "execution_count": 38,
     "metadata": {},
     "output_type": "execute_result"
    },
    {
     "data": {
      "image/png": "[encoded data removed]",
      "text/plain": [
       "<Figure size 1080x432 with 1 Axes>"
      ]
     },
     "metadata": {
      "needs_background": "light"
     },
     "output_type": "display_data"
    }
   ],
   "source": [
    "fig, ax = plt.subplots(ncols=1, figsize=(15,6))\n",
    "a.plot_xrd(primitive=True, annotate_peaks='full',ylog_scale=False, two_theta_range=(30,70),ax=ax)\n"
   ]
  },
  {
   "cell_type": "markdown",
   "metadata": {
    "pycharm": {
     "name": "#%% md\n"
    }
   },
   "source": [
    "## Brillouin zones"
   ]
  },
  {
   "cell_type": "markdown",
   "metadata": {
    "pycharm": {
     "name": "#%% md\n"
    }
   },
   "source": [
    "You can access the special k-points of the Brillouin zone by the function `.utils.structure.special_kpoints` which is a shortcut added to the `ase.atoms.Atoms` class. Can either return the list of high symmetry points in fractional coordinates, or actual k-values in cartesian space if called with `in_k=True` (default)."
   ]
  },
  {
   "cell_type": "code",
   "execution_count": 39,
   "metadata": {
    "pycharm": {
     "name": "#%%\n"
    }
   },
   "outputs": [
    {
     "name": "stdout",
     "output_type": "stream",
     "text": [
      "Help on method special_kpoints in module peaks.utils.structure:\n",
      "\n",
      "special_kpoints(in_k=True, hv=None) method of ase.atoms.Atoms instance\n",
      "    Adding a shortcut method to the ase.atoms.Atoms class to access directly the special k-points\n",
      "    of the Brillouin zone without having to invoke .bandpath().special_points, and for generating these\n",
      "    in a useful way for ARPES. See `ase.dft.kpoints.BandPath` for definition of the special_points method.\n",
      "    The k-point definitions are from a paper by Wahyu Setyawana and Stefano Curtarolo::\n",
      "        http://dx.doi.org/10.1016/j.commatsci.2010.05.010\n",
      "    \n",
      "    Input:\n",
      "        struct (ase.atoms.Atoms object) - crystal structure\n",
      "        in_k (optional, bool) - whether to return the list of symmetry points in fractional coordinates\n",
      "          and with conventional labels, or a list of k-values in cartesian space for these points (default).\n",
      "        hv (optional, float) - if provided, the corresponding angle of photoemission to reach each k-point\n",
      "          is determined for the given photon energy, hv, assuming the path is directly from G-sym point\n",
      "          (i.e. that the analyser slit is aligned along that high symmetry direction), and a work fn of 4.35 eV.\n",
      "    \n",
      "    Output:\n",
      "        dict or array of k-points depending on in_k choice.\n",
      "\n"
     ]
    }
   ],
   "source": [
    "help(a.structure.special_kpoints)"
   ]
  },
  {
   "cell_type": "code",
   "execution_count": 40,
   "metadata": {
    "pycharm": {
     "name": "#%%\n"
    }
   },
   "outputs": [
    {
     "data": {
      "text/plain": [
       "{'G': array([0., 0., 0.]),\n",
       " 'A': array([0.81115225, 0.81115225, 0.24674196]),\n",
       " 'M': array([0.81115225, 0.81115225, 0.        ]),\n",
       " 'R': array([0.        , 0.81115225, 0.24674196]),\n",
       " 'X': array([0.        , 0.81115225, 0.        ]),\n",
       " 'Z': array([0.        , 0.        , 0.24674196]),\n",
       " 'units': '1/Angstrom'}"
      ]
     },
     "execution_count": 40,
     "metadata": {},
     "output_type": "execute_result"
    }
   ],
   "source": [
    "a.structure.special_kpoints()"
   ]
  },
  {
   "cell_type": "code",
   "execution_count": 41,
   "metadata": {
    "pycharm": {
     "name": "#%%\n"
    }
   },
   "outputs": [
    {
     "data": {
      "text/plain": [
       "{'G': array([0., 0., 0.]),\n",
       " 'A': array([0.5, 0.5, 0.5]),\n",
       " 'M': array([0.5, 0.5, 0. ]),\n",
       " 'R': array([0. , 0.5, 0.5]),\n",
       " 'X': array([0. , 0.5, 0. ]),\n",
       " 'Z': array([0. , 0. , 0.5]),\n",
       " 'units': 'scaled'}"
      ]
     },
     "execution_count": 41,
     "metadata": {},
     "output_type": "execute_result"
    }
   ],
   "source": [
    "a.structure.special_kpoints(in_k=False)"
   ]
  },
  {
   "cell_type": "code",
   "execution_count": 42,
   "metadata": {
    "pycharm": {
     "name": "#%%\n"
    }
   },
   "outputs": [
    {
     "data": {
      "text/plain": [
       "{'G': array([0., 0., 0.]),\n",
       " 'N': array([0.81115225, 0.        , 0.24674196]),\n",
       " 'P': array([0.81115225, 0.81115225, 0.24674196]),\n",
       " 'S': array([0.88620794, 0.        , 0.        ]),\n",
       " 'S1': array([0.73609655, 0.        , 0.49348392]),\n",
       " 'X': array([0.81115225, 0.81115225, 0.        ]),\n",
       " 'Y': array([0.88620794, 0.73609655, 0.        ]),\n",
       " 'Y1': array([0.73609655, 0.73609655, 0.49348392]),\n",
       " 'Z': array([0.        , 0.        , 0.49348392]),\n",
       " 'units': '1/Angstrom'}"
      ]
     },
     "execution_count": 42,
     "metadata": {},
     "output_type": "execute_result"
    }
   ],
   "source": [
    "a.primitive.special_kpoints()"
   ]
  },
  {
   "cell_type": "code",
   "execution_count": 43,
   "metadata": {
    "pycharm": {
     "name": "#%%\n"
    }
   },
   "outputs": [
    {
     "data": {
      "text/plain": [
       "{'G': array([0., 0., 0.]),\n",
       " 'N': array([0.5, 0. , 0. ]),\n",
       " 'P': array([ 0.5 ,  0.5 , -0.25]),\n",
       " 'S': array([ 0.54626486,  0.        , -0.27313243]),\n",
       " 'S1': array([0.45373514, 0.        , 0.27313243]),\n",
       " 'X': array([ 0.5,  0.5, -0.5]),\n",
       " 'Y': array([ 0.54626486,  0.45373514, -0.5       ]),\n",
       " 'Y1': array([0.45373514, 0.45373514, 0.04626486]),\n",
       " 'Z': array([0. , 0. , 0.5]),\n",
       " 'units': 'scaled'}"
      ]
     },
     "execution_count": 43,
     "metadata": {},
     "output_type": "execute_result"
    }
   ],
   "source": [
    "a.primitive.special_kpoints(in_k=False)"
   ]
  },
  {
   "cell_type": "markdown",
   "metadata": {
    "pycharm": {
     "name": "#%% md\n"
    }
   },
   "source": [
    "If called with the argument `hv=...`, then the corresponding angle of photoemission to reach each k-point is determined for the given photon energy, $h\\nu$, assuming the path is directly from $\\Gamma$ to the relevant symmetry point (i.e. that the analyser slit is aligned along that high symmetry direction), and a work function of 4.35 eV is assumed."
   ]
  },
  {
   "cell_type": "code",
   "execution_count": 44,
   "metadata": {
    "pycharm": {
     "name": "#%%\n"
    }
   },
   "outputs": [
    {
     "data": {
      "text/plain": [
       "{'G': (array([0., 0., 0.]), 0.0),\n",
       " 'A': (array([0.81115225, 0.81115225, 0.24674196]), -13.54),\n",
       " 'M': (array([0.81115225, 0.81115225, 0.        ]), -13.24),\n",
       " 'R': (array([0.        , 0.81115225, 0.24674196]), -9.74),\n",
       " 'X': (array([0.        , 0.81115225, 0.        ]), -9.32),\n",
       " 'Z': (array([0.        , 0.        , 0.24674196]), -2.82),\n",
       " 'units': '(1/Angstrom, degrees for ARPES @ hv=100)'}"
      ]
     },
     "execution_count": 44,
     "metadata": {},
     "output_type": "execute_result"
    }
   ],
   "source": [
    "a.structure.special_kpoints(hv=100)"
   ]
  },
  {
   "cell_type": "markdown",
   "metadata": {
    "pycharm": {
     "name": "#%% md\n"
    }
   },
   "source": [
    "You can plot the Brillouin zone using `.plot_bz`"
   ]
  },
  {
   "cell_type": "code",
   "execution_count": 45,
   "metadata": {
    "pycharm": {
     "name": "#%%\n"
    }
   },
   "outputs": [
    {
     "name": "stdout",
     "output_type": "stream",
     "text": [
      "Help on method plot_bz in module peaks.utils.structure:\n",
      "\n",
      "plot_bz(primitive=True, surf=None, bzs=None, vectors=True, path=None, sym_points=True, sym_labels=True, rot_angle=None, rot_axis=(0, 0, 1), elev=None, azim=None, pointstyle=None, ax=None, hide_axes=True, show=False) method of peaks.utils.structure.structure instance\n",
      "    Plot the Brillouin zone; Taken largely from ase.dft.bz.bz_plot with some minor modifications\n",
      "    \n",
      "    Input parameters:\n",
      "        primitive (optional, bool) - display the primative or conventional cell (default=True)\n",
      "        surf (optional) - surf=(h,k,l) displays the surface Brillouin zone corresponding\n",
      "          to the (h,k,l) surface; defaults to displaying the bulk zone\n",
      "        bzs (optional) - which Brillouin zones to display:\n",
      "            - None: defaults to (0,0) or (0,0,0)\n",
      "            - int: plots int zones\n",
      "            - list of tuples: plots specified bzs,\n",
      "                e.g. [(0,0),(0,1)] for a 2D case or [(0,0,0),(0,0,1),(0,0,2)] for a 3D case\n",
      "        vectors (optional, bool) - display the lattice vectors (default = True)\n",
      "        path (optional, list of str) - Supply list of special k-points to draw path between,\n",
      "            e.g. ['G','X','M','G']\n",
      "        sym_points (optional, bool) - show the high symmetry points (default = True)\n",
      "        sym_labels (optional, bool) - label the high symmetry points (default = True)\n",
      "        rot_angle (optional, float) - rotates the BZ in the x-y plane by the specified angle (in degrees),\n",
      "          for 2D brillouin zones only\n",
      "        rot_axis (optional, float) - axis to rotate the crystal about for BZ rotation, default = (0,0,1)\n",
      "        elev (optional, float) - elevation view angle (in degrees)\n",
      "        azim (optional, float) - azimuthal view angle (in degrees)\n",
      "        pointstyle (optional) - definition of points shown in format {'c': 'k'}\n",
      "        ax (optional) - matplotlib axis to plot on\n",
      "        hide_axes (optional, bool) - hide the plot axes, default=True\n",
      "        show (optional, bool) - call plt.show() at end of script (default = False)\n",
      "    \n",
      "    Returns:\n",
      "        plot\n",
      "\n"
     ]
    }
   ],
   "source": [
    "help(a.plot_bz)"
   ]
  },
  {
   "cell_type": "markdown",
   "metadata": {
    "pycharm": {
     "name": "#%% md\n"
    }
   },
   "source": [
    "By default the BZ of the primitive cell is shown "
   ]
  },
  {
   "cell_type": "code",
   "execution_count": 60,
   "metadata": {
    "pycharm": {
     "name": "#%%\n"
    }
   },
   "outputs": [
    {
     "data": {
      "text/plain": [
       "<Axes3DSubplot:>"
      ]
     },
     "execution_count": 60,
     "metadata": {},
     "output_type": "execute_result"
    },
    {
     "data": {
      "image/png": "[encoded data removed]",
      "text/plain": [
       "<Figure size 288x288 with 1 Axes>"
      ]
     },
     "metadata": {
      "needs_background": "light"
     },
     "output_type": "display_data"
    }
   ],
   "source": [
    "a.plot_bz()"
   ]
  },
  {
   "cell_type": "markdown",
   "metadata": {
    "pycharm": {
     "name": "#%% md\n"
    }
   },
   "source": [
    "The conventional cell can be returned with the flag `primitive=False`"
   ]
  },
  {
   "cell_type": "code",
   "execution_count": 61,
   "metadata": {
    "pycharm": {
     "name": "#%%\n"
    }
   },
   "outputs": [
    {
     "data": {
      "text/plain": [
       "<Axes3DSubplot:>"
      ]
     },
     "execution_count": 61,
     "metadata": {},
     "output_type": "execute_result"
    },
    {
     "data": {
      "image/png": "[encoded data removed]",
      "text/plain": [
       "<Figure size 288x288 with 1 Axes>"
      ]
     },
     "metadata": {
      "needs_background": "light"
     },
     "output_type": "display_data"
    }
   ],
   "source": [
    "a.plot_bz(primitive=False)"
   ]
  },
  {
   "cell_type": "markdown",
   "metadata": {
    "pycharm": {
     "name": "#%% md\n"
    }
   },
   "source": [
    "There are various other display options (paths, sym points, orientations, which ax to append to etc.)"
   ]
  },
  {
   "cell_type": "code",
   "execution_count": 62,
   "metadata": {
    "pycharm": {
     "name": "#%%\n"
    }
   },
   "outputs": [
    {
     "data": {
      "text/plain": [
       "<Axes3DSubplot:>"
      ]
     },
     "execution_count": 62,
     "metadata": {},
     "output_type": "execute_result"
    },
    {
     "data": {
      "image/png": "[encoded data removed]",
      "text/plain": [
       "<Figure size 288x288 with 1 Axes>"
      ]
     },
     "metadata": {
      "needs_background": "light"
     },
     "output_type": "display_data"
    }
   ],
   "source": [
    "a.plot_bz(sym_labels=False,path=['G','Z','N','X','G'], azim=-30)"
   ]
  },
  {
   "cell_type": "markdown",
   "metadata": {
    "pycharm": {
     "name": "#%% md\n"
    }
   },
   "source": [
    "Multiple Brillouin zones can be plotted via the `bzs` flag. This can either by an integer to display each shell of bzs (up to nG1+nG2 for `bzs=n`), or a list of zone indicies:"
   ]
  },
  {
   "cell_type": "code",
   "execution_count": 63,
   "metadata": {
    "pycharm": {
     "name": "#%%\n"
    }
   },
   "outputs": [
    {
     "data": {
      "text/plain": [
       "<Axes3DSubplot:>"
      ]
     },
     "execution_count": 63,
     "metadata": {},
     "output_type": "execute_result"
    },
    {
     "data": {
      "image/png": "[encoded data removed]",
      "text/plain": [
       "<Figure size 288x288 with 1 Axes>"
      ]
     },
     "metadata": {
      "needs_background": "light"
     },
     "output_type": "display_data"
    }
   ],
   "source": [
    "a.plot_bz(bzs=[(0,0,0),(0,0,1),(0,0,2)])"
   ]
  },
  {
   "cell_type": "code",
   "execution_count": 64,
   "metadata": {
    "pycharm": {
     "name": "#%%\n"
    }
   },
   "outputs": [
    {
     "data": {
      "text/plain": [
       "<Axes3DSubplot:>"
      ]
     },
     "execution_count": 64,
     "metadata": {},
     "output_type": "execute_result"
    },
    {
     "data": {
      "image/png": "[encoded data removed]",
      "text/plain": [
       "<Figure size 288x288 with 1 Axes>"
      ]
     },
     "metadata": {
      "needs_background": "light"
     },
     "output_type": "display_data"
    }
   ],
   "source": [
    "a.plot_bz(bzs=2)"
   ]
  },
  {
   "cell_type": "markdown",
   "metadata": {
    "pycharm": {
     "name": "#%% md\n"
    }
   },
   "source": [
    "It is also possible to get an interactive view of a single BZ using `.view` and navigating to `Tools`-`Reciprocal Space` from the menu"
   ]
  },
  {
   "cell_type": "code",
   "execution_count": 51,
   "metadata": {
    "pycharm": {
     "name": "#%%\n"
    }
   },
   "outputs": [],
   "source": [
    "# Uncomment to run\n",
    "# a.view(primitive=True)"
   ]
  },
  {
   "cell_type": "markdown",
   "metadata": {
    "pycharm": {
     "name": "#%% md\n"
    }
   },
   "source": [
    "### Surface Brillouin zone\n",
    "\n",
    "A surface unit cell can be made using `.surf(miller, primitive=False)` where miller is the miller index of the desired surface, and you can specify whether this is for the primitive or conventional (defualt) cell"
   ]
  },
  {
   "cell_type": "code",
   "execution_count": 49,
   "metadata": {
    "pycharm": {
     "name": "#%%\n"
    }
   },
   "outputs": [
    {
     "name": "stdout",
     "output_type": "stream",
     "text": [
      "Help on method surf in module peaks.utils.structure:\n",
      "\n",
      "surf(miller, primitive=False) method of peaks.utils.structure.structure instance\n",
      "    Make a given index surface.\n",
      "    \n",
      "    Input parameters:\n",
      "        miller (tuple) - miller indicies in format (h, k, l)\n",
      "        primitive (optional, bool) - display the primative or conventional cell (default=False)\n",
      "    \n",
      "    Output:\n",
      "        new instance of structure class, now for the surface structure\n",
      "\n"
     ]
    }
   ],
   "source": [
    "help(a.surf)"
   ]
  },
  {
   "cell_type": "code",
   "execution_count": 50,
   "metadata": {
    "pycharm": {
     "name": "#%%\n"
    }
   },
   "outputs": [],
   "source": [
    "a_surf = a.surf((0,0,1))"
   ]
  },
  {
   "cell_type": "code",
   "execution_count": 51,
   "metadata": {
    "pycharm": {
     "name": "#%%\n"
    }
   },
   "outputs": [
    {
     "data": {
      "text/plain": [
       "<AxesSubplot:>"
      ]
     },
     "execution_count": 51,
     "metadata": {},
     "output_type": "execute_result"
    },
    {
     "data": {
      "image/png": "[encoded data removed]",
      "text/plain": [
       "<Figure size 432x288 with 1 Axes>"
      ]
     },
     "metadata": {
      "needs_background": "light"
     },
     "output_type": "display_data"
    }
   ],
   "source": [
    "a_surf.plot_bz()"
   ]
  },
  {
   "cell_type": "markdown",
   "metadata": {
    "pycharm": {
     "name": "#%% md\n"
    }
   },
   "source": [
    "The special k-points of this 2D Brillouin zone are now also avaialble"
   ]
  },
  {
   "cell_type": "code",
   "execution_count": 52,
   "metadata": {
    "pycharm": {
     "name": "#%%\n"
    }
   },
   "outputs": [
    {
     "data": {
      "text/plain": [
       "{'G': array([0., 0., 0.]),\n",
       " 'M': array([0.81115225, 0.81115225, 0.        ]),\n",
       " 'X': array([0.        , 0.81115225, 0.        ]),\n",
       " 'units': '1/Angstrom'}"
      ]
     },
     "execution_count": 52,
     "metadata": {},
     "output_type": "execute_result"
    }
   ],
   "source": [
    "a_surf.structure.special_kpoints()"
   ]
  },
  {
   "cell_type": "code",
   "execution_count": 53,
   "metadata": {
    "pycharm": {
     "name": "#%%\n"
    }
   },
   "outputs": [
    {
     "data": {
      "text/plain": [
       "{'G': (array([0., 0., 0.]), 0.0),\n",
       " 'M': (array([0.81115225, 0.81115225, 0.        ]), -33.28),\n",
       " 'X': (array([0.        , 0.81115225, 0.        ]), -22.83),\n",
       " 'units': '(1/Angstrom, degrees for ARPES @ hv=21)'}"
      ]
     },
     "execution_count": 53,
     "metadata": {},
     "output_type": "execute_result"
    }
   ],
   "source": [
    "a_surf.structure.special_kpoints(hv=21)"
   ]
  },
  {
   "cell_type": "markdown",
   "metadata": {
    "pycharm": {
     "name": "#%% md\n"
    }
   },
   "source": [
    "If just for BZ plotting, you can specify the surface directly in the plot call on the bulk structure using `surf=(h,k,l)` for the $(h,k,l)$ miller indices:"
   ]
  },
  {
   "cell_type": "code",
   "execution_count": 54,
   "metadata": {
    "pycharm": {
     "name": "#%%\n"
    }
   },
   "outputs": [
    {
     "data": {
      "text/plain": [
       "{'conventional': {'a1': '3.873x + 0.0y + 0.0z ',\n",
       "  'a2': '0.0x + 3.873y + 0.0z ',\n",
       "  'a3': '0.0x + 0.0y + 12.7323z ',\n",
       "  'a units': 'Angstrom',\n",
       "  'b1': '1.6223044944951164x + 0.0y + 0.0z ',\n",
       "  'b2': '0.0x + 1.6223044944951164y + 0.0z ',\n",
       "  'b3': '0.0x + 0.0y + 0.493483919415941z ',\n",
       "  'b units': '1/Angstrom'},\n",
       " 'primitive': {'a1': '3.873x + 0.0y + 0.0z ',\n",
       "  'a2': '0.0x + 3.873y + 0.0z ',\n",
       "  'a3': '-1.9365x + -1.9365y + 6.36615z ',\n",
       "  'a units': 'Angstrom',\n",
       "  'b1': '1.6223044944951164x + 0.0y + 0.49348391941594066z ',\n",
       "  'b2': '0.0x + 1.6223044944951166y + 0.49348391941594083z ',\n",
       "  'b3': '0.0x + 0.0y + 0.9869678388318823z ',\n",
       "  'b units': '1/Angstrom'}}"
      ]
     },
     "execution_count": 54,
     "metadata": {},
     "output_type": "execute_result"
    }
   ],
   "source": [
    "a.vectors"
   ]
  },
  {
   "cell_type": "code",
   "execution_count": 55,
   "metadata": {
    "pycharm": {
     "name": "#%%\n"
    }
   },
   "outputs": [
    {
     "data": {
      "text/plain": [
       "<AxesSubplot:>"
      ]
     },
     "execution_count": 55,
     "metadata": {},
     "output_type": "execute_result"
    },
    {
     "data": {
      "image/png": "[encoded data removed]",
      "text/plain": [
       "<Figure size 432x288 with 1 Axes>"
      ]
     },
     "metadata": {
      "needs_background": "light"
     },
     "output_type": "display_data"
    }
   ],
   "source": [
    "a.plot_bz(primitive=True, surf=(0,0,1))"
   ]
  },
  {
   "cell_type": "markdown",
   "metadata": {
    "pycharm": {
     "name": "#%% md\n"
    }
   },
   "source": [
    "Multiple bzs can again be shown:"
   ]
  },
  {
   "cell_type": "code",
   "execution_count": 56,
   "metadata": {
    "pycharm": {
     "name": "#%%\n"
    }
   },
   "outputs": [
    {
     "data": {
      "text/plain": [
       "<AxesSubplot:>"
      ]
     },
     "execution_count": 56,
     "metadata": {},
     "output_type": "execute_result"
    },
    {
     "data": {
      "image/png": "[encoded data removed]",
      "text/plain": [
       "<Figure size 432x288 with 1 Axes>"
      ]
     },
     "metadata": {
      "needs_background": "light"
     },
     "output_type": "display_data"
    }
   ],
   "source": [
    "a.plot_bz(bzs=[(0,0),(0,1),(1,1)], primitive=False, surf=(0,0,1))"
   ]
  },
  {
   "cell_type": "markdown",
   "metadata": {
    "pycharm": {
     "name": "#%% md\n"
    }
   },
   "source": [
    "The BZ can be rotated using the `rot_angle` flag, where the rotation angle is given in degrees:"
   ]
  },
  {
   "cell_type": "code",
   "execution_count": 57,
   "metadata": {
    "pycharm": {
     "name": "#%%\n"
    }
   },
   "outputs": [
    {
     "data": {
      "text/plain": [
       "<AxesSubplot:>"
      ]
     },
     "execution_count": 57,
     "metadata": {},
     "output_type": "execute_result"
    },
    {
     "data": {
      "image/png": "[encoded data removed]",
      "text/plain": [
       "<Figure size 432x288 with 1 Axes>"
      ]
     },
     "metadata": {
      "needs_background": "light"
     },
     "output_type": "display_data"
    }
   ],
   "source": [
    "a.plot_bz(rot_angle=45, primitive=False, surf=(0,0,1))"
   ]
  },
  {
   "cell_type": "markdown",
   "metadata": {
    "pycharm": {
     "name": "#%% md\n"
    }
   },
   "source": [
    "This can also be utilised for 3D BZs, where in addition a rotation axis can be speficied using e.g. `rot_axis=(0,0,1)`. The [0,0,1] direction is the default"
   ]
  },
  {
   "cell_type": "code",
   "execution_count": 65,
   "metadata": {
    "pycharm": {
     "name": "#%%\n"
    }
   },
   "outputs": [
    {
     "data": {
      "image/png": "[encoded data removed]",
      "text/plain": [
       "<Figure size 288x288 with 1 Axes>"
      ]
     },
     "metadata": {
      "needs_background": "light"
     },
     "output_type": "display_data"
    },
    {
     "data": {
      "image/png": "[encoded data removed]",
      "text/plain": [
       "<Figure size 288x288 with 1 Axes>"
      ]
     },
     "metadata": {
      "needs_background": "light"
     },
     "output_type": "display_data"
    },
    {
     "data": {
      "image/png": "[encoded data removed]",
      "text/plain": [
       "<Figure size 288x288 with 1 Axes>"
      ]
     },
     "metadata": {
      "needs_background": "light"
     },
     "output_type": "display_data"
    },
    {
     "data": {
      "text/plain": [
       "<Axes3DSubplot:>"
      ]
     },
     "execution_count": 65,
     "metadata": {},
     "output_type": "execute_result"
    }
   ],
   "source": [
    "a.plot_bz(rot_angle=0, show=True)\n",
    "a.plot_bz(rot_angle=45, show=True)\n",
    "a.plot_bz(rot_angle=45, rot_axis=(1,0,0), show=True)"
   ]
  },
  {
   "cell_type": "code",
   "execution_count": 66,
   "metadata": {
    "pycharm": {
     "name": "#%%\n"
    }
   },
   "outputs": [
    {
     "data": {
      "text/plain": [
       "<Axes3DSubplot:>"
      ]
     },
     "execution_count": 66,
     "metadata": {},
     "output_type": "execute_result"
    },
    {
     "data": {
      "image/png": "[encoded data removed]",
      "text/plain": [
       "<Figure size 288x288 with 1 Axes>"
      ]
     },
     "metadata": {
      "needs_background": "light"
     },
     "output_type": "display_data"
    }
   ],
   "source": [
    "a.plot_bz()"
   ]
  },
  {
   "cell_type": "markdown",
   "metadata": {
    "pycharm": {
     "name": "#%% md\n"
    }
   },
   "source": [
    "## Cut planner\n",
    "\n",
    "You can call a cut planner to assist with finding the correct angles for ARPES cuts using `.cut_planner`. Many of the options are the same as for the `.plot_bz` function:"
   ]
  },
  {
   "cell_type": "code",
   "execution_count": 67,
   "metadata": {
    "pycharm": {
     "name": "#%%\n"
    }
   },
   "outputs": [
    {
     "name": "stdout",
     "output_type": "stream",
     "text": [
      "Help on method cut_planner in module peaks.utils.structure:\n",
      "\n",
      "cut_planner(primitive=True, surf=None, bzs=None, vectors=False, path=None, sym_points=True, sym_labels=True, rot_angle=None, rot_axis=(0, 0, 1), elev=None, azim=None, hide_axes=False) method of peaks.utils.structure.structure instance\n",
      "    Cut planned for aiding ARPES alignment.\n",
      "    \n",
      "    Input parameters:\n",
      "        primitive (optional, bool) - display the primative or conventional cell (default=True)\n",
      "        surf (optional) - surf=(h,k,l) displays the surface Brillouin zone corresponding\n",
      "          to the (h,k,l) surface; defaults to displaying the bulk zone\n",
      "        bzs (optional) - which Brillouin zones to display:\n",
      "            - None: defaults to (0,0) or (0,0,0)\n",
      "            - int: plots int zones\n",
      "            - list of tuples: plots specified bzs,\n",
      "                e.g. [(0,0),(0,1)] for a 2D case or [(0,0,0),(0,0,1),(0,0,2)] for a 3D case\n",
      "        vectors (optional, bool) - display the lattice vectors (default = True)\n",
      "        path (optional, list of str) - Supply list of special k-points to draw path between,\n",
      "            e.g. ['G','X','M','G']\n",
      "        sym_points (optional, bool) - show the high symmetry points (default = True)\n",
      "        sym_labels (optional, bool) - label the high symmetry points (default = True)\n",
      "        rot_angle (optional, float) - rotates the BZ in the x-y plane by the specified angle (in degrees),\n",
      "          for 2D brillouin zones only\n",
      "        rot_axis (optional, float) - axis to rotate the crystal about for BZ rotation, default = (0,0,1)\n",
      "        elev (optional, float) - elevation view angle (in degrees)\n",
      "        azim (optional, float) - azimuthal view angle (in degrees)\n",
      "        hide_axes (optional, bool) - hide the plot axes, default=False\n",
      "    \n",
      "    \n",
      "    Returns:\n",
      "        cut planner widget\n",
      "\n"
     ]
    }
   ],
   "source": [
    "help(a.cut_planner)"
   ]
  },
  {
   "cell_type": "markdown",
   "metadata": {
    "pycharm": {
     "name": "#%% md\n"
    }
   },
   "source": [
    "This broadly works for 2D or surface BZs at present, although the angular conventions are not yet implemented to match the true manipulator ones (in terms of relative signs)"
   ]
  },
  {
   "cell_type": "code",
   "execution_count": 70,
   "metadata": {
    "pycharm": {
     "name": "#%%\n"
    }
   },
   "outputs": [
    {
     "data": {
      "text/html": [
       "<style>\n",
       "            .widget-label { min-width: 20ex !important; }\n",
       "        </style>"
      ],
      "text/plain": [
       "<IPython.core.display.HTML object>"
      ]
     },
     "metadata": {},
     "output_type": "display_data"
    },
    {
     "data": {
      "application/vnd.jupyter.widget-view+json": {
       "model_id": "d073824d4b684acf9989c6aba5085411",
       "version_major": 2,
       "version_minor": 0
      },
      "text/plain": [
       "HBox(children=(HBox(children=(Output(),)), VBox(children=(HBox(children=(Dropdown(description='Beamline:', opt…"
      ]
     },
     "metadata": {},
     "output_type": "display_data"
    },
    {
     "data": {
      "text/html": [
       "<style>\n",
       "                    .widget-label { min-width: 20ex !important; }\n",
       "                </style>"
      ],
      "text/plain": [
       "<IPython.core.display.HTML object>"
      ]
     },
     "metadata": {},
     "output_type": "display_data"
    }
   ],
   "source": [
    "a.cut_planner(primitive=False, surf=(0,0,1), bzs=2)"
   ]
  },
  {
   "cell_type": "markdown",
   "metadata": {
    "pycharm": {
     "name": "#%% md\n"
    }
   },
   "source": [
    "It is a bit hacked for kz planning - when first loaded, often the cut plane will be off scale. Try shifting the BZs using the BZ shift option. E.g. in this example, sensible settings are e.g. [0,0,4] for the BZ shift (in this case for the primitive cell), meaning the bottom zone shown is the 4th BZ along $k_z$."
   ]
  },
  {
   "cell_type": "code",
   "execution_count": 69,
   "metadata": {
    "pycharm": {
     "name": "#%%\n"
    }
   },
   "outputs": [
    {
     "data": {
      "text/html": [
       "<style>\n",
       "            .widget-label { min-width: 20ex !important; }\n",
       "        </style>"
      ],
      "text/plain": [
       "<IPython.core.display.HTML object>"
      ]
     },
     "metadata": {},
     "output_type": "display_data"
    },
    {
     "data": {
      "application/vnd.jupyter.widget-view+json": {
       "model_id": "b9b38e2a839940d398e8fe0085a69956",
       "version_major": 2,
       "version_minor": 0
      },
      "text/plain": [
       "HBox(children=(HBox(children=(Output(),)), VBox(children=(HBox(children=(Dropdown(description='Beamline:', dis…"
      ]
     },
     "metadata": {},
     "output_type": "display_data"
    },
    {
     "data": {
      "text/html": [
       "<style>\n",
       "                    .widget-label { min-width: 20ex !important; }\n",
       "                </style>"
      ],
      "text/plain": [
       "<IPython.core.display.HTML object>"
      ]
     },
     "metadata": {},
     "output_type": "display_data"
    }
   ],
   "source": [
    "a.cut_planner(primitive=True, bzs=[(0,0,0),(0,0,1)],elev=2,azim=5)"
   ]
  },
  {
   "cell_type": "markdown",
   "metadata": {
    "pycharm": {
     "name": "#%% md\n"
    }
   },
   "source": [
    "### BZ sections:\n",
    "\n",
    "Taking a slice out of a 3D BZ plot at arbitrary height and orientation (e.g. for plotting in-plane pattern of repeated BZ which tessalate with some out of plane stacking component) is implemented in `.plot_bz_section`"
   ]
  },
  {
   "cell_type": "code",
   "execution_count": 66,
   "metadata": {
    "pycharm": {
     "name": "#%%\n"
    }
   },
   "outputs": [
    {
     "name": "stdout",
     "output_type": "stream",
     "text": [
      "Help on method plot_bz_section in module PyPhoto.utils.structure:\n",
      "\n",
      "plot_bz_section(primitive=True, bzs=None, plane_normal=[0, 0, 1], plane_origin=[0, 0, 0], rot_angle=None, ax=None, hide_axes=True, show=False, **kwargs) method of PyPhoto.utils.structure.structure instance\n",
      "    Plots a section through one or repreated 3D Brillouin zones for a given plane and origin\n",
      "    \n",
      "    Input parameters:\n",
      "        primitive (optional, bool) - display the primative or conventional cell (default=True)\n",
      "        bzs (optional) - which Brillouin zones to display:\n",
      "            - None: defaults to (0,0) or (0,0,0)\n",
      "            - int: plots int zones\n",
      "            - list of tuples: plots specified bzs,\n",
      "                e.g. [(0,0),(0,1)] for a 2D case or [(0,0,0),(0,0,1),(0,0,2)] for a 3D case\n",
      "        plane_normal (optional) - normal of plane to cut the BZ in, NB in cartesian coordinates\n",
      "            default = [0,0,1]\n",
      "        plane_origin (optional) - origin of plane to cut BZ in, NB in cartesian coordinates:\n",
      "            - default = [0,0,0]\n",
      "            - a specified value [x,y,z] in cartesian coordinates\n",
      "            - a labelled high symmetry point, e.g. \"G\"\n",
      "        rot_angle (optional) - in-plane rotation angle of the BZ section\n",
      "        ax (optional) - matplotlib axis to plot on\n",
      "        hide_axes (optional, bool) - hide the plot axes, default=True\n",
      "        show (optional, bool) - call plt.show() at end of script (default = False)\n",
      "        **kwargs - additional arguments to pass to the plotting function (standard matplotlib calls)\n",
      "    \n",
      "    Returns:\n",
      "        plot\n",
      "\n"
     ]
    }
   ],
   "source": [
    "help(a.plot_bz_section)"
   ]
  },
  {
   "cell_type": "markdown",
   "metadata": {
    "pycharm": {
     "name": "#%% md\n"
    }
   },
   "source": [
    "The plane to cut is defined by a `plane_normal` and a `plane_origin`. The normal is a vector specfied in a cartesian reference frame. The origin can either be specified as a point `[x,y,z]` again in a cartesian reference frame, or by passing the name of a high-symmetry point."
   ]
  },
  {
   "cell_type": "code",
   "execution_count": 67,
   "metadata": {
    "pycharm": {
     "name": "#%%\n"
    }
   },
   "outputs": [
    {
     "data": {
      "text/plain": [
       "<Axes3DSubplot:>"
      ]
     },
     "execution_count": 67,
     "metadata": {},
     "output_type": "execute_result"
    },
    {
     "data": {
      "image/png": "[encoded data removed]",
      "text/plain": [
       "<Figure size 288x288 with 1 Axes>"
      ]
     },
     "metadata": {
      "needs_background": "light"
     },
     "output_type": "display_data"
    }
   ],
   "source": [
    "a.plot_bz()"
   ]
  },
  {
   "cell_type": "code",
   "execution_count": 68,
   "metadata": {
    "pycharm": {
     "name": "#%%\n"
    }
   },
   "outputs": [
    {
     "data": {
      "text/plain": [
       "Text(0.5, 1.0, 'G-Z-S1-N-S-plane')"
      ]
     },
     "execution_count": 68,
     "metadata": {},
     "output_type": "execute_result"
    },
    {
     "data": {
      "image/png": "[encoded data removed]",
      "text/plain": [
       "<Figure size 1080x360 with 3 Axes>"
      ]
     },
     "metadata": {
      "needs_background": "light"
     },
     "output_type": "display_data"
    }
   ],
   "source": [
    "fig, axes = plt.subplots(ncols=3, figsize=(15,5))\n",
    "a.plot_bz_section(primitive=True, plane_normal=[0,0,1], plane_origin='G', rot_angle=0, bzs=2, hide_axes=False, ax=axes[0])\n",
    "a.plot_bz_section(primitive=True, plane_normal=[0,0,1], plane_origin='Z', rot_angle=0, bzs=2, hide_axes=False, ax=axes[1], color='r')\n",
    "a.plot_bz_section(primitive=True, plane_normal=[1,0,0], plane_origin='G', rot_angle=90, bzs=2, hide_axes=False, ax=axes[2], color='b')\n",
    "axes[0].set_title('Gamma-plane')\n",
    "axes[1].set_title('Z-plane')\n",
    "axes[2].set_title('G-Z-S1-N-S-plane')"
   ]
  }
 ],
 "metadata": {
  "kernelspec": {
   "display_name": "Python 3 (ipykernel)",
   "language": "python",
   "name": "python3"
  },
  "language_info": {
   "codemirror_mode": {
    "name": "ipython",
    "version": 3
   },
   "file_extension": ".py",
   "mimetype": "text/x-python",
   "name": "python",
   "nbconvert_exporter": "python",
   "pygments_lexer": "ipython3",
   "version": "3.8.2"
  }
 },
 "nbformat": 4,
 "nbformat_minor": 2
}