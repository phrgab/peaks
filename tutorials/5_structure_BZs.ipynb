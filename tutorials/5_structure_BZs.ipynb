{
 "cells": [
  {
   "cell_type": "markdown",
   "metadata": {},
   "source": [
    "# Structures, Brillouin zones, and cut-planning"
   ]
  },
  {
   "cell_type": "code",
   "execution_count": null,
   "metadata": {},
   "outputs": [],
   "source": [
    "# Import packages\n",
    "import matplotlib.pyplot as plt\n",
    "import xarray as xr\n",
    "import numpy as np\n",
    "import peaks as pks\n",
    "import os\n",
    "import pint_xarray\n",
    "\n",
    "# Set default options\n",
    "xr.set_options(cmap_sequential='Purples', keep_attrs=True)\n",
    "%matplotlib inline\n",
    "%config InlineBackend.figure_format='retina'\n",
    "\n",
    "# Example data\n",
    "from peaks.core.utils.sample_data import ExampleData"
   ]
  },
  {
   "cell_type": "markdown",
   "metadata": {},
   "source": [
    "## Loading structures\n",
    "Handling structures and Brillouin zone plotting requires the `ase` package. This can be installed via `pip install ase` or optionally by specifying the `all` flag when installing `peaks`."
   ]
  },
  {
   "cell_type": "code",
   "execution_count": null,
   "metadata": {},
   "outputs": [],
   "source": [
    "# Import some core ase functions (note, if just using the basic `peaks`` functions, this is not required)\n",
    "import ase\n",
    "from ase.visualize import view\n",
    "from ase.visualize.plot import plot_atoms\n",
    "from ase.build import make_supercell"
   ]
  },
  {
   "cell_type": "markdown",
   "metadata": {},
   "source": [
    "Passing a `.cif` file to the main `pks.load` function will load an `atoms.Atoms` object via `ase.io.read`. The full suite of `ase` utilities can then be used, e.g., to plot and visualise this structure. A couple of simple examples are shown below; see the [ase documentation](https://wiki.fysik.dtu.dk/ase/)."
   ]
  },
  {
   "cell_type": "code",
   "execution_count": null,
   "metadata": {},
   "outputs": [],
   "source": [
    "atoms = ExampleData.structure()"
   ]
  },
  {
   "cell_type": "code",
   "execution_count": null,
   "metadata": {},
   "outputs": [],
   "source": [
    "atoms"
   ]
  },
  {
   "cell_type": "code",
   "execution_count": null,
   "metadata": {},
   "outputs": [],
   "source": [
    "# Interactive view of the sturcture\n",
    "# view(atoms)  # Uncomment to run - opens in pop-up window"
   ]
  },
  {
   "cell_type": "code",
   "execution_count": null,
   "metadata": {},
   "outputs": [],
   "source": [
    "# Make a supercell and plot it\n",
    "scell = make_supercell(atoms, [[2, 0, 0], [0, 2, 0], [0, 0, 2]])\n",
    "plot_atoms(scell, radii=0.4, rotation='90x,90y,0z')"
   ]
  },
  {
   "cell_type": "markdown",
   "metadata": {},
   "source": [
    "## Brillouin zone plotting\n",
    "`peaks` implements a wrapper around `ase.lattice.plot_bz`, with scaling and configurations optimised for ARPES, and some helper methods (e.g. selecting specific surface orientations, rotating the BZ to align with measured axes etc.) built in."
   ]
  },
  {
   "cell_type": "code",
   "execution_count": null,
   "metadata": {},
   "outputs": [],
   "source": [
    "from peaks.bz.plotting import plot_bz"
   ]
  },
  {
   "cell_type": "markdown",
   "metadata": {},
   "source": [
    "The atoms object from a loaded `.cif` structure file can be passed directly, or a strucure built using standard `ase` methods. Alternatively, an `ase.lattice.BravaisLattice` object can be passed: "
   ]
  },
  {
   "cell_type": "code",
   "execution_count": null,
   "metadata": {},
   "outputs": [],
   "source": [
    "plot_bz(atoms, path=None)"
   ]
  },
  {
   "cell_type": "code",
   "execution_count": null,
   "metadata": {},
   "outputs": [],
   "source": [
    "# Build a MoS2 example structure:\n",
    "MoS2 = ase.build.mx2(formula='MoS2', a=3.5, size=(1, 1, 1), vacuum=None)\n",
    "plot_bz(MoS2, vectors=True, rotate=15)"
   ]
  },
  {
   "cell_type": "code",
   "execution_count": null,
   "metadata": {},
   "outputs": [],
   "source": [
    "# Make a generic lattice\n",
    "lattice = ase.lattice.CUB(a=3.8)\n",
    "plot_bz(lattice, path='GXM', azim=20, elev=15)"
   ]
  },
  {
   "cell_type": "markdown",
   "metadata": {},
   "source": [
    "You can pass a surface orientation to plot the corresponding surface Brillouin zone, repeating as desired"
   ]
  },
  {
   "cell_type": "code",
   "execution_count": null,
   "metadata": {},
   "outputs": [],
   "source": [
    "plot_bz(lattice, surface=(1,1,1), repeat=(2,2))"
   ]
  },
  {
   "cell_type": "markdown",
   "metadata": {},
   "source": [
    "Plot on top of data by passing the relevant `matplotlib` axis"
   ]
  },
  {
   "cell_type": "code",
   "execution_count": null,
   "metadata": {},
   "outputs": [],
   "source": [
    "FS = ExampleData.FS()\n",
    "FS.metadata.set_normal_emission({'polar': '1.5 deg', 'tilt': '-0.08399999999999999 deg', 'azi': '-12.510000138999999 deg'})"
   ]
  },
  {
   "cell_type": "code",
   "execution_count": null,
   "metadata": {},
   "outputs": [],
   "source": [
    "FSk = FS.k_convert(eV_slice=(-0.05,0.02))"
   ]
  },
  {
   "cell_type": "code",
   "execution_count": null,
   "metadata": {},
   "outputs": [],
   "source": [
    "FSk.plot(vmax=10)\n",
    "ax = plt.gca()\n",
    "plot_bz(atoms, surface=(0,0,1), ax=ax)"
   ]
  },
  {
   "cell_type": "markdown",
   "metadata": {},
   "source": [
    "## Brillouin zone sections\n",
    "The section through multiple Brillouin zones within a given plane can be plotted:"
   ]
  },
  {
   "cell_type": "code",
   "execution_count": null,
   "metadata": {},
   "outputs": [],
   "source": [
    "from peaks.bz.plotting import plot_bz_section\n",
    "\n",
    "FCC = ase.lattice.FCC(a=3.8)\n",
    "plot_bz_section(FCC, plane_normal=(0,0,1), plane_origin=(0,0,0), show=True)"
   ]
  },
  {
   "cell_type": "markdown",
   "metadata": {},
   "source": [
    "## k-points\n",
    "`sym_points` provides a quick view of the $k$ values (in $\\AA^{-1}$) of high symmetry points, and optionally the angle required to get to these if measuring along the slit at a specified photon energy "
   ]
  },
  {
   "cell_type": "code",
   "execution_count": null,
   "metadata": {},
   "outputs": [],
   "source": [
    "from peaks.bz.utils import sym_points\n",
    "sym_points(atoms, surface=(0,0,1), hv=21.2)"
   ]
  },
  {
   "cell_type": "markdown",
   "metadata": {},
   "source": [
    "The methods `plot_kpar_cut` and `plot_kz_cut` can be used to append the relevant slices that will be measured to the BZ."
   ]
  },
  {
   "cell_type": "code",
   "execution_count": null,
   "metadata": {},
   "outputs": [],
   "source": [
    "plot_bz(atoms, surface=(0,0,1))\n",
    "ax = plt.gca()\n",
    "pks.plot_kpar_cut(polar=10, defl_perp=4, tilt=5, ax=ax)\n",
    "pks.plot_kpar_cut(polar=5, ax=ax)\n",
    "pks.plot_kpar_cut(polar=20, ax=ax, label_cut=False)"
   ]
  },
  {
   "cell_type": "code",
   "execution_count": null,
   "metadata": {},
   "outputs": [],
   "source": [
    "plot_bz_section(FCC, plane_normal=(1,0,0), plane_origin=(0,0,0), repeat=2)\n",
    "ax=plt.gca()\n",
    "ax.set_xlim(-3,3)\n",
    "ax.set_ylim(0,None)\n",
    "ax.set_aspect('equal')\n",
    "pks.plot_kz_cut(hv=200, V0=15, ax=ax)\n",
    "pks.plot_kz_cut(hv=100, V0=15, ax=ax)\n",
    "pks.plot_kz_cut(hv=80, V0=15, ax=ax)\n",
    "pks.plot_kz_cut(hv=50, V0=15, ax=ax)"
   ]
  },
  {
   "cell_type": "code",
   "execution_count": null,
   "metadata": {},
   "outputs": [],
   "source": []
  }
 ],
 "metadata": {
  "kernelspec": {
   "display_name": "Python 3 (ipykernel)",
   "language": "python",
   "name": "python3"
  },
  "language_info": {
   "codemirror_mode": {
    "name": "ipython",
    "version": 3
   },
   "file_extension": ".py",
   "mimetype": "text/x-python",
   "name": "python",
   "nbconvert_exporter": "python",
   "pygments_lexer": "ipython3",
   "version": "3.12.4"
  }
 },
 "nbformat": 4,
 "nbformat_minor": 4
}
