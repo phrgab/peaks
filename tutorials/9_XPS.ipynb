{
 "cells": [
  {
   "cell_type": "markdown",
   "metadata": {},
   "source": [
    "# XPS utilities\n",
    "\n",
    "Several helper methods exist for XPS measurements, beyond the general [fitting functions](./6_data_fitting.ipynb)."
   ]
  },
  {
   "cell_type": "code",
   "execution_count": null,
   "metadata": {},
   "outputs": [],
   "source": [
    "# Import packages\n",
    "import matplotlib.pyplot as plt\n",
    "import xarray as xr\n",
    "import numpy as np\n",
    "import peaks as pks\n",
    "import os\n",
    "\n",
    "# Set default options\n",
    "xr.set_options(cmap_sequential='Purples', keep_attrs=True)\n",
    "%matplotlib inline\n",
    "%config InlineBackend.figure_format='retina'\n",
    "\n",
    "# Example data\n",
    "from peaks.core.utils.sample_data import ExampleData"
   ]
  },
  {
   "cell_type": "code",
   "execution_count": null,
   "metadata": {},
   "outputs": [],
   "source": [
    "# Load some example data (a TiSe2 sample measured at 200 eV)\n",
    "spectrum = ExampleData.xps().DOS()\n",
    "spectrum.plot()"
   ]
  },
  {
   "cell_type": "markdown",
   "metadata": {},
   "source": [
    "The XPS utilities can be accessed via the `peaks.xps` module."
   ]
  },
  {
   "cell_type": "code",
   "execution_count": null,
   "metadata": {},
   "outputs": [],
   "source": [
    "# Import the xps module\n",
    "from peaks import xps"
   ]
  },
  {
   "cell_type": "markdown",
   "metadata": {},
   "source": [
    "## Core level energies\n",
    "A dictionary of approximate core level binding energies is avaiable in `peaks.xps.CoreLevels.BE`. The data is based on https://userweb.jlab.org/~gwyn/ebindene.html, and no guarantee of accuracy is provided."
   ]
  },
  {
   "cell_type": "code",
   "execution_count": null,
   "metadata": {},
   "outputs": [],
   "source": [
    "xps.CoreLevels.BE['Se']"
   ]
  },
  {
   "cell_type": "markdown",
   "metadata": {},
   "source": [
    "### Lookup by element\n",
    "A quick lookup can by made by element(s). By default, the binding energy is returned, and if a photon energy is passed via the `hv` argument, the corresponding kinetic energy is also given. Optionally, the kinetic energy expected for core levels excited by higher-order light can also be provided by setting the `max_order` argument."
   ]
  },
  {
   "cell_type": "code",
   "execution_count": null,
   "metadata": {},
   "outputs": [],
   "source": [
    "xps.CoreLevels.by_element(['Ti','Se'], hv=200)"
   ]
  },
  {
   "cell_type": "markdown",
   "metadata": {},
   "source": [
    "### Search by energy\n",
    "In addition, core levels can also be searched by binding energy (if no `hv` argument is supplied) or by kinetic energy (if `hv` supplied, also optionally considering higher-order light):"
   ]
  },
  {
   "cell_type": "code",
   "execution_count": null,
   "metadata": {},
   "outputs": [],
   "source": [
    "xps.CoreLevels.by_energy(140, hv=200, tol=1, max_order=2)"
   ]
  },
  {
   "cell_type": "markdown",
   "metadata": {},
   "source": [
    "### Plotting core level energies\n",
    "A helper function allows plotting the expected core level (binding/kinetic) energies. These can be plotted on an existing plot if specified, and optionally limited to a finite energy range. "
   ]
  },
  {
   "cell_type": "code",
   "execution_count": null,
   "metadata": {},
   "outputs": [],
   "source": [
    "spectrum.sel(eV=slice(100,180)).plot()\n",
    "ax=plt.gca()\n",
    "xps.CoreLevels.plot(['Ti','Se'], ax=ax, hv=200, eV=slice(125,175))"
   ]
  },
  {
   "cell_type": "markdown",
   "metadata": {},
   "source": [
    "## Cross sections\n",
    "A :class:`xarray.DataTree` contining core level cross section data from https://vuo.elettra.eu/services/elements/WebElements.html is available in `peaks:xps.CoreLevels.xc`"
   ]
  },
  {
   "cell_type": "code",
   "execution_count": null,
   "metadata": {},
   "outputs": [],
   "source": [
    "xps.CoreLevels.xc.Se['3d'].data.plot(label='Se 3d')\n",
    "xps.CoreLevels.xc.Ti['3s'].data.plot(label='Ti 3s')\n",
    "plt.legend()\n",
    "plt.axvline(200, color='k', linestyle='--')\n",
    "plt.text(210, 0.2, 'hv=200 eV', rotation=90, verticalalignment='bottom', horizontalalignment='left', transform=plt.gca().get_xaxis_transform())"
   ]
  },
  {
   "cell_type": "markdown",
   "metadata": {},
   "source": [
    "Our usual :class:`xarray.DataTree` methods can be used:"
   ]
  },
  {
   "cell_type": "code",
   "execution_count": null,
   "metadata": {},
   "outputs": [],
   "source": [
    "xps.CoreLevels.xc.Se.view()"
   ]
  },
  {
   "cell_type": "code",
   "execution_count": null,
   "metadata": {},
   "outputs": [],
   "source": [
    "xps.CoreLevels.xc.Se.plot_grid()"
   ]
  },
  {
   "cell_type": "markdown",
   "metadata": {},
   "source": [
    "## Interactive view\n",
    "An interactive periodic table view of the core level kinetic/binding energies can also be shown with the `.ptab` accessor. Hover above an element to get some basic information, including the core level energies."
   ]
  },
  {
   "cell_type": "code",
   "execution_count": null,
   "metadata": {},
   "outputs": [],
   "source": [
    "xps.CoreLevels.ptab(hv=200)"
   ]
  },
  {
   "cell_type": "code",
   "execution_count": null,
   "metadata": {},
   "outputs": [],
   "source": []
  }
 ],
 "metadata": {
  "kernelspec": {
   "display_name": "Python 3 (ipykernel)",
   "language": "python",
   "name": "python3"
  },
  "language_info": {
   "codemirror_mode": {
    "name": "ipython",
    "version": 3
   },
   "file_extension": ".py",
   "mimetype": "text/x-python",
   "name": "python",
   "nbconvert_exporter": "python",
   "pygments_lexer": "ipython3",
   "version": "3.12.4"
  }
 },
 "nbformat": 4,
 "nbformat_minor": 4
}
