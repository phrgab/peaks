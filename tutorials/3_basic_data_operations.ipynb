{
 "cells": [
  {
   "cell_type": "markdown",
   "id": "0",
   "metadata": {},
   "source": [
    "# Basic data operations\n",
    "[Standard xarray calls](https://docs.xarray.dev/en/stable/user-guide/indexing.html) can be used for indexing, selecting from, and manipulating the DataArray. "
   ]
  },
  {
   "cell_type": "code",
   "execution_count": null,
   "id": "1",
   "metadata": {},
   "outputs": [],
   "source": [
    "# Import packages\n",
    "import matplotlib.pyplot as plt\n",
    "import xarray as xr\n",
    "import numpy as np\n",
    "import peaks as pks\n",
    "import os\n",
    "\n",
    "# Set default options\n",
    "xr.set_options(cmap_sequential='Purples', keep_attrs=True)\n",
    "%matplotlib inline\n",
    "%config InlineBackend.figure_format='retina'\n",
    "\n",
    "# Get ureg for pints units\n",
    "import pint_xarray\n",
    "ureg = pint_xarray.unit_registry\n",
    "import pint"
   ]
  },
  {
   "cell_type": "code",
   "execution_count": null,
   "id": "2",
   "metadata": {},
   "outputs": [],
   "source": [
    "# Load some example data\n",
    "from peaks.core.utils.sample_data import ExampleData\n",
    "disp1 = ExampleData.dispersion()\n",
    "dt = xr.DataTree()\n",
    "dt.add(ExampleData.dispersion(), name='disp1')\n",
    "dt.add(ExampleData.gold_reference(), name = 'gold')"
   ]
  },
  {
   "cell_type": "markdown",
   "id": "3",
   "metadata": {},
   "source": [
    "Basic arithmetic operations are supported. However, be careful to treat units properly using :class:`pint`, with the unit registry accessible as `pks.ureg`. For example, to subtract a constant from a :class:`xarray.DataArray`: "
   ]
  },
  {
   "cell_type": "code",
   "execution_count": null,
   "id": "4",
   "metadata": {},
   "outputs": [],
   "source": [
    "(disp1-(2*pks.ureg('count/s'))).plot()"
   ]
  },
  {
   "cell_type": "markdown",
   "id": "5",
   "metadata": {},
   "source": [
    "## Summing and subtracting data\n",
    "To sum two or more scans together, use `pks.sum_data(data_to_sum)` where `data_to_sum` is a list of the :class:`xarray.DataArray`s to sum together. `.sum_data` can also be called directly on a :class:`xarray.DataTree` to sum all leaf nodes of the tree. \n",
    "\n",
    ":::{admonition} Mismatched co-ordinates and metadata\n",
    ":class: warning\n",
    "\n",
    "While you can sum or subtract two DataArrays using simple arithmetic operations, often the underlying :class:`xarray.DataArray`s may have small numerical differences in the relevant scales, and will have different metadata. For this reason, and to maintain a transparent analysis history record, it is recommended to use the built in `peaks` functions. Data will be interpolated onto exactly the same data grid, although you should in general only pass :class:`xarray.DataArray`s which are already measured on nominally the same grid.\n",
    ":::"
   ]
  },
  {
   "cell_type": "code",
   "execution_count": null,
   "id": "6",
   "metadata": {},
   "outputs": [],
   "source": [
    "sum_scan = dt.sum_data()"
   ]
  },
  {
   "cell_type": "markdown",
   "id": "7",
   "metadata": {},
   "source": [
    "A similar method, `subtract_data`, exists to subtract two scans. Note, in this case, a list of 2 scans should be passed, or `.subtract_data` should be called on a :class:`xarray.DataTree` with only two leaf nodes containing data. Warnings of mismatched metadata can also be suppressed via the `quiet=` flag."
   ]
  },
  {
   "cell_type": "code",
   "execution_count": null,
   "id": "8",
   "metadata": {},
   "outputs": [],
   "source": [
    "diff_scan = dt.subtract_data(quiet=True)"
   ]
  },
  {
   "cell_type": "code",
   "execution_count": null,
   "id": "9",
   "metadata": {},
   "outputs": [],
   "source": [
    "pks.plot_grid([sum_scan,diff_scan], titles=['Sum','Difference'])"
   ]
  },
  {
   "cell_type": "markdown",
   "id": "10",
   "metadata": {},
   "source": [
    "## Selecting from data\n",
    "Data can be selected using `.sel` and averaged using `.mean`:"
   ]
  },
  {
   "cell_type": "code",
   "execution_count": null,
   "id": "11",
   "metadata": {},
   "outputs": [],
   "source": [
    "disp1.sel(theta_par=slice(-10,-8)).mean('theta_par').plot()"
   ]
  },
  {
   "cell_type": "markdown",
   "id": "12",
   "metadata": {},
   "source": [
    "It is also possible to select with [unit-full indexing](https://xarray.dev/blog/introducing-pint-xarray) using `pint-xarray`, passing the units as either `pint.Unit`s or via the unit-registry"
   ]
  },
  {
   "cell_type": "code",
   "execution_count": null,
   "id": "13",
   "metadata": {},
   "outputs": [],
   "source": [
    "disp1.pint.sel(theta_par=slice(-0.3*pks.ureg.radians,0)).plot()"
   ]
  },
  {
   "cell_type": "markdown",
   "id": "14",
   "metadata": {},
   "source": [
    ":::{admonition}Broadcasting across DataTrees\n",
    ":class: tip\n",
    "\n",
    "Many of the in-built :class:`xarray.DataArray` methods, as well a significant number of the `peaks` data selection and processing functions will broadcast when applied to a :class:`xarray.DataTree`, returning another :class:`xarray.DataTree` with the relevant function applied. This can be useful for batch processing of data. Some examples are given below.\n",
    ":::"
   ]
  },
  {
   "cell_type": "markdown",
   "id": "15",
   "metadata": {},
   "source": [
    "### EDC and MDC extraction\n",
    "Helper functions exist for quick extraction of one or an array of EDCs and MDCs, including optional integration. These can be applied directly to :class:`xarray.DataArrays`"
   ]
  },
  {
   "cell_type": "code",
   "execution_count": null,
   "id": "16",
   "metadata": {},
   "outputs": [],
   "source": [
    "disp1.EDC(-9, 1).plot()"
   ]
  },
  {
   "cell_type": "markdown",
   "id": "17",
   "metadata": {},
   "source": [
    "Or can be applied to a :class:`xarray.DataTree` to return a new :class:`xarray.DataTree` with the same DC extracted from each scan "
   ]
  },
  {
   "cell_type": "code",
   "execution_count": null,
   "id": "18",
   "metadata": {},
   "outputs": [],
   "source": [
    "dt.MDC(105.08,0.05).plot_DCs(x='theta_par')"
   ]
  },
  {
   "cell_type": "markdown",
   "id": "19",
   "metadata": {},
   "source": [
    "Multiple DCs can be extracted from a single scan"
   ]
  },
  {
   "cell_type": "code",
   "execution_count": null,
   "id": "20",
   "metadata": {},
   "outputs": [],
   "source": [
    "MDCs = disp1.MDC([104.8,104.95,105.05],0.01)\n",
    "pks.plot_DCs(MDCs, titles=['1','2','3'])  # Plot the extracted DCs"
   ]
  },
  {
   "cell_type": "markdown",
   "id": "21",
   "metadata": {},
   "source": [
    "The DC-type methods can be applied to higher-dimensional data, e.g. to extract a Fermi surface:"
   ]
  },
  {
   "cell_type": "code",
   "execution_count": null,
   "id": "22",
   "metadata": {},
   "outputs": [],
   "source": [
    "FS1 = ExampleData.FS()\n",
    "FS1.MDC(105.05,0.02).plot()"
   ]
  },
  {
   "cell_type": "markdown",
   "id": "23",
   "metadata": {},
   "source": [
    ":::{tip}\n",
    "The function `.DC` is the underlying function called by the `MDC` and `EDC` methods. This can be called directly, allowing EDC and MDC-like functionality to be applied to extract a slice along any dimension from a :class:`xarray.DataArray` with arbitrary dimensions.\n",
    ":::"
   ]
  },
  {
   "cell_type": "markdown",
   "id": "24",
   "metadata": {},
   "source": [
    "### Extracting arbitrary cuts\n",
    "For extraction of a single cut between a single start and end point (MDCs, dispersions, or in principle any slice of an arbitrary dimensional array between start and end points defined in two dimensions), the `.extract_cut` method can be used."
   ]
  },
  {
   "cell_type": "code",
   "execution_count": null,
   "id": "25",
   "metadata": {},
   "outputs": [],
   "source": [
    "# Extract a dispersion from a FS data cube\n",
    "cut = FS1.extract_cut(start_point={'theta_par':0, 'polar': 1.5},\n",
    "                          end_point={'theta_par':15, 'polar': 1.5})\n",
    "cut.plot()"
   ]
  },
  {
   "cell_type": "code",
   "execution_count": null,
   "id": "26",
   "metadata": {},
   "outputs": [],
   "source": [
    "# Extract an arbitrary cut from an energy slice\n",
    "FSM = FS1.MDC(105.067, 0.01)\n",
    "# Extract the MDC between the same start and end points as above\n",
    "FSM.extract_cut(start_point={'theta_par':0, 'polar': 1.5},\n",
    "                          end_point={'theta_par':15, 'polar': 1.5}).plot()"
   ]
  },
  {
   "cell_type": "markdown",
   "id": "27",
   "metadata": {},
   "source": [
    "### Radial cuts\n",
    "A special helper function, `.radial_cuts`, exists to take a series of these cuts as radial cuts of some radius around a single point"
   ]
  },
  {
   "cell_type": "code",
   "execution_count": null,
   "id": "28",
   "metadata": {},
   "outputs": [],
   "source": [
    "cuts = FSM.radial_cuts(radius=20,  # radius of the cuts\n",
    "                       polar=1.5,  # centre co-ordinates\n",
    "                       num_points=100)\n",
    "pks.plot_grid([FSM,cuts],\n",
    "             titles=[\"FS\",\"Radial cuts\"])"
   ]
  },
  {
   "cell_type": "markdown",
   "id": "29",
   "metadata": {},
   "source": [
    "The `.radial_cuts` can be used on any :class:`xrray.DataArray` which has two angle or momentum directions (which are assumed to have the same units). If an energy dimension is also present, the interpolation will be broadcast over the energy dimension."
   ]
  },
  {
   "cell_type": "code",
   "execution_count": null,
   "id": "30",
   "metadata": {},
   "outputs": [],
   "source": [
    "# Now passing the full 3D array\n",
    "ang_slices = FS1.radial_cuts(radius=15,  # radius of the cuts\n",
    "                       polar=1.5,  # centre co-ordinates\n",
    "                       num_points=201)\n",
    "\n",
    "# Select a single azimuth value to plot\n",
    "ang_slices.isel(azi=15).plot()"
   ]
  },
  {
   "cell_type": "markdown",
   "id": "31",
   "metadata": {},
   "source": [
    ":::{note}\n",
    "In principle, these function will accept :class:`xarray.DataArray`'s backed by :class:`dask.array.core.Array` arrays. This appears to work for the `.extract_cut` function above, however, appears unstable at present for `.radial_cuts` and requires further testing. In case of problems, it is currently recommended to run `.compute()` before passing to the `.radial_cuts` function.\n",
    ":::"
   ]
  },
  {
   "cell_type": "code",
   "execution_count": null,
   "id": "32",
   "metadata": {},
   "outputs": [],
   "source": []
  }
 ],
 "metadata": {
  "kernelspec": {
   "display_name": "Python 3 (ipykernel)",
   "language": "python",
   "name": "python3"
  },
  "language_info": {
   "codemirror_mode": {
    "name": "ipython",
    "version": 3
   },
   "file_extension": ".py",
   "mimetype": "text/x-python",
   "name": "python",
   "nbconvert_exporter": "python",
   "pygments_lexer": "ipython3",
   "version": "3.12.4"
  }
 },
 "nbformat": 4,
 "nbformat_minor": 5
}
