{
 "cells": [
  {
   "cell_type": "markdown",
   "id": "0",
   "metadata": {},
   "source": [
    "# Pump probe data\n",
    ":class:`peaks` has basic capability for handling time-resolved data from pump-probe experiments. This was developed for time-resolved ARPES, but can be applied to other similar stroboscopic data."
   ]
  },
  {
   "cell_type": "code",
   "execution_count": null,
   "id": "1",
   "metadata": {},
   "outputs": [],
   "source": [
    "# Import packages\n",
    "import matplotlib.pyplot as plt\n",
    "import xarray as xr\n",
    "import numpy as np\n",
    "import peaks as pks\n",
    "import os\n",
    "import pint_xarray\n",
    "\n",
    "# Set default options\n",
    "xr.set_options(cmap_sequential='Purples', keep_attrs=True)\n",
    "%matplotlib inline\n",
    "%config InlineBackend.figure_format='retina'\n",
    "\n",
    "# Example data\n",
    "from peaks.core.utils.sample_data import ExampleData, plot_tutorial_example_figure"
   ]
  },
  {
   "cell_type": "markdown",
   "id": "2",
   "metadata": {},
   "source": [
    "## Loading data\n",
    "Loading data works like usual"
   ]
  },
  {
   "cell_type": "code",
   "execution_count": null,
   "id": "3",
   "metadata": {},
   "outputs": [],
   "source": [
    "# Load some data as normal\n",
    "data = ExampleData.tr_arpes()"
   ]
  },
  {
   "cell_type": "markdown",
   "id": "4",
   "metadata": {},
   "source": [
    "Now there is an additional `pump` attribute in the metadata"
   ]
  },
  {
   "cell_type": "code",
   "execution_count": null,
   "id": "5",
   "metadata": {},
   "outputs": [],
   "source": [
    "data.metadata.pump"
   ]
  },
  {
   "cell_type": "markdown",
   "id": "6",
   "metadata": {},
   "source": [
    "## Plotting data\n",
    "The core data is returned as a single :class:`xarray.DataArray`, with a time dimension `t`, and a secondary dimension to the time dimension that encodes the actual delay line position. The data can be inspected using usual :class:`xarray` or :class:`peaks` methods. E.g. to view an interactive display, use `.disp()`:"
   ]
  },
  {
   "cell_type": "code",
   "execution_count": null,
   "id": "7",
   "metadata": {},
   "outputs": [],
   "source": [
    "# Static view of the Display Panel for the documentation\n",
    "plot_tutorial_example_figure(\"TR-ARPES_disp.png\", figsize=(12,8))"
   ]
  },
  {
   "cell_type": "markdown",
   "id": "8",
   "metadata": {},
   "source": [
    "Or a quick animation can be made with `.iplot()`:"
   ]
  },
  {
   "cell_type": "code",
   "execution_count": null,
   "id": "9",
   "metadata": {},
   "outputs": [],
   "source": [
    "data.iplot(y='eV', x='theta_par',\n",
    "            cmap='Blues',\n",
    "            widget_type='scrubber',\n",
    "            widget_location='bottom',)"
   ]
  },
  {
   "cell_type": "markdown",
   "id": "10",
   "metadata": {},
   "source": [
    "Regular `peaks` selection functions work, and `pint_xarray` can be used for helpful unit conversions"
   ]
  },
  {
   "cell_type": "code",
   "execution_count": null,
   "id": "11",
   "metadata": {},
   "outputs": [],
   "source": [
    "data.MDC(32.8,0.1).sel(t=slice(-500,2000)).pint.to({'t': 'ps'}).plot()\n",
    "plt.axhline(0)  # Current t0\n",
    "plt.axhline(-0.12, ls='--')  # Rough estimate of new t0"
   ]
  },
  {
   "cell_type": "markdown",
   "id": "12",
   "metadata": {},
   "source": [
    "## `.tr` accessor\n",
    "To access `peaks` methods for handling time-resolved data, import the `time_resolved` module. The relevant accessors can then be accessed via the `.tr` handle"
   ]
  },
  {
   "cell_type": "code",
   "execution_count": null,
   "id": "13",
   "metadata": {},
   "outputs": [],
   "source": [
    "from peaks import time_resolved"
   ]
  },
  {
   "cell_type": "markdown",
   "id": "14",
   "metadata": {},
   "source": [
    "### Setting $t_0$\n",
    "The helper method `.set_t0` allows setting a new $t_0$ by passing the time from the current data that should correspond to the true $t_0$. This sets a new delay line position, and recalculates the delay time dimension. \n",
    "\n",
    ":::{tip}\n",
    "It is recommended to pass a :class:`pint.Quantity` for full handling of units. If a float is passed, it will attempt to parse the units from the base units of the $t$ dimension. Note, however, for the current :class:`xarray.DataArray` this is fs, not ps as may appear from the graph above, as that was converted to ps for the plot.\n",
    ":::"
   ]
  },
  {
   "cell_type": "code",
   "execution_count": null,
   "id": "15",
   "metadata": {},
   "outputs": [],
   "source": [
    "data.metadata.pump.t0_position"
   ]
  },
  {
   "cell_type": "code",
   "execution_count": null,
   "id": "16",
   "metadata": {},
   "outputs": [],
   "source": [
    "data.tr.set_t0(-120*pks.ureg('fs'))"
   ]
  },
  {
   "cell_type": "code",
   "execution_count": null,
   "id": "17",
   "metadata": {},
   "outputs": [],
   "source": [
    "data.metadata.pump.t0_position"
   ]
  },
  {
   "cell_type": "code",
   "execution_count": null,
   "id": "18",
   "metadata": {},
   "outputs": [],
   "source": [
    "data.MDC(32.8,0.1).sel(t=slice(-500,2000)).pint.to({'t': 'ps'}).plot()\n",
    "plt.axhline(0)  # New t0"
   ]
  },
  {
   "cell_type": "markdown",
   "id": "19",
   "metadata": {},
   "source": [
    "Alternatively, to set the stage position that corresponds to $t_0$ (useful for setting this e.g. across multiple scans), you can pass a position in mm:"
   ]
  },
  {
   "cell_type": "code",
   "execution_count": null,
   "id": "20",
   "metadata": {},
   "outputs": [],
   "source": [
    "data.tr.set_t0(5.98901245252*pks.ureg('mm'))"
   ]
  },
  {
   "cell_type": "markdown",
   "id": "21",
   "metadata": {},
   "source": [
    "Or you can use the `set_t0_like` method to set $t_0$ by passing another scan which has already been calibrated"
   ]
  },
  {
   "cell_type": "code",
   "execution_count": null,
   "id": "22",
   "metadata": {},
   "outputs": [],
   "source": [
    "data2 = ExampleData.tr_arpes2()\n",
    "data2.tr.set_t0_like(data)"
   ]
  },
  {
   "cell_type": "markdown",
   "id": "23",
   "metadata": {},
   "source": [
    ":::{admonition} Artemis file loader - measurement stats\n",
    ":class: tip\n",
    "\n",
    "Note the warning above regarding the temperature drift during the scan. This data was loaded using the Artemis Phiobos loader, which checks for temperature drift during the scan and provides a warning. There is a helper function built into the loader to plot the temperature variation as well as the measurement stats variation during the scan. This returns a :class:`xarray.Dataset` with the measurement statistics and temperature as variables `stats` and `temperature` respectively. \n",
    "\n",
    "To use this, you need to import the loader class itself:\n",
    "\n",
    "```python\n",
    "# Import the loader (see hint in the warning note)\n",
    "from peaks.core.fileIO.loaders.clf import ArtemisPhoibos\n",
    "\n",
    "# Load the stats - note you need to provide the full path; the peaks.opts settings do not work here\n",
    "stats = ArtemisPhoibos.load_stats(\"example_artemis_stats/\")\n",
    "\n",
    "# Plot the stats\n",
    "fig, ax = plt.subplots(ncols=2, figsize=(9,4))\n",
    "stats.temperature.plot(ax=ax[0])\n",
    "ax[0].set_title('Temperature variation')\n",
    "stats.stats.plot(ax=ax[1])\n",
    "ax[1].set_title('Measurement stats variation')\n",
    "plt.tight_layout()\n",
    "```\n",
    ":::"
   ]
  },
  {
   "cell_type": "markdown",
   "id": "24",
   "metadata": {},
   "source": [
    "`.assign_t0()` can be used to assign a new $t_0$ value, returning a new :class:`xarray.DataArray`, rather than updating the existing :class:`xarray.DataArray` in place.  "
   ]
  },
  {
   "cell_type": "code",
   "execution_count": null,
   "id": "25",
   "metadata": {},
   "outputs": [],
   "source": [
    "data2 = data.tr.assign_t0(-2000*pks.ureg('fs'))\n",
    "print(data2.metadata.pump.t0_position == data.metadata.pump.t0_position)"
   ]
  },
  {
   "cell_type": "markdown",
   "id": "26",
   "metadata": {},
   "source": [
    "### Selecting data\n",
    "Accessor methods exist to quickly perform some common data selections:\n",
    "\n",
    "- `.mean()`: Mean over all times\n",
    "- `.static()`: Mean of data from before a certain time, which can be supplied as an option (defaults to -250 fs)\n",
    "- `.diff()`: Difference between data measured at a certain delay time, or within a time window, and static data\n",
    "\n",
    "Relevant times are again recommended to be passed with units, but will attempt to parse the current axis units if supplied as floats."
   ]
  },
  {
   "cell_type": "code",
   "execution_count": null,
   "id": "27",
   "metadata": {},
   "outputs": [],
   "source": [
    "# Find relevant regions\n",
    "data.MDC(32.8,0.1).pint.sel(t=slice(-500*pks.ureg('fs'),2000*pks.ureg.fs)).plot()\n",
    "plt.axhspan(data.t.min(),-150, alpha=0.1)\n",
    "plt.text(12, -400, 'Static', ha='center')\n",
    "plt.axhspan(50,150, alpha=0.2, color='r')\n",
    "plt.text(12, 60, 'Excited', ha='center')\n",
    "plt.show()"
   ]
  },
  {
   "cell_type": "code",
   "execution_count": null,
   "id": "28",
   "metadata": {},
   "outputs": [],
   "source": [
    "mean_data = data.tr.mean()\n",
    "static_data = data.tr.static(t_static=-0.15*pks.ureg('ps'))\n",
    "excited_data = data.sel(t=slice(50,150)).mean('t')\n",
    "diff_data = data.tr.diff(t_select=slice(0.05*pks.ureg('ps'),150*pks.ureg('fs')), t_static=-150*pks.ureg.fs)"
   ]
  },
  {
   "cell_type": "code",
   "execution_count": null,
   "id": "29",
   "metadata": {},
   "outputs": [],
   "source": [
    "pks.plot_grid([mean_data, static_data, excited_data, diff_data],\n",
    "              titles = ['Mean', 'Static [<-100 fs]', 'Excited: 100$\\\\pm$50 fs', 'Diff: 100$\\\\pm$50 fs - static'],\n",
    "              ncols=4,\n",
    "              sharey=True\n",
    "             )"
   ]
  },
  {
   "cell_type": "markdown",
   "id": "30",
   "metadata": {},
   "source": [
    "If calling `.diff()` with `t_select=None` (the default argument), the static spectrum is subtracted from all data in the cube"
   ]
  },
  {
   "cell_type": "code",
   "execution_count": null,
   "id": "31",
   "metadata": {},
   "outputs": [],
   "source": [
    "diff_all = data.tr.diff()\n",
    "diff_all.MDC(32.4, 0.1).plot()"
   ]
  },
  {
   "cell_type": "markdown",
   "id": "32",
   "metadata": {},
   "source": [
    "## Batch processing\n",
    "These function, both for setting $t_0$ and for selecting from the data, can be applied to :class:`xarray.DataTree`s to faciliate batch processing."
   ]
  },
  {
   "cell_type": "code",
   "execution_count": null,
   "id": "33",
   "metadata": {},
   "outputs": [],
   "source": [
    "dt = xr.DataTree()\n",
    "dt.add(ExampleData.tr_arpes())\n",
    "dt.add(ExampleData.tr_arpes2())"
   ]
  },
  {
   "cell_type": "code",
   "execution_count": null,
   "id": "34",
   "metadata": {},
   "outputs": [],
   "source": [
    "dt.tr.diff(200).plot_grid()"
   ]
  }
 ],
 "metadata": {
  "kernelspec": {
   "display_name": "Python 3 (ipykernel)",
   "language": "python",
   "name": "python3"
  },
  "language_info": {
   "codemirror_mode": {
    "name": "ipython",
    "version": 3
   },
   "file_extension": ".py",
   "mimetype": "text/x-python",
   "name": "python",
   "nbconvert_exporter": "python",
   "pygments_lexer": "ipython3",
   "version": "3.12.4"
  }
 },
 "nbformat": 4,
 "nbformat_minor": 5
}
