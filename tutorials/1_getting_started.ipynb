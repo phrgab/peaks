{
 "cells": [
  {
   "cell_type": "markdown",
   "id": "421a7d9f3f8a2371",
   "metadata": {},
   "source": [
    "# Tutorial 1: Getting started\n",
    "\n",
    "`peaks` is a collection of analysis tools for the loading, processing and display of spectroscopic and diffraction data, with a core focus on tools for angle-resolved photoemission, LEED, RHEED, and some other related techniques. It also includes various functions for efficient log keeping.\n",
    "\n",
    "This tutorial gives a brief getting started guide, including on loading and visualising data."
   ]
  },
  {
   "cell_type": "markdown",
   "id": "61a018b5-fda6-41b3-ba65-b82ebc448a55",
   "metadata": {},
   "source": [
    "## Importing `peaks`\n",
    "The recommended way to import peaks is: "
   ]
  },
  {
   "cell_type": "code",
   "execution_count": 9,
   "id": "18ace15b40fb2c68",
   "metadata": {},
   "outputs": [],
   "source": [
    "import peaks as pks"
   ]
  },
  {
   "cell_type": "markdown",
   "id": "79cc1aa5-1815-4482-9fff-93e901be5262",
   "metadata": {},
   "source": [
    "In addition to the functions available under `pks`, this also adds a number of accessors directly to `:class:xarray` objects, making it easier to apply the methods to the relevant `:class:xarray` objects."
   ]
  },
  {
   "cell_type": "markdown",
   "id": "a7123211-08e3-4957-901f-178840919a62",
   "metadata": {},
   "source": [
    "A more minimal set of functions can be imported from the core module, e.g.:"
   ]
  },
  {
   "cell_type": "code",
   "execution_count": 8,
   "id": "5e15d217-7cd7-456e-9170-7b2481858c91",
   "metadata": {},
   "outputs": [],
   "source": [
    "import peaks.core as pks"
   ]
  },
  {
   "cell_type": "markdown",
   "id": "01578b74-7397-4d76-b19a-5f85f4cdc7ae",
   "metadata": {},
   "source": [
    "This is useful if you did not install all the custom dependencies, e.g. for machine learning analysis or other custom functionality.\n",
    "\n",
    "It is often useful to also import a number of other related packages. In addition, it can be useful to set some [global options](https://docs.xarray.dev/en/stable/generated/xarray.set_options.html#xarray.set_options) for `:class:xarray` and e.g. `:class:matplotlib`. A complete import may therefore look like, e.g.:"
   ]
  },
  {
   "cell_type": "code",
   "execution_count": 10,
   "id": "e64c9319-f2c2-40a3-9196-5ac774054025",
   "metadata": {},
   "outputs": [],
   "source": [
    "# Import packages\n",
    "import matplotlib.pyplot as plt\n",
    "import xarray as xr\n",
    "import numpy as np\n",
    "import peaks as pks\n",
    "\n",
    "# Set default options\n",
    "xr.set_options(cmap_sequential='Purples', keep_attrs=True)\n",
    "%matplotlib inline\n",
    "%config InlineBackend.figure_format='retina'"
   ]
  },
  {
   "cell_type": "code",
   "execution_count": null,
   "id": "04e04604-b3d8-4525-97ae-77b104aa5b31",
   "metadata": {},
   "outputs": [],
   "source": []
  },
  {
   "cell_type": "code",
   "execution_count": 7,
   "id": "965cff4c-cf18-4f0d-b3e2-7a956a84264d",
   "metadata": {},
   "outputs": [
    {
     "ename": "TypeError",
     "evalue": "ML_pre_proc() missing 1 required positional argument: 'data'",
     "output_type": "error",
     "traceback": [
      "\u001b[0;31m---------------------------------------------------------------------------\u001b[0m",
      "\u001b[0;31mTypeError\u001b[0m                                 Traceback (most recent call last)",
      "Cell \u001b[0;32mIn[7], line 1\u001b[0m\n\u001b[0;32m----> 1\u001b[0m a \u001b[38;5;241m=\u001b[39m \u001b[43mpks\u001b[49m\u001b[38;5;241;43m.\u001b[39;49m\u001b[43mML_pre_proc\u001b[49m\u001b[43m(\u001b[49m\u001b[43m)\u001b[49m\n",
      "\u001b[0;31mTypeError\u001b[0m: ML_pre_proc() missing 1 required positional argument: 'data'"
     ]
    }
   ],
   "source": [
    "a = pks.ML_pre_proc()"
   ]
  },
  {
   "cell_type": "code",
   "execution_count": null,
   "id": "5ddbfbc7-b48c-4a8a-95a9-33f356d70f1c",
   "metadata": {},
   "outputs": [],
   "source": [
    "print(1)"
   ]
  },
  {
   "cell_type": "code",
   "execution_count": null,
   "id": "6517de82-c58c-4750-a479-f419156f8681",
   "metadata": {},
   "outputs": [],
   "source": []
  }
 ],
 "metadata": {
  "kernelspec": {
   "display_name": "Python 3 (ipykernel)",
   "language": "python",
   "name": "python3"
  },
  "language_info": {
   "codemirror_mode": {
    "name": "ipython",
    "version": 3
   },
   "file_extension": ".py",
   "mimetype": "text/x-python",
   "name": "python",
   "nbconvert_exporter": "python",
   "pygments_lexer": "ipython3",
   "version": "3.12.4"
  }
 },
 "nbformat": 4,
 "nbformat_minor": 5
}
