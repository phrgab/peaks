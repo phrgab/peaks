{
 "cells": [
  {
   "cell_type": "code",
   "execution_count": 1,
   "id": "ee08826b-bea2-4709-b69f-99b3255edc3e",
   "metadata": {},
   "outputs": [],
   "source": [
    "%load_ext autoreload\n",
    "%autoreload 2\n",
    "%aimport peaks"
   ]
  },
  {
   "cell_type": "markdown",
   "id": "421a7d9f3f8a2371",
   "metadata": {},
   "source": [
    "# Introduction \n",
    "\n",
    "`peaks` is a collection of analysis tools for the loading, processing and display of spectroscopic and diffraction data, with a core focus on tools for angle-resolved photoemission, LEED, RHEED, and some other related techniques. It also includes various functions for efficient log keeping. \n",
    "\n",
    ":::{tip}\n",
    "`peaks` builds heavily on :class:`xarray`. The user is *strongly* recommended to consult the extensive documentation and tutorials available on the [xarray website](https://docs.xarray.dev/en/stable/). \n",
    "::: \n",
    "\n",
    "These user guides give a brief introduction to the use of `peaks`. More extensive documentation and examples can be accessed via the docstrings of the relevant functions. \n",
    "\n",
    ":::{tip}\n",
    "The docstrings of the relevant `peaks` functions can be viewed in the [package documentation](https://research.st-andrews.ac.uk/kinggroup/peaks/_apidoc/peaks.html), or accessed in the notebook by calling help on the relevant function, e.g.:\n",
    "```python\n",
    "help(pks.load)\n",
    "```\n",
    "or using the `?` shortcut:\n",
    "```\n",
    "pks.load?\n",
    "```\n",
    "In Jupyter Lab, pressing `TAB` will bring some auto-complete options, while `SHIFT`-`TAB` can be used to show the expected function arguments.\n",
    "\n",
    "A quick look at the source code can be achieved using `??`, e.g.:\n",
    "```\n",
    "pks.load??\n",
    "```\n",
    ":::"
   ]
  },
  {
   "cell_type": "markdown",
   "id": "61a018b5-fda6-41b3-ba65-b82ebc448a55",
   "metadata": {},
   "source": [
    "## Importing `peaks`\n",
    "The recommended way to import peaks is: "
   ]
  },
  {
   "cell_type": "code",
   "execution_count": 2,
   "id": "18ace15b40fb2c68",
   "metadata": {
    "ExecuteTime": {
     "end_time": "2024-10-21T08:59:00.638093Z",
     "start_time": "2024-10-21T08:59:00.622944Z"
    }
   },
   "outputs": [],
   "source": [
    "import peaks as pks"
   ]
  },
  {
   "cell_type": "markdown",
   "id": "a7123211-08e3-4957-901f-178840919a62",
   "metadata": {},
   "source": [
    "This loads a set of core functions (mostly from `peaks.core` and `peaks.utils`) into the `pks` namespace, and adds several functions as accessors to the relevant :class:`xarray` objects.\n",
    "\n",
    "It is often useful to also import a number of other related packages. In addition, it can be useful to set some [global options](https://docs.xarray.dev/en/stable/generated/xarray.set_options.html#xarray.set_options) for [`xarray`](xarray) and e.g. [`matplotlib`](matplotlib). A complete import may therefore look like, e.g.:"
   ]
  },
  {
   "cell_type": "code",
   "execution_count": 3,
   "id": "e64c9319-f2c2-40a3-9196-5ac774054025",
   "metadata": {
    "ExecuteTime": {
     "end_time": "2024-10-21T08:59:01.576132Z",
     "start_time": "2024-10-21T08:59:00.839114Z"
    }
   },
   "outputs": [],
   "source": [
    "# Import packages\n",
    "import matplotlib.pyplot as plt\n",
    "import xarray as xr\n",
    "import numpy as np\n",
    "import peaks as pks\n",
    "import os\n",
    "\n",
    "# Set default options\n",
    "xr.set_options(cmap_sequential='Purples', keep_attrs=True)\n",
    "%matplotlib inline\n",
    "%config InlineBackend.figure_format='retina'"
   ]
  },
  {
   "cell_type": "markdown",
   "id": "2a822ef6-596b-498c-ab5b-c8a2e0f3a20b",
   "metadata": {},
   "source": [
    ":::{tip}\n",
    "You may find it useful to include the above in an IPython startup script, so that this is pre-loaded each time you start a new notebook (or any IPython session) from this environment. \n",
    "\n",
    "Locate the IPython Profile Directory:\n",
    "```python\n",
    "import IPython\n",
    "IPython.paths.locate_profile()\n",
    "```\n",
    "\n",
    "This will give you the path to the default profile directory, typically something like `/home/username/.ipython/profile_default`. Within the `starup` directory of the above profile directory, place one or more python files defining the scripts you want to run.  These are executed in alphabetical order, so if you have multiple scripts, you can control the order of execution by naming them accordingly, like `00-script.py`, `01-script.py`, ...\n",
    "\n",
    "E.g. to reproduce the above, make a file e.g. `00-startup.py` as:\n",
    "```python\n",
    "# Import packages\n",
    "import matplotlib.pyplot as plt\n",
    "import xarray as xr\n",
    "import numpy as np\n",
    "import peaks as pks\n",
    "import os\n",
    "\n",
    "# Set default xarray options\n",
    "xr.set_options(cmap_sequential='Purples', keep_attrs=True)\n",
    "\n",
    "# Get the IPython interactive shell\n",
    "from IPython import get_ipython\n",
    "ipython = get_ipython()\n",
    "\n",
    "# Run the notebook magic commands\n",
    "ipython.run_line_magic('matplotlib', 'inline')\n",
    "ipython.run_line_magic('config', \"InlineBackend.figure_format='retina'\")\n",
    "```\n",
    "Note the different way that the jupyter magics must be run here. This should now be run the next time you launch an IPython session.\n",
    ":::"
   ]
  },
  {
   "cell_type": "markdown",
   "id": "0165ca1f-ee40-45a9-9c97-ec5cc60b5893",
   "metadata": {},
   "source": [
    "## Loading data\n",
    "\n",
    ":::{tip}\n",
    "If running this notebook locally, put the path to the example data folder here\n",
    ":::"
   ]
  },
  {
   "cell_type": "code",
   "execution_count": 4,
   "id": "7ad66ca4-1d6a-48e7-8a4f-7b0fa88a47c1",
   "metadata": {
    "ExecuteTime": {
     "end_time": "2024-10-21T08:59:01.600607Z",
     "start_time": "2024-10-21T08:59:01.583478Z"
    }
   },
   "outputs": [],
   "source": [
    "# File path of the example data\n",
    "fpath = os.getenv('PEAKS_EXAMPLE_DATA_PATH')"
   ]
  },
  {
   "cell_type": "markdown",
   "id": "5a24329b-45ae-4f77-bd3d-0724dac2ccbc",
   "metadata": {},
   "source": [
    "Load data using the `load` function. `peaks` attempts to identify the relevant data source (beamline, lab system, etc.) automatically, although it can be manually specified with the `loc=` option. \n",
    "\n",
    ":::{tip}\n",
    "To see available `loc` options, call:\n",
    "\n",
    "```python\n",
    "pks.locs()\n",
    "```\n",
    ":::"
   ]
  },
  {
   "cell_type": "markdown",
   "id": "38efc860-e36f-4471-8615-f484de7f2994",
   "metadata": {},
   "source": [
    "A single file can be loaded specifying the full path:"
   ]
  },
  {
   "cell_type": "code",
   "execution_count": 5,
   "id": "78ac67db-d295-4bba-9980-3bf28150c198",
   "metadata": {
    "ExecuteTime": {
     "end_time": "2024-10-21T08:59:02.174792Z",
     "start_time": "2024-10-21T08:59:01.612913Z"
    }
   },
   "outputs": [],
   "source": [
    "disp1 = pks.load(os.path.join(fpath,'i05-59819.nxs'))"
   ]
  },
  {
   "cell_type": "markdown",
   "id": "384e67ef-4faa-4826-a86c-141380fe6c5c",
   "metadata": {},
   "source": [
    "### Setting default fileIO options"
   ]
  },
  {
   "cell_type": "markdown",
   "id": "ed158a08-c43d-4ec4-b163-38bc9aa72d35",
   "metadata": {},
   "source": [
    "To ease loading of data and provide a cleaner syntax, the file path (optionally including the first part of the file name) and optionally also the file extension and location identifier can be specified using `peaks` options, `pks.opts`. To show currently set options for FileIO: "
   ]
  },
  {
   "cell_type": "code",
   "execution_count": 6,
   "id": "52a235e9-f46e-419b-b7bf-254d6ff7a626",
   "metadata": {
    "ExecuteTime": {
     "end_time": "2024-10-21T08:59:02.219599Z",
     "start_time": "2024-10-21T08:59:02.201355Z"
    }
   },
   "outputs": [
    {
     "data": {
      "text/plain": [
       "\u001b[32mpath\u001b[0m: \u001b[30mNone\u001b[0m\n",
       "\u001b[32mext\u001b[0m: \u001b[30mNone\u001b[0m\n",
       "\u001b[32mloc\u001b[0m: \u001b[30mNone\u001b[0m\n",
       "\u001b[32mlazy_size\u001b[0m: \u001b[30m1000000000\u001b[0m"
      ]
     },
     "execution_count": 6,
     "metadata": {},
     "output_type": "execute_result"
    }
   ],
   "source": [
    "pks.opts.FileIO"
   ]
  },
  {
   "cell_type": "markdown",
   "id": "89d6a554-0241-4756-b788-18cec98d618d",
   "metadata": {},
   "source": [
    ":::{tip}\n",
    "`FileIO` are one of the option sets for `peaks`. To see current settings of other options, call `pks.opts`.\n",
    ":::\n",
    "\n",
    "These can be set as persistant values for the session:"
   ]
  },
  {
   "cell_type": "code",
   "execution_count": 7,
   "id": "88c9689c-e3c8-428a-ad7b-130eafd40668",
   "metadata": {
    "ExecuteTime": {
     "end_time": "2024-10-21T08:59:02.261079Z",
     "start_time": "2024-10-21T08:59:02.244578Z"
    }
   },
   "outputs": [],
   "source": [
    "pks.opts.FileIO.path = os.path.join(fpath,'i05-59')\n",
    "pks.opts.FileIO.ext = 'nxs'"
   ]
  },
  {
   "cell_type": "markdown",
   "id": "5f6713a6-b548-4931-8063-b839c057b23d",
   "metadata": {},
   "source": [
    "The file can then be loaded using any identifier (string or object that can be parsed as a string) that would uniuqely identify the file."
   ]
  },
  {
   "cell_type": "code",
   "execution_count": 8,
   "id": "95c6f8ec-76d7-4b03-a453-758dd4d6d649",
   "metadata": {
    "ExecuteTime": {
     "end_time": "2024-10-21T08:59:02.459576Z",
     "start_time": "2024-10-21T08:59:02.280572Z"
    }
   },
   "outputs": [],
   "source": [
    "disp1=pks.load(819)"
   ]
  },
  {
   "cell_type": "markdown",
   "id": "7c690ac1-7823-4821-b04b-b5f029dd2ed9",
   "metadata": {},
   "source": [
    "You can pass a list of options to allow e.g. automatic loading of multiple file types, and set and reset individual entries as, e.g.:"
   ]
  },
  {
   "cell_type": "code",
   "execution_count": 9,
   "id": "4fef1b53-2431-4ff3-a336-493844993979",
   "metadata": {
    "ExecuteTime": {
     "end_time": "2024-10-21T08:59:02.690546Z",
     "start_time": "2024-10-21T08:59:02.674072Z"
    }
   },
   "outputs": [],
   "source": [
    "# Set ext and loc\n",
    "pks.opts.FileIO.ext = ['nxs','ibw']\n",
    "pks.opts.FileIO.loc = 'MAXIV_Bloch_A'\n",
    "\n",
    "# Reset the path\n",
    "del pks.opts.FileIO.path\n",
    "\n",
    "# Reset all options within FileIO\n",
    "pks.opts.FileIO.reset()\n",
    "\n",
    "# Set multiple options at once\n",
    "pks.opts.FileIO.set(ext='nxs', loc='Diamond_I05_ARPES')"
   ]
  },
  {
   "cell_type": "code",
   "execution_count": 10,
   "id": "fa823dc1-8e27-43b8-a173-13b1381d29cd",
   "metadata": {
    "ExecuteTime": {
     "end_time": "2024-10-21T08:59:02.740179Z",
     "start_time": "2024-10-21T08:59:02.722946Z"
    }
   },
   "outputs": [
    {
     "data": {
      "text/plain": [
       "\u001b[32mpath\u001b[0m: \u001b[30mNone\u001b[0m\n",
       "\u001b[32mext\u001b[0m: \u001b[30mnxs\u001b[0m\n",
       "\u001b[32mloc\u001b[0m: \u001b[30mDiamond_I05_ARPES\u001b[0m\n",
       "\u001b[32mlazy_size\u001b[0m: \u001b[30m1000000000\u001b[0m"
      ]
     },
     "execution_count": 10,
     "metadata": {},
     "output_type": "execute_result"
    }
   ],
   "source": [
    "pks.opts.FileIO"
   ]
  },
  {
   "cell_type": "markdown",
   "id": "61786236-2f43-4a3d-b373-cb362de8cd01",
   "metadata": {},
   "source": [
    "`FileIO` is part of a more general options class, accessed via `pks.opts`, which can also be used as a context manager to temporarily set options"
   ]
  },
  {
   "cell_type": "code",
   "execution_count": 11,
   "id": "e48395a0-3fda-4a81-8512-a7ba4bfcb855",
   "metadata": {
    "ExecuteTime": {
     "end_time": "2024-10-21T08:59:03.045385Z",
     "start_time": "2024-10-21T08:59:02.872676Z"
    }
   },
   "outputs": [
    {
     "name": "stdout",
     "output_type": "stream",
     "text": [
      "Before:\n",
      "\u001b[32mpath\u001b[0m: \u001b[30mNone\u001b[0m\n",
      "\u001b[32mext\u001b[0m: \u001b[30mNone\u001b[0m\n",
      "\u001b[32mloc\u001b[0m: \u001b[30mNone\u001b[0m\n",
      "\u001b[32mlazy_size\u001b[0m: \u001b[30m1000000000\u001b[0m\n",
      "\n",
      "After:\n",
      "\u001b[32mpath\u001b[0m: \u001b[30mNone\u001b[0m\n",
      "\u001b[32mext\u001b[0m: \u001b[30mNone\u001b[0m\n",
      "\u001b[32mloc\u001b[0m: \u001b[30mNone\u001b[0m\n",
      "\u001b[32mlazy_size\u001b[0m: \u001b[30m1000000000\u001b[0m\n",
      "\n"
     ]
    }
   ],
   "source": [
    "# Reset all existing file options\n",
    "pks.opts.FileIO.reset()\n",
    "print(f\"Before:\\n{pks.opts.FileIO}\")\n",
    "\n",
    "with pks.opts as opts:\n",
    "    # Temporarily set the relevant options\n",
    "    opts.FileIO.path = os.path.join(fpath,'i05-59')\n",
    "    opts.FileIO.ext = 'nxs'\n",
    "    disp1 = pks.load(819)\n",
    "\n",
    "# Now display the options, which should have no FileIO optios\n",
    "print(f\"After:\\n{pks.opts.FileIO}\")"
   ]
  },
  {
   "cell_type": "markdown",
   "id": "f29136da-2a0c-4140-a2e1-df0688bb9298",
   "metadata": {},
   "source": [
    "Multiple scans can be loaded at once passing a list of full filenames or filename fragments. A list of names can be passed as scan identifiers. If not defined, these are automatically parsed from the file names."
   ]
  },
  {
   "cell_type": "code",
   "execution_count": 12,
   "id": "e0402206-88c5-4fb5-99c0-38f4fa78af8b",
   "metadata": {
    "ExecuteTime": {
     "end_time": "2024-10-21T08:59:06.381595Z",
     "start_time": "2024-10-21T08:59:06.023009Z"
    }
   },
   "outputs": [
    {
     "data": {
      "application/vnd.jupyter.widget-view+json": {
       "model_id": "c22083fba4574cbe8926d774183a8384",
       "version_major": 2,
       "version_minor": 0
      },
      "text/plain": [
       "Loading data:   0%|          | 0/2 [00:00<?, ?it/s]"
      ]
     },
     "metadata": {},
     "output_type": "display_data"
    }
   ],
   "source": [
    "# Set default file options\n",
    "pks.opts.FileIO.path = os.path.join(fpath,'i05-59')\n",
    "pks.opts.FileIO.ext = 'nxs'\n",
    "\n",
    "multiple_disp = pks.load([819,853], names=['disp1','gold'])"
   ]
  },
  {
   "cell_type": "markdown",
   "id": "7bf03632-48be-448d-8d3a-fb0ce1c5d72d",
   "metadata": {},
   "source": [
    "## Data format"
   ]
  },
  {
   "cell_type": "markdown",
   "id": "dc8c2bde-8ebf-4165-923d-a68c24f13f63",
   "metadata": {},
   "source": [
    "The base data format of most loaded data is an `xarray:DataArray`. This can be inspected by typing the variable in the interactive shell: "
   ]
  },
  {
   "cell_type": "code",
   "execution_count": 13,
   "id": "9067a7cc-a31a-4590-bec9-4023839e4d9e",
   "metadata": {
    "ExecuteTime": {
     "end_time": "2024-10-21T08:59:08.768224Z",
     "start_time": "2024-10-21T08:59:08.735028Z"
    }
   },
   "outputs": [
    {
     "data": {
      "text/html": [
       "<div><svg style=\"position: absolute; width: 0; height: 0; overflow: hidden\">\n",
       "<defs>\n",
       "<symbol id=\"icon-database\" viewBox=\"0 0 32 32\">\n",
       "<path d=\"M16 0c-8.837 0-16 2.239-16 5v4c0 2.761 7.163 5 16 5s16-2.239 16-5v-4c0-2.761-7.163-5-16-5z\"></path>\n",
       "<path d=\"M16 17c-8.837 0-16-2.239-16-5v6c0 2.761 7.163 5 16 5s16-2.239 16-5v-6c0 2.761-7.163 5-16 5z\"></path>\n",
       "<path d=\"M16 26c-8.837 0-16-2.239-16-5v6c0 2.761 7.163 5 16 5s16-2.239 16-5v-6c0 2.761-7.163 5-16 5z\"></path>\n",
       "</symbol>\n",
       "<symbol id=\"icon-file-text2\" viewBox=\"0 0 32 32\">\n",
       "<path d=\"M28.681 7.159c-0.694-0.947-1.662-2.053-2.724-3.116s-2.169-2.030-3.116-2.724c-1.612-1.182-2.393-1.319-2.841-1.319h-15.5c-1.378 0-2.5 1.121-2.5 2.5v27c0 1.378 1.122 2.5 2.5 2.5h23c1.378 0 2.5-1.122 2.5-2.5v-19.5c0-0.448-0.137-1.23-1.319-2.841zM24.543 5.457c0.959 0.959 1.712 1.825 2.268 2.543h-4.811v-4.811c0.718 0.556 1.584 1.309 2.543 2.268zM28 29.5c0 0.271-0.229 0.5-0.5 0.5h-23c-0.271 0-0.5-0.229-0.5-0.5v-27c0-0.271 0.229-0.5 0.5-0.5 0 0 15.499-0 15.5 0v7c0 0.552 0.448 1 1 1h7v19.5z\"></path>\n",
       "<path d=\"M23 26h-14c-0.552 0-1-0.448-1-1s0.448-1 1-1h14c0.552 0 1 0.448 1 1s-0.448 1-1 1z\"></path>\n",
       "<path d=\"M23 22h-14c-0.552 0-1-0.448-1-1s0.448-1 1-1h14c0.552 0 1 0.448 1 1s-0.448 1-1 1z\"></path>\n",
       "<path d=\"M23 18h-14c-0.552 0-1-0.448-1-1s0.448-1 1-1h14c0.552 0 1 0.448 1 1s-0.448 1-1 1z\"></path>\n",
       "</symbol>\n",
       "</defs>\n",
       "</svg>\n",
       "<style>/* CSS stylesheet for displaying xarray objects in jupyterlab.\n",
       " *\n",
       " */\n",
       "\n",
       ":root {\n",
       "  --xr-font-color0: var(--jp-content-font-color0, rgba(0, 0, 0, 1));\n",
       "  --xr-font-color2: var(--jp-content-font-color2, rgba(0, 0, 0, 0.54));\n",
       "  --xr-font-color3: var(--jp-content-font-color3, rgba(0, 0, 0, 0.38));\n",
       "  --xr-border-color: var(--jp-border-color2, #e0e0e0);\n",
       "  --xr-disabled-color: var(--jp-layout-color3, #bdbdbd);\n",
       "  --xr-background-color: var(--jp-layout-color0, white);\n",
       "  --xr-background-color-row-even: var(--jp-layout-color1, white);\n",
       "  --xr-background-color-row-odd: var(--jp-layout-color2, #eeeeee);\n",
       "}\n",
       "\n",
       "html[theme=dark],\n",
       "html[data-theme=dark],\n",
       "body[data-theme=dark],\n",
       "body.vscode-dark {\n",
       "  --xr-font-color0: rgba(255, 255, 255, 1);\n",
       "  --xr-font-color2: rgba(255, 255, 255, 0.54);\n",
       "  --xr-font-color3: rgba(255, 255, 255, 0.38);\n",
       "  --xr-border-color: #1F1F1F;\n",
       "  --xr-disabled-color: #515151;\n",
       "  --xr-background-color: #111111;\n",
       "  --xr-background-color-row-even: #111111;\n",
       "  --xr-background-color-row-odd: #313131;\n",
       "}\n",
       "\n",
       ".xr-wrap {\n",
       "  display: block !important;\n",
       "  min-width: 300px;\n",
       "  max-width: 700px;\n",
       "}\n",
       "\n",
       ".xr-text-repr-fallback {\n",
       "  /* fallback to plain text repr when CSS is not injected (untrusted notebook) */\n",
       "  display: none;\n",
       "}\n",
       "\n",
       ".xr-header {\n",
       "  padding-top: 6px;\n",
       "  padding-bottom: 6px;\n",
       "  margin-bottom: 4px;\n",
       "  border-bottom: solid 1px var(--xr-border-color);\n",
       "}\n",
       "\n",
       ".xr-header > div,\n",
       ".xr-header > ul {\n",
       "  display: inline;\n",
       "  margin-top: 0;\n",
       "  margin-bottom: 0;\n",
       "}\n",
       "\n",
       ".xr-obj-type,\n",
       ".xr-array-name {\n",
       "  margin-left: 2px;\n",
       "  margin-right: 10px;\n",
       "}\n",
       "\n",
       ".xr-obj-type {\n",
       "  color: var(--xr-font-color2);\n",
       "}\n",
       "\n",
       ".xr-sections {\n",
       "  padding-left: 0 !important;\n",
       "  display: grid;\n",
       "  grid-template-columns: 150px auto auto 1fr 0 20px 0 20px;\n",
       "}\n",
       "\n",
       ".xr-section-item {\n",
       "  display: contents;\n",
       "}\n",
       "\n",
       ".xr-section-item input {\n",
       "  display: inline-block;\n",
       "  opacity: 0;\n",
       "}\n",
       "\n",
       ".xr-section-item input + label {\n",
       "  color: var(--xr-disabled-color);\n",
       "}\n",
       "\n",
       ".xr-section-item input:enabled + label {\n",
       "  cursor: pointer;\n",
       "  color: var(--xr-font-color2);\n",
       "}\n",
       "\n",
       ".xr-section-item input:focus + label {\n",
       "  border: 2px solid var(--xr-font-color0);\n",
       "}\n",
       "\n",
       ".xr-section-item input:enabled + label:hover {\n",
       "  color: var(--xr-font-color0);\n",
       "}\n",
       "\n",
       ".xr-section-summary {\n",
       "  grid-column: 1;\n",
       "  color: var(--xr-font-color2);\n",
       "  font-weight: 500;\n",
       "}\n",
       "\n",
       ".xr-section-summary > span {\n",
       "  display: inline-block;\n",
       "  padding-left: 0.5em;\n",
       "}\n",
       "\n",
       ".xr-section-summary-in:disabled + label {\n",
       "  color: var(--xr-font-color2);\n",
       "}\n",
       "\n",
       ".xr-section-summary-in + label:before {\n",
       "  display: inline-block;\n",
       "  content: '►';\n",
       "  font-size: 11px;\n",
       "  width: 15px;\n",
       "  text-align: center;\n",
       "}\n",
       "\n",
       ".xr-section-summary-in:disabled + label:before {\n",
       "  color: var(--xr-disabled-color);\n",
       "}\n",
       "\n",
       ".xr-section-summary-in:checked + label:before {\n",
       "  content: '▼';\n",
       "}\n",
       "\n",
       ".xr-section-summary-in:checked + label > span {\n",
       "  display: none;\n",
       "}\n",
       "\n",
       ".xr-section-summary,\n",
       ".xr-section-inline-details {\n",
       "  padding-top: 4px;\n",
       "  padding-bottom: 4px;\n",
       "}\n",
       "\n",
       ".xr-section-inline-details {\n",
       "  grid-column: 2 / -1;\n",
       "}\n",
       "\n",
       ".xr-section-details {\n",
       "  display: none;\n",
       "  grid-column: 1 / -1;\n",
       "  margin-bottom: 5px;\n",
       "}\n",
       "\n",
       ".xr-section-summary-in:checked ~ .xr-section-details {\n",
       "  display: contents;\n",
       "}\n",
       "\n",
       ".xr-array-wrap {\n",
       "  grid-column: 1 / -1;\n",
       "  display: grid;\n",
       "  grid-template-columns: 20px auto;\n",
       "}\n",
       "\n",
       ".xr-array-wrap > label {\n",
       "  grid-column: 1;\n",
       "  vertical-align: top;\n",
       "}\n",
       "\n",
       ".xr-preview {\n",
       "  color: var(--xr-font-color3);\n",
       "}\n",
       "\n",
       ".xr-array-preview,\n",
       ".xr-array-data {\n",
       "  padding: 0 5px !important;\n",
       "  grid-column: 2;\n",
       "}\n",
       "\n",
       ".xr-array-data,\n",
       ".xr-array-in:checked ~ .xr-array-preview {\n",
       "  display: none;\n",
       "}\n",
       "\n",
       ".xr-array-in:checked ~ .xr-array-data,\n",
       ".xr-array-preview {\n",
       "  display: inline-block;\n",
       "}\n",
       "\n",
       ".xr-dim-list {\n",
       "  display: inline-block !important;\n",
       "  list-style: none;\n",
       "  padding: 0 !important;\n",
       "  margin: 0;\n",
       "}\n",
       "\n",
       ".xr-dim-list li {\n",
       "  display: inline-block;\n",
       "  padding: 0;\n",
       "  margin: 0;\n",
       "}\n",
       "\n",
       ".xr-dim-list:before {\n",
       "  content: '(';\n",
       "}\n",
       "\n",
       ".xr-dim-list:after {\n",
       "  content: ')';\n",
       "}\n",
       "\n",
       ".xr-dim-list li:not(:last-child):after {\n",
       "  content: ',';\n",
       "  padding-right: 5px;\n",
       "}\n",
       "\n",
       ".xr-has-index {\n",
       "  font-weight: bold;\n",
       "}\n",
       "\n",
       ".xr-var-list,\n",
       ".xr-var-item {\n",
       "  display: contents;\n",
       "}\n",
       "\n",
       ".xr-var-item > div,\n",
       ".xr-var-item label,\n",
       ".xr-var-item > .xr-var-name span {\n",
       "  background-color: var(--xr-background-color-row-even);\n",
       "  margin-bottom: 0;\n",
       "}\n",
       "\n",
       ".xr-var-item > .xr-var-name:hover span {\n",
       "  padding-right: 5px;\n",
       "}\n",
       "\n",
       ".xr-var-list > li:nth-child(odd) > div,\n",
       ".xr-var-list > li:nth-child(odd) > label,\n",
       ".xr-var-list > li:nth-child(odd) > .xr-var-name span {\n",
       "  background-color: var(--xr-background-color-row-odd);\n",
       "}\n",
       "\n",
       ".xr-var-name {\n",
       "  grid-column: 1;\n",
       "}\n",
       "\n",
       ".xr-var-dims {\n",
       "  grid-column: 2;\n",
       "}\n",
       "\n",
       ".xr-var-dtype {\n",
       "  grid-column: 3;\n",
       "  text-align: right;\n",
       "  color: var(--xr-font-color2);\n",
       "}\n",
       "\n",
       ".xr-var-preview {\n",
       "  grid-column: 4;\n",
       "}\n",
       "\n",
       ".xr-index-preview {\n",
       "  grid-column: 2 / 5;\n",
       "  color: var(--xr-font-color2);\n",
       "}\n",
       "\n",
       ".xr-var-name,\n",
       ".xr-var-dims,\n",
       ".xr-var-dtype,\n",
       ".xr-preview,\n",
       ".xr-attrs dt {\n",
       "  white-space: nowrap;\n",
       "  overflow: hidden;\n",
       "  text-overflow: ellipsis;\n",
       "  padding-right: 10px;\n",
       "}\n",
       "\n",
       ".xr-var-name:hover,\n",
       ".xr-var-dims:hover,\n",
       ".xr-var-dtype:hover,\n",
       ".xr-attrs dt:hover {\n",
       "  overflow: visible;\n",
       "  width: auto;\n",
       "  z-index: 1;\n",
       "}\n",
       "\n",
       ".xr-var-attrs,\n",
       ".xr-var-data,\n",
       ".xr-index-data {\n",
       "  display: none;\n",
       "  background-color: var(--xr-background-color) !important;\n",
       "  padding-bottom: 5px !important;\n",
       "}\n",
       "\n",
       ".xr-var-attrs-in:checked ~ .xr-var-attrs,\n",
       ".xr-var-data-in:checked ~ .xr-var-data,\n",
       ".xr-index-data-in:checked ~ .xr-index-data {\n",
       "  display: block;\n",
       "}\n",
       "\n",
       ".xr-var-data > table {\n",
       "  float: right;\n",
       "}\n",
       "\n",
       ".xr-var-name span,\n",
       ".xr-var-data,\n",
       ".xr-index-name div,\n",
       ".xr-index-data,\n",
       ".xr-attrs {\n",
       "  padding-left: 25px !important;\n",
       "}\n",
       "\n",
       ".xr-attrs,\n",
       ".xr-var-attrs,\n",
       ".xr-var-data,\n",
       ".xr-index-data {\n",
       "  grid-column: 1 / -1;\n",
       "}\n",
       "\n",
       "dl.xr-attrs {\n",
       "  padding: 0;\n",
       "  margin: 0;\n",
       "  display: grid;\n",
       "  grid-template-columns: 125px auto;\n",
       "}\n",
       "\n",
       ".xr-attrs dt,\n",
       ".xr-attrs dd {\n",
       "  padding: 0;\n",
       "  margin: 0;\n",
       "  float: left;\n",
       "  padding-right: 10px;\n",
       "  width: auto;\n",
       "}\n",
       "\n",
       ".xr-attrs dt {\n",
       "  font-weight: normal;\n",
       "  grid-column: 1;\n",
       "}\n",
       "\n",
       ".xr-attrs dt:hover span {\n",
       "  display: inline-block;\n",
       "  background: var(--xr-background-color);\n",
       "  padding-right: 10px;\n",
       "}\n",
       "\n",
       ".xr-attrs dd {\n",
       "  grid-column: 2;\n",
       "  white-space: pre-wrap;\n",
       "  word-break: break-all;\n",
       "}\n",
       "\n",
       ".xr-icon-database,\n",
       ".xr-icon-file-text2,\n",
       ".xr-no-icon {\n",
       "  display: inline-block;\n",
       "  vertical-align: middle;\n",
       "  width: 1em;\n",
       "  height: 1.5em !important;\n",
       "  stroke-width: 0;\n",
       "  stroke: currentColor;\n",
       "  fill: currentColor;\n",
       "}\n",
       "</style><pre class='xr-text-repr-fallback'>&lt;xarray.DataArray &#x27;i05-59819&#x27; (eV: 1040, theta_par: 1000)&gt; Size: 4MB\n",
       "[count/s] 0.0 0.0 0.0 0.0 0.0 0.0 0.0 0.0 ... 0.0 0.0 0.0 0.0 0.0 0.0 0.0 0.0\n",
       "Coordinates:\n",
       "  * theta_par  (theta_par) float64 8kB -23.94 -23.9 -23.85 ... 23.85 23.9 23.94\n",
       "  * eV         (eV) float64 8kB 104.5 104.5 104.5 104.5 ... 105.4 105.4 105.4\n",
       "Attributes: (7)</pre><div class='xr-wrap' style='display:none'><div class='xr-header'><div class='xr-obj-type'>xarray.DataArray</div><div class='xr-array-name'>'i05-59819'</div><ul class='xr-dim-list'><li><span class='xr-has-index'>eV</span>: 1040</li><li><span class='xr-has-index'>theta_par</span>: 1000</li></ul></div><ul class='xr-sections'><li class='xr-section-item'><div class='xr-array-wrap'><input id='section-656c2dc9-769f-4eaf-bfbd-31db3f3dea58' class='xr-array-in' type='checkbox' ><label for='section-656c2dc9-769f-4eaf-bfbd-31db3f3dea58' title='Show/hide data repr'><svg class='icon xr-icon-database'><use xlink:href='#icon-database'></use></svg></label><div class='xr-array-preview xr-preview'><span>[count/s] 0.0 0.0 0.0 0.0 0.0 0.0 0.0 ... 0.0 0.0 0.0 0.0 0.0 0.0 0.0</span></div><div class='xr-array-data'><table><tbody><tr><th>Magnitude</th><td style='text-align:left;'><pre>[[0.0 0.0 0.0 ... 0.0 0.0 0.0] [0.0 0.0 0.0 ... 0.0 0.0 0.0] [0.0 0.0 0.0 ... 0.0 0.0 0.0] ... [0.0 0.0 0.0 ... 0.0 0.0 0.0] [0.0 0.0 0.0 ... 0.0 0.0 0.0] [0.0 0.0 0.0 ... 0.0 0.0 0.0]]</pre></td></tr><tr><th>Units</th><td style='text-align:left;'>count/s</td></tr></tbody></table></div></div></li><li class='xr-section-item'><input id='section-6b60a800-efa2-4c8f-8c1d-07832bd7fc01' class='xr-section-summary-in' type='checkbox'  checked><label for='section-6b60a800-efa2-4c8f-8c1d-07832bd7fc01' class='xr-section-summary' >Coordinates: <span>(2)</span></label><div class='xr-section-inline-details'></div><div class='xr-section-details'><ul class='xr-var-list'><li class='xr-var-item'><div class='xr-var-name'><span class='xr-has-index'>theta_par</span></div><div class='xr-var-dims'>(theta_par)</div><div class='xr-var-dtype'>float64</div><div class='xr-var-preview xr-preview'>-23.94 -23.9 -23.85 ... 23.9 23.94</div><input id='attrs-353acce4-27f6-47b2-a654-cbd9b7977795' class='xr-var-attrs-in' type='checkbox' ><label for='attrs-353acce4-27f6-47b2-a654-cbd9b7977795' title='Show/Hide attributes'><svg class='icon xr-icon-file-text2'><use xlink:href='#icon-file-text2'></use></svg></label><input id='data-d6e2a8e0-efbf-4a03-b5bc-77a055466d53' class='xr-var-data-in' type='checkbox'><label for='data-d6e2a8e0-efbf-4a03-b5bc-77a055466d53' title='Show/Hide data repr'><svg class='icon xr-icon-database'><use xlink:href='#icon-database'></use></svg></label><div class='xr-var-attrs'><dl class='xr-attrs'><dt><span>units :</span></dt><dd>deg</dd></dl></div><div class='xr-var-data'><pre>array([-23.943889, -23.895954, -23.848018, ...,  23.848018,  23.895954,\n",
       "        23.943889])</pre></div></li><li class='xr-var-item'><div class='xr-var-name'><span class='xr-has-index'>eV</span></div><div class='xr-var-dims'>(eV)</div><div class='xr-var-dtype'>float64</div><div class='xr-var-preview xr-preview'>104.5 104.5 104.5 ... 105.4 105.4</div><input id='attrs-37b73169-c3fd-4ae6-b81a-ab593cba9cb3' class='xr-var-attrs-in' type='checkbox' ><label for='attrs-37b73169-c3fd-4ae6-b81a-ab593cba9cb3' title='Show/Hide attributes'><svg class='icon xr-icon-file-text2'><use xlink:href='#icon-file-text2'></use></svg></label><input id='data-2b1a3e12-1339-498c-8e60-6e9e5d72e397' class='xr-var-data-in' type='checkbox'><label for='data-2b1a3e12-1339-498c-8e60-6e9e5d72e397' title='Show/Hide data repr'><svg class='icon xr-icon-database'><use xlink:href='#icon-database'></use></svg></label><div class='xr-var-attrs'><dl class='xr-attrs'><dt><span>units :</span></dt><dd>eV</dd></dl></div><div class='xr-var-data'><pre>array([104.529205, 104.530015, 104.530825, ..., 105.369175, 105.369985,\n",
       "       105.370795])</pre></div></li></ul></div></li><li class='xr-section-item'><input id='section-4a7b1ac5-effe-4dfd-b0cb-b863261f70c7' class='xr-section-summary-in' type='checkbox'  ><label for='section-4a7b1ac5-effe-4dfd-b0cb-b863261f70c7' class='xr-section-summary' >Indexes: <span>(2)</span></label><div class='xr-section-inline-details'></div><div class='xr-section-details'><ul class='xr-var-list'><li class='xr-var-item'><div class='xr-index-name'><div>theta_par</div></div><div class='xr-index-preview'>PandasIndex</div><div></div><input id='index-7d72eac6-f562-4187-b436-d09bba9f1db5' class='xr-index-data-in' type='checkbox'/><label for='index-7d72eac6-f562-4187-b436-d09bba9f1db5' title='Show/Hide index repr'><svg class='icon xr-icon-database'><use xlink:href='#icon-database'></use></svg></label><div class='xr-index-data'><pre>PandasIndex(Index([-23.943889285714288, -23.895953571428574,  -23.84801785714286,\n",
       "       -23.800082142857146, -23.752146428571432,  -23.70421071428572,\n",
       "                -23.656275, -23.608339285714287, -23.560403571428573,\n",
       "        -23.51246785714286,\n",
       "       ...\n",
       "        23.512467857142855,  23.560403571428576,   23.60833928571429,\n",
       "        23.656275000000004,   23.70421071428572,  23.752146428571432,\n",
       "        23.800082142857146,   23.84801785714286,  23.895953571428574,\n",
       "        23.943889285714288],\n",
       "      dtype=&#x27;float64&#x27;, name=&#x27;theta_par&#x27;, length=1000))</pre></div></li><li class='xr-var-item'><div class='xr-index-name'><div>eV</div></div><div class='xr-index-preview'>PandasIndex</div><div></div><input id='index-61c6d55d-a0da-433e-a1be-32e62f07cb58' class='xr-index-data-in' type='checkbox'/><label for='index-61c6d55d-a0da-433e-a1be-32e62f07cb58' title='Show/Hide index repr'><svg class='icon xr-icon-database'><use xlink:href='#icon-database'></use></svg></label><div class='xr-index-data'><pre>PandasIndex(Index([104.52920499999999, 104.53001499999999,         104.530825,\n",
       "               104.531635,         104.532445,         104.533255,\n",
       "       104.53406499999998, 104.53487499999999, 104.53568499999999,\n",
       "       104.53649499999999,\n",
       "       ...\n",
       "       105.36350499999999, 105.36431499999999, 105.36512499999999,\n",
       "               105.365935,         105.366745,         105.367555,\n",
       "               105.368365, 105.36917499999998, 105.36998499999999,\n",
       "       105.37079499999999],\n",
       "      dtype=&#x27;float64&#x27;, name=&#x27;eV&#x27;, length=1040))</pre></div></li></ul></div></li><li class='xr-section-item'><input id='section-2e4952b6-344e-4c8c-ab3d-014010fdf947' class='xr-section-summary-in' type='checkbox'  ><label for='section-2e4952b6-344e-4c8c-ab3d-014010fdf947' class='xr-section-summary' >Attributes: <span>(7)</span></label><div class='xr-section-inline-details'></div><div class='xr-section-details'><dl class='xr-attrs'><dt><span>_scan :</span></dt><dd>name=&#x27;i05-59819&#x27; filepath=&#x27;/Users/philking/Library/CloudStorage/OneDrive-UniversityofStAndrews/Lab/Example data/i05-59819.nxs&#x27; loc=&#x27;Diamond_I05_ARPES&#x27; timestamp=&#x27;2022-11-01 09:50:38&#x27; scan_command=None</dd><dt><span>_calibration :</span></dt><dd>EF_correction=None V0=None</dd><dt><span>_analyser :</span></dt><dd>analyser=ARPESAnalyserMetadataModel(model=None, slit=ARPESSlitMetadataModel(width=&lt;Quantity(0.2, &#x27;millimeter&#x27;)&gt;, identifier=None)) scan=ARPESScanMetadataModel(eV=&lt;Quantity([104.529205 105.370795], &#x27;electron_volt&#x27;)&gt;, step_size=&lt;Quantity(0.0008099999999999966, &#x27;dimensionless&#x27;)&gt;, PE=&lt;Quantity(10, &#x27;electron_volt&#x27;)&gt;, sweeps=600, dwell=&lt;Quantity(1.0, &#x27;second&#x27;)&gt;, lens_mode=&#x27;Angular30&#x27;, acquisition_mode=&#x27;Fixed&#x27;, eV_type=&#x27;kinetic&#x27;) angles=ARPESAnalyserAnglesMetadataModel(polar=None, tilt=None, azi=&lt;Quantity(0, &#x27;degree&#x27;)&gt;) deflector=ARPESDeflectorMetadataModel(parallel=NamedAxisMetadataModel(local_name=&#x27;deflector_y&#x27;, value=None), perp=NamedAxisMetadataModel(local_name=&#x27;deflector_x&#x27;, value=None))</dd><dt><span>_manipulator :</span></dt><dd>polar=AxisMetadataModelWithReference(local_name=&#x27;sapolar&#x27;, value=&lt;Quantity(1.5015242916799991, &#x27;degree&#x27;)&gt;, reference_value=None) tilt=AxisMetadataModelWithReference(local_name=&#x27;satilt&#x27;, value=&lt;Quantity(0.006, &#x27;degree&#x27;)&gt;, reference_value=None) azi=AxisMetadataModelWithReference(local_name=&#x27;saazimuth&#x27;, value=&lt;Quantity(-12.510000138999999, &#x27;degree&#x27;)&gt;, reference_value=None) x1=AxisMetadataModelWithReference(local_name=&#x27;sax&#x27;, value=&lt;Quantity(1.09, &#x27;millimeter&#x27;)&gt;, reference_value=None) x2=AxisMetadataModelWithReference(local_name=&#x27;say&#x27;, value=&lt;Quantity(0.278, &#x27;millimeter&#x27;)&gt;, reference_value=None) x3=AxisMetadataModelWithReference(local_name=&#x27;saz&#x27;, value=&lt;Quantity(-2.8659999999999854, &#x27;millimeter&#x27;)&gt;, reference_value=None)</dd><dt><span>_photon :</span></dt><dd>hv=&lt;Quantity(109.999792, &#x27;electron_volt&#x27;)&gt; polarisation=&#x27;LH&#x27; exit_slit=&lt;Quantity(0.01, &#x27;millimeter&#x27;)&gt;</dd><dt><span>_temperature :</span></dt><dd>sample=&lt;Quantity(11.9915, &#x27;kelvin&#x27;)&gt; cryostat=&lt;Quantity(10.7334, &#x27;kelvin&#x27;)&gt; shield=&lt;Quantity(59.4714, &#x27;kelvin&#x27;)&gt; setpoint=&lt;Quantity(12.0, &#x27;kelvin&#x27;)&gt;</dd><dt><span>_analysis_history :</span></dt><dd>records=[AnalysisHistoryRecord(time=datetime.datetime(2024, 11, 9, 15, 54, 6, 45521), peaks_version=&#x27;0.3.0-dev&#x27;, record={&#x27;record&#x27;: &#x27;Data loaded&#x27;, &#x27;loc&#x27;: &#x27;Diamond_I05_ARPES&#x27;, &#x27;loader&#x27;: &#x27;I05ARPESLoader&#x27;, &#x27;file_name&#x27;: &#x27;/Users/philking/Library/CloudStorage/OneDrive-UniversityofStAndrews/Lab/Example data/i05-59819.nxs&#x27;}, fn_name=&#x27;_add_load_history&#x27;)]</dd></dl></div></li></ul></div></div>"
      ],
      "text/plain": [
       "<xarray.DataArray 'i05-59819' (eV: 1040, theta_par: 1000)> Size: 4MB\n",
       "[count/s] 0.0 0.0 0.0 0.0 0.0 0.0 0.0 0.0 ... 0.0 0.0 0.0 0.0 0.0 0.0 0.0 0.0\n",
       "Coordinates:\n",
       "  * theta_par  (theta_par) float64 8kB -23.94 -23.9 -23.85 ... 23.85 23.9 23.94\n",
       "  * eV         (eV) float64 8kB 104.5 104.5 104.5 104.5 ... 105.4 105.4 105.4\n",
       "Attributes: (7)"
      ]
     },
     "execution_count": 13,
     "metadata": {},
     "output_type": "execute_result"
    }
   ],
   "source": [
    "disp1"
   ]
  },
  {
   "cell_type": "markdown",
   "id": "07611107-5fdc-42ec-84a4-05f1ce37fb67",
   "metadata": {},
   "source": [
    "The co-ordinates give the dimension scales, while the raw data itself can be accessed via the accesssor `.data`. Where possible, `peaks` attempts to treat the data (and also associated metadata) keeping track of the units. Therefore the data will typically be composed of a :class:`xarray.DataArray` wrapping a :class:`pint` array, which is itself wrapping a :class:`numpy` array:"
   ]
  },
  {
   "cell_type": "code",
   "execution_count": 14,
   "id": "8338a0d6-0d0a-4884-b3a1-e25a68ab2cbc",
   "metadata": {
    "ExecuteTime": {
     "end_time": "2024-10-21T08:59:14.274258Z",
     "start_time": "2024-10-21T08:59:14.257359Z"
    }
   },
   "outputs": [
    {
     "data": {
      "text/plain": [
       "pint.Quantity"
      ]
     },
     "execution_count": 14,
     "metadata": {},
     "output_type": "execute_result"
    }
   ],
   "source": [
    "type(disp1.data)"
   ]
  },
  {
   "cell_type": "code",
   "execution_count": 15,
   "id": "7918ff4d-a88b-4bb1-a337-0a55b380ac7f",
   "metadata": {
    "ExecuteTime": {
     "end_time": "2024-10-21T08:59:15.098602Z",
     "start_time": "2024-10-21T08:59:15.081641Z"
    }
   },
   "outputs": [
    {
     "data": {
      "text/plain": [
       "array([[0., 0., 0., ..., 0., 0., 0.],\n",
       "       [0., 0., 0., ..., 0., 0., 0.],\n",
       "       [0., 0., 0., ..., 0., 0., 0.],\n",
       "       ...,\n",
       "       [0., 0., 0., ..., 0., 0., 0.],\n",
       "       [0., 0., 0., ..., 0., 0., 0.],\n",
       "       [0., 0., 0., ..., 0., 0., 0.]], dtype=float32)"
      ]
     },
     "execution_count": 15,
     "metadata": {},
     "output_type": "execute_result"
    }
   ],
   "source": [
    "disp1.data.magnitude"
   ]
  },
  {
   "cell_type": "code",
   "execution_count": 16,
   "id": "aff47d3e-b18d-48fa-b3f8-82796e31ced4",
   "metadata": {
    "ExecuteTime": {
     "end_time": "2024-10-21T08:59:15.528784Z",
     "start_time": "2024-10-21T08:59:15.501288Z"
    }
   },
   "outputs": [
    {
     "data": {
      "text/html": [
       "count/s"
      ],
      "text/latex": [
       "$\\frac{\\mathrm{count}}{\\mathrm{s}}$"
      ],
      "text/plain": [
       "<Unit('count / second')>"
      ]
     },
     "execution_count": 16,
     "metadata": {},
     "output_type": "execute_result"
    }
   ],
   "source": [
    "disp1.data.units"
   ]
  },
  {
   "cell_type": "markdown",
   "id": "f98b802e-2615-408c-92c4-ab13afadb405",
   "metadata": {},
   "source": [
    ":::{tip}\n",
    "The methods of :class:`pint-xarray` can be used to perform unit-aware selections on the resulting :class:`xarray.DataArray` via the `.pint` accessor. The data can also be converted back into a classic :class:`numpy`-backed :class:`xarray.DataArray` using the `.dequantify()` method. See the [documentation](https://pint-xarray.readthedocs.io/en/stable/) and this [blog](https://xarray.dev/blog/introducing-pint-xarray).\n",
    ":::"
   ]
  },
  {
   "cell_type": "markdown",
   "id": "720083a6-21d0-46be-a988-d288e61e6374",
   "metadata": {},
   "source": [
    "### Lazy loading of large data\n",
    "If the data being loaded is large, it may be loaded lazily into a [`dask`](https://www.dask.org) format. This allows the loading of files that are too large to fit in memory, but also can lead to some advantages for paralellisation of processing etc. even on smaller datasets. If a file is loaded with a dask-based array, subsequent operations are also lazy until `.compute()` is called, allowing developing sophisticated pipelines. See the [`xarray` user guide](https://docs.xarray.dev/en/latest/user-guide/dask.html). \n",
    "\n",
    "The underlying array can also be loaded into memory using `.persist()`. If the array fits in memory, this will substantially speed up subsequent calculations and plotting (otherwise the data needs to be effectively loaded from disk each time). Alternatively, you can pass `lazy=False` in the data loading to load directly as a standary `numpy`-based array. Be careful, however, if the data is very large as this may lead to a crash.\n",
    "\n",
    ":::{note}\n",
    "Not all file loaders support lazy loading. If the underlying data type is in a suitable format however (e.g. HDF5, Zarr store etc.), then the data will be automatically loaded in a lazy manner if the underlying array size is larger than the threshold set in `pks.opts.FileIO.lazy_size`. This is 1 GB by default, but can be set by the user. Manual lazy loading can be triggered by passing a `Boolean` to the `pks.load()` method.\n",
    ":::"
   ]
  },
  {
   "cell_type": "code",
   "execution_count": 17,
   "id": "12945831-1282-49f6-9dbe-a7de641199f3",
   "metadata": {
    "ExecuteTime": {
     "end_time": "2024-10-21T08:59:26.412822Z",
     "start_time": "2024-10-21T08:59:26.295359Z"
    }
   },
   "outputs": [
    {
     "data": {
      "text/markdown": [
       "<div class=\"alert alert-block alert-info\"><b>Loading info: </b> DataArray has been lazily evaluated in the dask format (set lazy=False to load as DataArray in xarray format). Use the .compute() method to load DataArray into RAM in the xarray format, or the .persist() method to instead load DataArray into RAM in the dask format. Note: these operations load all of the data into memory, so large files may require an initial reduction in size through either a slicing or binning operation. </div>"
      ],
      "text/plain": [
       "<IPython.core.display.Markdown object>"
      ]
     },
     "metadata": {},
     "output_type": "display_data"
    },
    {
     "name": "stdout",
     "output_type": "stream",
     "text": [
      "CPU times: user 36.3 ms, sys: 3.83 ms, total: 40.1 ms\n",
      "Wall time: 55.6 ms\n"
     ]
    }
   ],
   "source": [
    "%%time\n",
    "with pks.opts as opts:\n",
    "    opts.FileIO.lazy_size = int(1e8)\n",
    "    FS1 = pks.load(818)"
   ]
  },
  {
   "cell_type": "markdown",
   "id": "62cf4f59-b1ee-4e92-b74f-bc9a3ffaa29f",
   "metadata": {},
   "source": [
    "Now a view of the loaded `xr.DataArray` now shows the chunked structure associated with a :class:`dask` array\n",
    "\n",
    ":::{tip}\n",
    "Even if a loader does not support lazy loading, the loaded data can be converted to a :class:`dask`-backed array using the `.chunk()` method [see `xarray` documentation](https://docs.xarray.dev/en/stable/user-guide/dask.html).\n",
    ":::"
   ]
  },
  {
   "cell_type": "code",
   "execution_count": 18,
   "id": "8b23c240-230d-4590-a916-6e32b59f0cd6",
   "metadata": {
    "ExecuteTime": {
     "end_time": "2024-10-21T08:59:33.849156Z",
     "start_time": "2024-10-21T08:59:33.809462Z"
    }
   },
   "outputs": [
    {
     "data": {
      "text/html": [
       "<div><svg style=\"position: absolute; width: 0; height: 0; overflow: hidden\">\n",
       "<defs>\n",
       "<symbol id=\"icon-database\" viewBox=\"0 0 32 32\">\n",
       "<path d=\"M16 0c-8.837 0-16 2.239-16 5v4c0 2.761 7.163 5 16 5s16-2.239 16-5v-4c0-2.761-7.163-5-16-5z\"></path>\n",
       "<path d=\"M16 17c-8.837 0-16-2.239-16-5v6c0 2.761 7.163 5 16 5s16-2.239 16-5v-6c0 2.761-7.163 5-16 5z\"></path>\n",
       "<path d=\"M16 26c-8.837 0-16-2.239-16-5v6c0 2.761 7.163 5 16 5s16-2.239 16-5v-6c0 2.761-7.163 5-16 5z\"></path>\n",
       "</symbol>\n",
       "<symbol id=\"icon-file-text2\" viewBox=\"0 0 32 32\">\n",
       "<path d=\"M28.681 7.159c-0.694-0.947-1.662-2.053-2.724-3.116s-2.169-2.030-3.116-2.724c-1.612-1.182-2.393-1.319-2.841-1.319h-15.5c-1.378 0-2.5 1.121-2.5 2.5v27c0 1.378 1.122 2.5 2.5 2.5h23c1.378 0 2.5-1.122 2.5-2.5v-19.5c0-0.448-0.137-1.23-1.319-2.841zM24.543 5.457c0.959 0.959 1.712 1.825 2.268 2.543h-4.811v-4.811c0.718 0.556 1.584 1.309 2.543 2.268zM28 29.5c0 0.271-0.229 0.5-0.5 0.5h-23c-0.271 0-0.5-0.229-0.5-0.5v-27c0-0.271 0.229-0.5 0.5-0.5 0 0 15.499-0 15.5 0v7c0 0.552 0.448 1 1 1h7v19.5z\"></path>\n",
       "<path d=\"M23 26h-14c-0.552 0-1-0.448-1-1s0.448-1 1-1h14c0.552 0 1 0.448 1 1s-0.448 1-1 1z\"></path>\n",
       "<path d=\"M23 22h-14c-0.552 0-1-0.448-1-1s0.448-1 1-1h14c0.552 0 1 0.448 1 1s-0.448 1-1 1z\"></path>\n",
       "<path d=\"M23 18h-14c-0.552 0-1-0.448-1-1s0.448-1 1-1h14c0.552 0 1 0.448 1 1s-0.448 1-1 1z\"></path>\n",
       "</symbol>\n",
       "</defs>\n",
       "</svg>\n",
       "<style>/* CSS stylesheet for displaying xarray objects in jupyterlab.\n",
       " *\n",
       " */\n",
       "\n",
       ":root {\n",
       "  --xr-font-color0: var(--jp-content-font-color0, rgba(0, 0, 0, 1));\n",
       "  --xr-font-color2: var(--jp-content-font-color2, rgba(0, 0, 0, 0.54));\n",
       "  --xr-font-color3: var(--jp-content-font-color3, rgba(0, 0, 0, 0.38));\n",
       "  --xr-border-color: var(--jp-border-color2, #e0e0e0);\n",
       "  --xr-disabled-color: var(--jp-layout-color3, #bdbdbd);\n",
       "  --xr-background-color: var(--jp-layout-color0, white);\n",
       "  --xr-background-color-row-even: var(--jp-layout-color1, white);\n",
       "  --xr-background-color-row-odd: var(--jp-layout-color2, #eeeeee);\n",
       "}\n",
       "\n",
       "html[theme=dark],\n",
       "html[data-theme=dark],\n",
       "body[data-theme=dark],\n",
       "body.vscode-dark {\n",
       "  --xr-font-color0: rgba(255, 255, 255, 1);\n",
       "  --xr-font-color2: rgba(255, 255, 255, 0.54);\n",
       "  --xr-font-color3: rgba(255, 255, 255, 0.38);\n",
       "  --xr-border-color: #1F1F1F;\n",
       "  --xr-disabled-color: #515151;\n",
       "  --xr-background-color: #111111;\n",
       "  --xr-background-color-row-even: #111111;\n",
       "  --xr-background-color-row-odd: #313131;\n",
       "}\n",
       "\n",
       ".xr-wrap {\n",
       "  display: block !important;\n",
       "  min-width: 300px;\n",
       "  max-width: 700px;\n",
       "}\n",
       "\n",
       ".xr-text-repr-fallback {\n",
       "  /* fallback to plain text repr when CSS is not injected (untrusted notebook) */\n",
       "  display: none;\n",
       "}\n",
       "\n",
       ".xr-header {\n",
       "  padding-top: 6px;\n",
       "  padding-bottom: 6px;\n",
       "  margin-bottom: 4px;\n",
       "  border-bottom: solid 1px var(--xr-border-color);\n",
       "}\n",
       "\n",
       ".xr-header > div,\n",
       ".xr-header > ul {\n",
       "  display: inline;\n",
       "  margin-top: 0;\n",
       "  margin-bottom: 0;\n",
       "}\n",
       "\n",
       ".xr-obj-type,\n",
       ".xr-array-name {\n",
       "  margin-left: 2px;\n",
       "  margin-right: 10px;\n",
       "}\n",
       "\n",
       ".xr-obj-type {\n",
       "  color: var(--xr-font-color2);\n",
       "}\n",
       "\n",
       ".xr-sections {\n",
       "  padding-left: 0 !important;\n",
       "  display: grid;\n",
       "  grid-template-columns: 150px auto auto 1fr 0 20px 0 20px;\n",
       "}\n",
       "\n",
       ".xr-section-item {\n",
       "  display: contents;\n",
       "}\n",
       "\n",
       ".xr-section-item input {\n",
       "  display: inline-block;\n",
       "  opacity: 0;\n",
       "}\n",
       "\n",
       ".xr-section-item input + label {\n",
       "  color: var(--xr-disabled-color);\n",
       "}\n",
       "\n",
       ".xr-section-item input:enabled + label {\n",
       "  cursor: pointer;\n",
       "  color: var(--xr-font-color2);\n",
       "}\n",
       "\n",
       ".xr-section-item input:focus + label {\n",
       "  border: 2px solid var(--xr-font-color0);\n",
       "}\n",
       "\n",
       ".xr-section-item input:enabled + label:hover {\n",
       "  color: var(--xr-font-color0);\n",
       "}\n",
       "\n",
       ".xr-section-summary {\n",
       "  grid-column: 1;\n",
       "  color: var(--xr-font-color2);\n",
       "  font-weight: 500;\n",
       "}\n",
       "\n",
       ".xr-section-summary > span {\n",
       "  display: inline-block;\n",
       "  padding-left: 0.5em;\n",
       "}\n",
       "\n",
       ".xr-section-summary-in:disabled + label {\n",
       "  color: var(--xr-font-color2);\n",
       "}\n",
       "\n",
       ".xr-section-summary-in + label:before {\n",
       "  display: inline-block;\n",
       "  content: '►';\n",
       "  font-size: 11px;\n",
       "  width: 15px;\n",
       "  text-align: center;\n",
       "}\n",
       "\n",
       ".xr-section-summary-in:disabled + label:before {\n",
       "  color: var(--xr-disabled-color);\n",
       "}\n",
       "\n",
       ".xr-section-summary-in:checked + label:before {\n",
       "  content: '▼';\n",
       "}\n",
       "\n",
       ".xr-section-summary-in:checked + label > span {\n",
       "  display: none;\n",
       "}\n",
       "\n",
       ".xr-section-summary,\n",
       ".xr-section-inline-details {\n",
       "  padding-top: 4px;\n",
       "  padding-bottom: 4px;\n",
       "}\n",
       "\n",
       ".xr-section-inline-details {\n",
       "  grid-column: 2 / -1;\n",
       "}\n",
       "\n",
       ".xr-section-details {\n",
       "  display: none;\n",
       "  grid-column: 1 / -1;\n",
       "  margin-bottom: 5px;\n",
       "}\n",
       "\n",
       ".xr-section-summary-in:checked ~ .xr-section-details {\n",
       "  display: contents;\n",
       "}\n",
       "\n",
       ".xr-array-wrap {\n",
       "  grid-column: 1 / -1;\n",
       "  display: grid;\n",
       "  grid-template-columns: 20px auto;\n",
       "}\n",
       "\n",
       ".xr-array-wrap > label {\n",
       "  grid-column: 1;\n",
       "  vertical-align: top;\n",
       "}\n",
       "\n",
       ".xr-preview {\n",
       "  color: var(--xr-font-color3);\n",
       "}\n",
       "\n",
       ".xr-array-preview,\n",
       ".xr-array-data {\n",
       "  padding: 0 5px !important;\n",
       "  grid-column: 2;\n",
       "}\n",
       "\n",
       ".xr-array-data,\n",
       ".xr-array-in:checked ~ .xr-array-preview {\n",
       "  display: none;\n",
       "}\n",
       "\n",
       ".xr-array-in:checked ~ .xr-array-data,\n",
       ".xr-array-preview {\n",
       "  display: inline-block;\n",
       "}\n",
       "\n",
       ".xr-dim-list {\n",
       "  display: inline-block !important;\n",
       "  list-style: none;\n",
       "  padding: 0 !important;\n",
       "  margin: 0;\n",
       "}\n",
       "\n",
       ".xr-dim-list li {\n",
       "  display: inline-block;\n",
       "  padding: 0;\n",
       "  margin: 0;\n",
       "}\n",
       "\n",
       ".xr-dim-list:before {\n",
       "  content: '(';\n",
       "}\n",
       "\n",
       ".xr-dim-list:after {\n",
       "  content: ')';\n",
       "}\n",
       "\n",
       ".xr-dim-list li:not(:last-child):after {\n",
       "  content: ',';\n",
       "  padding-right: 5px;\n",
       "}\n",
       "\n",
       ".xr-has-index {\n",
       "  font-weight: bold;\n",
       "}\n",
       "\n",
       ".xr-var-list,\n",
       ".xr-var-item {\n",
       "  display: contents;\n",
       "}\n",
       "\n",
       ".xr-var-item > div,\n",
       ".xr-var-item label,\n",
       ".xr-var-item > .xr-var-name span {\n",
       "  background-color: var(--xr-background-color-row-even);\n",
       "  margin-bottom: 0;\n",
       "}\n",
       "\n",
       ".xr-var-item > .xr-var-name:hover span {\n",
       "  padding-right: 5px;\n",
       "}\n",
       "\n",
       ".xr-var-list > li:nth-child(odd) > div,\n",
       ".xr-var-list > li:nth-child(odd) > label,\n",
       ".xr-var-list > li:nth-child(odd) > .xr-var-name span {\n",
       "  background-color: var(--xr-background-color-row-odd);\n",
       "}\n",
       "\n",
       ".xr-var-name {\n",
       "  grid-column: 1;\n",
       "}\n",
       "\n",
       ".xr-var-dims {\n",
       "  grid-column: 2;\n",
       "}\n",
       "\n",
       ".xr-var-dtype {\n",
       "  grid-column: 3;\n",
       "  text-align: right;\n",
       "  color: var(--xr-font-color2);\n",
       "}\n",
       "\n",
       ".xr-var-preview {\n",
       "  grid-column: 4;\n",
       "}\n",
       "\n",
       ".xr-index-preview {\n",
       "  grid-column: 2 / 5;\n",
       "  color: var(--xr-font-color2);\n",
       "}\n",
       "\n",
       ".xr-var-name,\n",
       ".xr-var-dims,\n",
       ".xr-var-dtype,\n",
       ".xr-preview,\n",
       ".xr-attrs dt {\n",
       "  white-space: nowrap;\n",
       "  overflow: hidden;\n",
       "  text-overflow: ellipsis;\n",
       "  padding-right: 10px;\n",
       "}\n",
       "\n",
       ".xr-var-name:hover,\n",
       ".xr-var-dims:hover,\n",
       ".xr-var-dtype:hover,\n",
       ".xr-attrs dt:hover {\n",
       "  overflow: visible;\n",
       "  width: auto;\n",
       "  z-index: 1;\n",
       "}\n",
       "\n",
       ".xr-var-attrs,\n",
       ".xr-var-data,\n",
       ".xr-index-data {\n",
       "  display: none;\n",
       "  background-color: var(--xr-background-color) !important;\n",
       "  padding-bottom: 5px !important;\n",
       "}\n",
       "\n",
       ".xr-var-attrs-in:checked ~ .xr-var-attrs,\n",
       ".xr-var-data-in:checked ~ .xr-var-data,\n",
       ".xr-index-data-in:checked ~ .xr-index-data {\n",
       "  display: block;\n",
       "}\n",
       "\n",
       ".xr-var-data > table {\n",
       "  float: right;\n",
       "}\n",
       "\n",
       ".xr-var-name span,\n",
       ".xr-var-data,\n",
       ".xr-index-name div,\n",
       ".xr-index-data,\n",
       ".xr-attrs {\n",
       "  padding-left: 25px !important;\n",
       "}\n",
       "\n",
       ".xr-attrs,\n",
       ".xr-var-attrs,\n",
       ".xr-var-data,\n",
       ".xr-index-data {\n",
       "  grid-column: 1 / -1;\n",
       "}\n",
       "\n",
       "dl.xr-attrs {\n",
       "  padding: 0;\n",
       "  margin: 0;\n",
       "  display: grid;\n",
       "  grid-template-columns: 125px auto;\n",
       "}\n",
       "\n",
       ".xr-attrs dt,\n",
       ".xr-attrs dd {\n",
       "  padding: 0;\n",
       "  margin: 0;\n",
       "  float: left;\n",
       "  padding-right: 10px;\n",
       "  width: auto;\n",
       "}\n",
       "\n",
       ".xr-attrs dt {\n",
       "  font-weight: normal;\n",
       "  grid-column: 1;\n",
       "}\n",
       "\n",
       ".xr-attrs dt:hover span {\n",
       "  display: inline-block;\n",
       "  background: var(--xr-background-color);\n",
       "  padding-right: 10px;\n",
       "}\n",
       "\n",
       ".xr-attrs dd {\n",
       "  grid-column: 2;\n",
       "  white-space: pre-wrap;\n",
       "  word-break: break-all;\n",
       "}\n",
       "\n",
       ".xr-icon-database,\n",
       ".xr-icon-file-text2,\n",
       ".xr-no-icon {\n",
       "  display: inline-block;\n",
       "  vertical-align: middle;\n",
       "  width: 1em;\n",
       "  height: 1.5em !important;\n",
       "  stroke-width: 0;\n",
       "  stroke: currentColor;\n",
       "  fill: currentColor;\n",
       "}\n",
       "</style><pre class='xr-text-repr-fallback'>&lt;xarray.DataArray &#x27;i05-59818&#x27; (polar: 251, eV: 1040, theta_par: 1000)&gt; Size: 2GB\n",
       "[count/s] dask.array&lt;truediv, shape=(251, 1040, 1000), dtype=float64, chunksi...\n",
       "Coordinates:\n",
       "  * polar      (polar) float64 2kB -20.0 -19.8 -19.6 -19.4 ... 29.6 29.8 30.0\n",
       "  * theta_par  (theta_par) float64 8kB -23.94 -23.9 -23.85 ... 23.85 23.9 23.94\n",
       "  * eV         (eV) float64 8kB 104.5 104.5 104.5 104.5 ... 105.4 105.4 105.4\n",
       "Attributes: (7)</pre><div class='xr-wrap' style='display:none'><div class='xr-header'><div class='xr-obj-type'>xarray.DataArray</div><div class='xr-array-name'>'i05-59818'</div><ul class='xr-dim-list'><li><span class='xr-has-index'>polar</span>: 251</li><li><span class='xr-has-index'>eV</span>: 1040</li><li><span class='xr-has-index'>theta_par</span>: 1000</li></ul></div><ul class='xr-sections'><li class='xr-section-item'><div class='xr-array-wrap'><input id='section-d8c6a070-6473-4a64-b5e4-1366cc9c30f9' class='xr-array-in' type='checkbox' ><label for='section-d8c6a070-6473-4a64-b5e4-1366cc9c30f9' title='Show/hide data repr'><svg class='icon xr-icon-database'><use xlink:href='#icon-database'></use></svg></label><div class='xr-array-preview xr-preview'><span>[count/s] dask.array&lt;truediv, shape=(251, 1040, 1000), dtype=float6...</span></div><div class='xr-array-data'><table><tbody><tr><th>Magnitude</th><td style='text-align:left;'><table>\n",
       "    <tr>\n",
       "        <td>\n",
       "            <table style=\"border-collapse: collapse;\">\n",
       "                <thead>\n",
       "                    <tr>\n",
       "                        <td> </td>\n",
       "                        <th> Array </th>\n",
       "                        <th> Chunk </th>\n",
       "                    </tr>\n",
       "                </thead>\n",
       "                <tbody>\n",
       "                    \n",
       "                    <tr>\n",
       "                        <th> Bytes </th>\n",
       "                        <td> 1.94 GiB </td>\n",
       "                        <td> 253.91 MiB </td>\n",
       "                    </tr>\n",
       "                    \n",
       "                    <tr>\n",
       "                        <th> Shape </th>\n",
       "                        <td> (251, 1040, 1000) </td>\n",
       "                        <td> (32, 1040, 1000) </td>\n",
       "                    </tr>\n",
       "                    <tr>\n",
       "                        <th> Dask graph </th>\n",
       "                        <td colspan=\"2\"> 8 chunks in 4 graph layers </td>\n",
       "                    </tr>\n",
       "                    <tr>\n",
       "                        <th> Data type </th>\n",
       "                        <td colspan=\"2\"> float64 numpy.ndarray </td>\n",
       "                    </tr>\n",
       "                </tbody>\n",
       "            </table>\n",
       "        </td>\n",
       "        <td>\n",
       "        <svg width=\"200\" height=\"195\" style=\"stroke:rgb(0,0,0);stroke-width:1\" >\n",
       "\n",
       "  <!-- Horizontal lines -->\n",
       "  <line x1=\"10\" y1=\"0\" x2=\"35\" y2=\"25\" style=\"stroke-width:2\" />\n",
       "  <line x1=\"10\" y1=\"120\" x2=\"35\" y2=\"145\" style=\"stroke-width:2\" />\n",
       "\n",
       "  <!-- Vertical lines -->\n",
       "  <line x1=\"10\" y1=\"0\" x2=\"10\" y2=\"120\" style=\"stroke-width:2\" />\n",
       "  <line x1=\"13\" y1=\"3\" x2=\"13\" y2=\"123\" />\n",
       "  <line x1=\"16\" y1=\"6\" x2=\"16\" y2=\"126\" />\n",
       "  <line x1=\"19\" y1=\"9\" x2=\"19\" y2=\"129\" />\n",
       "  <line x1=\"22\" y1=\"12\" x2=\"22\" y2=\"132\" />\n",
       "  <line x1=\"26\" y1=\"16\" x2=\"26\" y2=\"136\" />\n",
       "  <line x1=\"29\" y1=\"19\" x2=\"29\" y2=\"139\" />\n",
       "  <line x1=\"32\" y1=\"22\" x2=\"32\" y2=\"142\" />\n",
       "  <line x1=\"35\" y1=\"25\" x2=\"35\" y2=\"145\" style=\"stroke-width:2\" />\n",
       "\n",
       "  <!-- Colored Rectangle -->\n",
       "  <polygon points=\"10.0,0.0 35.15627816699772,25.156278166997723 35.15627816699772,145.1562781669977 10.0,120.0\" style=\"fill:#ECB172A0;stroke-width:0\"/>\n",
       "\n",
       "  <!-- Horizontal lines -->\n",
       "  <line x1=\"10\" y1=\"0\" x2=\"125\" y2=\"0\" style=\"stroke-width:2\" />\n",
       "  <line x1=\"13\" y1=\"3\" x2=\"128\" y2=\"3\" />\n",
       "  <line x1=\"16\" y1=\"6\" x2=\"131\" y2=\"6\" />\n",
       "  <line x1=\"19\" y1=\"9\" x2=\"135\" y2=\"9\" />\n",
       "  <line x1=\"22\" y1=\"12\" x2=\"138\" y2=\"12\" />\n",
       "  <line x1=\"26\" y1=\"16\" x2=\"141\" y2=\"16\" />\n",
       "  <line x1=\"29\" y1=\"19\" x2=\"144\" y2=\"19\" />\n",
       "  <line x1=\"32\" y1=\"22\" x2=\"147\" y2=\"22\" />\n",
       "  <line x1=\"35\" y1=\"25\" x2=\"150\" y2=\"25\" style=\"stroke-width:2\" />\n",
       "\n",
       "  <!-- Vertical lines -->\n",
       "  <line x1=\"10\" y1=\"0\" x2=\"35\" y2=\"25\" style=\"stroke-width:2\" />\n",
       "  <line x1=\"125\" y1=\"0\" x2=\"150\" y2=\"25\" style=\"stroke-width:2\" />\n",
       "\n",
       "  <!-- Colored Rectangle -->\n",
       "  <polygon points=\"10.0,0.0 125.38461538461539,0.0 150.54089355161312,25.156278166997723 35.15627816699772,25.156278166997723\" style=\"fill:#ECB172A0;stroke-width:0\"/>\n",
       "\n",
       "  <!-- Horizontal lines -->\n",
       "  <line x1=\"35\" y1=\"25\" x2=\"150\" y2=\"25\" style=\"stroke-width:2\" />\n",
       "  <line x1=\"35\" y1=\"145\" x2=\"150\" y2=\"145\" style=\"stroke-width:2\" />\n",
       "\n",
       "  <!-- Vertical lines -->\n",
       "  <line x1=\"35\" y1=\"25\" x2=\"35\" y2=\"145\" style=\"stroke-width:2\" />\n",
       "  <line x1=\"150\" y1=\"25\" x2=\"150\" y2=\"145\" style=\"stroke-width:2\" />\n",
       "\n",
       "  <!-- Colored Rectangle -->\n",
       "  <polygon points=\"35.15627816699772,25.156278166997723 150.54089355161312,25.156278166997723 150.54089355161312,145.1562781669977 35.15627816699772,145.1562781669977\" style=\"fill:#ECB172A0;stroke-width:0\"/>\n",
       "\n",
       "  <!-- Text -->\n",
       "  <text x=\"92.848586\" y=\"165.156278\" font-size=\"1.0rem\" font-weight=\"100\" text-anchor=\"middle\" >1000</text>\n",
       "  <text x=\"170.540894\" y=\"85.156278\" font-size=\"1.0rem\" font-weight=\"100\" text-anchor=\"middle\" transform=\"rotate(-90,170.540894,85.156278)\">1040</text>\n",
       "  <text x=\"12.578139\" y=\"152.578139\" font-size=\"1.0rem\" font-weight=\"100\" text-anchor=\"middle\" transform=\"rotate(45,12.578139,152.578139)\">251</text>\n",
       "</svg>\n",
       "        </td>\n",
       "    </tr>\n",
       "</table></td></tr><tr><th>Units</th><td style='text-align:left;'>count/s</td></tr></tbody></table></div></div></li><li class='xr-section-item'><input id='section-38402a1d-a391-4ccb-98b2-95a701363053' class='xr-section-summary-in' type='checkbox'  checked><label for='section-38402a1d-a391-4ccb-98b2-95a701363053' class='xr-section-summary' >Coordinates: <span>(3)</span></label><div class='xr-section-inline-details'></div><div class='xr-section-details'><ul class='xr-var-list'><li class='xr-var-item'><div class='xr-var-name'><span class='xr-has-index'>polar</span></div><div class='xr-var-dims'>(polar)</div><div class='xr-var-dtype'>float64</div><div class='xr-var-preview xr-preview'>-20.0 -19.8 -19.6 ... 29.8 30.0</div><input id='attrs-3d9f669a-a5c6-49db-bd98-d90ec20af27f' class='xr-var-attrs-in' type='checkbox' ><label for='attrs-3d9f669a-a5c6-49db-bd98-d90ec20af27f' title='Show/Hide attributes'><svg class='icon xr-icon-file-text2'><use xlink:href='#icon-file-text2'></use></svg></label><input id='data-63b1f06f-5cba-40eb-977e-89bbd34fda53' class='xr-var-data-in' type='checkbox'><label for='data-63b1f06f-5cba-40eb-977e-89bbd34fda53' title='Show/Hide data repr'><svg class='icon xr-icon-database'><use xlink:href='#icon-database'></use></svg></label><div class='xr-var-attrs'><dl class='xr-attrs'><dt><span>units :</span></dt><dd>deg</dd></dl></div><div class='xr-var-data'><pre>array([-19.999238, -19.799162, -19.599657, ...,  29.6008  ,  29.800876,\n",
       "        30.000953])</pre></div></li><li class='xr-var-item'><div class='xr-var-name'><span class='xr-has-index'>theta_par</span></div><div class='xr-var-dims'>(theta_par)</div><div class='xr-var-dtype'>float64</div><div class='xr-var-preview xr-preview'>-23.94 -23.9 -23.85 ... 23.9 23.94</div><input id='attrs-641bb9a8-d70d-4cbd-a858-9084938e7c59' class='xr-var-attrs-in' type='checkbox' ><label for='attrs-641bb9a8-d70d-4cbd-a858-9084938e7c59' title='Show/Hide attributes'><svg class='icon xr-icon-file-text2'><use xlink:href='#icon-file-text2'></use></svg></label><input id='data-9e36e6da-be99-43ad-8558-8395cc7705df' class='xr-var-data-in' type='checkbox'><label for='data-9e36e6da-be99-43ad-8558-8395cc7705df' title='Show/Hide data repr'><svg class='icon xr-icon-database'><use xlink:href='#icon-database'></use></svg></label><div class='xr-var-attrs'><dl class='xr-attrs'><dt><span>units :</span></dt><dd>deg</dd></dl></div><div class='xr-var-data'><pre>array([-23.943889, -23.895954, -23.848018, ...,  23.848018,  23.895954,\n",
       "        23.943889])</pre></div></li><li class='xr-var-item'><div class='xr-var-name'><span class='xr-has-index'>eV</span></div><div class='xr-var-dims'>(eV)</div><div class='xr-var-dtype'>float64</div><div class='xr-var-preview xr-preview'>104.5 104.5 104.5 ... 105.4 105.4</div><input id='attrs-790daad5-96df-472d-8e50-a6d982a0732d' class='xr-var-attrs-in' type='checkbox' ><label for='attrs-790daad5-96df-472d-8e50-a6d982a0732d' title='Show/Hide attributes'><svg class='icon xr-icon-file-text2'><use xlink:href='#icon-file-text2'></use></svg></label><input id='data-49e37498-6256-4abe-b6bc-9017e10b1164' class='xr-var-data-in' type='checkbox'><label for='data-49e37498-6256-4abe-b6bc-9017e10b1164' title='Show/Hide data repr'><svg class='icon xr-icon-database'><use xlink:href='#icon-database'></use></svg></label><div class='xr-var-attrs'><dl class='xr-attrs'><dt><span>units :</span></dt><dd>eV</dd></dl></div><div class='xr-var-data'><pre>array([104.529205, 104.530015, 104.530825, ..., 105.369175, 105.369985,\n",
       "       105.370795])</pre></div></li></ul></div></li><li class='xr-section-item'><input id='section-9c0aac3e-c26b-4c51-a8ec-19881d27494f' class='xr-section-summary-in' type='checkbox'  ><label for='section-9c0aac3e-c26b-4c51-a8ec-19881d27494f' class='xr-section-summary' >Indexes: <span>(3)</span></label><div class='xr-section-inline-details'></div><div class='xr-section-details'><ul class='xr-var-list'><li class='xr-var-item'><div class='xr-index-name'><div>polar</div></div><div class='xr-index-preview'>PandasIndex</div><div></div><input id='index-c34417f8-0280-43ff-96dc-3469c94bfcaa' class='xr-index-data-in' type='checkbox'/><label for='index-c34417f8-0280-43ff-96dc-3469c94bfcaa' title='Show/Hide index repr'><svg class='icon xr-icon-database'><use xlink:href='#icon-database'></use></svg></label><div class='xr-index-data'><pre>PandasIndex(Index([     -19.9992378484,      -19.7991616294,     -19.59965705674,\n",
       "       -19.400152484080003, -19.199504618740004,     -19.00000004608,\n",
       "           -18.79992382708,     -18.59927596174,     -18.39919974274,\n",
       "           -18.19969517008,\n",
       "       ...\n",
       "        28.200838247720004,   28.40091446672001,  28.600990685720006,\n",
       "        28.800495258380014,  29.000571477380007,  29.200647696380003,\n",
       "            29.40072391538,  29.600800134380012,   29.80087635338001,\n",
       "            30.00095257238],\n",
       "      dtype=&#x27;float64&#x27;, name=&#x27;polar&#x27;, length=251))</pre></div></li><li class='xr-var-item'><div class='xr-index-name'><div>theta_par</div></div><div class='xr-index-preview'>PandasIndex</div><div></div><input id='index-bf4d1ab4-7237-41de-9c58-e40d3fcc072b' class='xr-index-data-in' type='checkbox'/><label for='index-bf4d1ab4-7237-41de-9c58-e40d3fcc072b' title='Show/Hide index repr'><svg class='icon xr-icon-database'><use xlink:href='#icon-database'></use></svg></label><div class='xr-index-data'><pre>PandasIndex(Index([-23.943889285714288, -23.895953571428574,  -23.84801785714286,\n",
       "       -23.800082142857146, -23.752146428571432,  -23.70421071428572,\n",
       "                -23.656275, -23.608339285714287, -23.560403571428573,\n",
       "        -23.51246785714286,\n",
       "       ...\n",
       "        23.512467857142855,  23.560403571428576,   23.60833928571429,\n",
       "        23.656275000000004,   23.70421071428572,  23.752146428571432,\n",
       "        23.800082142857146,   23.84801785714286,  23.895953571428574,\n",
       "        23.943889285714288],\n",
       "      dtype=&#x27;float64&#x27;, name=&#x27;theta_par&#x27;, length=1000))</pre></div></li><li class='xr-var-item'><div class='xr-index-name'><div>eV</div></div><div class='xr-index-preview'>PandasIndex</div><div></div><input id='index-c9b75941-e717-4903-b7c3-fb29914a0aab' class='xr-index-data-in' type='checkbox'/><label for='index-c9b75941-e717-4903-b7c3-fb29914a0aab' title='Show/Hide index repr'><svg class='icon xr-icon-database'><use xlink:href='#icon-database'></use></svg></label><div class='xr-index-data'><pre>PandasIndex(Index([104.52920499999999, 104.53001499999999,         104.530825,\n",
       "               104.531635,         104.532445,         104.533255,\n",
       "       104.53406499999998, 104.53487499999999, 104.53568499999999,\n",
       "       104.53649499999999,\n",
       "       ...\n",
       "       105.36350499999999, 105.36431499999999, 105.36512499999999,\n",
       "               105.365935,         105.366745,         105.367555,\n",
       "               105.368365, 105.36917499999998, 105.36998499999999,\n",
       "       105.37079499999999],\n",
       "      dtype=&#x27;float64&#x27;, name=&#x27;eV&#x27;, length=1040))</pre></div></li></ul></div></li><li class='xr-section-item'><input id='section-4be98b5f-f814-41cf-8be2-f886aa39085e' class='xr-section-summary-in' type='checkbox'  ><label for='section-4be98b5f-f814-41cf-8be2-f886aa39085e' class='xr-section-summary' >Attributes: <span>(7)</span></label><div class='xr-section-inline-details'></div><div class='xr-section-details'><dl class='xr-attrs'><dt><span>_scan :</span></dt><dd>name=&#x27;i05-59818&#x27; filepath=&#x27;/Users/philking/Library/CloudStorage/OneDrive-UniversityofStAndrews/Lab/Example data/i05-59818.nxs&#x27; loc=&#x27;Diamond_I05_ARPES&#x27; timestamp=&#x27;2024-10-25 04:45:11&#x27; scan_command=None</dd><dt><span>_calibration :</span></dt><dd>EF_correction=None V0=None</dd><dt><span>_analyser :</span></dt><dd>analyser=ARPESAnalyserMetadataModel(model=None, slit=ARPESSlitMetadataModel(width=&lt;Quantity(0.2, &#x27;millimeter&#x27;)&gt;, identifier=None)) scan=ARPESScanMetadataModel(eV=&lt;Quantity([104.529205 105.370795], &#x27;electron_volt&#x27;)&gt;, step_size=&lt;Quantity(0.0008099999999999966, &#x27;dimensionless&#x27;)&gt;, PE=&lt;Quantity(10, &#x27;electron_volt&#x27;)&gt;, sweeps=10, dwell=&lt;Quantity(1.0, &#x27;second&#x27;)&gt;, lens_mode=&#x27;Angular30&#x27;, acquisition_mode=&#x27;Fixed&#x27;, eV_type=&#x27;kinetic&#x27;) angles=ARPESAnalyserAnglesMetadataModel(polar=None, tilt=None, azi=&lt;Quantity(0, &#x27;degree&#x27;)&gt;) deflector=ARPESDeflectorMetadataModel(parallel=NamedAxisMetadataModel(local_name=&#x27;deflector_y&#x27;, value=None), perp=NamedAxisMetadataModel(local_name=&#x27;deflector_x&#x27;, value=None))</dd><dt><span>_manipulator :</span></dt><dd>polar=AxisMetadataModelWithReference(local_name=&#x27;sapolar&#x27;, value=&lt;Quantity([-19.99923785  30.00095257], &#x27;degree&#x27;)&gt;, reference_value=None) tilt=AxisMetadataModelWithReference(local_name=&#x27;satilt&#x27;, value=&lt;Quantity(0.006, &#x27;degree&#x27;)&gt;, reference_value=None) azi=AxisMetadataModelWithReference(local_name=&#x27;saazimuth&#x27;, value=&lt;Quantity(-12.510000138999999, &#x27;degree&#x27;)&gt;, reference_value=None) x1=AxisMetadataModelWithReference(local_name=&#x27;sax&#x27;, value=&lt;Quantity(1.089, &#x27;millimeter&#x27;)&gt;, reference_value=None) x2=AxisMetadataModelWithReference(local_name=&#x27;say&#x27;, value=&lt;Quantity([0.171 0.42 ], &#x27;millimeter&#x27;)&gt;, reference_value=None) x3=AxisMetadataModelWithReference(local_name=&#x27;saz&#x27;, value=&lt;Quantity(-2.8659999999999854, &#x27;millimeter&#x27;)&gt;, reference_value=None)</dd><dt><span>_photon :</span></dt><dd>hv=&lt;Quantity(110.00030699999998, &#x27;electron_volt&#x27;)&gt; polarisation=&#x27;LH&#x27; exit_slit=&lt;Quantity(0.01, &#x27;millimeter&#x27;)&gt;</dd><dt><span>_temperature :</span></dt><dd>sample=&lt;Quantity(11.9292, &#x27;kelvin&#x27;)&gt; cryostat=&lt;Quantity(10.8454, &#x27;kelvin&#x27;)&gt; shield=&lt;Quantity(60.5578, &#x27;kelvin&#x27;)&gt; setpoint=&lt;Quantity(12.0, &#x27;kelvin&#x27;)&gt;</dd><dt><span>_analysis_history :</span></dt><dd>records=[AnalysisHistoryRecord(time=datetime.datetime(2024, 11, 9, 15, 54, 12, 388981), peaks_version=&#x27;0.3.0-dev&#x27;, record={&#x27;record&#x27;: &#x27;Data loaded&#x27;, &#x27;loc&#x27;: &#x27;Diamond_I05_ARPES&#x27;, &#x27;loader&#x27;: &#x27;I05ARPESLoader&#x27;, &#x27;file_name&#x27;: &#x27;/Users/philking/Library/CloudStorage/OneDrive-UniversityofStAndrews/Lab/Example data/i05-59818.nxs&#x27;}, fn_name=&#x27;_add_load_history&#x27;)]</dd></dl></div></li></ul></div></div>"
      ],
      "text/plain": [
       "<xarray.DataArray 'i05-59818' (polar: 251, eV: 1040, theta_par: 1000)> Size: 2GB\n",
       "[count/s] dask.array<truediv, shape=(251, 1040, 1000), dtype=float64, chunksi...\n",
       "Coordinates:\n",
       "  * polar      (polar) float64 2kB -20.0 -19.8 -19.6 -19.4 ... 29.6 29.8 30.0\n",
       "  * theta_par  (theta_par) float64 8kB -23.94 -23.9 -23.85 ... 23.85 23.9 23.94\n",
       "  * eV         (eV) float64 8kB 104.5 104.5 104.5 104.5 ... 105.4 105.4 105.4\n",
       "Attributes: (7)"
      ]
     },
     "execution_count": 18,
     "metadata": {},
     "output_type": "execute_result"
    }
   ],
   "source": [
    "FS1"
   ]
  },
  {
   "cell_type": "markdown",
   "id": "47f9bb61-25f8-4e1c-b2b6-6a899d475f46",
   "metadata": {},
   "source": [
    "The usual `xarray` commands (see later) still work, and will typically be evaluated lazily, making them extremely quick, but note no computation has yet been performed. The actual computation only be performed when required, and can be triggered by calling `.compute()`. "
   ]
  },
  {
   "cell_type": "code",
   "execution_count": 19,
   "id": "1d6ea48c-3285-4b56-839a-3ab518827c4b",
   "metadata": {
    "ExecuteTime": {
     "end_time": "2024-10-21T08:59:53.342955Z",
     "start_time": "2024-10-21T08:59:52.759437Z"
    }
   },
   "outputs": [
    {
     "name": "stdout",
     "output_type": "stream",
     "text": [
      "CPU times: user 351 ms, sys: 216 ms, total: 567 ms\n",
      "Wall time: 285 ms\n"
     ]
    },
    {
     "data": {
      "text/html": [
       "<div><svg style=\"position: absolute; width: 0; height: 0; overflow: hidden\">\n",
       "<defs>\n",
       "<symbol id=\"icon-database\" viewBox=\"0 0 32 32\">\n",
       "<path d=\"M16 0c-8.837 0-16 2.239-16 5v4c0 2.761 7.163 5 16 5s16-2.239 16-5v-4c0-2.761-7.163-5-16-5z\"></path>\n",
       "<path d=\"M16 17c-8.837 0-16-2.239-16-5v6c0 2.761 7.163 5 16 5s16-2.239 16-5v-6c0 2.761-7.163 5-16 5z\"></path>\n",
       "<path d=\"M16 26c-8.837 0-16-2.239-16-5v6c0 2.761 7.163 5 16 5s16-2.239 16-5v-6c0 2.761-7.163 5-16 5z\"></path>\n",
       "</symbol>\n",
       "<symbol id=\"icon-file-text2\" viewBox=\"0 0 32 32\">\n",
       "<path d=\"M28.681 7.159c-0.694-0.947-1.662-2.053-2.724-3.116s-2.169-2.030-3.116-2.724c-1.612-1.182-2.393-1.319-2.841-1.319h-15.5c-1.378 0-2.5 1.121-2.5 2.5v27c0 1.378 1.122 2.5 2.5 2.5h23c1.378 0 2.5-1.122 2.5-2.5v-19.5c0-0.448-0.137-1.23-1.319-2.841zM24.543 5.457c0.959 0.959 1.712 1.825 2.268 2.543h-4.811v-4.811c0.718 0.556 1.584 1.309 2.543 2.268zM28 29.5c0 0.271-0.229 0.5-0.5 0.5h-23c-0.271 0-0.5-0.229-0.5-0.5v-27c0-0.271 0.229-0.5 0.5-0.5 0 0 15.499-0 15.5 0v7c0 0.552 0.448 1 1 1h7v19.5z\"></path>\n",
       "<path d=\"M23 26h-14c-0.552 0-1-0.448-1-1s0.448-1 1-1h14c0.552 0 1 0.448 1 1s-0.448 1-1 1z\"></path>\n",
       "<path d=\"M23 22h-14c-0.552 0-1-0.448-1-1s0.448-1 1-1h14c0.552 0 1 0.448 1 1s-0.448 1-1 1z\"></path>\n",
       "<path d=\"M23 18h-14c-0.552 0-1-0.448-1-1s0.448-1 1-1h14c0.552 0 1 0.448 1 1s-0.448 1-1 1z\"></path>\n",
       "</symbol>\n",
       "</defs>\n",
       "</svg>\n",
       "<style>/* CSS stylesheet for displaying xarray objects in jupyterlab.\n",
       " *\n",
       " */\n",
       "\n",
       ":root {\n",
       "  --xr-font-color0: var(--jp-content-font-color0, rgba(0, 0, 0, 1));\n",
       "  --xr-font-color2: var(--jp-content-font-color2, rgba(0, 0, 0, 0.54));\n",
       "  --xr-font-color3: var(--jp-content-font-color3, rgba(0, 0, 0, 0.38));\n",
       "  --xr-border-color: var(--jp-border-color2, #e0e0e0);\n",
       "  --xr-disabled-color: var(--jp-layout-color3, #bdbdbd);\n",
       "  --xr-background-color: var(--jp-layout-color0, white);\n",
       "  --xr-background-color-row-even: var(--jp-layout-color1, white);\n",
       "  --xr-background-color-row-odd: var(--jp-layout-color2, #eeeeee);\n",
       "}\n",
       "\n",
       "html[theme=dark],\n",
       "html[data-theme=dark],\n",
       "body[data-theme=dark],\n",
       "body.vscode-dark {\n",
       "  --xr-font-color0: rgba(255, 255, 255, 1);\n",
       "  --xr-font-color2: rgba(255, 255, 255, 0.54);\n",
       "  --xr-font-color3: rgba(255, 255, 255, 0.38);\n",
       "  --xr-border-color: #1F1F1F;\n",
       "  --xr-disabled-color: #515151;\n",
       "  --xr-background-color: #111111;\n",
       "  --xr-background-color-row-even: #111111;\n",
       "  --xr-background-color-row-odd: #313131;\n",
       "}\n",
       "\n",
       ".xr-wrap {\n",
       "  display: block !important;\n",
       "  min-width: 300px;\n",
       "  max-width: 700px;\n",
       "}\n",
       "\n",
       ".xr-text-repr-fallback {\n",
       "  /* fallback to plain text repr when CSS is not injected (untrusted notebook) */\n",
       "  display: none;\n",
       "}\n",
       "\n",
       ".xr-header {\n",
       "  padding-top: 6px;\n",
       "  padding-bottom: 6px;\n",
       "  margin-bottom: 4px;\n",
       "  border-bottom: solid 1px var(--xr-border-color);\n",
       "}\n",
       "\n",
       ".xr-header > div,\n",
       ".xr-header > ul {\n",
       "  display: inline;\n",
       "  margin-top: 0;\n",
       "  margin-bottom: 0;\n",
       "}\n",
       "\n",
       ".xr-obj-type,\n",
       ".xr-array-name {\n",
       "  margin-left: 2px;\n",
       "  margin-right: 10px;\n",
       "}\n",
       "\n",
       ".xr-obj-type {\n",
       "  color: var(--xr-font-color2);\n",
       "}\n",
       "\n",
       ".xr-sections {\n",
       "  padding-left: 0 !important;\n",
       "  display: grid;\n",
       "  grid-template-columns: 150px auto auto 1fr 0 20px 0 20px;\n",
       "}\n",
       "\n",
       ".xr-section-item {\n",
       "  display: contents;\n",
       "}\n",
       "\n",
       ".xr-section-item input {\n",
       "  display: inline-block;\n",
       "  opacity: 0;\n",
       "}\n",
       "\n",
       ".xr-section-item input + label {\n",
       "  color: var(--xr-disabled-color);\n",
       "}\n",
       "\n",
       ".xr-section-item input:enabled + label {\n",
       "  cursor: pointer;\n",
       "  color: var(--xr-font-color2);\n",
       "}\n",
       "\n",
       ".xr-section-item input:focus + label {\n",
       "  border: 2px solid var(--xr-font-color0);\n",
       "}\n",
       "\n",
       ".xr-section-item input:enabled + label:hover {\n",
       "  color: var(--xr-font-color0);\n",
       "}\n",
       "\n",
       ".xr-section-summary {\n",
       "  grid-column: 1;\n",
       "  color: var(--xr-font-color2);\n",
       "  font-weight: 500;\n",
       "}\n",
       "\n",
       ".xr-section-summary > span {\n",
       "  display: inline-block;\n",
       "  padding-left: 0.5em;\n",
       "}\n",
       "\n",
       ".xr-section-summary-in:disabled + label {\n",
       "  color: var(--xr-font-color2);\n",
       "}\n",
       "\n",
       ".xr-section-summary-in + label:before {\n",
       "  display: inline-block;\n",
       "  content: '►';\n",
       "  font-size: 11px;\n",
       "  width: 15px;\n",
       "  text-align: center;\n",
       "}\n",
       "\n",
       ".xr-section-summary-in:disabled + label:before {\n",
       "  color: var(--xr-disabled-color);\n",
       "}\n",
       "\n",
       ".xr-section-summary-in:checked + label:before {\n",
       "  content: '▼';\n",
       "}\n",
       "\n",
       ".xr-section-summary-in:checked + label > span {\n",
       "  display: none;\n",
       "}\n",
       "\n",
       ".xr-section-summary,\n",
       ".xr-section-inline-details {\n",
       "  padding-top: 4px;\n",
       "  padding-bottom: 4px;\n",
       "}\n",
       "\n",
       ".xr-section-inline-details {\n",
       "  grid-column: 2 / -1;\n",
       "}\n",
       "\n",
       ".xr-section-details {\n",
       "  display: none;\n",
       "  grid-column: 1 / -1;\n",
       "  margin-bottom: 5px;\n",
       "}\n",
       "\n",
       ".xr-section-summary-in:checked ~ .xr-section-details {\n",
       "  display: contents;\n",
       "}\n",
       "\n",
       ".xr-array-wrap {\n",
       "  grid-column: 1 / -1;\n",
       "  display: grid;\n",
       "  grid-template-columns: 20px auto;\n",
       "}\n",
       "\n",
       ".xr-array-wrap > label {\n",
       "  grid-column: 1;\n",
       "  vertical-align: top;\n",
       "}\n",
       "\n",
       ".xr-preview {\n",
       "  color: var(--xr-font-color3);\n",
       "}\n",
       "\n",
       ".xr-array-preview,\n",
       ".xr-array-data {\n",
       "  padding: 0 5px !important;\n",
       "  grid-column: 2;\n",
       "}\n",
       "\n",
       ".xr-array-data,\n",
       ".xr-array-in:checked ~ .xr-array-preview {\n",
       "  display: none;\n",
       "}\n",
       "\n",
       ".xr-array-in:checked ~ .xr-array-data,\n",
       ".xr-array-preview {\n",
       "  display: inline-block;\n",
       "}\n",
       "\n",
       ".xr-dim-list {\n",
       "  display: inline-block !important;\n",
       "  list-style: none;\n",
       "  padding: 0 !important;\n",
       "  margin: 0;\n",
       "}\n",
       "\n",
       ".xr-dim-list li {\n",
       "  display: inline-block;\n",
       "  padding: 0;\n",
       "  margin: 0;\n",
       "}\n",
       "\n",
       ".xr-dim-list:before {\n",
       "  content: '(';\n",
       "}\n",
       "\n",
       ".xr-dim-list:after {\n",
       "  content: ')';\n",
       "}\n",
       "\n",
       ".xr-dim-list li:not(:last-child):after {\n",
       "  content: ',';\n",
       "  padding-right: 5px;\n",
       "}\n",
       "\n",
       ".xr-has-index {\n",
       "  font-weight: bold;\n",
       "}\n",
       "\n",
       ".xr-var-list,\n",
       ".xr-var-item {\n",
       "  display: contents;\n",
       "}\n",
       "\n",
       ".xr-var-item > div,\n",
       ".xr-var-item label,\n",
       ".xr-var-item > .xr-var-name span {\n",
       "  background-color: var(--xr-background-color-row-even);\n",
       "  margin-bottom: 0;\n",
       "}\n",
       "\n",
       ".xr-var-item > .xr-var-name:hover span {\n",
       "  padding-right: 5px;\n",
       "}\n",
       "\n",
       ".xr-var-list > li:nth-child(odd) > div,\n",
       ".xr-var-list > li:nth-child(odd) > label,\n",
       ".xr-var-list > li:nth-child(odd) > .xr-var-name span {\n",
       "  background-color: var(--xr-background-color-row-odd);\n",
       "}\n",
       "\n",
       ".xr-var-name {\n",
       "  grid-column: 1;\n",
       "}\n",
       "\n",
       ".xr-var-dims {\n",
       "  grid-column: 2;\n",
       "}\n",
       "\n",
       ".xr-var-dtype {\n",
       "  grid-column: 3;\n",
       "  text-align: right;\n",
       "  color: var(--xr-font-color2);\n",
       "}\n",
       "\n",
       ".xr-var-preview {\n",
       "  grid-column: 4;\n",
       "}\n",
       "\n",
       ".xr-index-preview {\n",
       "  grid-column: 2 / 5;\n",
       "  color: var(--xr-font-color2);\n",
       "}\n",
       "\n",
       ".xr-var-name,\n",
       ".xr-var-dims,\n",
       ".xr-var-dtype,\n",
       ".xr-preview,\n",
       ".xr-attrs dt {\n",
       "  white-space: nowrap;\n",
       "  overflow: hidden;\n",
       "  text-overflow: ellipsis;\n",
       "  padding-right: 10px;\n",
       "}\n",
       "\n",
       ".xr-var-name:hover,\n",
       ".xr-var-dims:hover,\n",
       ".xr-var-dtype:hover,\n",
       ".xr-attrs dt:hover {\n",
       "  overflow: visible;\n",
       "  width: auto;\n",
       "  z-index: 1;\n",
       "}\n",
       "\n",
       ".xr-var-attrs,\n",
       ".xr-var-data,\n",
       ".xr-index-data {\n",
       "  display: none;\n",
       "  background-color: var(--xr-background-color) !important;\n",
       "  padding-bottom: 5px !important;\n",
       "}\n",
       "\n",
       ".xr-var-attrs-in:checked ~ .xr-var-attrs,\n",
       ".xr-var-data-in:checked ~ .xr-var-data,\n",
       ".xr-index-data-in:checked ~ .xr-index-data {\n",
       "  display: block;\n",
       "}\n",
       "\n",
       ".xr-var-data > table {\n",
       "  float: right;\n",
       "}\n",
       "\n",
       ".xr-var-name span,\n",
       ".xr-var-data,\n",
       ".xr-index-name div,\n",
       ".xr-index-data,\n",
       ".xr-attrs {\n",
       "  padding-left: 25px !important;\n",
       "}\n",
       "\n",
       ".xr-attrs,\n",
       ".xr-var-attrs,\n",
       ".xr-var-data,\n",
       ".xr-index-data {\n",
       "  grid-column: 1 / -1;\n",
       "}\n",
       "\n",
       "dl.xr-attrs {\n",
       "  padding: 0;\n",
       "  margin: 0;\n",
       "  display: grid;\n",
       "  grid-template-columns: 125px auto;\n",
       "}\n",
       "\n",
       ".xr-attrs dt,\n",
       ".xr-attrs dd {\n",
       "  padding: 0;\n",
       "  margin: 0;\n",
       "  float: left;\n",
       "  padding-right: 10px;\n",
       "  width: auto;\n",
       "}\n",
       "\n",
       ".xr-attrs dt {\n",
       "  font-weight: normal;\n",
       "  grid-column: 1;\n",
       "}\n",
       "\n",
       ".xr-attrs dt:hover span {\n",
       "  display: inline-block;\n",
       "  background: var(--xr-background-color);\n",
       "  padding-right: 10px;\n",
       "}\n",
       "\n",
       ".xr-attrs dd {\n",
       "  grid-column: 2;\n",
       "  white-space: pre-wrap;\n",
       "  word-break: break-all;\n",
       "}\n",
       "\n",
       ".xr-icon-database,\n",
       ".xr-icon-file-text2,\n",
       ".xr-no-icon {\n",
       "  display: inline-block;\n",
       "  vertical-align: middle;\n",
       "  width: 1em;\n",
       "  height: 1.5em !important;\n",
       "  stroke-width: 0;\n",
       "  stroke: currentColor;\n",
       "  fill: currentColor;\n",
       "}\n",
       "</style><pre class='xr-text-repr-fallback'>&lt;xarray.DataArray &#x27;i05-59818&#x27; (polar: 251, theta_par: 1000)&gt; Size: 2MB\n",
       "[count/s] dask.array&lt;sum-aggregate, shape=(251, 1000), dtype=float64, chunksi...\n",
       "Coordinates:\n",
       "  * polar      (polar) float64 2kB -20.0 -19.8 -19.6 -19.4 ... 29.6 29.8 30.0\n",
       "  * theta_par  (theta_par) float64 8kB -23.94 -23.9 -23.85 ... 23.85 23.9 23.94\n",
       "Attributes: (7)</pre><div class='xr-wrap' style='display:none'><div class='xr-header'><div class='xr-obj-type'>xarray.DataArray</div><div class='xr-array-name'>'i05-59818'</div><ul class='xr-dim-list'><li><span class='xr-has-index'>polar</span>: 251</li><li><span class='xr-has-index'>theta_par</span>: 1000</li></ul></div><ul class='xr-sections'><li class='xr-section-item'><div class='xr-array-wrap'><input id='section-0269ce5a-7b5c-4934-8de2-10c80c0a4862' class='xr-array-in' type='checkbox' ><label for='section-0269ce5a-7b5c-4934-8de2-10c80c0a4862' title='Show/hide data repr'><svg class='icon xr-icon-database'><use xlink:href='#icon-database'></use></svg></label><div class='xr-array-preview xr-preview'><span>[count/s] dask.array&lt;sum-aggregate, shape=(251, 1000), dtype=float6...</span></div><div class='xr-array-data'><table><tbody><tr><th>Magnitude</th><td style='text-align:left;'><table>\n",
       "    <tr>\n",
       "        <td>\n",
       "            <table style=\"border-collapse: collapse;\">\n",
       "                <thead>\n",
       "                    <tr>\n",
       "                        <td> </td>\n",
       "                        <th> Array </th>\n",
       "                        <th> Chunk </th>\n",
       "                    </tr>\n",
       "                </thead>\n",
       "                <tbody>\n",
       "                    \n",
       "                    <tr>\n",
       "                        <th> Bytes </th>\n",
       "                        <td> 1.91 MiB </td>\n",
       "                        <td> 250.00 kiB </td>\n",
       "                    </tr>\n",
       "                    \n",
       "                    <tr>\n",
       "                        <th> Shape </th>\n",
       "                        <td> (251, 1000) </td>\n",
       "                        <td> (32, 1000) </td>\n",
       "                    </tr>\n",
       "                    <tr>\n",
       "                        <th> Dask graph </th>\n",
       "                        <td colspan=\"2\"> 8 chunks in 9 graph layers </td>\n",
       "                    </tr>\n",
       "                    <tr>\n",
       "                        <th> Data type </th>\n",
       "                        <td colspan=\"2\"> float64 numpy.ndarray </td>\n",
       "                    </tr>\n",
       "                </tbody>\n",
       "            </table>\n",
       "        </td>\n",
       "        <td>\n",
       "        <svg width=\"170\" height=\"92\" style=\"stroke:rgb(0,0,0);stroke-width:1\" >\n",
       "\n",
       "  <!-- Horizontal lines -->\n",
       "  <line x1=\"0\" y1=\"0\" x2=\"120\" y2=\"0\" style=\"stroke-width:2\" />\n",
       "  <line x1=\"0\" y1=\"5\" x2=\"120\" y2=\"5\" />\n",
       "  <line x1=\"0\" y1=\"10\" x2=\"120\" y2=\"10\" />\n",
       "  <line x1=\"0\" y1=\"16\" x2=\"120\" y2=\"16\" />\n",
       "  <line x1=\"0\" y1=\"21\" x2=\"120\" y2=\"21\" />\n",
       "  <line x1=\"0\" y1=\"27\" x2=\"120\" y2=\"27\" />\n",
       "  <line x1=\"0\" y1=\"32\" x2=\"120\" y2=\"32\" />\n",
       "  <line x1=\"0\" y1=\"38\" x2=\"120\" y2=\"38\" />\n",
       "  <line x1=\"0\" y1=\"42\" x2=\"120\" y2=\"42\" style=\"stroke-width:2\" />\n",
       "\n",
       "  <!-- Vertical lines -->\n",
       "  <line x1=\"0\" y1=\"0\" x2=\"0\" y2=\"42\" style=\"stroke-width:2\" />\n",
       "  <line x1=\"120\" y1=\"0\" x2=\"120\" y2=\"42\" style=\"stroke-width:2\" />\n",
       "\n",
       "  <!-- Colored Rectangle -->\n",
       "  <polygon points=\"0.0,0.0 120.0,0.0 120.0,42.91371018437486 0.0,42.91371018437486\" style=\"fill:#ECB172A0;stroke-width:0\"/>\n",
       "\n",
       "  <!-- Text -->\n",
       "  <text x=\"60.000000\" y=\"62.913710\" font-size=\"1.0rem\" font-weight=\"100\" text-anchor=\"middle\" >1000</text>\n",
       "  <text x=\"140.000000\" y=\"21.456855\" font-size=\"1.0rem\" font-weight=\"100\" text-anchor=\"middle\" transform=\"rotate(-90,140.000000,21.456855)\">251</text>\n",
       "</svg>\n",
       "        </td>\n",
       "    </tr>\n",
       "</table></td></tr><tr><th>Units</th><td style='text-align:left;'>count/s</td></tr></tbody></table></div></div></li><li class='xr-section-item'><input id='section-ecfa87be-24b4-45e9-ae18-c407911a62ec' class='xr-section-summary-in' type='checkbox'  checked><label for='section-ecfa87be-24b4-45e9-ae18-c407911a62ec' class='xr-section-summary' >Coordinates: <span>(2)</span></label><div class='xr-section-inline-details'></div><div class='xr-section-details'><ul class='xr-var-list'><li class='xr-var-item'><div class='xr-var-name'><span class='xr-has-index'>polar</span></div><div class='xr-var-dims'>(polar)</div><div class='xr-var-dtype'>float64</div><div class='xr-var-preview xr-preview'>-20.0 -19.8 -19.6 ... 29.8 30.0</div><input id='attrs-5c04cdc9-fc38-4f24-a2cd-b856b9330242' class='xr-var-attrs-in' type='checkbox' ><label for='attrs-5c04cdc9-fc38-4f24-a2cd-b856b9330242' title='Show/Hide attributes'><svg class='icon xr-icon-file-text2'><use xlink:href='#icon-file-text2'></use></svg></label><input id='data-32cba1f7-6d7b-46c0-ac99-793f3435876c' class='xr-var-data-in' type='checkbox'><label for='data-32cba1f7-6d7b-46c0-ac99-793f3435876c' title='Show/Hide data repr'><svg class='icon xr-icon-database'><use xlink:href='#icon-database'></use></svg></label><div class='xr-var-attrs'><dl class='xr-attrs'><dt><span>units :</span></dt><dd>deg</dd></dl></div><div class='xr-var-data'><pre>array([-19.999238, -19.799162, -19.599657, ...,  29.6008  ,  29.800876,\n",
       "        30.000953])</pre></div></li><li class='xr-var-item'><div class='xr-var-name'><span class='xr-has-index'>theta_par</span></div><div class='xr-var-dims'>(theta_par)</div><div class='xr-var-dtype'>float64</div><div class='xr-var-preview xr-preview'>-23.94 -23.9 -23.85 ... 23.9 23.94</div><input id='attrs-c7dadd94-b293-4626-ab14-d238a22088b0' class='xr-var-attrs-in' type='checkbox' ><label for='attrs-c7dadd94-b293-4626-ab14-d238a22088b0' title='Show/Hide attributes'><svg class='icon xr-icon-file-text2'><use xlink:href='#icon-file-text2'></use></svg></label><input id='data-a721c25a-054b-42be-b289-57e27f7704aa' class='xr-var-data-in' type='checkbox'><label for='data-a721c25a-054b-42be-b289-57e27f7704aa' title='Show/Hide data repr'><svg class='icon xr-icon-database'><use xlink:href='#icon-database'></use></svg></label><div class='xr-var-attrs'><dl class='xr-attrs'><dt><span>units :</span></dt><dd>deg</dd></dl></div><div class='xr-var-data'><pre>array([-23.943889, -23.895954, -23.848018, ...,  23.848018,  23.895954,\n",
       "        23.943889])</pre></div></li></ul></div></li><li class='xr-section-item'><input id='section-aaec72b3-f599-435d-bd47-2e6be9b722c6' class='xr-section-summary-in' type='checkbox'  ><label for='section-aaec72b3-f599-435d-bd47-2e6be9b722c6' class='xr-section-summary' >Indexes: <span>(2)</span></label><div class='xr-section-inline-details'></div><div class='xr-section-details'><ul class='xr-var-list'><li class='xr-var-item'><div class='xr-index-name'><div>polar</div></div><div class='xr-index-preview'>PandasIndex</div><div></div><input id='index-1925b5e9-ef1c-4ba2-b952-5ceeb13801ea' class='xr-index-data-in' type='checkbox'/><label for='index-1925b5e9-ef1c-4ba2-b952-5ceeb13801ea' title='Show/Hide index repr'><svg class='icon xr-icon-database'><use xlink:href='#icon-database'></use></svg></label><div class='xr-index-data'><pre>PandasIndex(Index([     -19.9992378484,      -19.7991616294,     -19.59965705674,\n",
       "       -19.400152484080003, -19.199504618740004,     -19.00000004608,\n",
       "           -18.79992382708,     -18.59927596174,     -18.39919974274,\n",
       "           -18.19969517008,\n",
       "       ...\n",
       "        28.200838247720004,   28.40091446672001,  28.600990685720006,\n",
       "        28.800495258380014,  29.000571477380007,  29.200647696380003,\n",
       "            29.40072391538,  29.600800134380012,   29.80087635338001,\n",
       "            30.00095257238],\n",
       "      dtype=&#x27;float64&#x27;, name=&#x27;polar&#x27;, length=251))</pre></div></li><li class='xr-var-item'><div class='xr-index-name'><div>theta_par</div></div><div class='xr-index-preview'>PandasIndex</div><div></div><input id='index-3f04658d-5e0d-4fbb-90bf-2b8efee00feb' class='xr-index-data-in' type='checkbox'/><label for='index-3f04658d-5e0d-4fbb-90bf-2b8efee00feb' title='Show/Hide index repr'><svg class='icon xr-icon-database'><use xlink:href='#icon-database'></use></svg></label><div class='xr-index-data'><pre>PandasIndex(Index([-23.943889285714288, -23.895953571428574,  -23.84801785714286,\n",
       "       -23.800082142857146, -23.752146428571432,  -23.70421071428572,\n",
       "                -23.656275, -23.608339285714287, -23.560403571428573,\n",
       "        -23.51246785714286,\n",
       "       ...\n",
       "        23.512467857142855,  23.560403571428576,   23.60833928571429,\n",
       "        23.656275000000004,   23.70421071428572,  23.752146428571432,\n",
       "        23.800082142857146,   23.84801785714286,  23.895953571428574,\n",
       "        23.943889285714288],\n",
       "      dtype=&#x27;float64&#x27;, name=&#x27;theta_par&#x27;, length=1000))</pre></div></li></ul></div></li><li class='xr-section-item'><input id='section-1b1596d3-6d15-4be3-a886-41e470a893f7' class='xr-section-summary-in' type='checkbox'  ><label for='section-1b1596d3-6d15-4be3-a886-41e470a893f7' class='xr-section-summary' >Attributes: <span>(7)</span></label><div class='xr-section-inline-details'></div><div class='xr-section-details'><dl class='xr-attrs'><dt><span>_scan :</span></dt><dd>name=&#x27;i05-59818&#x27; filepath=&#x27;/Users/philking/Library/CloudStorage/OneDrive-UniversityofStAndrews/Lab/Example data/i05-59818.nxs&#x27; loc=&#x27;Diamond_I05_ARPES&#x27; timestamp=&#x27;2024-10-25 04:45:11&#x27; scan_command=None</dd><dt><span>_calibration :</span></dt><dd>EF_correction=None V0=None</dd><dt><span>_analyser :</span></dt><dd>analyser=ARPESAnalyserMetadataModel(model=None, slit=ARPESSlitMetadataModel(width=&lt;Quantity(0.2, &#x27;millimeter&#x27;)&gt;, identifier=None)) scan=ARPESScanMetadataModel(eV=&lt;Quantity([104.529205 105.370795], &#x27;electron_volt&#x27;)&gt;, step_size=&lt;Quantity(0.0008099999999999966, &#x27;dimensionless&#x27;)&gt;, PE=&lt;Quantity(10, &#x27;electron_volt&#x27;)&gt;, sweeps=10, dwell=&lt;Quantity(1.0, &#x27;second&#x27;)&gt;, lens_mode=&#x27;Angular30&#x27;, acquisition_mode=&#x27;Fixed&#x27;, eV_type=&#x27;kinetic&#x27;) angles=ARPESAnalyserAnglesMetadataModel(polar=None, tilt=None, azi=&lt;Quantity(0, &#x27;degree&#x27;)&gt;) deflector=ARPESDeflectorMetadataModel(parallel=NamedAxisMetadataModel(local_name=&#x27;deflector_y&#x27;, value=None), perp=NamedAxisMetadataModel(local_name=&#x27;deflector_x&#x27;, value=None))</dd><dt><span>_manipulator :</span></dt><dd>polar=AxisMetadataModelWithReference(local_name=&#x27;sapolar&#x27;, value=&lt;Quantity([-19.99923785  30.00095257], &#x27;degree&#x27;)&gt;, reference_value=None) tilt=AxisMetadataModelWithReference(local_name=&#x27;satilt&#x27;, value=&lt;Quantity(0.006, &#x27;degree&#x27;)&gt;, reference_value=None) azi=AxisMetadataModelWithReference(local_name=&#x27;saazimuth&#x27;, value=&lt;Quantity(-12.510000138999999, &#x27;degree&#x27;)&gt;, reference_value=None) x1=AxisMetadataModelWithReference(local_name=&#x27;sax&#x27;, value=&lt;Quantity(1.089, &#x27;millimeter&#x27;)&gt;, reference_value=None) x2=AxisMetadataModelWithReference(local_name=&#x27;say&#x27;, value=&lt;Quantity([0.171 0.42 ], &#x27;millimeter&#x27;)&gt;, reference_value=None) x3=AxisMetadataModelWithReference(local_name=&#x27;saz&#x27;, value=&lt;Quantity(-2.8659999999999854, &#x27;millimeter&#x27;)&gt;, reference_value=None)</dd><dt><span>_photon :</span></dt><dd>hv=&lt;Quantity(110.00030699999998, &#x27;electron_volt&#x27;)&gt; polarisation=&#x27;LH&#x27; exit_slit=&lt;Quantity(0.01, &#x27;millimeter&#x27;)&gt;</dd><dt><span>_temperature :</span></dt><dd>sample=&lt;Quantity(11.9292, &#x27;kelvin&#x27;)&gt; cryostat=&lt;Quantity(10.8454, &#x27;kelvin&#x27;)&gt; shield=&lt;Quantity(60.5578, &#x27;kelvin&#x27;)&gt; setpoint=&lt;Quantity(12.0, &#x27;kelvin&#x27;)&gt;</dd><dt><span>_analysis_history :</span></dt><dd>records=[AnalysisHistoryRecord(time=datetime.datetime(2024, 11, 9, 15, 54, 12, 388981), peaks_version=&#x27;0.3.0-dev&#x27;, record={&#x27;record&#x27;: &#x27;Data loaded&#x27;, &#x27;loc&#x27;: &#x27;Diamond_I05_ARPES&#x27;, &#x27;loader&#x27;: &#x27;I05ARPESLoader&#x27;, &#x27;file_name&#x27;: &#x27;/Users/philking/Library/CloudStorage/OneDrive-UniversityofStAndrews/Lab/Example data/i05-59818.nxs&#x27;}, fn_name=&#x27;_add_load_history&#x27;)]</dd></dl></div></li></ul></div></div>"
      ],
      "text/plain": [
       "<xarray.DataArray 'i05-59818' (polar: 251, theta_par: 1000)> Size: 2MB\n",
       "[count/s] dask.array<sum-aggregate, shape=(251, 1000), dtype=float64, chunksi...\n",
       "Coordinates:\n",
       "  * polar      (polar) float64 2kB -20.0 -19.8 -19.6 -19.4 ... 29.6 29.8 30.0\n",
       "  * theta_par  (theta_par) float64 8kB -23.94 -23.9 -23.85 ... 23.85 23.9 23.94\n",
       "Attributes: (7)"
      ]
     },
     "execution_count": 19,
     "metadata": {},
     "output_type": "execute_result"
    }
   ],
   "source": [
    "%time FS1.sum('eV')"
   ]
  },
  {
   "cell_type": "code",
   "execution_count": 20,
   "id": "84b4a88b-ea7f-4b74-935d-1540f56bced9",
   "metadata": {
    "ExecuteTime": {
     "end_time": "2024-10-21T08:59:42.691743Z",
     "start_time": "2024-10-21T08:59:36.132959Z"
    }
   },
   "outputs": [
    {
     "name": "stdout",
     "output_type": "stream",
     "text": [
      "[########################################] | 100% Completed | 3.95 s\n",
      "CPU times: user 4.35 s, sys: 737 ms, total: 5.09 s\n",
      "Wall time: 4.12 s\n"
     ]
    },
    {
     "data": {
      "text/html": [
       "<div><svg style=\"position: absolute; width: 0; height: 0; overflow: hidden\">\n",
       "<defs>\n",
       "<symbol id=\"icon-database\" viewBox=\"0 0 32 32\">\n",
       "<path d=\"M16 0c-8.837 0-16 2.239-16 5v4c0 2.761 7.163 5 16 5s16-2.239 16-5v-4c0-2.761-7.163-5-16-5z\"></path>\n",
       "<path d=\"M16 17c-8.837 0-16-2.239-16-5v6c0 2.761 7.163 5 16 5s16-2.239 16-5v-6c0 2.761-7.163 5-16 5z\"></path>\n",
       "<path d=\"M16 26c-8.837 0-16-2.239-16-5v6c0 2.761 7.163 5 16 5s16-2.239 16-5v-6c0 2.761-7.163 5-16 5z\"></path>\n",
       "</symbol>\n",
       "<symbol id=\"icon-file-text2\" viewBox=\"0 0 32 32\">\n",
       "<path d=\"M28.681 7.159c-0.694-0.947-1.662-2.053-2.724-3.116s-2.169-2.030-3.116-2.724c-1.612-1.182-2.393-1.319-2.841-1.319h-15.5c-1.378 0-2.5 1.121-2.5 2.5v27c0 1.378 1.122 2.5 2.5 2.5h23c1.378 0 2.5-1.122 2.5-2.5v-19.5c0-0.448-0.137-1.23-1.319-2.841zM24.543 5.457c0.959 0.959 1.712 1.825 2.268 2.543h-4.811v-4.811c0.718 0.556 1.584 1.309 2.543 2.268zM28 29.5c0 0.271-0.229 0.5-0.5 0.5h-23c-0.271 0-0.5-0.229-0.5-0.5v-27c0-0.271 0.229-0.5 0.5-0.5 0 0 15.499-0 15.5 0v7c0 0.552 0.448 1 1 1h7v19.5z\"></path>\n",
       "<path d=\"M23 26h-14c-0.552 0-1-0.448-1-1s0.448-1 1-1h14c0.552 0 1 0.448 1 1s-0.448 1-1 1z\"></path>\n",
       "<path d=\"M23 22h-14c-0.552 0-1-0.448-1-1s0.448-1 1-1h14c0.552 0 1 0.448 1 1s-0.448 1-1 1z\"></path>\n",
       "<path d=\"M23 18h-14c-0.552 0-1-0.448-1-1s0.448-1 1-1h14c0.552 0 1 0.448 1 1s-0.448 1-1 1z\"></path>\n",
       "</symbol>\n",
       "</defs>\n",
       "</svg>\n",
       "<style>/* CSS stylesheet for displaying xarray objects in jupyterlab.\n",
       " *\n",
       " */\n",
       "\n",
       ":root {\n",
       "  --xr-font-color0: var(--jp-content-font-color0, rgba(0, 0, 0, 1));\n",
       "  --xr-font-color2: var(--jp-content-font-color2, rgba(0, 0, 0, 0.54));\n",
       "  --xr-font-color3: var(--jp-content-font-color3, rgba(0, 0, 0, 0.38));\n",
       "  --xr-border-color: var(--jp-border-color2, #e0e0e0);\n",
       "  --xr-disabled-color: var(--jp-layout-color3, #bdbdbd);\n",
       "  --xr-background-color: var(--jp-layout-color0, white);\n",
       "  --xr-background-color-row-even: var(--jp-layout-color1, white);\n",
       "  --xr-background-color-row-odd: var(--jp-layout-color2, #eeeeee);\n",
       "}\n",
       "\n",
       "html[theme=dark],\n",
       "html[data-theme=dark],\n",
       "body[data-theme=dark],\n",
       "body.vscode-dark {\n",
       "  --xr-font-color0: rgba(255, 255, 255, 1);\n",
       "  --xr-font-color2: rgba(255, 255, 255, 0.54);\n",
       "  --xr-font-color3: rgba(255, 255, 255, 0.38);\n",
       "  --xr-border-color: #1F1F1F;\n",
       "  --xr-disabled-color: #515151;\n",
       "  --xr-background-color: #111111;\n",
       "  --xr-background-color-row-even: #111111;\n",
       "  --xr-background-color-row-odd: #313131;\n",
       "}\n",
       "\n",
       ".xr-wrap {\n",
       "  display: block !important;\n",
       "  min-width: 300px;\n",
       "  max-width: 700px;\n",
       "}\n",
       "\n",
       ".xr-text-repr-fallback {\n",
       "  /* fallback to plain text repr when CSS is not injected (untrusted notebook) */\n",
       "  display: none;\n",
       "}\n",
       "\n",
       ".xr-header {\n",
       "  padding-top: 6px;\n",
       "  padding-bottom: 6px;\n",
       "  margin-bottom: 4px;\n",
       "  border-bottom: solid 1px var(--xr-border-color);\n",
       "}\n",
       "\n",
       ".xr-header > div,\n",
       ".xr-header > ul {\n",
       "  display: inline;\n",
       "  margin-top: 0;\n",
       "  margin-bottom: 0;\n",
       "}\n",
       "\n",
       ".xr-obj-type,\n",
       ".xr-array-name {\n",
       "  margin-left: 2px;\n",
       "  margin-right: 10px;\n",
       "}\n",
       "\n",
       ".xr-obj-type {\n",
       "  color: var(--xr-font-color2);\n",
       "}\n",
       "\n",
       ".xr-sections {\n",
       "  padding-left: 0 !important;\n",
       "  display: grid;\n",
       "  grid-template-columns: 150px auto auto 1fr 0 20px 0 20px;\n",
       "}\n",
       "\n",
       ".xr-section-item {\n",
       "  display: contents;\n",
       "}\n",
       "\n",
       ".xr-section-item input {\n",
       "  display: inline-block;\n",
       "  opacity: 0;\n",
       "}\n",
       "\n",
       ".xr-section-item input + label {\n",
       "  color: var(--xr-disabled-color);\n",
       "}\n",
       "\n",
       ".xr-section-item input:enabled + label {\n",
       "  cursor: pointer;\n",
       "  color: var(--xr-font-color2);\n",
       "}\n",
       "\n",
       ".xr-section-item input:focus + label {\n",
       "  border: 2px solid var(--xr-font-color0);\n",
       "}\n",
       "\n",
       ".xr-section-item input:enabled + label:hover {\n",
       "  color: var(--xr-font-color0);\n",
       "}\n",
       "\n",
       ".xr-section-summary {\n",
       "  grid-column: 1;\n",
       "  color: var(--xr-font-color2);\n",
       "  font-weight: 500;\n",
       "}\n",
       "\n",
       ".xr-section-summary > span {\n",
       "  display: inline-block;\n",
       "  padding-left: 0.5em;\n",
       "}\n",
       "\n",
       ".xr-section-summary-in:disabled + label {\n",
       "  color: var(--xr-font-color2);\n",
       "}\n",
       "\n",
       ".xr-section-summary-in + label:before {\n",
       "  display: inline-block;\n",
       "  content: '►';\n",
       "  font-size: 11px;\n",
       "  width: 15px;\n",
       "  text-align: center;\n",
       "}\n",
       "\n",
       ".xr-section-summary-in:disabled + label:before {\n",
       "  color: var(--xr-disabled-color);\n",
       "}\n",
       "\n",
       ".xr-section-summary-in:checked + label:before {\n",
       "  content: '▼';\n",
       "}\n",
       "\n",
       ".xr-section-summary-in:checked + label > span {\n",
       "  display: none;\n",
       "}\n",
       "\n",
       ".xr-section-summary,\n",
       ".xr-section-inline-details {\n",
       "  padding-top: 4px;\n",
       "  padding-bottom: 4px;\n",
       "}\n",
       "\n",
       ".xr-section-inline-details {\n",
       "  grid-column: 2 / -1;\n",
       "}\n",
       "\n",
       ".xr-section-details {\n",
       "  display: none;\n",
       "  grid-column: 1 / -1;\n",
       "  margin-bottom: 5px;\n",
       "}\n",
       "\n",
       ".xr-section-summary-in:checked ~ .xr-section-details {\n",
       "  display: contents;\n",
       "}\n",
       "\n",
       ".xr-array-wrap {\n",
       "  grid-column: 1 / -1;\n",
       "  display: grid;\n",
       "  grid-template-columns: 20px auto;\n",
       "}\n",
       "\n",
       ".xr-array-wrap > label {\n",
       "  grid-column: 1;\n",
       "  vertical-align: top;\n",
       "}\n",
       "\n",
       ".xr-preview {\n",
       "  color: var(--xr-font-color3);\n",
       "}\n",
       "\n",
       ".xr-array-preview,\n",
       ".xr-array-data {\n",
       "  padding: 0 5px !important;\n",
       "  grid-column: 2;\n",
       "}\n",
       "\n",
       ".xr-array-data,\n",
       ".xr-array-in:checked ~ .xr-array-preview {\n",
       "  display: none;\n",
       "}\n",
       "\n",
       ".xr-array-in:checked ~ .xr-array-data,\n",
       ".xr-array-preview {\n",
       "  display: inline-block;\n",
       "}\n",
       "\n",
       ".xr-dim-list {\n",
       "  display: inline-block !important;\n",
       "  list-style: none;\n",
       "  padding: 0 !important;\n",
       "  margin: 0;\n",
       "}\n",
       "\n",
       ".xr-dim-list li {\n",
       "  display: inline-block;\n",
       "  padding: 0;\n",
       "  margin: 0;\n",
       "}\n",
       "\n",
       ".xr-dim-list:before {\n",
       "  content: '(';\n",
       "}\n",
       "\n",
       ".xr-dim-list:after {\n",
       "  content: ')';\n",
       "}\n",
       "\n",
       ".xr-dim-list li:not(:last-child):after {\n",
       "  content: ',';\n",
       "  padding-right: 5px;\n",
       "}\n",
       "\n",
       ".xr-has-index {\n",
       "  font-weight: bold;\n",
       "}\n",
       "\n",
       ".xr-var-list,\n",
       ".xr-var-item {\n",
       "  display: contents;\n",
       "}\n",
       "\n",
       ".xr-var-item > div,\n",
       ".xr-var-item label,\n",
       ".xr-var-item > .xr-var-name span {\n",
       "  background-color: var(--xr-background-color-row-even);\n",
       "  margin-bottom: 0;\n",
       "}\n",
       "\n",
       ".xr-var-item > .xr-var-name:hover span {\n",
       "  padding-right: 5px;\n",
       "}\n",
       "\n",
       ".xr-var-list > li:nth-child(odd) > div,\n",
       ".xr-var-list > li:nth-child(odd) > label,\n",
       ".xr-var-list > li:nth-child(odd) > .xr-var-name span {\n",
       "  background-color: var(--xr-background-color-row-odd);\n",
       "}\n",
       "\n",
       ".xr-var-name {\n",
       "  grid-column: 1;\n",
       "}\n",
       "\n",
       ".xr-var-dims {\n",
       "  grid-column: 2;\n",
       "}\n",
       "\n",
       ".xr-var-dtype {\n",
       "  grid-column: 3;\n",
       "  text-align: right;\n",
       "  color: var(--xr-font-color2);\n",
       "}\n",
       "\n",
       ".xr-var-preview {\n",
       "  grid-column: 4;\n",
       "}\n",
       "\n",
       ".xr-index-preview {\n",
       "  grid-column: 2 / 5;\n",
       "  color: var(--xr-font-color2);\n",
       "}\n",
       "\n",
       ".xr-var-name,\n",
       ".xr-var-dims,\n",
       ".xr-var-dtype,\n",
       ".xr-preview,\n",
       ".xr-attrs dt {\n",
       "  white-space: nowrap;\n",
       "  overflow: hidden;\n",
       "  text-overflow: ellipsis;\n",
       "  padding-right: 10px;\n",
       "}\n",
       "\n",
       ".xr-var-name:hover,\n",
       ".xr-var-dims:hover,\n",
       ".xr-var-dtype:hover,\n",
       ".xr-attrs dt:hover {\n",
       "  overflow: visible;\n",
       "  width: auto;\n",
       "  z-index: 1;\n",
       "}\n",
       "\n",
       ".xr-var-attrs,\n",
       ".xr-var-data,\n",
       ".xr-index-data {\n",
       "  display: none;\n",
       "  background-color: var(--xr-background-color) !important;\n",
       "  padding-bottom: 5px !important;\n",
       "}\n",
       "\n",
       ".xr-var-attrs-in:checked ~ .xr-var-attrs,\n",
       ".xr-var-data-in:checked ~ .xr-var-data,\n",
       ".xr-index-data-in:checked ~ .xr-index-data {\n",
       "  display: block;\n",
       "}\n",
       "\n",
       ".xr-var-data > table {\n",
       "  float: right;\n",
       "}\n",
       "\n",
       ".xr-var-name span,\n",
       ".xr-var-data,\n",
       ".xr-index-name div,\n",
       ".xr-index-data,\n",
       ".xr-attrs {\n",
       "  padding-left: 25px !important;\n",
       "}\n",
       "\n",
       ".xr-attrs,\n",
       ".xr-var-attrs,\n",
       ".xr-var-data,\n",
       ".xr-index-data {\n",
       "  grid-column: 1 / -1;\n",
       "}\n",
       "\n",
       "dl.xr-attrs {\n",
       "  padding: 0;\n",
       "  margin: 0;\n",
       "  display: grid;\n",
       "  grid-template-columns: 125px auto;\n",
       "}\n",
       "\n",
       ".xr-attrs dt,\n",
       ".xr-attrs dd {\n",
       "  padding: 0;\n",
       "  margin: 0;\n",
       "  float: left;\n",
       "  padding-right: 10px;\n",
       "  width: auto;\n",
       "}\n",
       "\n",
       ".xr-attrs dt {\n",
       "  font-weight: normal;\n",
       "  grid-column: 1;\n",
       "}\n",
       "\n",
       ".xr-attrs dt:hover span {\n",
       "  display: inline-block;\n",
       "  background: var(--xr-background-color);\n",
       "  padding-right: 10px;\n",
       "}\n",
       "\n",
       ".xr-attrs dd {\n",
       "  grid-column: 2;\n",
       "  white-space: pre-wrap;\n",
       "  word-break: break-all;\n",
       "}\n",
       "\n",
       ".xr-icon-database,\n",
       ".xr-icon-file-text2,\n",
       ".xr-no-icon {\n",
       "  display: inline-block;\n",
       "  vertical-align: middle;\n",
       "  width: 1em;\n",
       "  height: 1.5em !important;\n",
       "  stroke-width: 0;\n",
       "  stroke: currentColor;\n",
       "  fill: currentColor;\n",
       "}\n",
       "</style><pre class='xr-text-repr-fallback'>&lt;xarray.DataArray &#x27;i05-59818&#x27; (polar: 251, theta_par: 1000)&gt; Size: 2MB\n",
       "[count/s] 10.1 16.5 18.9 15.5 11.8 10.0 11.4 ... 3.5 4.0 3.1 3.1 4.0 4.1 2.7\n",
       "Coordinates:\n",
       "  * polar      (polar) float64 2kB -20.0 -19.8 -19.6 -19.4 ... 29.6 29.8 30.0\n",
       "  * theta_par  (theta_par) float64 8kB -23.94 -23.9 -23.85 ... 23.85 23.9 23.94\n",
       "Attributes: (7)</pre><div class='xr-wrap' style='display:none'><div class='xr-header'><div class='xr-obj-type'>xarray.DataArray</div><div class='xr-array-name'>'i05-59818'</div><ul class='xr-dim-list'><li><span class='xr-has-index'>polar</span>: 251</li><li><span class='xr-has-index'>theta_par</span>: 1000</li></ul></div><ul class='xr-sections'><li class='xr-section-item'><div class='xr-array-wrap'><input id='section-125e302f-83c8-493a-85ad-961ceb8c2c2e' class='xr-array-in' type='checkbox' ><label for='section-125e302f-83c8-493a-85ad-961ceb8c2c2e' title='Show/hide data repr'><svg class='icon xr-icon-database'><use xlink:href='#icon-database'></use></svg></label><div class='xr-array-preview xr-preview'><span>[count/s] 10.1 16.5 18.9 15.5 11.8 10.0 ... 4.0 3.1 3.1 4.0 4.1 2.7</span></div><div class='xr-array-data'><table><tbody><tr><th>Magnitude</th><td style='text-align:left;'><pre>[[10.100000000000001 16.5 18.9 ... 8.3 9.5 8.8] [11.8 11.399999999999999 10.299999999999999 ... 10.100000000000001  12.600000000000001 9.4] [8.3 8.4 9.8 ... 9.7 12.8 10.8] ... [1.5 3.3 4.0 ... 1.6 2.6 3.0] [2.7 3.7 4.6 ... 3.8000000000000007 3.0000000000000004  1.7000000000000002] [4.300000000000001 5.6 6.5 ... 4.0 4.1000000000000005 2.7]]</pre></td></tr><tr><th>Units</th><td style='text-align:left;'>count/s</td></tr></tbody></table></div></div></li><li class='xr-section-item'><input id='section-e4ac2326-618b-4a84-bf40-961ac0436f5e' class='xr-section-summary-in' type='checkbox'  checked><label for='section-e4ac2326-618b-4a84-bf40-961ac0436f5e' class='xr-section-summary' >Coordinates: <span>(2)</span></label><div class='xr-section-inline-details'></div><div class='xr-section-details'><ul class='xr-var-list'><li class='xr-var-item'><div class='xr-var-name'><span class='xr-has-index'>polar</span></div><div class='xr-var-dims'>(polar)</div><div class='xr-var-dtype'>float64</div><div class='xr-var-preview xr-preview'>-20.0 -19.8 -19.6 ... 29.8 30.0</div><input id='attrs-d150671f-6778-4ba2-84a0-7d2b99981935' class='xr-var-attrs-in' type='checkbox' ><label for='attrs-d150671f-6778-4ba2-84a0-7d2b99981935' title='Show/Hide attributes'><svg class='icon xr-icon-file-text2'><use xlink:href='#icon-file-text2'></use></svg></label><input id='data-74fbc392-cd9f-46ec-8f98-39f84b622338' class='xr-var-data-in' type='checkbox'><label for='data-74fbc392-cd9f-46ec-8f98-39f84b622338' title='Show/Hide data repr'><svg class='icon xr-icon-database'><use xlink:href='#icon-database'></use></svg></label><div class='xr-var-attrs'><dl class='xr-attrs'><dt><span>units :</span></dt><dd>deg</dd></dl></div><div class='xr-var-data'><pre>array([-19.999238, -19.799162, -19.599657, ...,  29.6008  ,  29.800876,\n",
       "        30.000953])</pre></div></li><li class='xr-var-item'><div class='xr-var-name'><span class='xr-has-index'>theta_par</span></div><div class='xr-var-dims'>(theta_par)</div><div class='xr-var-dtype'>float64</div><div class='xr-var-preview xr-preview'>-23.94 -23.9 -23.85 ... 23.9 23.94</div><input id='attrs-c3c99eda-3f38-435c-82e2-d5d9c50c7d55' class='xr-var-attrs-in' type='checkbox' ><label for='attrs-c3c99eda-3f38-435c-82e2-d5d9c50c7d55' title='Show/Hide attributes'><svg class='icon xr-icon-file-text2'><use xlink:href='#icon-file-text2'></use></svg></label><input id='data-2ae52579-a1fc-4b51-82fa-0d07fb3f4abe' class='xr-var-data-in' type='checkbox'><label for='data-2ae52579-a1fc-4b51-82fa-0d07fb3f4abe' title='Show/Hide data repr'><svg class='icon xr-icon-database'><use xlink:href='#icon-database'></use></svg></label><div class='xr-var-attrs'><dl class='xr-attrs'><dt><span>units :</span></dt><dd>deg</dd></dl></div><div class='xr-var-data'><pre>array([-23.943889, -23.895954, -23.848018, ...,  23.848018,  23.895954,\n",
       "        23.943889])</pre></div></li></ul></div></li><li class='xr-section-item'><input id='section-1204bb69-148b-4e97-b854-3196d246ce81' class='xr-section-summary-in' type='checkbox'  ><label for='section-1204bb69-148b-4e97-b854-3196d246ce81' class='xr-section-summary' >Indexes: <span>(2)</span></label><div class='xr-section-inline-details'></div><div class='xr-section-details'><ul class='xr-var-list'><li class='xr-var-item'><div class='xr-index-name'><div>polar</div></div><div class='xr-index-preview'>PandasIndex</div><div></div><input id='index-dac00562-1130-48a6-9dc8-392a0c416074' class='xr-index-data-in' type='checkbox'/><label for='index-dac00562-1130-48a6-9dc8-392a0c416074' title='Show/Hide index repr'><svg class='icon xr-icon-database'><use xlink:href='#icon-database'></use></svg></label><div class='xr-index-data'><pre>PandasIndex(Index([     -19.9992378484,      -19.7991616294,     -19.59965705674,\n",
       "       -19.400152484080003, -19.199504618740004,     -19.00000004608,\n",
       "           -18.79992382708,     -18.59927596174,     -18.39919974274,\n",
       "           -18.19969517008,\n",
       "       ...\n",
       "        28.200838247720004,   28.40091446672001,  28.600990685720006,\n",
       "        28.800495258380014,  29.000571477380007,  29.200647696380003,\n",
       "            29.40072391538,  29.600800134380012,   29.80087635338001,\n",
       "            30.00095257238],\n",
       "      dtype=&#x27;float64&#x27;, name=&#x27;polar&#x27;, length=251))</pre></div></li><li class='xr-var-item'><div class='xr-index-name'><div>theta_par</div></div><div class='xr-index-preview'>PandasIndex</div><div></div><input id='index-81efe6f7-f755-46b2-b0a2-25c9f1baea41' class='xr-index-data-in' type='checkbox'/><label for='index-81efe6f7-f755-46b2-b0a2-25c9f1baea41' title='Show/Hide index repr'><svg class='icon xr-icon-database'><use xlink:href='#icon-database'></use></svg></label><div class='xr-index-data'><pre>PandasIndex(Index([-23.943889285714288, -23.895953571428574,  -23.84801785714286,\n",
       "       -23.800082142857146, -23.752146428571432,  -23.70421071428572,\n",
       "                -23.656275, -23.608339285714287, -23.560403571428573,\n",
       "        -23.51246785714286,\n",
       "       ...\n",
       "        23.512467857142855,  23.560403571428576,   23.60833928571429,\n",
       "        23.656275000000004,   23.70421071428572,  23.752146428571432,\n",
       "        23.800082142857146,   23.84801785714286,  23.895953571428574,\n",
       "        23.943889285714288],\n",
       "      dtype=&#x27;float64&#x27;, name=&#x27;theta_par&#x27;, length=1000))</pre></div></li></ul></div></li><li class='xr-section-item'><input id='section-1d26dee3-7466-4b86-b80c-cd195330dec0' class='xr-section-summary-in' type='checkbox'  ><label for='section-1d26dee3-7466-4b86-b80c-cd195330dec0' class='xr-section-summary' >Attributes: <span>(7)</span></label><div class='xr-section-inline-details'></div><div class='xr-section-details'><dl class='xr-attrs'><dt><span>_scan :</span></dt><dd>name=&#x27;i05-59818&#x27; filepath=&#x27;/Users/philking/Library/CloudStorage/OneDrive-UniversityofStAndrews/Lab/Example data/i05-59818.nxs&#x27; loc=&#x27;Diamond_I05_ARPES&#x27; timestamp=&#x27;2024-10-25 04:45:11&#x27; scan_command=None</dd><dt><span>_calibration :</span></dt><dd>EF_correction=None V0=None</dd><dt><span>_analyser :</span></dt><dd>analyser=ARPESAnalyserMetadataModel(model=None, slit=ARPESSlitMetadataModel(width=&lt;Quantity(0.2, &#x27;millimeter&#x27;)&gt;, identifier=None)) scan=ARPESScanMetadataModel(eV=&lt;Quantity([104.529205 105.370795], &#x27;electron_volt&#x27;)&gt;, step_size=&lt;Quantity(0.0008099999999999966, &#x27;dimensionless&#x27;)&gt;, PE=&lt;Quantity(10, &#x27;electron_volt&#x27;)&gt;, sweeps=10, dwell=&lt;Quantity(1.0, &#x27;second&#x27;)&gt;, lens_mode=&#x27;Angular30&#x27;, acquisition_mode=&#x27;Fixed&#x27;, eV_type=&#x27;kinetic&#x27;) angles=ARPESAnalyserAnglesMetadataModel(polar=None, tilt=None, azi=&lt;Quantity(0, &#x27;degree&#x27;)&gt;) deflector=ARPESDeflectorMetadataModel(parallel=NamedAxisMetadataModel(local_name=&#x27;deflector_y&#x27;, value=None), perp=NamedAxisMetadataModel(local_name=&#x27;deflector_x&#x27;, value=None))</dd><dt><span>_manipulator :</span></dt><dd>polar=AxisMetadataModelWithReference(local_name=&#x27;sapolar&#x27;, value=&lt;Quantity([-19.99923785  30.00095257], &#x27;degree&#x27;)&gt;, reference_value=None) tilt=AxisMetadataModelWithReference(local_name=&#x27;satilt&#x27;, value=&lt;Quantity(0.006, &#x27;degree&#x27;)&gt;, reference_value=None) azi=AxisMetadataModelWithReference(local_name=&#x27;saazimuth&#x27;, value=&lt;Quantity(-12.510000138999999, &#x27;degree&#x27;)&gt;, reference_value=None) x1=AxisMetadataModelWithReference(local_name=&#x27;sax&#x27;, value=&lt;Quantity(1.089, &#x27;millimeter&#x27;)&gt;, reference_value=None) x2=AxisMetadataModelWithReference(local_name=&#x27;say&#x27;, value=&lt;Quantity([0.171 0.42 ], &#x27;millimeter&#x27;)&gt;, reference_value=None) x3=AxisMetadataModelWithReference(local_name=&#x27;saz&#x27;, value=&lt;Quantity(-2.8659999999999854, &#x27;millimeter&#x27;)&gt;, reference_value=None)</dd><dt><span>_photon :</span></dt><dd>hv=&lt;Quantity(110.00030699999998, &#x27;electron_volt&#x27;)&gt; polarisation=&#x27;LH&#x27; exit_slit=&lt;Quantity(0.01, &#x27;millimeter&#x27;)&gt;</dd><dt><span>_temperature :</span></dt><dd>sample=&lt;Quantity(11.9292, &#x27;kelvin&#x27;)&gt; cryostat=&lt;Quantity(10.8454, &#x27;kelvin&#x27;)&gt; shield=&lt;Quantity(60.5578, &#x27;kelvin&#x27;)&gt; setpoint=&lt;Quantity(12.0, &#x27;kelvin&#x27;)&gt;</dd><dt><span>_analysis_history :</span></dt><dd>records=[AnalysisHistoryRecord(time=datetime.datetime(2024, 11, 9, 15, 54, 12, 388981), peaks_version=&#x27;0.3.0-dev&#x27;, record={&#x27;record&#x27;: &#x27;Data loaded&#x27;, &#x27;loc&#x27;: &#x27;Diamond_I05_ARPES&#x27;, &#x27;loader&#x27;: &#x27;I05ARPESLoader&#x27;, &#x27;file_name&#x27;: &#x27;/Users/philking/Library/CloudStorage/OneDrive-UniversityofStAndrews/Lab/Example data/i05-59818.nxs&#x27;}, fn_name=&#x27;_add_load_history&#x27;)]</dd></dl></div></li></ul></div></div>"
      ],
      "text/plain": [
       "<xarray.DataArray 'i05-59818' (polar: 251, theta_par: 1000)> Size: 2MB\n",
       "[count/s] 10.1 16.5 18.9 15.5 11.8 10.0 11.4 ... 3.5 4.0 3.1 3.1 4.0 4.1 2.7\n",
       "Coordinates:\n",
       "  * polar      (polar) float64 2kB -20.0 -19.8 -19.6 -19.4 ... 29.6 29.8 30.0\n",
       "  * theta_par  (theta_par) float64 8kB -23.94 -23.9 -23.85 ... 23.85 23.9 23.94\n",
       "Attributes: (7)"
      ]
     },
     "execution_count": 20,
     "metadata": {},
     "output_type": "execute_result"
    }
   ],
   "source": [
    "%time FS1.sum('eV').compute()"
   ]
  },
  {
   "cell_type": "markdown",
   "id": "3c169b2b-dc54-4746-aff6-cde65dc8c648",
   "metadata": {},
   "source": [
    "Some function calls will automatically trigger the computation where required, e.g. for plotting the data:"
   ]
  },
  {
   "cell_type": "code",
   "execution_count": 21,
   "id": "fd94cdd6-194b-4c30-86c9-b39353a077bd",
   "metadata": {
    "ExecuteTime": {
     "end_time": "2024-10-21T08:53:03.895076Z",
     "start_time": "2024-10-21T08:52:57.013040Z"
    }
   },
   "outputs": [
    {
     "name": "stdout",
     "output_type": "stream",
     "text": [
      "[########################################] | 100% Completed | 5.79 s\n"
     ]
    },
    {
     "data": {
      "text/plain": [
       "<matplotlib.collections.QuadMesh at 0x13ba06c90>"
      ]
     },
     "execution_count": 21,
     "metadata": {},
     "output_type": "execute_result"
    },
    {
     "data": {
      "image/png": "[encoded data removed]",
      "text/plain": [
       "<Figure size 640x480 with 2 Axes>"
      ]
     },
     "metadata": {
      "image/png": {
       "height": 438,
       "width": 583
      }
     },
     "output_type": "display_data"
    }
   ],
   "source": [
    "FS1.sum('eV').plot()"
   ]
  },
  {
   "cell_type": "markdown",
   "id": "b64c7656-b31a-403f-8f50-f31a448f90eb",
   "metadata": {},
   "source": [
    "### Grouping scans"
   ]
  },
  {
   "cell_type": "markdown",
   "id": "f4934902-fd0e-4716-9b58-3793c8becfc7",
   "metadata": {},
   "source": [
    "If multiple scans are loaded simultaneously, these are loaded into a :class:`xarray.DataTree` structure"
   ]
  },
  {
   "cell_type": "code",
   "execution_count": 21,
   "id": "bfa66538-dd5f-4cda-8d68-ecd1f088d192",
   "metadata": {
    "ExecuteTime": {
     "end_time": "2024-10-21T09:01:26.302209Z",
     "start_time": "2024-10-21T09:01:26.264620Z"
    }
   },
   "outputs": [
    {
     "data": {
      "text/html": [
       "<div><svg style=\"position: absolute; width: 0; height: 0; overflow: hidden\">\n",
       "<defs>\n",
       "<symbol id=\"icon-database\" viewBox=\"0 0 32 32\">\n",
       "<path d=\"M16 0c-8.837 0-16 2.239-16 5v4c0 2.761 7.163 5 16 5s16-2.239 16-5v-4c0-2.761-7.163-5-16-5z\"></path>\n",
       "<path d=\"M16 17c-8.837 0-16-2.239-16-5v6c0 2.761 7.163 5 16 5s16-2.239 16-5v-6c0 2.761-7.163 5-16 5z\"></path>\n",
       "<path d=\"M16 26c-8.837 0-16-2.239-16-5v6c0 2.761 7.163 5 16 5s16-2.239 16-5v-6c0 2.761-7.163 5-16 5z\"></path>\n",
       "</symbol>\n",
       "<symbol id=\"icon-file-text2\" viewBox=\"0 0 32 32\">\n",
       "<path d=\"M28.681 7.159c-0.694-0.947-1.662-2.053-2.724-3.116s-2.169-2.030-3.116-2.724c-1.612-1.182-2.393-1.319-2.841-1.319h-15.5c-1.378 0-2.5 1.121-2.5 2.5v27c0 1.378 1.122 2.5 2.5 2.5h23c1.378 0 2.5-1.122 2.5-2.5v-19.5c0-0.448-0.137-1.23-1.319-2.841zM24.543 5.457c0.959 0.959 1.712 1.825 2.268 2.543h-4.811v-4.811c0.718 0.556 1.584 1.309 2.543 2.268zM28 29.5c0 0.271-0.229 0.5-0.5 0.5h-23c-0.271 0-0.5-0.229-0.5-0.5v-27c0-0.271 0.229-0.5 0.5-0.5 0 0 15.499-0 15.5 0v7c0 0.552 0.448 1 1 1h7v19.5z\"></path>\n",
       "<path d=\"M23 26h-14c-0.552 0-1-0.448-1-1s0.448-1 1-1h14c0.552 0 1 0.448 1 1s-0.448 1-1 1z\"></path>\n",
       "<path d=\"M23 22h-14c-0.552 0-1-0.448-1-1s0.448-1 1-1h14c0.552 0 1 0.448 1 1s-0.448 1-1 1z\"></path>\n",
       "<path d=\"M23 18h-14c-0.552 0-1-0.448-1-1s0.448-1 1-1h14c0.552 0 1 0.448 1 1s-0.448 1-1 1z\"></path>\n",
       "</symbol>\n",
       "</defs>\n",
       "</svg>\n",
       "<style>/* CSS stylesheet for displaying xarray objects in jupyterlab.\n",
       " *\n",
       " */\n",
       "\n",
       ":root {\n",
       "  --xr-font-color0: var(--jp-content-font-color0, rgba(0, 0, 0, 1));\n",
       "  --xr-font-color2: var(--jp-content-font-color2, rgba(0, 0, 0, 0.54));\n",
       "  --xr-font-color3: var(--jp-content-font-color3, rgba(0, 0, 0, 0.38));\n",
       "  --xr-border-color: var(--jp-border-color2, #e0e0e0);\n",
       "  --xr-disabled-color: var(--jp-layout-color3, #bdbdbd);\n",
       "  --xr-background-color: var(--jp-layout-color0, white);\n",
       "  --xr-background-color-row-even: var(--jp-layout-color1, white);\n",
       "  --xr-background-color-row-odd: var(--jp-layout-color2, #eeeeee);\n",
       "}\n",
       "\n",
       "html[theme=dark],\n",
       "html[data-theme=dark],\n",
       "body[data-theme=dark],\n",
       "body.vscode-dark {\n",
       "  --xr-font-color0: rgba(255, 255, 255, 1);\n",
       "  --xr-font-color2: rgba(255, 255, 255, 0.54);\n",
       "  --xr-font-color3: rgba(255, 255, 255, 0.38);\n",
       "  --xr-border-color: #1F1F1F;\n",
       "  --xr-disabled-color: #515151;\n",
       "  --xr-background-color: #111111;\n",
       "  --xr-background-color-row-even: #111111;\n",
       "  --xr-background-color-row-odd: #313131;\n",
       "}\n",
       "\n",
       ".xr-wrap {\n",
       "  display: block !important;\n",
       "  min-width: 300px;\n",
       "  max-width: 700px;\n",
       "}\n",
       "\n",
       ".xr-text-repr-fallback {\n",
       "  /* fallback to plain text repr when CSS is not injected (untrusted notebook) */\n",
       "  display: none;\n",
       "}\n",
       "\n",
       ".xr-header {\n",
       "  padding-top: 6px;\n",
       "  padding-bottom: 6px;\n",
       "  margin-bottom: 4px;\n",
       "  border-bottom: solid 1px var(--xr-border-color);\n",
       "}\n",
       "\n",
       ".xr-header > div,\n",
       ".xr-header > ul {\n",
       "  display: inline;\n",
       "  margin-top: 0;\n",
       "  margin-bottom: 0;\n",
       "}\n",
       "\n",
       ".xr-obj-type,\n",
       ".xr-array-name {\n",
       "  margin-left: 2px;\n",
       "  margin-right: 10px;\n",
       "}\n",
       "\n",
       ".xr-obj-type {\n",
       "  color: var(--xr-font-color2);\n",
       "}\n",
       "\n",
       ".xr-sections {\n",
       "  padding-left: 0 !important;\n",
       "  display: grid;\n",
       "  grid-template-columns: 150px auto auto 1fr 0 20px 0 20px;\n",
       "}\n",
       "\n",
       ".xr-section-item {\n",
       "  display: contents;\n",
       "}\n",
       "\n",
       ".xr-section-item input {\n",
       "  display: inline-block;\n",
       "  opacity: 0;\n",
       "}\n",
       "\n",
       ".xr-section-item input + label {\n",
       "  color: var(--xr-disabled-color);\n",
       "}\n",
       "\n",
       ".xr-section-item input:enabled + label {\n",
       "  cursor: pointer;\n",
       "  color: var(--xr-font-color2);\n",
       "}\n",
       "\n",
       ".xr-section-item input:focus + label {\n",
       "  border: 2px solid var(--xr-font-color0);\n",
       "}\n",
       "\n",
       ".xr-section-item input:enabled + label:hover {\n",
       "  color: var(--xr-font-color0);\n",
       "}\n",
       "\n",
       ".xr-section-summary {\n",
       "  grid-column: 1;\n",
       "  color: var(--xr-font-color2);\n",
       "  font-weight: 500;\n",
       "}\n",
       "\n",
       ".xr-section-summary > span {\n",
       "  display: inline-block;\n",
       "  padding-left: 0.5em;\n",
       "}\n",
       "\n",
       ".xr-section-summary-in:disabled + label {\n",
       "  color: var(--xr-font-color2);\n",
       "}\n",
       "\n",
       ".xr-section-summary-in + label:before {\n",
       "  display: inline-block;\n",
       "  content: '►';\n",
       "  font-size: 11px;\n",
       "  width: 15px;\n",
       "  text-align: center;\n",
       "}\n",
       "\n",
       ".xr-section-summary-in:disabled + label:before {\n",
       "  color: var(--xr-disabled-color);\n",
       "}\n",
       "\n",
       ".xr-section-summary-in:checked + label:before {\n",
       "  content: '▼';\n",
       "}\n",
       "\n",
       ".xr-section-summary-in:checked + label > span {\n",
       "  display: none;\n",
       "}\n",
       "\n",
       ".xr-section-summary,\n",
       ".xr-section-inline-details {\n",
       "  padding-top: 4px;\n",
       "  padding-bottom: 4px;\n",
       "}\n",
       "\n",
       ".xr-section-inline-details {\n",
       "  grid-column: 2 / -1;\n",
       "}\n",
       "\n",
       ".xr-section-details {\n",
       "  display: none;\n",
       "  grid-column: 1 / -1;\n",
       "  margin-bottom: 5px;\n",
       "}\n",
       "\n",
       ".xr-section-summary-in:checked ~ .xr-section-details {\n",
       "  display: contents;\n",
       "}\n",
       "\n",
       ".xr-array-wrap {\n",
       "  grid-column: 1 / -1;\n",
       "  display: grid;\n",
       "  grid-template-columns: 20px auto;\n",
       "}\n",
       "\n",
       ".xr-array-wrap > label {\n",
       "  grid-column: 1;\n",
       "  vertical-align: top;\n",
       "}\n",
       "\n",
       ".xr-preview {\n",
       "  color: var(--xr-font-color3);\n",
       "}\n",
       "\n",
       ".xr-array-preview,\n",
       ".xr-array-data {\n",
       "  padding: 0 5px !important;\n",
       "  grid-column: 2;\n",
       "}\n",
       "\n",
       ".xr-array-data,\n",
       ".xr-array-in:checked ~ .xr-array-preview {\n",
       "  display: none;\n",
       "}\n",
       "\n",
       ".xr-array-in:checked ~ .xr-array-data,\n",
       ".xr-array-preview {\n",
       "  display: inline-block;\n",
       "}\n",
       "\n",
       ".xr-dim-list {\n",
       "  display: inline-block !important;\n",
       "  list-style: none;\n",
       "  padding: 0 !important;\n",
       "  margin: 0;\n",
       "}\n",
       "\n",
       ".xr-dim-list li {\n",
       "  display: inline-block;\n",
       "  padding: 0;\n",
       "  margin: 0;\n",
       "}\n",
       "\n",
       ".xr-dim-list:before {\n",
       "  content: '(';\n",
       "}\n",
       "\n",
       ".xr-dim-list:after {\n",
       "  content: ')';\n",
       "}\n",
       "\n",
       ".xr-dim-list li:not(:last-child):after {\n",
       "  content: ',';\n",
       "  padding-right: 5px;\n",
       "}\n",
       "\n",
       ".xr-has-index {\n",
       "  font-weight: bold;\n",
       "}\n",
       "\n",
       ".xr-var-list,\n",
       ".xr-var-item {\n",
       "  display: contents;\n",
       "}\n",
       "\n",
       ".xr-var-item > div,\n",
       ".xr-var-item label,\n",
       ".xr-var-item > .xr-var-name span {\n",
       "  background-color: var(--xr-background-color-row-even);\n",
       "  margin-bottom: 0;\n",
       "}\n",
       "\n",
       ".xr-var-item > .xr-var-name:hover span {\n",
       "  padding-right: 5px;\n",
       "}\n",
       "\n",
       ".xr-var-list > li:nth-child(odd) > div,\n",
       ".xr-var-list > li:nth-child(odd) > label,\n",
       ".xr-var-list > li:nth-child(odd) > .xr-var-name span {\n",
       "  background-color: var(--xr-background-color-row-odd);\n",
       "}\n",
       "\n",
       ".xr-var-name {\n",
       "  grid-column: 1;\n",
       "}\n",
       "\n",
       ".xr-var-dims {\n",
       "  grid-column: 2;\n",
       "}\n",
       "\n",
       ".xr-var-dtype {\n",
       "  grid-column: 3;\n",
       "  text-align: right;\n",
       "  color: var(--xr-font-color2);\n",
       "}\n",
       "\n",
       ".xr-var-preview {\n",
       "  grid-column: 4;\n",
       "}\n",
       "\n",
       ".xr-index-preview {\n",
       "  grid-column: 2 / 5;\n",
       "  color: var(--xr-font-color2);\n",
       "}\n",
       "\n",
       ".xr-var-name,\n",
       ".xr-var-dims,\n",
       ".xr-var-dtype,\n",
       ".xr-preview,\n",
       ".xr-attrs dt {\n",
       "  white-space: nowrap;\n",
       "  overflow: hidden;\n",
       "  text-overflow: ellipsis;\n",
       "  padding-right: 10px;\n",
       "}\n",
       "\n",
       ".xr-var-name:hover,\n",
       ".xr-var-dims:hover,\n",
       ".xr-var-dtype:hover,\n",
       ".xr-attrs dt:hover {\n",
       "  overflow: visible;\n",
       "  width: auto;\n",
       "  z-index: 1;\n",
       "}\n",
       "\n",
       ".xr-var-attrs,\n",
       ".xr-var-data,\n",
       ".xr-index-data {\n",
       "  display: none;\n",
       "  background-color: var(--xr-background-color) !important;\n",
       "  padding-bottom: 5px !important;\n",
       "}\n",
       "\n",
       ".xr-var-attrs-in:checked ~ .xr-var-attrs,\n",
       ".xr-var-data-in:checked ~ .xr-var-data,\n",
       ".xr-index-data-in:checked ~ .xr-index-data {\n",
       "  display: block;\n",
       "}\n",
       "\n",
       ".xr-var-data > table {\n",
       "  float: right;\n",
       "}\n",
       "\n",
       ".xr-var-name span,\n",
       ".xr-var-data,\n",
       ".xr-index-name div,\n",
       ".xr-index-data,\n",
       ".xr-attrs {\n",
       "  padding-left: 25px !important;\n",
       "}\n",
       "\n",
       ".xr-attrs,\n",
       ".xr-var-attrs,\n",
       ".xr-var-data,\n",
       ".xr-index-data {\n",
       "  grid-column: 1 / -1;\n",
       "}\n",
       "\n",
       "dl.xr-attrs {\n",
       "  padding: 0;\n",
       "  margin: 0;\n",
       "  display: grid;\n",
       "  grid-template-columns: 125px auto;\n",
       "}\n",
       "\n",
       ".xr-attrs dt,\n",
       ".xr-attrs dd {\n",
       "  padding: 0;\n",
       "  margin: 0;\n",
       "  float: left;\n",
       "  padding-right: 10px;\n",
       "  width: auto;\n",
       "}\n",
       "\n",
       ".xr-attrs dt {\n",
       "  font-weight: normal;\n",
       "  grid-column: 1;\n",
       "}\n",
       "\n",
       ".xr-attrs dt:hover span {\n",
       "  display: inline-block;\n",
       "  background: var(--xr-background-color);\n",
       "  padding-right: 10px;\n",
       "}\n",
       "\n",
       ".xr-attrs dd {\n",
       "  grid-column: 2;\n",
       "  white-space: pre-wrap;\n",
       "  word-break: break-all;\n",
       "}\n",
       "\n",
       ".xr-icon-database,\n",
       ".xr-icon-file-text2,\n",
       ".xr-no-icon {\n",
       "  display: inline-block;\n",
       "  vertical-align: middle;\n",
       "  width: 1em;\n",
       "  height: 1.5em !important;\n",
       "  stroke-width: 0;\n",
       "  stroke: currentColor;\n",
       "  fill: currentColor;\n",
       "}\n",
       "</style><pre class='xr-text-repr-fallback'>&lt;xarray.DatasetView&gt; Size: 0B\n",
       "Dimensions:  ()\n",
       "Data variables:\n",
       "    *empty*</pre><div class='xr-wrap' style='display:none'><div class='xr-header'><div class='xr-obj-type'>xarray.DataTree</div></div><ul class='xr-sections'><li class='xr-section-item'><input id='section-bfedb656-07de-4d9c-8a28-8171a28fa715' class='xr-section-summary-in' type='checkbox'  ><label for='section-bfedb656-07de-4d9c-8a28-8171a28fa715' class='xr-section-summary' >Groups: <span>(2)</span></label><div class='xr-section-inline-details'></div><div class='xr-section-details'><div style='display: inline-grid; grid-template-columns: 100%; grid-column: 1 / -1'><div style='display: inline-grid; grid-template-columns: 0px 20px auto; width: 100%;'><div style='grid-column-start: 1;border-right: 0.2em solid;border-color: var(--xr-border-color);height: 100%;width: 0px;'></div><div style='grid-column-start: 2;grid-row-start: 1;height: 1em;width: 20px;border-bottom: 0.2em solid;border-color: var(--xr-border-color);'></div><div style='grid-column-start: 3;'><div><svg style=\"position: absolute; width: 0; height: 0; overflow: hidden\">\n",
       "<defs>\n",
       "<symbol id=\"icon-database\" viewBox=\"0 0 32 32\">\n",
       "<path d=\"M16 0c-8.837 0-16 2.239-16 5v4c0 2.761 7.163 5 16 5s16-2.239 16-5v-4c0-2.761-7.163-5-16-5z\"></path>\n",
       "<path d=\"M16 17c-8.837 0-16-2.239-16-5v6c0 2.761 7.163 5 16 5s16-2.239 16-5v-6c0 2.761-7.163 5-16 5z\"></path>\n",
       "<path d=\"M16 26c-8.837 0-16-2.239-16-5v6c0 2.761 7.163 5 16 5s16-2.239 16-5v-6c0 2.761-7.163 5-16 5z\"></path>\n",
       "</symbol>\n",
       "<symbol id=\"icon-file-text2\" viewBox=\"0 0 32 32\">\n",
       "<path d=\"M28.681 7.159c-0.694-0.947-1.662-2.053-2.724-3.116s-2.169-2.030-3.116-2.724c-1.612-1.182-2.393-1.319-2.841-1.319h-15.5c-1.378 0-2.5 1.121-2.5 2.5v27c0 1.378 1.122 2.5 2.5 2.5h23c1.378 0 2.5-1.122 2.5-2.5v-19.5c0-0.448-0.137-1.23-1.319-2.841zM24.543 5.457c0.959 0.959 1.712 1.825 2.268 2.543h-4.811v-4.811c0.718 0.556 1.584 1.309 2.543 2.268zM28 29.5c0 0.271-0.229 0.5-0.5 0.5h-23c-0.271 0-0.5-0.229-0.5-0.5v-27c0-0.271 0.229-0.5 0.5-0.5 0 0 15.499-0 15.5 0v7c0 0.552 0.448 1 1 1h7v19.5z\"></path>\n",
       "<path d=\"M23 26h-14c-0.552 0-1-0.448-1-1s0.448-1 1-1h14c0.552 0 1 0.448 1 1s-0.448 1-1 1z\"></path>\n",
       "<path d=\"M23 22h-14c-0.552 0-1-0.448-1-1s0.448-1 1-1h14c0.552 0 1 0.448 1 1s-0.448 1-1 1z\"></path>\n",
       "<path d=\"M23 18h-14c-0.552 0-1-0.448-1-1s0.448-1 1-1h14c0.552 0 1 0.448 1 1s-0.448 1-1 1z\"></path>\n",
       "</symbol>\n",
       "</defs>\n",
       "</svg>\n",
       "<style>/* CSS stylesheet for displaying xarray objects in jupyterlab.\n",
       " *\n",
       " */\n",
       "\n",
       ":root {\n",
       "  --xr-font-color0: var(--jp-content-font-color0, rgba(0, 0, 0, 1));\n",
       "  --xr-font-color2: var(--jp-content-font-color2, rgba(0, 0, 0, 0.54));\n",
       "  --xr-font-color3: var(--jp-content-font-color3, rgba(0, 0, 0, 0.38));\n",
       "  --xr-border-color: var(--jp-border-color2, #e0e0e0);\n",
       "  --xr-disabled-color: var(--jp-layout-color3, #bdbdbd);\n",
       "  --xr-background-color: var(--jp-layout-color0, white);\n",
       "  --xr-background-color-row-even: var(--jp-layout-color1, white);\n",
       "  --xr-background-color-row-odd: var(--jp-layout-color2, #eeeeee);\n",
       "}\n",
       "\n",
       "html[theme=dark],\n",
       "html[data-theme=dark],\n",
       "body[data-theme=dark],\n",
       "body.vscode-dark {\n",
       "  --xr-font-color0: rgba(255, 255, 255, 1);\n",
       "  --xr-font-color2: rgba(255, 255, 255, 0.54);\n",
       "  --xr-font-color3: rgba(255, 255, 255, 0.38);\n",
       "  --xr-border-color: #1F1F1F;\n",
       "  --xr-disabled-color: #515151;\n",
       "  --xr-background-color: #111111;\n",
       "  --xr-background-color-row-even: #111111;\n",
       "  --xr-background-color-row-odd: #313131;\n",
       "}\n",
       "\n",
       ".xr-wrap {\n",
       "  display: block !important;\n",
       "  min-width: 300px;\n",
       "  max-width: 700px;\n",
       "}\n",
       "\n",
       ".xr-text-repr-fallback {\n",
       "  /* fallback to plain text repr when CSS is not injected (untrusted notebook) */\n",
       "  display: none;\n",
       "}\n",
       "\n",
       ".xr-header {\n",
       "  padding-top: 6px;\n",
       "  padding-bottom: 6px;\n",
       "  margin-bottom: 4px;\n",
       "  border-bottom: solid 1px var(--xr-border-color);\n",
       "}\n",
       "\n",
       ".xr-header > div,\n",
       ".xr-header > ul {\n",
       "  display: inline;\n",
       "  margin-top: 0;\n",
       "  margin-bottom: 0;\n",
       "}\n",
       "\n",
       ".xr-obj-type,\n",
       ".xr-array-name {\n",
       "  margin-left: 2px;\n",
       "  margin-right: 10px;\n",
       "}\n",
       "\n",
       ".xr-obj-type {\n",
       "  color: var(--xr-font-color2);\n",
       "}\n",
       "\n",
       ".xr-sections {\n",
       "  padding-left: 0 !important;\n",
       "  display: grid;\n",
       "  grid-template-columns: 150px auto auto 1fr 0 20px 0 20px;\n",
       "}\n",
       "\n",
       ".xr-section-item {\n",
       "  display: contents;\n",
       "}\n",
       "\n",
       ".xr-section-item input {\n",
       "  display: inline-block;\n",
       "  opacity: 0;\n",
       "}\n",
       "\n",
       ".xr-section-item input + label {\n",
       "  color: var(--xr-disabled-color);\n",
       "}\n",
       "\n",
       ".xr-section-item input:enabled + label {\n",
       "  cursor: pointer;\n",
       "  color: var(--xr-font-color2);\n",
       "}\n",
       "\n",
       ".xr-section-item input:focus + label {\n",
       "  border: 2px solid var(--xr-font-color0);\n",
       "}\n",
       "\n",
       ".xr-section-item input:enabled + label:hover {\n",
       "  color: var(--xr-font-color0);\n",
       "}\n",
       "\n",
       ".xr-section-summary {\n",
       "  grid-column: 1;\n",
       "  color: var(--xr-font-color2);\n",
       "  font-weight: 500;\n",
       "}\n",
       "\n",
       ".xr-section-summary > span {\n",
       "  display: inline-block;\n",
       "  padding-left: 0.5em;\n",
       "}\n",
       "\n",
       ".xr-section-summary-in:disabled + label {\n",
       "  color: var(--xr-font-color2);\n",
       "}\n",
       "\n",
       ".xr-section-summary-in + label:before {\n",
       "  display: inline-block;\n",
       "  content: '►';\n",
       "  font-size: 11px;\n",
       "  width: 15px;\n",
       "  text-align: center;\n",
       "}\n",
       "\n",
       ".xr-section-summary-in:disabled + label:before {\n",
       "  color: var(--xr-disabled-color);\n",
       "}\n",
       "\n",
       ".xr-section-summary-in:checked + label:before {\n",
       "  content: '▼';\n",
       "}\n",
       "\n",
       ".xr-section-summary-in:checked + label > span {\n",
       "  display: none;\n",
       "}\n",
       "\n",
       ".xr-section-summary,\n",
       ".xr-section-inline-details {\n",
       "  padding-top: 4px;\n",
       "  padding-bottom: 4px;\n",
       "}\n",
       "\n",
       ".xr-section-inline-details {\n",
       "  grid-column: 2 / -1;\n",
       "}\n",
       "\n",
       ".xr-section-details {\n",
       "  display: none;\n",
       "  grid-column: 1 / -1;\n",
       "  margin-bottom: 5px;\n",
       "}\n",
       "\n",
       ".xr-section-summary-in:checked ~ .xr-section-details {\n",
       "  display: contents;\n",
       "}\n",
       "\n",
       ".xr-array-wrap {\n",
       "  grid-column: 1 / -1;\n",
       "  display: grid;\n",
       "  grid-template-columns: 20px auto;\n",
       "}\n",
       "\n",
       ".xr-array-wrap > label {\n",
       "  grid-column: 1;\n",
       "  vertical-align: top;\n",
       "}\n",
       "\n",
       ".xr-preview {\n",
       "  color: var(--xr-font-color3);\n",
       "}\n",
       "\n",
       ".xr-array-preview,\n",
       ".xr-array-data {\n",
       "  padding: 0 5px !important;\n",
       "  grid-column: 2;\n",
       "}\n",
       "\n",
       ".xr-array-data,\n",
       ".xr-array-in:checked ~ .xr-array-preview {\n",
       "  display: none;\n",
       "}\n",
       "\n",
       ".xr-array-in:checked ~ .xr-array-data,\n",
       ".xr-array-preview {\n",
       "  display: inline-block;\n",
       "}\n",
       "\n",
       ".xr-dim-list {\n",
       "  display: inline-block !important;\n",
       "  list-style: none;\n",
       "  padding: 0 !important;\n",
       "  margin: 0;\n",
       "}\n",
       "\n",
       ".xr-dim-list li {\n",
       "  display: inline-block;\n",
       "  padding: 0;\n",
       "  margin: 0;\n",
       "}\n",
       "\n",
       ".xr-dim-list:before {\n",
       "  content: '(';\n",
       "}\n",
       "\n",
       ".xr-dim-list:after {\n",
       "  content: ')';\n",
       "}\n",
       "\n",
       ".xr-dim-list li:not(:last-child):after {\n",
       "  content: ',';\n",
       "  padding-right: 5px;\n",
       "}\n",
       "\n",
       ".xr-has-index {\n",
       "  font-weight: bold;\n",
       "}\n",
       "\n",
       ".xr-var-list,\n",
       ".xr-var-item {\n",
       "  display: contents;\n",
       "}\n",
       "\n",
       ".xr-var-item > div,\n",
       ".xr-var-item label,\n",
       ".xr-var-item > .xr-var-name span {\n",
       "  background-color: var(--xr-background-color-row-even);\n",
       "  margin-bottom: 0;\n",
       "}\n",
       "\n",
       ".xr-var-item > .xr-var-name:hover span {\n",
       "  padding-right: 5px;\n",
       "}\n",
       "\n",
       ".xr-var-list > li:nth-child(odd) > div,\n",
       ".xr-var-list > li:nth-child(odd) > label,\n",
       ".xr-var-list > li:nth-child(odd) > .xr-var-name span {\n",
       "  background-color: var(--xr-background-color-row-odd);\n",
       "}\n",
       "\n",
       ".xr-var-name {\n",
       "  grid-column: 1;\n",
       "}\n",
       "\n",
       ".xr-var-dims {\n",
       "  grid-column: 2;\n",
       "}\n",
       "\n",
       ".xr-var-dtype {\n",
       "  grid-column: 3;\n",
       "  text-align: right;\n",
       "  color: var(--xr-font-color2);\n",
       "}\n",
       "\n",
       ".xr-var-preview {\n",
       "  grid-column: 4;\n",
       "}\n",
       "\n",
       ".xr-index-preview {\n",
       "  grid-column: 2 / 5;\n",
       "  color: var(--xr-font-color2);\n",
       "}\n",
       "\n",
       ".xr-var-name,\n",
       ".xr-var-dims,\n",
       ".xr-var-dtype,\n",
       ".xr-preview,\n",
       ".xr-attrs dt {\n",
       "  white-space: nowrap;\n",
       "  overflow: hidden;\n",
       "  text-overflow: ellipsis;\n",
       "  padding-right: 10px;\n",
       "}\n",
       "\n",
       ".xr-var-name:hover,\n",
       ".xr-var-dims:hover,\n",
       ".xr-var-dtype:hover,\n",
       ".xr-attrs dt:hover {\n",
       "  overflow: visible;\n",
       "  width: auto;\n",
       "  z-index: 1;\n",
       "}\n",
       "\n",
       ".xr-var-attrs,\n",
       ".xr-var-data,\n",
       ".xr-index-data {\n",
       "  display: none;\n",
       "  background-color: var(--xr-background-color) !important;\n",
       "  padding-bottom: 5px !important;\n",
       "}\n",
       "\n",
       ".xr-var-attrs-in:checked ~ .xr-var-attrs,\n",
       ".xr-var-data-in:checked ~ .xr-var-data,\n",
       ".xr-index-data-in:checked ~ .xr-index-data {\n",
       "  display: block;\n",
       "}\n",
       "\n",
       ".xr-var-data > table {\n",
       "  float: right;\n",
       "}\n",
       "\n",
       ".xr-var-name span,\n",
       ".xr-var-data,\n",
       ".xr-index-name div,\n",
       ".xr-index-data,\n",
       ".xr-attrs {\n",
       "  padding-left: 25px !important;\n",
       "}\n",
       "\n",
       ".xr-attrs,\n",
       ".xr-var-attrs,\n",
       ".xr-var-data,\n",
       ".xr-index-data {\n",
       "  grid-column: 1 / -1;\n",
       "}\n",
       "\n",
       "dl.xr-attrs {\n",
       "  padding: 0;\n",
       "  margin: 0;\n",
       "  display: grid;\n",
       "  grid-template-columns: 125px auto;\n",
       "}\n",
       "\n",
       ".xr-attrs dt,\n",
       ".xr-attrs dd {\n",
       "  padding: 0;\n",
       "  margin: 0;\n",
       "  float: left;\n",
       "  padding-right: 10px;\n",
       "  width: auto;\n",
       "}\n",
       "\n",
       ".xr-attrs dt {\n",
       "  font-weight: normal;\n",
       "  grid-column: 1;\n",
       "}\n",
       "\n",
       ".xr-attrs dt:hover span {\n",
       "  display: inline-block;\n",
       "  background: var(--xr-background-color);\n",
       "  padding-right: 10px;\n",
       "}\n",
       "\n",
       ".xr-attrs dd {\n",
       "  grid-column: 2;\n",
       "  white-space: pre-wrap;\n",
       "  word-break: break-all;\n",
       "}\n",
       "\n",
       ".xr-icon-database,\n",
       ".xr-icon-file-text2,\n",
       ".xr-no-icon {\n",
       "  display: inline-block;\n",
       "  vertical-align: middle;\n",
       "  width: 1em;\n",
       "  height: 1.5em !important;\n",
       "  stroke-width: 0;\n",
       "  stroke: currentColor;\n",
       "  fill: currentColor;\n",
       "}\n",
       "</style><pre class='xr-text-repr-fallback'>&lt;xarray.DatasetView&gt; Size: 4MB\n",
       "Dimensions:    (theta_par: 1000, eV: 1040)\n",
       "Coordinates:\n",
       "  * theta_par  (theta_par) float64 8kB -23.94 -23.9 -23.85 ... 23.85 23.9 23.94\n",
       "  * eV         (eV) float64 8kB 104.5 104.5 104.5 104.5 ... 105.4 105.4 105.4\n",
       "Data variables:\n",
       "    data       (eV, theta_par) float32 4MB [count/s] 0.0 0.0 0.0 ... 0.0 0.0 0.0</pre><div class='xr-wrap' style='display:none'><div class='xr-header'><div class='xr-obj-type'>disp1</div></div><ul class='xr-sections'><li class='xr-section-item'><input id='section-48b80b4b-2e5c-414c-88f3-21b2c3a1e120' class='xr-section-summary-in' type='checkbox' disabled ><label for='section-48b80b4b-2e5c-414c-88f3-21b2c3a1e120' class='xr-section-summary'  title='Expand/collapse section'>Groups: <span>(0)</span></label><div class='xr-section-inline-details'></div><div class='xr-section-details'><div style='display: inline-grid; grid-template-columns: 100%; grid-column: 1 / -1'></div></div></li><li class='xr-section-item'><input id='section-dfb9d227-ea69-440b-8061-7419f20df048' class='xr-section-summary-in' type='checkbox' disabled ><label for='section-dfb9d227-ea69-440b-8061-7419f20df048' class='xr-section-summary'  title='Expand/collapse section'>Dimensions:</label><div class='xr-section-inline-details'><ul class='xr-dim-list'><li><span class='xr-has-index'>theta_par</span>: 1000</li><li><span class='xr-has-index'>eV</span>: 1040</li></ul></div><div class='xr-section-details'></div></li><li class='xr-section-item'><input id='section-2a3d208c-66f1-4a21-8095-1a669ca8ce0f' class='xr-section-summary-in' type='checkbox'  checked><label for='section-2a3d208c-66f1-4a21-8095-1a669ca8ce0f' class='xr-section-summary' >Coordinates: <span>(2)</span></label><div class='xr-section-inline-details'></div><div class='xr-section-details'><ul class='xr-var-list'><li class='xr-var-item'><div class='xr-var-name'><span class='xr-has-index'>theta_par</span></div><div class='xr-var-dims'>(theta_par)</div><div class='xr-var-dtype'>float64</div><div class='xr-var-preview xr-preview'>-23.94 -23.9 -23.85 ... 23.9 23.94</div><input id='attrs-cd1fbcfe-9ae4-43d5-a878-d93585b7b0b8' class='xr-var-attrs-in' type='checkbox' ><label for='attrs-cd1fbcfe-9ae4-43d5-a878-d93585b7b0b8' title='Show/Hide attributes'><svg class='icon xr-icon-file-text2'><use xlink:href='#icon-file-text2'></use></svg></label><input id='data-7c82b60c-3b24-48b8-8f57-ae9fb53cd2b7' class='xr-var-data-in' type='checkbox'><label for='data-7c82b60c-3b24-48b8-8f57-ae9fb53cd2b7' title='Show/Hide data repr'><svg class='icon xr-icon-database'><use xlink:href='#icon-database'></use></svg></label><div class='xr-var-attrs'><dl class='xr-attrs'><dt><span>units :</span></dt><dd>deg</dd></dl></div><div class='xr-var-data'><pre>array([-23.943889, -23.895954, -23.848018, ...,  23.848018,  23.895954,\n",
       "        23.943889])</pre></div></li><li class='xr-var-item'><div class='xr-var-name'><span class='xr-has-index'>eV</span></div><div class='xr-var-dims'>(eV)</div><div class='xr-var-dtype'>float64</div><div class='xr-var-preview xr-preview'>104.5 104.5 104.5 ... 105.4 105.4</div><input id='attrs-8e164931-699d-4e9f-bd20-c0f9eeb9745b' class='xr-var-attrs-in' type='checkbox' ><label for='attrs-8e164931-699d-4e9f-bd20-c0f9eeb9745b' title='Show/Hide attributes'><svg class='icon xr-icon-file-text2'><use xlink:href='#icon-file-text2'></use></svg></label><input id='data-5918712c-685c-4c5c-bb33-2b6356409a25' class='xr-var-data-in' type='checkbox'><label for='data-5918712c-685c-4c5c-bb33-2b6356409a25' title='Show/Hide data repr'><svg class='icon xr-icon-database'><use xlink:href='#icon-database'></use></svg></label><div class='xr-var-attrs'><dl class='xr-attrs'><dt><span>units :</span></dt><dd>eV</dd></dl></div><div class='xr-var-data'><pre>array([104.529205, 104.530015, 104.530825, ..., 105.369175, 105.369985,\n",
       "       105.370795])</pre></div></li></ul></div></li><li class='xr-section-item'><input id='section-d0aebaa4-d683-4a26-bf67-020debc96ad2' class='xr-section-summary-in' type='checkbox'  checked><label for='section-d0aebaa4-d683-4a26-bf67-020debc96ad2' class='xr-section-summary' >Data variables: <span>(1)</span></label><div class='xr-section-inline-details'></div><div class='xr-section-details'><ul class='xr-var-list'><li class='xr-var-item'><div class='xr-var-name'><span>data</span></div><div class='xr-var-dims'>(eV, theta_par)</div><div class='xr-var-dtype'>float32</div><div class='xr-var-preview xr-preview'>[count/s] 0.0 0.0 0.0 ... 0.0 0.0</div><input id='attrs-5f3f38c7-c49e-4af5-ad70-0130a317abab' class='xr-var-attrs-in' type='checkbox' ><label for='attrs-5f3f38c7-c49e-4af5-ad70-0130a317abab' title='Show/Hide attributes'><svg class='icon xr-icon-file-text2'><use xlink:href='#icon-file-text2'></use></svg></label><input id='data-a59eca1d-d0d9-4a0b-b1d3-51a80ea3d6ef' class='xr-var-data-in' type='checkbox'><label for='data-a59eca1d-d0d9-4a0b-b1d3-51a80ea3d6ef' title='Show/Hide data repr'><svg class='icon xr-icon-database'><use xlink:href='#icon-database'></use></svg></label><div class='xr-var-attrs'><dl class='xr-attrs'><dt><span>_scan :</span></dt><dd>name=&#x27;i05-59819&#x27; filepath=&#x27;/Users/philking/Library/CloudStorage/OneDrive-UniversityofStAndrews/Lab/Example data/i05-59819.nxs&#x27; loc=&#x27;Diamond_I05_ARPES&#x27; timestamp=&#x27;2022-11-01 09:50:38&#x27; scan_command=None</dd><dt><span>_calibration :</span></dt><dd>EF_correction=None V0=None</dd><dt><span>_analyser :</span></dt><dd>analyser=ARPESAnalyserMetadataModel(model=None, slit=ARPESSlitMetadataModel(width=&lt;Quantity(0.2, &#x27;millimeter&#x27;)&gt;, identifier=None)) scan=ARPESScanMetadataModel(eV=&lt;Quantity([104.529205 105.370795], &#x27;electron_volt&#x27;)&gt;, step_size=&lt;Quantity(0.0008099999999999966, &#x27;dimensionless&#x27;)&gt;, PE=&lt;Quantity(10, &#x27;electron_volt&#x27;)&gt;, sweeps=600, dwell=&lt;Quantity(1.0, &#x27;second&#x27;)&gt;, lens_mode=&#x27;Angular30&#x27;, acquisition_mode=&#x27;Fixed&#x27;, eV_type=&#x27;kinetic&#x27;) angles=ARPESAnalyserAnglesMetadataModel(polar=None, tilt=None, azi=&lt;Quantity(0, &#x27;degree&#x27;)&gt;) deflector=ARPESDeflectorMetadataModel(parallel=NamedAxisMetadataModel(local_name=&#x27;deflector_y&#x27;, value=None), perp=NamedAxisMetadataModel(local_name=&#x27;deflector_x&#x27;, value=None))</dd><dt><span>_manipulator :</span></dt><dd>polar=AxisMetadataModelWithReference(local_name=&#x27;sapolar&#x27;, value=&lt;Quantity(1.5015242916799991, &#x27;degree&#x27;)&gt;, reference_value=None) tilt=AxisMetadataModelWithReference(local_name=&#x27;satilt&#x27;, value=&lt;Quantity(0.006, &#x27;degree&#x27;)&gt;, reference_value=None) azi=AxisMetadataModelWithReference(local_name=&#x27;saazimuth&#x27;, value=&lt;Quantity(-12.510000138999999, &#x27;degree&#x27;)&gt;, reference_value=None) x1=AxisMetadataModelWithReference(local_name=&#x27;sax&#x27;, value=&lt;Quantity(1.09, &#x27;millimeter&#x27;)&gt;, reference_value=None) x2=AxisMetadataModelWithReference(local_name=&#x27;say&#x27;, value=&lt;Quantity(0.278, &#x27;millimeter&#x27;)&gt;, reference_value=None) x3=AxisMetadataModelWithReference(local_name=&#x27;saz&#x27;, value=&lt;Quantity(-2.8659999999999854, &#x27;millimeter&#x27;)&gt;, reference_value=None)</dd><dt><span>_photon :</span></dt><dd>hv=&lt;Quantity(109.999792, &#x27;electron_volt&#x27;)&gt; polarisation=&#x27;LH&#x27; exit_slit=&lt;Quantity(0.01, &#x27;millimeter&#x27;)&gt;</dd><dt><span>_temperature :</span></dt><dd>sample=&lt;Quantity(11.9915, &#x27;kelvin&#x27;)&gt; cryostat=&lt;Quantity(10.7334, &#x27;kelvin&#x27;)&gt; shield=&lt;Quantity(59.4714, &#x27;kelvin&#x27;)&gt; setpoint=&lt;Quantity(12.0, &#x27;kelvin&#x27;)&gt;</dd><dt><span>_analysis_history :</span></dt><dd>records=[AnalysisHistoryRecord(time=datetime.datetime(2024, 11, 9, 15, 54, 6, 792009), peaks_version=&#x27;0.3.0-dev&#x27;, record={&#x27;record&#x27;: &#x27;Data loaded&#x27;, &#x27;loc&#x27;: &#x27;Diamond_I05_ARPES&#x27;, &#x27;loader&#x27;: &#x27;I05ARPESLoader&#x27;, &#x27;file_name&#x27;: &#x27;/Users/philking/Library/CloudStorage/OneDrive-UniversityofStAndrews/Lab/Example data/i05-59819.nxs&#x27;}, fn_name=&#x27;_add_load_history&#x27;)]</dd></dl></div><div class='xr-var-data'><table><tbody><tr><th>Magnitude</th><td style='text-align:left;'><pre>[[0.0 0.0 0.0 ... 0.0 0.0 0.0] [0.0 0.0 0.0 ... 0.0 0.0 0.0] [0.0 0.0 0.0 ... 0.0 0.0 0.0] ... [0.0 0.0 0.0 ... 0.0 0.0 0.0] [0.0 0.0 0.0 ... 0.0 0.0 0.0] [0.0 0.0 0.0 ... 0.0 0.0 0.0]]</pre></td></tr><tr><th>Units</th><td style='text-align:left;'>count/s</td></tr></tbody></table></div></li></ul></div></li><li class='xr-section-item'><input id='section-600960e7-112e-469f-9468-bbe93caec074' class='xr-section-summary-in' type='checkbox' disabled ><label for='section-600960e7-112e-469f-9468-bbe93caec074' class='xr-section-summary'  title='Expand/collapse section'>Attributes: <span>(0)</span></label><div class='xr-section-inline-details'></div><div class='xr-section-details'><dl class='xr-attrs'></dl></div></li></ul></div></div></div></div><div style='display: inline-grid; grid-template-columns: 0px 20px auto; width: 100%;'><div style='grid-column-start: 1;border-right: 0.2em solid;border-color: var(--xr-border-color);height: 1.2em;width: 0px;'></div><div style='grid-column-start: 2;grid-row-start: 1;height: 1em;width: 20px;border-bottom: 0.2em solid;border-color: var(--xr-border-color);'></div><div style='grid-column-start: 3;'><div><svg style=\"position: absolute; width: 0; height: 0; overflow: hidden\">\n",
       "<defs>\n",
       "<symbol id=\"icon-database\" viewBox=\"0 0 32 32\">\n",
       "<path d=\"M16 0c-8.837 0-16 2.239-16 5v4c0 2.761 7.163 5 16 5s16-2.239 16-5v-4c0-2.761-7.163-5-16-5z\"></path>\n",
       "<path d=\"M16 17c-8.837 0-16-2.239-16-5v6c0 2.761 7.163 5 16 5s16-2.239 16-5v-6c0 2.761-7.163 5-16 5z\"></path>\n",
       "<path d=\"M16 26c-8.837 0-16-2.239-16-5v6c0 2.761 7.163 5 16 5s16-2.239 16-5v-6c0 2.761-7.163 5-16 5z\"></path>\n",
       "</symbol>\n",
       "<symbol id=\"icon-file-text2\" viewBox=\"0 0 32 32\">\n",
       "<path d=\"M28.681 7.159c-0.694-0.947-1.662-2.053-2.724-3.116s-2.169-2.030-3.116-2.724c-1.612-1.182-2.393-1.319-2.841-1.319h-15.5c-1.378 0-2.5 1.121-2.5 2.5v27c0 1.378 1.122 2.5 2.5 2.5h23c1.378 0 2.5-1.122 2.5-2.5v-19.5c0-0.448-0.137-1.23-1.319-2.841zM24.543 5.457c0.959 0.959 1.712 1.825 2.268 2.543h-4.811v-4.811c0.718 0.556 1.584 1.309 2.543 2.268zM28 29.5c0 0.271-0.229 0.5-0.5 0.5h-23c-0.271 0-0.5-0.229-0.5-0.5v-27c0-0.271 0.229-0.5 0.5-0.5 0 0 15.499-0 15.5 0v7c0 0.552 0.448 1 1 1h7v19.5z\"></path>\n",
       "<path d=\"M23 26h-14c-0.552 0-1-0.448-1-1s0.448-1 1-1h14c0.552 0 1 0.448 1 1s-0.448 1-1 1z\"></path>\n",
       "<path d=\"M23 22h-14c-0.552 0-1-0.448-1-1s0.448-1 1-1h14c0.552 0 1 0.448 1 1s-0.448 1-1 1z\"></path>\n",
       "<path d=\"M23 18h-14c-0.552 0-1-0.448-1-1s0.448-1 1-1h14c0.552 0 1 0.448 1 1s-0.448 1-1 1z\"></path>\n",
       "</symbol>\n",
       "</defs>\n",
       "</svg>\n",
       "<style>/* CSS stylesheet for displaying xarray objects in jupyterlab.\n",
       " *\n",
       " */\n",
       "\n",
       ":root {\n",
       "  --xr-font-color0: var(--jp-content-font-color0, rgba(0, 0, 0, 1));\n",
       "  --xr-font-color2: var(--jp-content-font-color2, rgba(0, 0, 0, 0.54));\n",
       "  --xr-font-color3: var(--jp-content-font-color3, rgba(0, 0, 0, 0.38));\n",
       "  --xr-border-color: var(--jp-border-color2, #e0e0e0);\n",
       "  --xr-disabled-color: var(--jp-layout-color3, #bdbdbd);\n",
       "  --xr-background-color: var(--jp-layout-color0, white);\n",
       "  --xr-background-color-row-even: var(--jp-layout-color1, white);\n",
       "  --xr-background-color-row-odd: var(--jp-layout-color2, #eeeeee);\n",
       "}\n",
       "\n",
       "html[theme=dark],\n",
       "html[data-theme=dark],\n",
       "body[data-theme=dark],\n",
       "body.vscode-dark {\n",
       "  --xr-font-color0: rgba(255, 255, 255, 1);\n",
       "  --xr-font-color2: rgba(255, 255, 255, 0.54);\n",
       "  --xr-font-color3: rgba(255, 255, 255, 0.38);\n",
       "  --xr-border-color: #1F1F1F;\n",
       "  --xr-disabled-color: #515151;\n",
       "  --xr-background-color: #111111;\n",
       "  --xr-background-color-row-even: #111111;\n",
       "  --xr-background-color-row-odd: #313131;\n",
       "}\n",
       "\n",
       ".xr-wrap {\n",
       "  display: block !important;\n",
       "  min-width: 300px;\n",
       "  max-width: 700px;\n",
       "}\n",
       "\n",
       ".xr-text-repr-fallback {\n",
       "  /* fallback to plain text repr when CSS is not injected (untrusted notebook) */\n",
       "  display: none;\n",
       "}\n",
       "\n",
       ".xr-header {\n",
       "  padding-top: 6px;\n",
       "  padding-bottom: 6px;\n",
       "  margin-bottom: 4px;\n",
       "  border-bottom: solid 1px var(--xr-border-color);\n",
       "}\n",
       "\n",
       ".xr-header > div,\n",
       ".xr-header > ul {\n",
       "  display: inline;\n",
       "  margin-top: 0;\n",
       "  margin-bottom: 0;\n",
       "}\n",
       "\n",
       ".xr-obj-type,\n",
       ".xr-array-name {\n",
       "  margin-left: 2px;\n",
       "  margin-right: 10px;\n",
       "}\n",
       "\n",
       ".xr-obj-type {\n",
       "  color: var(--xr-font-color2);\n",
       "}\n",
       "\n",
       ".xr-sections {\n",
       "  padding-left: 0 !important;\n",
       "  display: grid;\n",
       "  grid-template-columns: 150px auto auto 1fr 0 20px 0 20px;\n",
       "}\n",
       "\n",
       ".xr-section-item {\n",
       "  display: contents;\n",
       "}\n",
       "\n",
       ".xr-section-item input {\n",
       "  display: inline-block;\n",
       "  opacity: 0;\n",
       "}\n",
       "\n",
       ".xr-section-item input + label {\n",
       "  color: var(--xr-disabled-color);\n",
       "}\n",
       "\n",
       ".xr-section-item input:enabled + label {\n",
       "  cursor: pointer;\n",
       "  color: var(--xr-font-color2);\n",
       "}\n",
       "\n",
       ".xr-section-item input:focus + label {\n",
       "  border: 2px solid var(--xr-font-color0);\n",
       "}\n",
       "\n",
       ".xr-section-item input:enabled + label:hover {\n",
       "  color: var(--xr-font-color0);\n",
       "}\n",
       "\n",
       ".xr-section-summary {\n",
       "  grid-column: 1;\n",
       "  color: var(--xr-font-color2);\n",
       "  font-weight: 500;\n",
       "}\n",
       "\n",
       ".xr-section-summary > span {\n",
       "  display: inline-block;\n",
       "  padding-left: 0.5em;\n",
       "}\n",
       "\n",
       ".xr-section-summary-in:disabled + label {\n",
       "  color: var(--xr-font-color2);\n",
       "}\n",
       "\n",
       ".xr-section-summary-in + label:before {\n",
       "  display: inline-block;\n",
       "  content: '►';\n",
       "  font-size: 11px;\n",
       "  width: 15px;\n",
       "  text-align: center;\n",
       "}\n",
       "\n",
       ".xr-section-summary-in:disabled + label:before {\n",
       "  color: var(--xr-disabled-color);\n",
       "}\n",
       "\n",
       ".xr-section-summary-in:checked + label:before {\n",
       "  content: '▼';\n",
       "}\n",
       "\n",
       ".xr-section-summary-in:checked + label > span {\n",
       "  display: none;\n",
       "}\n",
       "\n",
       ".xr-section-summary,\n",
       ".xr-section-inline-details {\n",
       "  padding-top: 4px;\n",
       "  padding-bottom: 4px;\n",
       "}\n",
       "\n",
       ".xr-section-inline-details {\n",
       "  grid-column: 2 / -1;\n",
       "}\n",
       "\n",
       ".xr-section-details {\n",
       "  display: none;\n",
       "  grid-column: 1 / -1;\n",
       "  margin-bottom: 5px;\n",
       "}\n",
       "\n",
       ".xr-section-summary-in:checked ~ .xr-section-details {\n",
       "  display: contents;\n",
       "}\n",
       "\n",
       ".xr-array-wrap {\n",
       "  grid-column: 1 / -1;\n",
       "  display: grid;\n",
       "  grid-template-columns: 20px auto;\n",
       "}\n",
       "\n",
       ".xr-array-wrap > label {\n",
       "  grid-column: 1;\n",
       "  vertical-align: top;\n",
       "}\n",
       "\n",
       ".xr-preview {\n",
       "  color: var(--xr-font-color3);\n",
       "}\n",
       "\n",
       ".xr-array-preview,\n",
       ".xr-array-data {\n",
       "  padding: 0 5px !important;\n",
       "  grid-column: 2;\n",
       "}\n",
       "\n",
       ".xr-array-data,\n",
       ".xr-array-in:checked ~ .xr-array-preview {\n",
       "  display: none;\n",
       "}\n",
       "\n",
       ".xr-array-in:checked ~ .xr-array-data,\n",
       ".xr-array-preview {\n",
       "  display: inline-block;\n",
       "}\n",
       "\n",
       ".xr-dim-list {\n",
       "  display: inline-block !important;\n",
       "  list-style: none;\n",
       "  padding: 0 !important;\n",
       "  margin: 0;\n",
       "}\n",
       "\n",
       ".xr-dim-list li {\n",
       "  display: inline-block;\n",
       "  padding: 0;\n",
       "  margin: 0;\n",
       "}\n",
       "\n",
       ".xr-dim-list:before {\n",
       "  content: '(';\n",
       "}\n",
       "\n",
       ".xr-dim-list:after {\n",
       "  content: ')';\n",
       "}\n",
       "\n",
       ".xr-dim-list li:not(:last-child):after {\n",
       "  content: ',';\n",
       "  padding-right: 5px;\n",
       "}\n",
       "\n",
       ".xr-has-index {\n",
       "  font-weight: bold;\n",
       "}\n",
       "\n",
       ".xr-var-list,\n",
       ".xr-var-item {\n",
       "  display: contents;\n",
       "}\n",
       "\n",
       ".xr-var-item > div,\n",
       ".xr-var-item label,\n",
       ".xr-var-item > .xr-var-name span {\n",
       "  background-color: var(--xr-background-color-row-even);\n",
       "  margin-bottom: 0;\n",
       "}\n",
       "\n",
       ".xr-var-item > .xr-var-name:hover span {\n",
       "  padding-right: 5px;\n",
       "}\n",
       "\n",
       ".xr-var-list > li:nth-child(odd) > div,\n",
       ".xr-var-list > li:nth-child(odd) > label,\n",
       ".xr-var-list > li:nth-child(odd) > .xr-var-name span {\n",
       "  background-color: var(--xr-background-color-row-odd);\n",
       "}\n",
       "\n",
       ".xr-var-name {\n",
       "  grid-column: 1;\n",
       "}\n",
       "\n",
       ".xr-var-dims {\n",
       "  grid-column: 2;\n",
       "}\n",
       "\n",
       ".xr-var-dtype {\n",
       "  grid-column: 3;\n",
       "  text-align: right;\n",
       "  color: var(--xr-font-color2);\n",
       "}\n",
       "\n",
       ".xr-var-preview {\n",
       "  grid-column: 4;\n",
       "}\n",
       "\n",
       ".xr-index-preview {\n",
       "  grid-column: 2 / 5;\n",
       "  color: var(--xr-font-color2);\n",
       "}\n",
       "\n",
       ".xr-var-name,\n",
       ".xr-var-dims,\n",
       ".xr-var-dtype,\n",
       ".xr-preview,\n",
       ".xr-attrs dt {\n",
       "  white-space: nowrap;\n",
       "  overflow: hidden;\n",
       "  text-overflow: ellipsis;\n",
       "  padding-right: 10px;\n",
       "}\n",
       "\n",
       ".xr-var-name:hover,\n",
       ".xr-var-dims:hover,\n",
       ".xr-var-dtype:hover,\n",
       ".xr-attrs dt:hover {\n",
       "  overflow: visible;\n",
       "  width: auto;\n",
       "  z-index: 1;\n",
       "}\n",
       "\n",
       ".xr-var-attrs,\n",
       ".xr-var-data,\n",
       ".xr-index-data {\n",
       "  display: none;\n",
       "  background-color: var(--xr-background-color) !important;\n",
       "  padding-bottom: 5px !important;\n",
       "}\n",
       "\n",
       ".xr-var-attrs-in:checked ~ .xr-var-attrs,\n",
       ".xr-var-data-in:checked ~ .xr-var-data,\n",
       ".xr-index-data-in:checked ~ .xr-index-data {\n",
       "  display: block;\n",
       "}\n",
       "\n",
       ".xr-var-data > table {\n",
       "  float: right;\n",
       "}\n",
       "\n",
       ".xr-var-name span,\n",
       ".xr-var-data,\n",
       ".xr-index-name div,\n",
       ".xr-index-data,\n",
       ".xr-attrs {\n",
       "  padding-left: 25px !important;\n",
       "}\n",
       "\n",
       ".xr-attrs,\n",
       ".xr-var-attrs,\n",
       ".xr-var-data,\n",
       ".xr-index-data {\n",
       "  grid-column: 1 / -1;\n",
       "}\n",
       "\n",
       "dl.xr-attrs {\n",
       "  padding: 0;\n",
       "  margin: 0;\n",
       "  display: grid;\n",
       "  grid-template-columns: 125px auto;\n",
       "}\n",
       "\n",
       ".xr-attrs dt,\n",
       ".xr-attrs dd {\n",
       "  padding: 0;\n",
       "  margin: 0;\n",
       "  float: left;\n",
       "  padding-right: 10px;\n",
       "  width: auto;\n",
       "}\n",
       "\n",
       ".xr-attrs dt {\n",
       "  font-weight: normal;\n",
       "  grid-column: 1;\n",
       "}\n",
       "\n",
       ".xr-attrs dt:hover span {\n",
       "  display: inline-block;\n",
       "  background: var(--xr-background-color);\n",
       "  padding-right: 10px;\n",
       "}\n",
       "\n",
       ".xr-attrs dd {\n",
       "  grid-column: 2;\n",
       "  white-space: pre-wrap;\n",
       "  word-break: break-all;\n",
       "}\n",
       "\n",
       ".xr-icon-database,\n",
       ".xr-icon-file-text2,\n",
       ".xr-no-icon {\n",
       "  display: inline-block;\n",
       "  vertical-align: middle;\n",
       "  width: 1em;\n",
       "  height: 1.5em !important;\n",
       "  stroke-width: 0;\n",
       "  stroke: currentColor;\n",
       "  fill: currentColor;\n",
       "}\n",
       "</style><pre class='xr-text-repr-fallback'>&lt;xarray.DatasetView&gt; Size: 4MB\n",
       "Dimensions:    (theta_par: 1000, eV: 1040)\n",
       "Coordinates:\n",
       "  * theta_par  (theta_par) float64 8kB -23.94 -23.9 -23.85 ... 23.85 23.9 23.94\n",
       "  * eV         (eV) float64 8kB 104.5 104.5 104.5 104.5 ... 105.4 105.4 105.4\n",
       "Data variables:\n",
       "    data       (eV, theta_par) float32 4MB [count/s] 0.0 0.0 0.0 ... 0.0 0.0 0.0</pre><div class='xr-wrap' style='display:none'><div class='xr-header'><div class='xr-obj-type'>gold</div></div><ul class='xr-sections'><li class='xr-section-item'><input id='section-b2336fe4-b380-4cbf-b4ae-018f2a00554b' class='xr-section-summary-in' type='checkbox' disabled ><label for='section-b2336fe4-b380-4cbf-b4ae-018f2a00554b' class='xr-section-summary'  title='Expand/collapse section'>Groups: <span>(0)</span></label><div class='xr-section-inline-details'></div><div class='xr-section-details'><div style='display: inline-grid; grid-template-columns: 100%; grid-column: 1 / -1'></div></div></li><li class='xr-section-item'><input id='section-6d19cd66-8996-42b6-8681-e213029cbbb2' class='xr-section-summary-in' type='checkbox' disabled ><label for='section-6d19cd66-8996-42b6-8681-e213029cbbb2' class='xr-section-summary'  title='Expand/collapse section'>Dimensions:</label><div class='xr-section-inline-details'><ul class='xr-dim-list'><li><span class='xr-has-index'>theta_par</span>: 1000</li><li><span class='xr-has-index'>eV</span>: 1040</li></ul></div><div class='xr-section-details'></div></li><li class='xr-section-item'><input id='section-47534972-782e-43a0-ba5d-45e4a903f7b5' class='xr-section-summary-in' type='checkbox'  checked><label for='section-47534972-782e-43a0-ba5d-45e4a903f7b5' class='xr-section-summary' >Coordinates: <span>(2)</span></label><div class='xr-section-inline-details'></div><div class='xr-section-details'><ul class='xr-var-list'><li class='xr-var-item'><div class='xr-var-name'><span class='xr-has-index'>theta_par</span></div><div class='xr-var-dims'>(theta_par)</div><div class='xr-var-dtype'>float64</div><div class='xr-var-preview xr-preview'>-23.94 -23.9 -23.85 ... 23.9 23.94</div><input id='attrs-f9b0c50f-6897-483a-95fc-9f6b803e7fc5' class='xr-var-attrs-in' type='checkbox' ><label for='attrs-f9b0c50f-6897-483a-95fc-9f6b803e7fc5' title='Show/Hide attributes'><svg class='icon xr-icon-file-text2'><use xlink:href='#icon-file-text2'></use></svg></label><input id='data-efd0f4c2-7210-462b-add2-2b6c8a4fed54' class='xr-var-data-in' type='checkbox'><label for='data-efd0f4c2-7210-462b-add2-2b6c8a4fed54' title='Show/Hide data repr'><svg class='icon xr-icon-database'><use xlink:href='#icon-database'></use></svg></label><div class='xr-var-attrs'><dl class='xr-attrs'><dt><span>units :</span></dt><dd>deg</dd></dl></div><div class='xr-var-data'><pre>array([-23.943889, -23.895954, -23.848018, ...,  23.848018,  23.895954,\n",
       "        23.943889])</pre></div></li><li class='xr-var-item'><div class='xr-var-name'><span class='xr-has-index'>eV</span></div><div class='xr-var-dims'>(eV)</div><div class='xr-var-dtype'>float64</div><div class='xr-var-preview xr-preview'>104.5 104.5 104.5 ... 105.4 105.4</div><input id='attrs-af427c3f-769b-4827-b4fd-2e5356200eee' class='xr-var-attrs-in' type='checkbox' ><label for='attrs-af427c3f-769b-4827-b4fd-2e5356200eee' title='Show/Hide attributes'><svg class='icon xr-icon-file-text2'><use xlink:href='#icon-file-text2'></use></svg></label><input id='data-0ddf76c6-ee60-4668-a77e-d4109a73eb8d' class='xr-var-data-in' type='checkbox'><label for='data-0ddf76c6-ee60-4668-a77e-d4109a73eb8d' title='Show/Hide data repr'><svg class='icon xr-icon-database'><use xlink:href='#icon-database'></use></svg></label><div class='xr-var-attrs'><dl class='xr-attrs'><dt><span>units :</span></dt><dd>eV</dd></dl></div><div class='xr-var-data'><pre>array([104.529205, 104.530015, 104.530825, ..., 105.369175, 105.369985,\n",
       "       105.370795])</pre></div></li></ul></div></li><li class='xr-section-item'><input id='section-76d69df7-e9bc-4e01-9971-34cd7c8ea61e' class='xr-section-summary-in' type='checkbox'  checked><label for='section-76d69df7-e9bc-4e01-9971-34cd7c8ea61e' class='xr-section-summary' >Data variables: <span>(1)</span></label><div class='xr-section-inline-details'></div><div class='xr-section-details'><ul class='xr-var-list'><li class='xr-var-item'><div class='xr-var-name'><span>data</span></div><div class='xr-var-dims'>(eV, theta_par)</div><div class='xr-var-dtype'>float32</div><div class='xr-var-preview xr-preview'>[count/s] 0.0 0.0 0.0 ... 0.0 0.0</div><input id='attrs-e9fac790-2cca-4efe-9045-c3db3f9de52e' class='xr-var-attrs-in' type='checkbox' ><label for='attrs-e9fac790-2cca-4efe-9045-c3db3f9de52e' title='Show/Hide attributes'><svg class='icon xr-icon-file-text2'><use xlink:href='#icon-file-text2'></use></svg></label><input id='data-f1a0f37d-73e0-4ca8-a1fb-41d0f9fea154' class='xr-var-data-in' type='checkbox'><label for='data-f1a0f37d-73e0-4ca8-a1fb-41d0f9fea154' title='Show/Hide data repr'><svg class='icon xr-icon-database'><use xlink:href='#icon-database'></use></svg></label><div class='xr-var-attrs'><dl class='xr-attrs'><dt><span>_scan :</span></dt><dd>name=&#x27;i05-59853&#x27; filepath=&#x27;/Users/philking/Library/CloudStorage/OneDrive-UniversityofStAndrews/Lab/Example data/i05-59853.nxs&#x27; loc=&#x27;Diamond_I05_ARPES&#x27; timestamp=&#x27;2024-08-18 20:39:36&#x27; scan_command=None</dd><dt><span>_calibration :</span></dt><dd>EF_correction=None V0=None</dd><dt><span>_analyser :</span></dt><dd>analyser=ARPESAnalyserMetadataModel(model=None, slit=ARPESSlitMetadataModel(width=&lt;Quantity(0.2, &#x27;millimeter&#x27;)&gt;, identifier=None)) scan=ARPESScanMetadataModel(eV=&lt;Quantity([104.529205 105.370795], &#x27;electron_volt&#x27;)&gt;, step_size=&lt;Quantity(0.0008099999999999966, &#x27;dimensionless&#x27;)&gt;, PE=&lt;Quantity(10, &#x27;electron_volt&#x27;)&gt;, sweeps=300, dwell=&lt;Quantity(1.0, &#x27;second&#x27;)&gt;, lens_mode=&#x27;Angular30&#x27;, acquisition_mode=&#x27;Fixed&#x27;, eV_type=&#x27;kinetic&#x27;) angles=ARPESAnalyserAnglesMetadataModel(polar=None, tilt=None, azi=&lt;Quantity(0, &#x27;degree&#x27;)&gt;) deflector=ARPESDeflectorMetadataModel(parallel=NamedAxisMetadataModel(local_name=&#x27;deflector_y&#x27;, value=None), perp=NamedAxisMetadataModel(local_name=&#x27;deflector_x&#x27;, value=None))</dd><dt><span>_manipulator :</span></dt><dd>polar=AxisMetadataModelWithReference(local_name=&#x27;sapolar&#x27;, value=&lt;Quantity(0.0015242955199994415, &#x27;degree&#x27;)&gt;, reference_value=None) tilt=AxisMetadataModelWithReference(local_name=&#x27;satilt&#x27;, value=&lt;Quantity(0.0, &#x27;degree&#x27;)&gt;, reference_value=None) azi=AxisMetadataModelWithReference(local_name=&#x27;saazimuth&#x27;, value=&lt;Quantity(17.48571448, &#x27;degree&#x27;)&gt;, reference_value=None) x1=AxisMetadataModelWithReference(local_name=&#x27;sax&#x27;, value=&lt;Quantity(0.671, &#x27;millimeter&#x27;)&gt;, reference_value=None) x2=AxisMetadataModelWithReference(local_name=&#x27;say&#x27;, value=&lt;Quantity(0.924, &#x27;millimeter&#x27;)&gt;, reference_value=None) x3=AxisMetadataModelWithReference(local_name=&#x27;saz&#x27;, value=&lt;Quantity(-36.29200000000003, &#x27;millimeter&#x27;)&gt;, reference_value=None)</dd><dt><span>_photon :</span></dt><dd>hv=&lt;Quantity(109.99993499999998, &#x27;electron_volt&#x27;)&gt; polarisation=&#x27;LH&#x27; exit_slit=&lt;Quantity(0.1, &#x27;millimeter&#x27;)&gt;</dd><dt><span>_temperature :</span></dt><dd>sample=&lt;Quantity(12.4563, &#x27;kelvin&#x27;)&gt; cryostat=&lt;Quantity(11.1745, &#x27;kelvin&#x27;)&gt; shield=&lt;Quantity(61.6002, &#x27;kelvin&#x27;)&gt; setpoint=&lt;Quantity(12.0, &#x27;kelvin&#x27;)&gt;</dd><dt><span>_analysis_history :</span></dt><dd>records=[AnalysisHistoryRecord(time=datetime.datetime(2024, 11, 9, 15, 54, 6, 942932), peaks_version=&#x27;0.3.0-dev&#x27;, record={&#x27;record&#x27;: &#x27;Data loaded&#x27;, &#x27;loc&#x27;: &#x27;Diamond_I05_ARPES&#x27;, &#x27;loader&#x27;: &#x27;I05ARPESLoader&#x27;, &#x27;file_name&#x27;: &#x27;/Users/philking/Library/CloudStorage/OneDrive-UniversityofStAndrews/Lab/Example data/i05-59853.nxs&#x27;}, fn_name=&#x27;_add_load_history&#x27;)]</dd></dl></div><div class='xr-var-data'><table><tbody><tr><th>Magnitude</th><td style='text-align:left;'><pre>[[0.0 0.0 0.0 ... 0.0 0.0 0.0] [0.0 0.0 0.0 ... 0.0 0.0 0.0] [0.0 0.0 0.0 ... 0.0 0.0 0.0] ... [0.0 0.0 0.0 ... 0.0 0.0 0.0] [0.0 0.0 0.0 ... 0.0 0.0 0.0] [0.0 0.0 0.0 ... 0.0 0.0 0.0]]</pre></td></tr><tr><th>Units</th><td style='text-align:left;'>count/s</td></tr></tbody></table></div></li></ul></div></li><li class='xr-section-item'><input id='section-7da99a18-59a3-4841-9506-9b69b02ae8b1' class='xr-section-summary-in' type='checkbox' disabled ><label for='section-7da99a18-59a3-4841-9506-9b69b02ae8b1' class='xr-section-summary'  title='Expand/collapse section'>Attributes: <span>(0)</span></label><div class='xr-section-inline-details'></div><div class='xr-section-details'><dl class='xr-attrs'></dl></div></li></ul></div></div></div></div></div></div></li><li class='xr-section-item'><input id='section-0ac804f8-4465-4287-af22-551d195b27ca' class='xr-section-summary-in' type='checkbox' disabled ><label for='section-0ac804f8-4465-4287-af22-551d195b27ca' class='xr-section-summary'  title='Expand/collapse section'>Dimensions:</label><div class='xr-section-inline-details'></div><div class='xr-section-details'></div></li><li class='xr-section-item'><input id='section-e157d677-77dd-4d61-86e0-73aa69bedc26' class='xr-section-summary-in' type='checkbox' disabled ><label for='section-e157d677-77dd-4d61-86e0-73aa69bedc26' class='xr-section-summary'  title='Expand/collapse section'>Coordinates: <span>(0)</span></label><div class='xr-section-inline-details'></div><div class='xr-section-details'><ul class='xr-var-list'></ul></div></li><li class='xr-section-item'><input id='section-719b6756-2b0c-4bd3-8aca-e5470d97c65b' class='xr-section-summary-in' type='checkbox' disabled ><label for='section-719b6756-2b0c-4bd3-8aca-e5470d97c65b' class='xr-section-summary'  title='Expand/collapse section'>Inherited coordinates: <span>(0)</span></label><div class='xr-section-inline-details'></div><div class='xr-section-details'><ul class='xr-var-list'></ul></div></li><li class='xr-section-item'><input id='section-92999d34-c940-47d9-a584-4e2f342fef8b' class='xr-section-summary-in' type='checkbox' disabled ><label for='section-92999d34-c940-47d9-a584-4e2f342fef8b' class='xr-section-summary'  title='Expand/collapse section'>Data variables: <span>(0)</span></label><div class='xr-section-inline-details'></div><div class='xr-section-details'><ul class='xr-var-list'></ul></div></li><li class='xr-section-item'><input id='section-a9bae1d9-a020-4ba0-8312-21617d50f48b' class='xr-section-summary-in' type='checkbox' disabled ><label for='section-a9bae1d9-a020-4ba0-8312-21617d50f48b' class='xr-section-summary'  title='Expand/collapse section'>Attributes: <span>(0)</span></label><div class='xr-section-inline-details'></div><div class='xr-section-details'><dl class='xr-attrs'></dl></div></li></ul></div></div>"
      ],
      "text/plain": [
       "<xarray.DataTree>\n",
       "Group: /\n",
       "├── Group: /disp1\n",
       "│       Dimensions:    (theta_par: 1000, eV: 1040)\n",
       "│       Coordinates:\n",
       "│         * theta_par  (theta_par) float64 8kB -23.94 -23.9 -23.85 ... 23.85 23.9 23.94\n",
       "│         * eV         (eV) float64 8kB 104.5 104.5 104.5 104.5 ... 105.4 105.4 105.4\n",
       "│       Data variables:\n",
       "│           data       (eV, theta_par) float32 4MB [count/s] 0.0 0.0 0.0 ... 0.0 0.0 0.0\n",
       "└── Group: /gold\n",
       "        Dimensions:    (theta_par: 1000, eV: 1040)\n",
       "        Coordinates:\n",
       "          * theta_par  (theta_par) float64 8kB -23.94 -23.9 -23.85 ... 23.85 23.9 23.94\n",
       "          * eV         (eV) float64 8kB 104.5 104.5 104.5 104.5 ... 105.4 105.4 105.4\n",
       "        Data variables:\n",
       "            data       (eV, theta_par) float32 4MB [count/s] 0.0 0.0 0.0 ... 0.0 0.0 0.0"
      ]
     },
     "execution_count": 21,
     "metadata": {},
     "output_type": "execute_result"
    }
   ],
   "source": [
    "multiple_disp"
   ]
  },
  {
   "cell_type": "markdown",
   "id": "47986088-d9de-409b-a5df-006a5721505a",
   "metadata": {},
   "source": [
    "This can be considered as a tree-like structure, where the stored data are the leaves of the tree. A quick view of the tree structure (and included scans) can be accessed via the method `.view()`. This prints a tree structure, where items containing data are coloured in green. "
   ]
  },
  {
   "cell_type": "code",
   "execution_count": 22,
   "id": "6c6ff541-46d2-4ac6-8cb4-cb415f0f0525",
   "metadata": {
    "ExecuteTime": {
     "end_time": "2024-10-21T09:01:29.789756Z",
     "start_time": "2024-10-21T09:01:29.770830Z"
    }
   },
   "outputs": [
    {
     "name": "stdout",
     "output_type": "stream",
     "text": [
      "\n",
      "├── \u001b[32mdisp1\u001b[0m\n",
      "└── \u001b[32mgold\u001b[0m\n",
      "\n"
     ]
    }
   ],
   "source": [
    "multiple_disp.view()"
   ]
  },
  {
   "cell_type": "markdown",
   "id": "a2cc7aee-a79d-44ef-ba7f-ef66b16aacde",
   "metadata": {},
   "source": [
    "Or a more detailed view via a simple `print()`"
   ]
  },
  {
   "cell_type": "code",
   "execution_count": 23,
   "id": "c27a46be-4a38-444a-8236-6b25e87a7338",
   "metadata": {
    "ExecuteTime": {
     "end_time": "2024-10-21T09:01:38.664123Z",
     "start_time": "2024-10-21T09:01:38.645297Z"
    }
   },
   "outputs": [
    {
     "name": "stdout",
     "output_type": "stream",
     "text": [
      "<xarray.DataTree>\n",
      "Group: /\n",
      "├── Group: /disp1\n",
      "│       Dimensions:    (theta_par: 1000, eV: 1040)\n",
      "│       Coordinates:\n",
      "│         * theta_par  (theta_par) float64 8kB -23.94 -23.9 -23.85 ... 23.85 23.9 23.94\n",
      "│         * eV         (eV) float64 8kB 104.5 104.5 104.5 104.5 ... 105.4 105.4 105.4\n",
      "│       Data variables:\n",
      "│           data       (eV, theta_par) float32 4MB [count/s] 0.0 0.0 0.0 ... 0.0 0.0 0.0\n",
      "└── Group: /gold\n",
      "        Dimensions:    (theta_par: 1000, eV: 1040)\n",
      "        Coordinates:\n",
      "          * theta_par  (theta_par) float64 8kB -23.94 -23.9 -23.85 ... 23.85 23.9 23.94\n",
      "          * eV         (eV) float64 8kB 104.5 104.5 104.5 104.5 ... 105.4 105.4 105.4\n",
      "        Data variables:\n",
      "            data       (eV, theta_par) float32 4MB [count/s] 0.0 0.0 0.0 ... 0.0 0.0 0.0\n"
     ]
    }
   ],
   "source": [
    "print(multiple_disp)"
   ]
  },
  {
   "cell_type": "markdown",
   "id": "b57fb884-718f-49e4-ac16-364008285e53",
   "metadata": {},
   "source": [
    "The scan data can then be accessed using dictionary methods or an object-oriented approach"
   ]
  },
  {
   "cell_type": "code",
   "execution_count": 24,
   "id": "12981caf-749f-4579-81fc-f11b8a1db582",
   "metadata": {
    "ExecuteTime": {
     "end_time": "2024-10-21T09:01:46.479959Z",
     "start_time": "2024-10-21T09:01:45.348075Z"
    }
   },
   "outputs": [
    {
     "data": {
      "text/plain": [
       "<matplotlib.collections.QuadMesh at 0x11d741640>"
      ]
     },
     "execution_count": 24,
     "metadata": {},
     "output_type": "execute_result"
    },
    {
     "data": {
      "image/png": "[encoded data removed]",
      "text/plain": [
       "<Figure size 640x480 with 2 Axes>"
      ]
     },
     "metadata": {
      "image/png": {
       "height": 433,
       "width": 589
      }
     },
     "output_type": "display_data"
    }
   ],
   "source": [
    "multiple_disp.disp1.data.plot()"
   ]
  },
  {
   "cell_type": "markdown",
   "id": "0ff3fead-6c25-400d-bae5-92299ac2ceff",
   "metadata": {},
   "source": [
    ":::{attention}\n",
    "Note, the :class:`xarray.DataTree` structure requires data in the leaves of the tree to be in a :class:`xarray.Dataset` format, rather than a :class:`xarray.DataArray`. Unless the data is already in :class:`xarray.Dataset` form, `peaks` convention is to convert the :class:`xarray.DataArray` to a :class:`xarray.Dataset` with a single data variable `data`. Note the additional `.data` used above the access the underlying :class:`xarray.DataArray`. This :class:`xarray.DataArray` now has the name `data` rather than the default scan name. The original scan (file) name is still accessible via the [metadata](#metadata)\n",
    "```python\n",
    "multiple_disp.disp.scan.name\n",
    "```\n",
    ":::"
   ]
  },
  {
   "cell_type": "markdown",
   "id": "b8969656-e7a5-4219-a1d2-96cdb9c74c2c",
   "metadata": {},
   "source": [
    "#### Extending tree structure\n",
    "A new scan group (branch of the :class:`xarray.DataTree` can be added to the tree via the helper method `.add_scan_group()`, optionally specifying a name for the group. If no name is specified a default `scan_group_#` name will be used where # is a number to make it unique. "
   ]
  },
  {
   "cell_type": "code",
   "execution_count": 25,
   "id": "6f72caa2-2e08-4ab5-ae11-5e909af4446a",
   "metadata": {},
   "outputs": [
    {
     "data": {
      "application/vnd.jupyter.widget-view+json": {
       "model_id": "5ee7a16858b849c5b687945c5188f12e",
       "version_major": 2,
       "version_minor": 0
      },
      "text/plain": [
       "Loading data:   0%|          | 0/2 [00:00<?, ?it/s]"
      ]
     },
     "metadata": {},
     "output_type": "display_data"
    }
   ],
   "source": [
    "\n",
    "multiple_disp = pks.load([819,853], names=['disp1','gold'])"
   ]
  },
  {
   "cell_type": "code",
   "execution_count": 26,
   "id": "ea2807fa-55e7-441f-aa20-dc3665f8a349",
   "metadata": {},
   "outputs": [],
   "source": [
    "multiple_disp.add_scan_group('FS')"
   ]
  },
  {
   "cell_type": "code",
   "execution_count": 27,
   "id": "5ec06533-c6a6-4f12-8e8a-3f0762e9fe7e",
   "metadata": {},
   "outputs": [
    {
     "name": "stdout",
     "output_type": "stream",
     "text": [
      "\n",
      "├── \u001b[32mdisp1\u001b[0m\n",
      "├── \u001b[32mgold\u001b[0m\n",
      "└── FS\n",
      "\n"
     ]
    }
   ],
   "source": [
    "multiple_disp.view()"
   ]
  },
  {
   "cell_type": "markdown",
   "id": "3d9fd758-f265-4a22-8adf-54c12b207946",
   "metadata": {},
   "source": [
    "Add a file to the :class:`xarray.DataTree` by passing an already loaded :class:`xarray.DataArray`, optionally providing a name for the entry in the :class:`xarray.DataTree`. Note that this is being inserted into the new scan group just created. `peaks` convention is that the :class:`xarray.DataTree` should be hollow, i.e. that data can only be added as *leafs* and not on *branches*  "
   ]
  },
  {
   "cell_type": "code",
   "execution_count": 28,
   "id": "f20ac8d9-bf28-43de-8c28-15b38d054d56",
   "metadata": {},
   "outputs": [],
   "source": [
    "multiple_disp['FS'].add(FS1, name='FS1')"
   ]
  },
  {
   "cell_type": "code",
   "execution_count": 29,
   "id": "725af536-29a5-4282-880a-950b887a721a",
   "metadata": {},
   "outputs": [
    {
     "name": "stdout",
     "output_type": "stream",
     "text": [
      "\n",
      "├── \u001b[32mdisp1\u001b[0m\n",
      "├── \u001b[32mgold\u001b[0m\n",
      "└── FS\n",
      "   └── \u001b[32mFS1\u001b[0m\n",
      "\n"
     ]
    }
   ],
   "source": [
    "multiple_disp.view()"
   ]
  },
  {
   "cell_type": "markdown",
   "id": "1adc8abe-7e76-4377-b29e-aabf2a80c230",
   "metadata": {},
   "source": [
    "The contents of another :class:`xarray.DataTree` can be added to the original tree. Here, each scan of the new tree is added at the root level of the `multiple_disp` tree, specified by passing `add_at_root=True`. Note, this is inserted at the root level of the tree that you call `.add()` on; it may be that that actually has a parent still."
   ]
  },
  {
   "cell_type": "code",
   "execution_count": 30,
   "id": "8a690fbf-6192-4afb-9c3b-64fa7f3ce25d",
   "metadata": {},
   "outputs": [
    {
     "data": {
      "application/vnd.jupyter.widget-view+json": {
       "model_id": "25b2040ed9b44aecb3b89366d7c11224",
       "version_major": 2,
       "version_minor": 0
      },
      "text/plain": [
       "Loading data:   0%|          | 0/2 [00:00<?, ?it/s]"
      ]
     },
     "metadata": {},
     "output_type": "display_data"
    }
   ],
   "source": [
    "# Load data with specific names for the scans\n",
    "dt2 = pks.load([819,853], names=['disp_copy','gold_copy'])\n",
    "# Insert these scans all into the original DataTree\n",
    "multiple_disp.add(dt2, add_at_root=True)"
   ]
  },
  {
   "cell_type": "code",
   "execution_count": 31,
   "id": "ad264184-819a-4863-addc-e57fbe72c5ce",
   "metadata": {},
   "outputs": [
    {
     "name": "stdout",
     "output_type": "stream",
     "text": [
      "\n",
      "├── \u001b[32mdisp1\u001b[0m\n",
      "├── \u001b[32mgold\u001b[0m\n",
      "├── FS\n",
      "   └── \u001b[32mFS1\u001b[0m\n",
      "├── \u001b[32mdisp_copy\u001b[0m\n",
      "└── \u001b[32mgold_copy\u001b[0m\n",
      "\n"
     ]
    }
   ],
   "source": [
    "multiple_disp.view()"
   ]
  },
  {
   "cell_type": "markdown",
   "id": "29eef3ed-aed2-41a5-ad5c-1026dbc55e00",
   "metadata": {},
   "source": [
    "Alternatively, they can be added as a new scan block, either with a specified name, or with an automatically generated name:"
   ]
  },
  {
   "cell_type": "code",
   "execution_count": 32,
   "id": "04500b90-721a-40cd-97a3-b6d9cd2fedb7",
   "metadata": {},
   "outputs": [
    {
     "data": {
      "application/vnd.jupyter.widget-view+json": {
       "model_id": "c42e974a448c4db5b5228f3cfbd679ba",
       "version_major": 2,
       "version_minor": 0
      },
      "text/plain": [
       "Loading data:   0%|          | 0/2 [00:00<?, ?it/s]"
      ]
     },
     "metadata": {},
     "output_type": "display_data"
    }
   ],
   "source": [
    "dt3 = pks.load([819,853])\n",
    "multiple_disp.add(dt3)"
   ]
  },
  {
   "cell_type": "code",
   "execution_count": 33,
   "id": "c76aa919-0580-4a41-97af-78fb58cdbac6",
   "metadata": {},
   "outputs": [
    {
     "name": "stdout",
     "output_type": "stream",
     "text": [
      "\n",
      "├── \u001b[32mdisp1\u001b[0m\n",
      "├── \u001b[32mgold\u001b[0m\n",
      "├── FS\n",
      "   └── \u001b[32mFS1\u001b[0m\n",
      "├── \u001b[32mdisp_copy\u001b[0m\n",
      "├── \u001b[32mgold_copy\u001b[0m\n",
      "└── scan_group_0\n",
      "   ├── \u001b[32mi05_59819\u001b[0m\n",
      "   └── \u001b[32mi05_59853\u001b[0m\n",
      "\n"
     ]
    }
   ],
   "source": [
    "multiple_disp.view()"
   ]
  },
  {
   "cell_type": "markdown",
   "id": "9c16a616-3d53-4869-bd17-e321452bc451",
   "metadata": {},
   "source": [
    "Data can also be loaded directly into the :class:`xarray.DataTree` by passing the arguments that are passed to :class:`peaks.load`"
   ]
  },
  {
   "cell_type": "code",
   "execution_count": 34,
   "id": "e411c90c-84d3-42cf-8a16-54e72a2db784",
   "metadata": {},
   "outputs": [
    {
     "data": {
      "application/vnd.jupyter.widget-view+json": {
       "model_id": "068e067419954c4293137f99714cffc3",
       "version_major": 2,
       "version_minor": 0
      },
      "text/plain": [
       "Loading data:   0%|          | 0/2 [00:00<?, ?it/s]"
      ]
     },
     "metadata": {},
     "output_type": "display_data"
    },
    {
     "data": {
      "text/markdown": [
       "<div class=\"alert alert-block alert-info\"><b>Loading info: </b> DataArray has been lazily evaluated in the dask format (set lazy=False to load as DataArray in xarray format). Use the .compute() method to load DataArray into RAM in the xarray format, or the .persist() method to instead load DataArray into RAM in the dask format. Note: these operations load all of the data into memory, so large files may require an initial reduction in size through either a slicing or binning operation. </div>"
      ],
      "text/plain": [
       "<IPython.core.display.Markdown object>"
      ]
     },
     "metadata": {},
     "output_type": "display_data"
    }
   ],
   "source": [
    "multiple_disp.add([819,853], name='loaded_directly', names=['disp_copy2','gold_copy2'], lazy=True)"
   ]
  },
  {
   "cell_type": "code",
   "execution_count": 35,
   "id": "297b8702-9e70-4fcf-bb6b-abb1a7d8d9bf",
   "metadata": {},
   "outputs": [
    {
     "name": "stdout",
     "output_type": "stream",
     "text": [
      "\n",
      "├── \u001b[32mdisp1\u001b[0m\n",
      "├── \u001b[32mgold\u001b[0m\n",
      "├── FS\n",
      "   └── \u001b[32mFS1\u001b[0m\n",
      "├── \u001b[32mdisp_copy\u001b[0m\n",
      "├── \u001b[32mgold_copy\u001b[0m\n",
      "├── scan_group_0\n",
      "   ├── \u001b[32mi05_59819\u001b[0m\n",
      "   └── \u001b[32mi05_59853\u001b[0m\n",
      "└── loaded_directly\n",
      "   ├── \u001b[32mdisp_copy2\u001b[0m\n",
      "   └── \u001b[32mgold_copy2\u001b[0m\n",
      "\n"
     ]
    }
   ],
   "source": [
    "multiple_disp.view()"
   ]
  },
  {
   "cell_type": "markdown",
   "id": "8a9c74ca-f848-45b9-a11c-b2e0d017d713",
   "metadata": {},
   "source": [
    "Individual entries or sections of the tree can be removed by a simple `del`:"
   ]
  },
  {
   "cell_type": "code",
   "execution_count": 36,
   "id": "28ba41f6-e4af-4167-8424-e538217e9a1a",
   "metadata": {},
   "outputs": [],
   "source": [
    "del multiple_disp['scan_group_0']"
   ]
  },
  {
   "cell_type": "code",
   "execution_count": 37,
   "id": "22a808bb-5ae0-4df1-8f6e-acd4d9bd9ac1",
   "metadata": {},
   "outputs": [
    {
     "name": "stdout",
     "output_type": "stream",
     "text": [
      "\n",
      "├── \u001b[32mdisp1\u001b[0m\n",
      "├── \u001b[32mgold\u001b[0m\n",
      "├── FS\n",
      "   └── \u001b[32mFS1\u001b[0m\n",
      "├── \u001b[32mdisp_copy\u001b[0m\n",
      "├── \u001b[32mgold_copy\u001b[0m\n",
      "└── loaded_directly\n",
      "   ├── \u001b[32mdisp_copy2\u001b[0m\n",
      "   └── \u001b[32mgold_copy2\u001b[0m\n",
      "\n"
     ]
    }
   ],
   "source": [
    "multiple_disp.view()"
   ]
  },
  {
   "cell_type": "markdown",
   "id": "e40d24d2-d829-414e-a51f-6c2f10895240",
   "metadata": {},
   "source": [
    ":::{attention}\n",
    "Apart from working with hollow trees, `peaks` does not enforce a particular data structure for the :class:`xarray.DataTree` and it is at the user's discretion how to best organise their data this way. Recommended practice is to use this as a broad structure to facilitate grouping data together and for batch processing. It also provides a convenient method for saving groups of data following data processing. But the user should take care to ensure a transparent record of what processing has occured, and the underlying :class:`xarray.DataArray` (or sometimes :class:`xarray.Dataset`) remains the fundamental data unit. \n",
    ":::"
   ]
  },
  {
   "cell_type": "markdown",
   "id": "7bac555f-9329-4164-a740-1b680328b95e",
   "metadata": {},
   "source": [
    "## Metadata\n",
    "\n",
    "The relevant metadata for the data is stored in the :class:`xarray.Dataarray` attributes. \n",
    ":::{tip}\n",
    "While this can be modified using standard :class:`xarray` methods, in general the user should not modify the metadata directly, but rather using the provided methods described below. This has several advantages:\n",
    "- it will ensure that the metadata complies with the expected `peaks` metadata structure\n",
    "- it adds a transpart record to the analysis history when metadata is manually changed (see [user guide on analysis history](./4_analysis_history.ipynb)).\n",
    "- it provides simple methods for updating metadata across multiple scans when stored within :class:`xarray.DataTree`'s.\n",
    ":::\n",
    "\n",
    "To show the complete set of the current metadata, simply call the `.metadata` attribute"
   ]
  },
  {
   "cell_type": "code",
   "execution_count": 40,
   "id": "db9905d8-ea09-4d8f-8c95-d37309bc9955",
   "metadata": {},
   "outputs": [
    {
     "data": {
      "text/plain": [
       "\u001b[32mscan\u001b[0m:\n",
       "    \u001b[34mname\u001b[0m: i05-59819\n",
       "    \u001b[34mfilepath\u001b[0m: /Users/philking/Library/CloudStorage/OneDrive-UniversityofStAndrews/Lab/Example data/i05-59819.nxs\n",
       "    \u001b[34mloc\u001b[0m: Diamond_I05_ARPES\n",
       "    \u001b[34mtimestamp\u001b[0m: 2022-11-01 09:50:38\n",
       "    \u001b[34mscan_command\u001b[0m: None\n",
       "\u001b[32mcalibration\u001b[0m:\n",
       "    \u001b[34mEF_correction\u001b[0m: None\n",
       "    \u001b[34mV0\u001b[0m: None\n",
       "\u001b[32manalyser\u001b[0m:\n",
       "    \u001b[34manalyser\u001b[0m:\n",
       "        \u001b[31mmodel\u001b[0m: None\n",
       "        \u001b[31mslit\u001b[0m:\n",
       "            \u001b[33mwidth\u001b[0m: 0.2 mm\n",
       "            \u001b[33midentifier\u001b[0m: None\n",
       "    \u001b[34mscan\u001b[0m:\n",
       "        \u001b[31meV\u001b[0m: [104.52920499999999 105.37079499999999] eV\n",
       "        \u001b[31mstep_size\u001b[0m: 0.0008099999999999966\n",
       "        \u001b[31mPE\u001b[0m: 10 eV\n",
       "        \u001b[31msweeps\u001b[0m: 600\n",
       "        \u001b[31mdwell\u001b[0m: 1.0 s\n",
       "        \u001b[31mlens_mode\u001b[0m: Angular30\n",
       "        \u001b[31macquisition_mode\u001b[0m: Fixed\n",
       "        \u001b[31meV_type\u001b[0m: kinetic\n",
       "    \u001b[34mangles\u001b[0m:\n",
       "        \u001b[31mpolar\u001b[0m: None\n",
       "        \u001b[31mtilt\u001b[0m: None\n",
       "        \u001b[31mazi\u001b[0m: 0 deg\n",
       "    \u001b[34mdeflector\u001b[0m:\n",
       "        \u001b[31mparallel\u001b[0m:\n",
       "            \u001b[33mlocal_name\u001b[0m: deflector_y\n",
       "            \u001b[33mvalue\u001b[0m: None\n",
       "        \u001b[31mperp\u001b[0m:\n",
       "            \u001b[33mlocal_name\u001b[0m: deflector_x\n",
       "            \u001b[33mvalue\u001b[0m: None\n",
       "\u001b[32mmanipulator\u001b[0m:\n",
       "    \u001b[34mpolar\u001b[0m:\n",
       "        \u001b[31mlocal_name\u001b[0m: sapolar\n",
       "        \u001b[31mvalue\u001b[0m: 1.5015242916799991 deg\n",
       "        \u001b[31mreference_value\u001b[0m: None\n",
       "    \u001b[34mtilt\u001b[0m:\n",
       "        \u001b[31mlocal_name\u001b[0m: satilt\n",
       "        \u001b[31mvalue\u001b[0m: 0.006 deg\n",
       "        \u001b[31mreference_value\u001b[0m: None\n",
       "    \u001b[34mazi\u001b[0m:\n",
       "        \u001b[31mlocal_name\u001b[0m: saazimuth\n",
       "        \u001b[31mvalue\u001b[0m: -12.510000138999999 deg\n",
       "        \u001b[31mreference_value\u001b[0m: None\n",
       "    \u001b[34mx1\u001b[0m:\n",
       "        \u001b[31mlocal_name\u001b[0m: sax\n",
       "        \u001b[31mvalue\u001b[0m: 1.09 mm\n",
       "        \u001b[31mreference_value\u001b[0m: None\n",
       "    \u001b[34mx2\u001b[0m:\n",
       "        \u001b[31mlocal_name\u001b[0m: say\n",
       "        \u001b[31mvalue\u001b[0m: 0.278 mm\n",
       "        \u001b[31mreference_value\u001b[0m: None\n",
       "    \u001b[34mx3\u001b[0m:\n",
       "        \u001b[31mlocal_name\u001b[0m: saz\n",
       "        \u001b[31mvalue\u001b[0m: -2.8659999999999854 mm\n",
       "        \u001b[31mreference_value\u001b[0m: None\n",
       "\u001b[32mphoton\u001b[0m:\n",
       "    \u001b[34mhv\u001b[0m: 109.999792 eV\n",
       "    \u001b[34mpolarisation\u001b[0m: LH\n",
       "    \u001b[34mexit_slit\u001b[0m: 0.01 mm\n",
       "\u001b[32mtemperature\u001b[0m:\n",
       "    \u001b[34msample\u001b[0m: 11.9915 K\n",
       "    \u001b[34mcryostat\u001b[0m: 10.7334 K\n",
       "    \u001b[34mshield\u001b[0m: 59.4714 K\n",
       "    \u001b[34msetpoint\u001b[0m: 12.0 K"
      ]
     },
     "execution_count": 40,
     "metadata": {},
     "output_type": "execute_result"
    }
   ],
   "source": [
    "disp1.metadata"
   ]
  },
  {
   "cell_type": "markdown",
   "id": "f84fe1c7-9fb0-41c0-8c18-7ca138c42950",
   "metadata": {},
   "source": [
    "The relevant keys for the metadata entries can be returned with `.keys()`:"
   ]
  },
  {
   "cell_type": "code",
   "execution_count": 41,
   "id": "b53fa452-f9c7-4d83-9fa5-d7afd7bb6004",
   "metadata": {},
   "outputs": [
    {
     "data": {
      "text/plain": [
       "dict_keys(['scan', 'calibration', 'analyser', 'manipulator', 'photon', 'temperature'])"
      ]
     },
     "execution_count": 41,
     "metadata": {},
     "output_type": "execute_result"
    }
   ],
   "source": [
    "disp1.metadata.keys()"
   ]
  },
  {
   "cell_type": "markdown",
   "id": "03021068-98b7-4cbc-b287-c131556e381c",
   "metadata": {},
   "source": [
    "Metadata can be shown for individual subgroups using a dot notation:"
   ]
  },
  {
   "cell_type": "code",
   "execution_count": 42,
   "id": "2244e70a-3878-4b40-a20f-803ae7e082e0",
   "metadata": {},
   "outputs": [
    {
     "data": {
      "text/plain": [
       "\u001b[32mhv\u001b[0m: 109.999792 eV\n",
       "\u001b[32mpolarisation\u001b[0m: LH\n",
       "\u001b[32mexit_slit\u001b[0m: 0.01 mm"
      ]
     },
     "execution_count": 42,
     "metadata": {},
     "output_type": "execute_result"
    }
   ],
   "source": [
    "disp1.metadata.photon"
   ]
  },
  {
   "cell_type": "markdown",
   "id": "17ce1ccb-278b-4205-84ac-57f1edef4b61",
   "metadata": {},
   "source": [
    "and set using a simple assignment:"
   ]
  },
  {
   "cell_type": "code",
   "execution_count": 43,
   "id": "84c61dbc-90ee-4d8b-bd35-88bbe2b2bfc3",
   "metadata": {},
   "outputs": [],
   "source": [
    "disp1.metadata.photon.hv = 110"
   ]
  },
  {
   "cell_type": "code",
   "execution_count": 44,
   "id": "0518ba24-54fe-4c9e-9e94-8930dde829fc",
   "metadata": {},
   "outputs": [
    {
     "data": {
      "text/html": [
       "110 eV"
      ],
      "text/latex": [
       "$\\begin{pmatrix}\\end{pmatrix}\\ \\mathrm{eV}$"
      ],
      "text/plain": [
       "<Quantity(110, 'electron_volt')>"
      ]
     },
     "execution_count": 44,
     "metadata": {},
     "output_type": "execute_result"
    }
   ],
   "source": [
    "disp1.metadata.photon.hv"
   ]
  },
  {
   "cell_type": "code",
   "execution_count": 45,
   "id": "68648ed5-5a98-4ad4-a32b-30552821c320",
   "metadata": {},
   "outputs": [
    {
     "data": {
      "text/plain": [
       "\u001b[32mhv\u001b[0m: 110 eV\n",
       "\u001b[32mpolarisation\u001b[0m: LH\n",
       "\u001b[32mexit_slit\u001b[0m: 0.01 mm"
      ]
     },
     "execution_count": 45,
     "metadata": {},
     "output_type": "execute_result"
    }
   ],
   "source": [
    "disp1.metadata.photon"
   ]
  },
  {
   "cell_type": "markdown",
   "id": "df96fdc4-cfb4-4980-8caf-dfe9fd9eeb93",
   "metadata": {},
   "source": [
    "Units are maintained where already existing, or can be set explicitly by passing a :class:`pint.Quantity` where the unit registry is available in the `peaks` namespace as `pks.ureg`:"
   ]
  },
  {
   "cell_type": "code",
   "execution_count": 46,
   "id": "fd7988be-da96-4272-976d-cae88561a9b5",
   "metadata": {},
   "outputs": [],
   "source": [
    "disp1.metadata.photon.exit_slit = 10 * pks.ureg('um')"
   ]
  },
  {
   "cell_type": "code",
   "execution_count": 47,
   "id": "c6e26b60-9d96-45e2-8034-77b2f4964ac0",
   "metadata": {},
   "outputs": [
    {
     "data": {
      "text/plain": [
       "\u001b[32mhv\u001b[0m: 110 eV\n",
       "\u001b[32mpolarisation\u001b[0m: LH\n",
       "\u001b[32mexit_slit\u001b[0m: 10 µm"
      ]
     },
     "execution_count": 47,
     "metadata": {},
     "output_type": "execute_result"
    }
   ],
   "source": [
    "disp1.metadata.photon"
   ]
  },
  {
   "cell_type": "markdown",
   "id": "55423e36-1790-4137-94f5-20ba1fa54d24",
   "metadata": {},
   "source": [
    "Metadata can also be updated by passing a dictionary which respects the structure of the metadata groups starting from the level where called:"
   ]
  },
  {
   "cell_type": "code",
   "execution_count": 48,
   "id": "3f1553fd-1db3-491c-ba3a-fbbfade32446",
   "metadata": {},
   "outputs": [
    {
     "data": {
      "text/plain": [
       "\u001b[32mparallel\u001b[0m:\n",
       "    \u001b[34mlocal_name\u001b[0m: deflector_1\n",
       "    \u001b[34mvalue\u001b[0m: None\n",
       "\u001b[32mperp\u001b[0m:\n",
       "    \u001b[34mlocal_name\u001b[0m: deflector_2\n",
       "    \u001b[34mvalue\u001b[0m: None"
      ]
     },
     "execution_count": 48,
     "metadata": {},
     "output_type": "execute_result"
    }
   ],
   "source": [
    "disp1.metadata.analyser.deflector({'parallel': {'local_name': 'deflector_1'}, 'perp': {'local_name': 'deflector_2'}})"
   ]
  },
  {
   "cell_type": "markdown",
   "id": "5b2eb114-6d75-46a1-a903-25818d9ee21b",
   "metadata": {},
   "source": [
    "Special methods for setting normal emission metadata are discussed in the [data processing guide](./3_data_processing.ipynb)"
   ]
  },
  {
   "cell_type": "markdown",
   "id": "9c01e510-aa00-46e9-a6d1-1195b208559f",
   "metadata": {},
   "source": [
    "### Batch updating metadata for a DataTree\n",
    "For data stored within a :class:`xarray.DataTree` structure, you can apply the `.metadata` method to all scans in the subtree below the passed tree node. This requires the metadata to be updated to be passed in a dictionary with the same nested structure as the relevant metadata structure, and requires this structure to be the same for all data within the tree. Either a single dictionary can be passed, or keyword arguments can be used to specify the metadata group to be updated. For example, for updating a single attribute of `scan` metadata:"
   ]
  },
  {
   "cell_type": "code",
   "execution_count": 49,
   "id": "d6bacabb-9551-478d-bff8-25d4bad9aa4b",
   "metadata": {},
   "outputs": [
    {
     "data": {
      "text/plain": [
       "\u001b[32mname\u001b[0m: i05-59819\n",
       "\u001b[32mfilepath\u001b[0m: /Users/philking/Library/CloudStorage/OneDrive-UniversityofStAndrews/Lab/Example data/i05-59819.nxs\n",
       "\u001b[32mloc\u001b[0m: Diamond_I05_ARPES\n",
       "\u001b[32mtimestamp\u001b[0m: 2022-11-01 09:50:38\n",
       "\u001b[32mscan_command\u001b[0m: None"
      ]
     },
     "execution_count": 49,
     "metadata": {},
     "output_type": "execute_result"
    }
   ],
   "source": [
    "multiple_disp.disp1.data.metadata.scan"
   ]
  },
  {
   "cell_type": "markdown",
   "id": "f720cd2b-e6b3-48e9-b884-f3a622794104",
   "metadata": {},
   "source": [
    "Updating with keyword arguments"
   ]
  },
  {
   "cell_type": "code",
   "execution_count": 50,
   "id": "f6b4fdb8-6ba6-46b7-97ee-3000b9920a1c",
   "metadata": {},
   "outputs": [
    {
     "data": {
      "text/plain": [
       "<peaks.core.metadata.meatdata_methods.MetadataDT at 0x11f362ed0>"
      ]
     },
     "execution_count": 50,
     "metadata": {},
     "output_type": "execute_result"
    }
   ],
   "source": [
    "multiple_disp.metadata(scan={'scan_command': 'Example of updating the metadata'})"
   ]
  },
  {
   "cell_type": "code",
   "execution_count": 51,
   "id": "9507030a-7161-4302-8661-eb5c76487d2a",
   "metadata": {},
   "outputs": [
    {
     "data": {
      "text/plain": [
       "\u001b[32mname\u001b[0m: i05-59819\n",
       "\u001b[32mfilepath\u001b[0m: /Users/philking/Library/CloudStorage/OneDrive-UniversityofStAndrews/Lab/Example data/i05-59819.nxs\n",
       "\u001b[32mloc\u001b[0m: Diamond_I05_ARPES\n",
       "\u001b[32mtimestamp\u001b[0m: 2022-11-01 09:50:38\n",
       "\u001b[32mscan_command\u001b[0m: Example of updating the metadata"
      ]
     },
     "execution_count": 51,
     "metadata": {},
     "output_type": "execute_result"
    }
   ],
   "source": [
    "multiple_disp.disp1.data.metadata.scan"
   ]
  },
  {
   "cell_type": "markdown",
   "id": "43281fd3-5c90-4bd7-bd0e-84e5b19e33bc",
   "metadata": {},
   "source": [
    "Or updating with a single `dict`:"
   ]
  },
  {
   "cell_type": "code",
   "execution_count": 52,
   "id": "f5d621ab-eb7e-4649-a39f-749a136906ce",
   "metadata": {},
   "outputs": [
    {
     "data": {
      "text/plain": [
       "<peaks.core.metadata.meatdata_methods.MetadataDT at 0x11f362ed0>"
      ]
     },
     "execution_count": 52,
     "metadata": {},
     "output_type": "execute_result"
    }
   ],
   "source": [
    "multiple_disp.metadata({'scan': {'scan_command': 'Example of updating the metadata again'}})"
   ]
  },
  {
   "cell_type": "code",
   "execution_count": 53,
   "id": "f3d5bc4f-b684-4d93-b387-33ef4926466b",
   "metadata": {},
   "outputs": [
    {
     "data": {
      "text/plain": [
       "\u001b[32mname\u001b[0m: i05-59818\n",
       "\u001b[32mfilepath\u001b[0m: /Users/philking/Library/CloudStorage/OneDrive-UniversityofStAndrews/Lab/Example data/i05-59818.nxs\n",
       "\u001b[32mloc\u001b[0m: Diamond_I05_ARPES\n",
       "\u001b[32mtimestamp\u001b[0m: 2024-10-25 04:45:11\n",
       "\u001b[32mscan_command\u001b[0m: Example of updating the metadata again"
      ]
     },
     "execution_count": 53,
     "metadata": {},
     "output_type": "execute_result"
    }
   ],
   "source": [
    "multiple_disp.FS.FS1.data.metadata.scan"
   ]
  },
  {
   "cell_type": "markdown",
   "id": "d1f65be4-c8ee-4f38-bcbb-20cc31b85780",
   "metadata": {},
   "source": [
    "### Setting manipulator normal emissions\n",
    "\n",
    "Additional helper methods exist for setting normal emission values."
   ]
  },
  {
   "cell_type": "code",
   "execution_count": 54,
   "id": "74aa66c5-e151-473a-8d88-dce1467d07a4",
   "metadata": {},
   "outputs": [
    {
     "name": "stdout",
     "output_type": "stream",
     "text": [
      "[########################################] | 100% Completed | 7.52 s\n"
     ]
    }
   ],
   "source": [
    "FS = FS1.MDC(105.05,0.05).compute()"
   ]
  },
  {
   "cell_type": "code",
   "execution_count": 55,
   "id": "7611f0db-e997-4bcd-9d50-0b2ab58ee44e",
   "metadata": {},
   "outputs": [
    {
     "data": {
      "text/plain": [
       "<matplotlib.lines.Line2D at 0x11d882c30>"
      ]
     },
     "execution_count": 55,
     "metadata": {},
     "output_type": "execute_result"
    },
    {
     "data": {
      "image/png": "[encoded data removed]",
      "text/plain": [
       "<Figure size 640x480 with 2 Axes>"
      ]
     },
     "metadata": {
      "image/png": {
       "height": 454,
       "width": 565
      }
     },
     "output_type": "display_data"
    }
   ],
   "source": [
    "# Rough estimate of normal emission\n",
    "FS.plot()\n",
    "plt.axvline(0.05)\n",
    "plt.axhline(1.5)"
   ]
  },
  {
   "cell_type": "markdown",
   "id": "7ad976b8-b425-498f-8fbb-482e8f28bd8a",
   "metadata": {},
   "source": [
    "To set the relevant axis reference values, we can use the `.metadata.set_normal_emission()` method, passing our determined values as either a dictionary or with keyword arguments:"
   ]
  },
  {
   "cell_type": "code",
   "execution_count": 56,
   "id": "c14adb7d-673a-4354-ad07-91b9cc5bdf4b",
   "metadata": {},
   "outputs": [],
   "source": [
    "FS1.metadata.set_normal_emission(polar=1.5, theta_par=0.05)"
   ]
  },
  {
   "cell_type": "markdown",
   "id": "d56e254b-4cd8-413f-a297-6890616bfba2",
   "metadata": {},
   "source": [
    "Now reference values are set for the relevant polar and tilt axes"
   ]
  },
  {
   "cell_type": "code",
   "execution_count": 57,
   "id": "1633b170-88c2-471c-a329-e7f80e037fb8",
   "metadata": {},
   "outputs": [
    {
     "data": {
      "text/plain": [
       "\u001b[32mpolar\u001b[0m:\n",
       "    \u001b[34mlocal_name\u001b[0m: sapolar\n",
       "    \u001b[34mvalue\u001b[0m: [-19.9992378484 30.00095257238] deg\n",
       "    \u001b[34mreference_value\u001b[0m: 1.5 deg\n",
       "\u001b[32mtilt\u001b[0m:\n",
       "    \u001b[34mlocal_name\u001b[0m: satilt\n",
       "    \u001b[34mvalue\u001b[0m: 0.006 deg\n",
       "    \u001b[34mreference_value\u001b[0m: 0.056 deg\n",
       "\u001b[32mazi\u001b[0m:\n",
       "    \u001b[34mlocal_name\u001b[0m: saazimuth\n",
       "    \u001b[34mvalue\u001b[0m: -12.510000138999999 deg\n",
       "    \u001b[34mreference_value\u001b[0m: None\n",
       "\u001b[32mx1\u001b[0m:\n",
       "    \u001b[34mlocal_name\u001b[0m: sax\n",
       "    \u001b[34mvalue\u001b[0m: 1.089 mm\n",
       "    \u001b[34mreference_value\u001b[0m: None\n",
       "\u001b[32mx2\u001b[0m:\n",
       "    \u001b[34mlocal_name\u001b[0m: say\n",
       "    \u001b[34mvalue\u001b[0m: [0.171 0.42000000000000004] mm\n",
       "    \u001b[34mreference_value\u001b[0m: None\n",
       "\u001b[32mx3\u001b[0m:\n",
       "    \u001b[34mlocal_name\u001b[0m: saz\n",
       "    \u001b[34mvalue\u001b[0m: -2.8659999999999854 mm\n",
       "    \u001b[34mreference_value\u001b[0m: None"
      ]
     },
     "execution_count": 57,
     "metadata": {},
     "output_type": "execute_result"
    }
   ],
   "source": [
    "FS1.metadata.manipulator"
   ]
  },
  {
   "cell_type": "markdown",
   "id": "b7bfe849-273d-45d4-b0ca-b1709d82bc7c",
   "metadata": {},
   "source": [
    "To set normal emission values of a scan (or an entire :class:`xarray.DataTree`) to be like another scan, use the `set_normal_emission_like` method:"
   ]
  },
  {
   "cell_type": "code",
   "execution_count": 58,
   "id": "9a476acd-1b31-4cd2-98bb-96881b254d29",
   "metadata": {},
   "outputs": [],
   "source": [
    "disp1.metadata.set_normal_emission_like(FS1)"
   ]
  },
  {
   "cell_type": "code",
   "execution_count": 59,
   "id": "984c71c8-4949-45ef-9eca-df0dc9f463f4",
   "metadata": {},
   "outputs": [
    {
     "data": {
      "text/plain": [
       "\u001b[32mpolar\u001b[0m:\n",
       "    \u001b[34mlocal_name\u001b[0m: sapolar\n",
       "    \u001b[34mvalue\u001b[0m: 1.5015242916799991 deg\n",
       "    \u001b[34mreference_value\u001b[0m: 1.5 deg\n",
       "\u001b[32mtilt\u001b[0m:\n",
       "    \u001b[34mlocal_name\u001b[0m: satilt\n",
       "    \u001b[34mvalue\u001b[0m: 0.006 deg\n",
       "    \u001b[34mreference_value\u001b[0m: 0.056 deg\n",
       "\u001b[32mazi\u001b[0m:\n",
       "    \u001b[34mlocal_name\u001b[0m: saazimuth\n",
       "    \u001b[34mvalue\u001b[0m: -12.510000138999999 deg\n",
       "    \u001b[34mreference_value\u001b[0m: None\n",
       "\u001b[32mx1\u001b[0m:\n",
       "    \u001b[34mlocal_name\u001b[0m: sax\n",
       "    \u001b[34mvalue\u001b[0m: 1.09 mm\n",
       "    \u001b[34mreference_value\u001b[0m: None\n",
       "\u001b[32mx2\u001b[0m:\n",
       "    \u001b[34mlocal_name\u001b[0m: say\n",
       "    \u001b[34mvalue\u001b[0m: 0.278 mm\n",
       "    \u001b[34mreference_value\u001b[0m: None\n",
       "\u001b[32mx3\u001b[0m:\n",
       "    \u001b[34mlocal_name\u001b[0m: saz\n",
       "    \u001b[34mvalue\u001b[0m: -2.8659999999999854 mm\n",
       "    \u001b[34mreference_value\u001b[0m: None"
      ]
     },
     "execution_count": 59,
     "metadata": {},
     "output_type": "execute_result"
    }
   ],
   "source": [
    "disp1.metadata.manipulator"
   ]
  },
  {
   "cell_type": "markdown",
   "id": "acffa734-82c6-4787-b9b6-d07ea00cdd84",
   "metadata": {},
   "source": [
    "### Analysis history\n",
    "To enhance the reproducibility and data provenance for data analysed using `peaks`, we attempt to keep track of data operations performed using in-built `peaks` functions (including the name of the calling function), and store these in a JSON-type record within the data attributes of the :class:`xarray.DataArray`, under the entry `analysis_history`. While a well-organised Jupyter notenbook is a good start, the user has to be careful to only execute cells in order, and a typical analysis workflow may involve loading and processing some data and saving an intermediate step, before further post-processing in another notebook, necessating a richer storing of data analysis history. Saving and loading using in-built peaks methods will attempt to keep a persistent data analysis record in tact. The analysis history can also show up where some additional methods (e.g. automatic Fermi level estimation) have been called as part of the pipeline.\n"
   ]
  },
  {
   "cell_type": "code",
   "execution_count": 60,
   "id": "93c3f5d0-8740-4c52-a4a8-fad1fac20c08",
   "metadata": {},
   "outputs": [],
   "source": [
    "with pks.opts as opts:\n",
    "    opts.FileIO.path = os.path.join('/Users/Shared/','i05-59')\n",
    "    opts.FileIO.ext = 'nxs'\n",
    "\n",
    "    disp2 = pks.load(819)"
   ]
  },
  {
   "cell_type": "markdown",
   "id": "e16fe9c6-0400-465c-861e-9fe545f681fc",
   "metadata": {},
   "source": [
    "An initial history record is made upon loading, which can be accessed via the `.history()` accessor. This attempts to display the history in a formatted table: "
   ]
  },
  {
   "cell_type": "code",
   "execution_count": 61,
   "id": "47f5c21c-3e37-4d59-bf9a-e7836c129acb",
   "metadata": {},
   "outputs": [
    {
     "data": {
      "text/html": [
       "<div>\n",
       "<style scoped>\n",
       "    .dataframe tbody tr th:only-of-type {\n",
       "        vertical-align: middle;\n",
       "    }\n",
       "\n",
       "    .dataframe tbody tr th {\n",
       "        vertical-align: top;\n",
       "    }\n",
       "\n",
       "    .dataframe thead th {\n",
       "        text-align: right;\n",
       "    }\n",
       "</style>\n",
       "<table border=\"1\" class=\"dataframe\">\n",
       "  <thead>\n",
       "    <tr style=\"text-align: left;\">\n",
       "      <th></th>\n",
       "      <th>time</th>\n",
       "      <th>peaks version</th>\n",
       "      <th>record</th>\n",
       "      <th>function name</th>\n",
       "    </tr>\n",
       "  </thead>\n",
       "  <tbody>\n",
       "    <tr>\n",
       "      <th>0</th>\n",
       "      <td>2024-11-09 15:57:13.066085</td>\n",
       "      <td>0.3.0-dev</td>\n",
       "      <td>{'record': 'Data loaded', 'loc': 'Diamond_I05_ARPES', 'loader': 'I05ARPESLoader', 'file_name': '/Users/Shared/i05-59819.nxs'}</td>\n",
       "      <td>_add_load_history</td>\n",
       "    </tr>\n",
       "  </tbody>\n",
       "</table>\n",
       "</div>"
      ],
      "text/plain": [
       "  time                       peaks version  \\\n",
       "0 2024-11-09 15:57:13.066085  0.3.0-dev      \n",
       "\n",
       "  record                                                                                                                          \\\n",
       "0  {'record': 'Data loaded', 'loc': 'Diamond_I05_ARPES', 'loader': 'I05ARPESLoader', 'file_name': '/Users/Shared/i05-59819.nxs'}   \n",
       "\n",
       "  function name       \n",
       "0  _add_load_history  "
      ]
     },
     "metadata": {},
     "output_type": "display_data"
    },
    {
     "data": {
      "text/plain": [
       "History as of 24-11-09 15-57-13"
      ]
     },
     "execution_count": 61,
     "metadata": {},
     "output_type": "execute_result"
    }
   ],
   "source": [
    "disp2.history"
   ]
  },
  {
   "cell_type": "markdown",
   "id": "d8836731-124c-4c15-bbbc-9c5b70d58ed8",
   "metadata": {},
   "source": [
    "`peaks` functions typically add brief history records, including when metadata is updated using the methods discussed [above](#metadata)."
   ]
  },
  {
   "cell_type": "code",
   "execution_count": 62,
   "id": "f20a0f5d-5af5-4a67-a166-f0a28390a9b7",
   "metadata": {},
   "outputs": [],
   "source": [
    "disp2.metadata.scan.name = 'test example'"
   ]
  },
  {
   "cell_type": "code",
   "execution_count": 63,
   "id": "917e444d-c87e-445a-867d-3880b2dbc0c0",
   "metadata": {},
   "outputs": [
    {
     "data": {
      "text/html": [
       "<div>\n",
       "<style scoped>\n",
       "    .dataframe tbody tr th:only-of-type {\n",
       "        vertical-align: middle;\n",
       "    }\n",
       "\n",
       "    .dataframe tbody tr th {\n",
       "        vertical-align: top;\n",
       "    }\n",
       "\n",
       "    .dataframe thead th {\n",
       "        text-align: right;\n",
       "    }\n",
       "</style>\n",
       "<table border=\"1\" class=\"dataframe\">\n",
       "  <thead>\n",
       "    <tr style=\"text-align: left;\">\n",
       "      <th></th>\n",
       "      <th>time</th>\n",
       "      <th>peaks version</th>\n",
       "      <th>record</th>\n",
       "      <th>function name</th>\n",
       "    </tr>\n",
       "  </thead>\n",
       "  <tbody>\n",
       "    <tr>\n",
       "      <th>0</th>\n",
       "      <td>2024-11-09 15:57:13.066085</td>\n",
       "      <td>0.3.0-dev</td>\n",
       "      <td>{'record': 'Data loaded', 'loc': 'Diamond_I05_ARPES', 'loader': 'I05ARPESLoader', 'file_name': '/Users/Shared/i05-59819.nxs'}</td>\n",
       "      <td>_add_load_history</td>\n",
       "    </tr>\n",
       "    <tr>\n",
       "      <th>1</th>\n",
       "      <td>2024-11-09 15:57:17.709529</td>\n",
       "      <td>0.3.0-dev</td>\n",
       "      <td>Metadata attribute 'scan.name' was manually set to test example</td>\n",
       "      <td>.metadata</td>\n",
       "    </tr>\n",
       "  </tbody>\n",
       "</table>\n",
       "</div>"
      ],
      "text/plain": [
       "  time                       peaks version  \\\n",
       "0 2024-11-09 15:57:13.066085  0.3.0-dev      \n",
       "1 2024-11-09 15:57:17.709529  0.3.0-dev      \n",
       "\n",
       "  record                                                                                                                          \\\n",
       "0  {'record': 'Data loaded', 'loc': 'Diamond_I05_ARPES', 'loader': 'I05ARPESLoader', 'file_name': '/Users/Shared/i05-59819.nxs'}   \n",
       "1                                                                Metadata attribute 'scan.name' was manually set to test example   \n",
       "\n",
       "  function name       \n",
       "0  _add_load_history  \n",
       "1          .metadata  "
      ]
     },
     "metadata": {},
     "output_type": "display_data"
    },
    {
     "data": {
      "text/plain": [
       "History as of 24-11-09 15-57-18"
      ]
     },
     "execution_count": 63,
     "metadata": {},
     "output_type": "execute_result"
    }
   ],
   "source": [
    "disp2.history"
   ]
  },
  {
   "cell_type": "markdown",
   "id": "a5fab62a-a028-4e56-a207-7a0c6358cbe2",
   "metadata": {},
   "source": [
    "Some records cam get a little complicated, so a single record can be printed in a clearer format by calling the history accessor with an index of the record to display (defaults to the last record if nothing is passed)"
   ]
  },
  {
   "cell_type": "code",
   "execution_count": 64,
   "id": "baad3880-c024-494b-99e7-252508bf9ddd",
   "metadata": {},
   "outputs": [
    {
     "name": "stdout",
     "output_type": "stream",
     "text": [
      "{'function name': '_add_load_history',\n",
      " 'peaks version': '0.3.0-dev',\n",
      " 'record': {'file_name': '/Users/Shared/i05-59819.nxs',\n",
      "            'loader': 'I05ARPESLoader',\n",
      "            'loc': 'Diamond_I05_ARPES',\n",
      "            'record': 'Data loaded'},\n",
      " 'time': datetime.datetime(2024, 11, 9, 15, 57, 13, 66085)}\n"
     ]
    }
   ],
   "source": [
    "disp2.history(0)"
   ]
  },
  {
   "cell_type": "markdown",
   "id": "6a3298ff-c62e-4dc3-85fc-e8bf9a8ebc01",
   "metadata": {},
   "source": [
    "The corresponding dictionary can be returned, rather than just printed, if calling with the `.get(index)` method, or a list of all entries can be returned if calling with no specified index:"
   ]
  },
  {
   "cell_type": "code",
   "execution_count": 65,
   "id": "1170faea-a222-4177-81ca-8bc3fdc234ca",
   "metadata": {},
   "outputs": [
    {
     "data": {
      "text/plain": [
       "[{'time': datetime.datetime(2024, 11, 9, 15, 57, 13, 66085),\n",
       "  'peaks version': '0.3.0-dev',\n",
       "  'record': {'record': 'Data loaded',\n",
       "   'loc': 'Diamond_I05_ARPES',\n",
       "   'loader': 'I05ARPESLoader',\n",
       "   'file_name': '/Users/Shared/i05-59819.nxs'},\n",
       "  'function name': '_add_load_history'},\n",
       " {'time': datetime.datetime(2024, 11, 9, 15, 57, 17, 709529),\n",
       "  'peaks version': '0.3.0-dev',\n",
       "  'record': \"Metadata attribute 'scan.name' was manually set to test example\",\n",
       "  'function name': '.metadata'}]"
      ]
     },
     "execution_count": 65,
     "metadata": {},
     "output_type": "execute_result"
    }
   ],
   "source": [
    "disp2.history.get()"
   ]
  },
  {
   "cell_type": "markdown",
   "id": "c0589cf3-fd89-4613-b28c-1a1dbefb243d",
   "metadata": {},
   "source": [
    "#### Saving analysis history\n",
    "A json string of the entire analysis history record can be returned using the `history.json` method, and saved using `history.save()`. It can then be opened in the standard way, or e.g. viewed in a web browser or other software. The metadata record is also saved as part of the data if saving using the :class:`peaks` :class:`peaks.save` and :class:`peaks.load` functions"
   ]
  },
  {
   "cell_type": "code",
   "execution_count": 66,
   "id": "4d3fc89e-8a7f-4702-9caa-dc292948f161",
   "metadata": {},
   "outputs": [],
   "source": [
    "# Save the history metadata only\n",
    "disp2.history.save('saving_analysis_metadata.json')"
   ]
  },
  {
   "cell_type": "markdown",
   "id": "91e2085d-0fbc-498d-b10e-1247780afcc7",
   "metadata": {},
   "source": [
    "#### Manually adding analysis history\n",
    "\n",
    "Most `peaks`-specific functions aim to add a related history record, which is one reason to use these functions even where they are otherwise only thin wrappers around e.g. existing :class:`xarray functions`. Operating on a :class:`xarray.DataArray` with e.g. a built in :class:`xarray` method or other non `peaks`-specific function will not lead to the analysis record being updated. In such cases, you should manaully update the analysis record using `.history.add()`"
   ]
  },
  {
   "cell_type": "code",
   "execution_count": 67,
   "id": "789ec5e8-4f75-4e89-9978-ae456dfb044a",
   "metadata": {},
   "outputs": [],
   "source": [
    "# Manually change one of the dispersions\n",
    "disp2 *= 10\n",
    "\n",
    "# Add the history record\n",
    "disp2.history.add('Data intensity multiplied by 10', fn_name='Manual record')"
   ]
  },
  {
   "cell_type": "code",
   "execution_count": 68,
   "id": "f53a5dcd-29a2-4a05-a683-7dd4d945cce3",
   "metadata": {},
   "outputs": [
    {
     "data": {
      "text/html": [
       "<div>\n",
       "<style scoped>\n",
       "    .dataframe tbody tr th:only-of-type {\n",
       "        vertical-align: middle;\n",
       "    }\n",
       "\n",
       "    .dataframe tbody tr th {\n",
       "        vertical-align: top;\n",
       "    }\n",
       "\n",
       "    .dataframe thead th {\n",
       "        text-align: right;\n",
       "    }\n",
       "</style>\n",
       "<table border=\"1\" class=\"dataframe\">\n",
       "  <thead>\n",
       "    <tr style=\"text-align: left;\">\n",
       "      <th></th>\n",
       "      <th>time</th>\n",
       "      <th>peaks version</th>\n",
       "      <th>record</th>\n",
       "      <th>function name</th>\n",
       "    </tr>\n",
       "  </thead>\n",
       "  <tbody>\n",
       "    <tr>\n",
       "      <th>0</th>\n",
       "      <td>2024-11-09 15:57:13.066085</td>\n",
       "      <td>0.3.0-dev</td>\n",
       "      <td>{'record': 'Data loaded', 'loc': 'Diamond_I05_ARPES', 'loader': 'I05ARPESLoader', 'file_name': '/Users/Shared/i05-59819.nxs'}</td>\n",
       "      <td>_add_load_history</td>\n",
       "    </tr>\n",
       "    <tr>\n",
       "      <th>1</th>\n",
       "      <td>2024-11-09 15:57:17.709529</td>\n",
       "      <td>0.3.0-dev</td>\n",
       "      <td>Metadata attribute 'scan.name' was manually set to test example</td>\n",
       "      <td>.metadata</td>\n",
       "    </tr>\n",
       "    <tr>\n",
       "      <th>2</th>\n",
       "      <td>2024-11-09 15:57:26.644853</td>\n",
       "      <td>0.3.0-dev</td>\n",
       "      <td>Data intensity multiplied by 10</td>\n",
       "      <td>Manual record</td>\n",
       "    </tr>\n",
       "  </tbody>\n",
       "</table>\n",
       "</div>"
      ],
      "text/plain": [
       "  time                       peaks version  \\\n",
       "0 2024-11-09 15:57:13.066085  0.3.0-dev      \n",
       "1 2024-11-09 15:57:17.709529  0.3.0-dev      \n",
       "2 2024-11-09 15:57:26.644853  0.3.0-dev      \n",
       "\n",
       "  record                                                                                                                          \\\n",
       "0  {'record': 'Data loaded', 'loc': 'Diamond_I05_ARPES', 'loader': 'I05ARPESLoader', 'file_name': '/Users/Shared/i05-59819.nxs'}   \n",
       "1                                                                Metadata attribute 'scan.name' was manually set to test example   \n",
       "2                                                                                                Data intensity multiplied by 10   \n",
       "\n",
       "  function name       \n",
       "0  _add_load_history  \n",
       "1          .metadata  \n",
       "2      Manual record  "
      ]
     },
     "metadata": {},
     "output_type": "display_data"
    },
    {
     "data": {
      "text/plain": [
       "History as of 24-11-09 15-57-27"
      ]
     },
     "execution_count": 68,
     "metadata": {},
     "output_type": "execute_result"
    }
   ],
   "source": [
    "disp2.history"
   ]
  },
  {
   "cell_type": "markdown",
   "id": "f2c13820-5d09-449f-bd93-0a5ed2650405",
   "metadata": {},
   "source": [
    "This methodology can be used within a custom function, where `peaks` will attempt to also capture the name of the calling function. The data can either be updated in place (behaviour when calling with the `.add` accessor) or a copy of the data with modified history metadata can be returned using the `.assign()` accessor, to aid in chaining methods together (similar to the :class:`xarray.DataArray.assign_attrs` and :class:`xarray.DataArray.assign_coords` methods).\n",
    "\n",
    ":::{warning}\n",
    "It is easy to accidentally update the analysis history of the underlying :class:`xarray.DataArray` that was passed to the function. This should be carefully checked to ensure the desired operation.\n",
    ":::"
   ]
  },
  {
   "cell_type": "code",
   "execution_count": 69,
   "id": "4d811af9-bd90-415c-b84b-b162f053742e",
   "metadata": {},
   "outputs": [],
   "source": [
    "def add_one(data):\n",
    "    data = data.history.assign('Added one to the original data')\n",
    "    return data + 1*pks.ureg('count/s')"
   ]
  },
  {
   "cell_type": "code",
   "execution_count": 70,
   "id": "b8688db2-35ca-4687-af6b-827a331e5759",
   "metadata": {},
   "outputs": [],
   "source": [
    "disp3 = add_one(disp2)"
   ]
  },
  {
   "cell_type": "code",
   "execution_count": 71,
   "id": "ca60180d-ad45-45dc-a620-a4617fcad1c4",
   "metadata": {},
   "outputs": [
    {
     "data": {
      "text/html": [
       "<div>\n",
       "<style scoped>\n",
       "    .dataframe tbody tr th:only-of-type {\n",
       "        vertical-align: middle;\n",
       "    }\n",
       "\n",
       "    .dataframe tbody tr th {\n",
       "        vertical-align: top;\n",
       "    }\n",
       "\n",
       "    .dataframe thead th {\n",
       "        text-align: right;\n",
       "    }\n",
       "</style>\n",
       "<table border=\"1\" class=\"dataframe\">\n",
       "  <thead>\n",
       "    <tr style=\"text-align: left;\">\n",
       "      <th></th>\n",
       "      <th>time</th>\n",
       "      <th>peaks version</th>\n",
       "      <th>record</th>\n",
       "      <th>function name</th>\n",
       "    </tr>\n",
       "  </thead>\n",
       "  <tbody>\n",
       "    <tr>\n",
       "      <th>0</th>\n",
       "      <td>2024-11-09 15:57:13.066085</td>\n",
       "      <td>0.3.0-dev</td>\n",
       "      <td>{'record': 'Data loaded', 'loc': 'Diamond_I05_ARPES', 'loader': 'I05ARPESLoader', 'file_name': '/Users/Shared/i05-59819.nxs'}</td>\n",
       "      <td>_add_load_history</td>\n",
       "    </tr>\n",
       "    <tr>\n",
       "      <th>1</th>\n",
       "      <td>2024-11-09 15:57:17.709529</td>\n",
       "      <td>0.3.0-dev</td>\n",
       "      <td>Metadata attribute 'scan.name' was manually set to test example</td>\n",
       "      <td>.metadata</td>\n",
       "    </tr>\n",
       "    <tr>\n",
       "      <th>2</th>\n",
       "      <td>2024-11-09 15:57:26.644853</td>\n",
       "      <td>0.3.0-dev</td>\n",
       "      <td>Data intensity multiplied by 10</td>\n",
       "      <td>Manual record</td>\n",
       "    </tr>\n",
       "    <tr>\n",
       "      <th>3</th>\n",
       "      <td>2024-11-09 15:57:28.379172</td>\n",
       "      <td>0.3.0-dev</td>\n",
       "      <td>Added one to the original data</td>\n",
       "      <td>add_one</td>\n",
       "    </tr>\n",
       "  </tbody>\n",
       "</table>\n",
       "</div>"
      ],
      "text/plain": [
       "  time                       peaks version  \\\n",
       "0 2024-11-09 15:57:13.066085  0.3.0-dev      \n",
       "1 2024-11-09 15:57:17.709529  0.3.0-dev      \n",
       "2 2024-11-09 15:57:26.644853  0.3.0-dev      \n",
       "3 2024-11-09 15:57:28.379172  0.3.0-dev      \n",
       "\n",
       "  record                                                                                                                          \\\n",
       "0  {'record': 'Data loaded', 'loc': 'Diamond_I05_ARPES', 'loader': 'I05ARPESLoader', 'file_name': '/Users/Shared/i05-59819.nxs'}   \n",
       "1                                                                Metadata attribute 'scan.name' was manually set to test example   \n",
       "2                                                                                                Data intensity multiplied by 10   \n",
       "3                                                                                                 Added one to the original data   \n",
       "\n",
       "  function name       \n",
       "0  _add_load_history  \n",
       "1          .metadata  \n",
       "2      Manual record  \n",
       "3            add_one  "
      ]
     },
     "metadata": {},
     "output_type": "display_data"
    },
    {
     "data": {
      "text/plain": [
       "History as of 24-11-09 15-57-29"
      ]
     },
     "execution_count": 71,
     "metadata": {},
     "output_type": "execute_result"
    }
   ],
   "source": [
    "disp3.history"
   ]
  },
  {
   "cell_type": "markdown",
   "id": "48d2f0f5-6042-4a97-b143-0e8a2578eb8e",
   "metadata": {},
   "source": [
    "For simple cases like the above, where e.g. no parameters to pass to the history string need to be determined during the function execution, a decorator method can be used:"
   ]
  },
  {
   "cell_type": "code",
   "execution_count": 72,
   "id": "8d3103a0-1ec5-4704-8be4-4d743c8d3331",
   "metadata": {},
   "outputs": [],
   "source": [
    "from peaks.core.metadata.history import update_history_decorator\n",
    "\n",
    "@update_history_decorator('Added two to the data')\n",
    "def add_two(data):\n",
    "    return data + 2*pks.ureg('count/s')"
   ]
  },
  {
   "cell_type": "code",
   "execution_count": 73,
   "id": "20615971-ce1e-4833-b232-c54b15934ab6",
   "metadata": {},
   "outputs": [],
   "source": [
    "disp3 = add_two(disp2)"
   ]
  },
  {
   "cell_type": "code",
   "execution_count": 74,
   "id": "e6abb63e-0289-457d-8040-7cfc6197bb84",
   "metadata": {},
   "outputs": [
    {
     "data": {
      "text/html": [
       "<div>\n",
       "<style scoped>\n",
       "    .dataframe tbody tr th:only-of-type {\n",
       "        vertical-align: middle;\n",
       "    }\n",
       "\n",
       "    .dataframe tbody tr th {\n",
       "        vertical-align: top;\n",
       "    }\n",
       "\n",
       "    .dataframe thead th {\n",
       "        text-align: right;\n",
       "    }\n",
       "</style>\n",
       "<table border=\"1\" class=\"dataframe\">\n",
       "  <thead>\n",
       "    <tr style=\"text-align: left;\">\n",
       "      <th></th>\n",
       "      <th>time</th>\n",
       "      <th>peaks version</th>\n",
       "      <th>record</th>\n",
       "      <th>function name</th>\n",
       "    </tr>\n",
       "  </thead>\n",
       "  <tbody>\n",
       "    <tr>\n",
       "      <th>0</th>\n",
       "      <td>2024-11-09 15:57:13.066085</td>\n",
       "      <td>0.3.0-dev</td>\n",
       "      <td>{'record': 'Data loaded', 'loc': 'Diamond_I05_ARPES', 'loader': 'I05ARPESLoader', 'file_name': '/Users/Shared/i05-59819.nxs'}</td>\n",
       "      <td>_add_load_history</td>\n",
       "    </tr>\n",
       "    <tr>\n",
       "      <th>1</th>\n",
       "      <td>2024-11-09 15:57:17.709529</td>\n",
       "      <td>0.3.0-dev</td>\n",
       "      <td>Metadata attribute 'scan.name' was manually set to test example</td>\n",
       "      <td>.metadata</td>\n",
       "    </tr>\n",
       "    <tr>\n",
       "      <th>2</th>\n",
       "      <td>2024-11-09 15:57:26.644853</td>\n",
       "      <td>0.3.0-dev</td>\n",
       "      <td>Data intensity multiplied by 10</td>\n",
       "      <td>Manual record</td>\n",
       "    </tr>\n",
       "    <tr>\n",
       "      <th>3</th>\n",
       "      <td>2024-11-09 15:57:30.116222</td>\n",
       "      <td>0.3.0-dev</td>\n",
       "      <td>Added two to the data</td>\n",
       "      <td>add_two</td>\n",
       "    </tr>\n",
       "  </tbody>\n",
       "</table>\n",
       "</div>"
      ],
      "text/plain": [
       "  time                       peaks version  \\\n",
       "0 2024-11-09 15:57:13.066085  0.3.0-dev      \n",
       "1 2024-11-09 15:57:17.709529  0.3.0-dev      \n",
       "2 2024-11-09 15:57:26.644853  0.3.0-dev      \n",
       "3 2024-11-09 15:57:30.116222  0.3.0-dev      \n",
       "\n",
       "  record                                                                                                                          \\\n",
       "0  {'record': 'Data loaded', 'loc': 'Diamond_I05_ARPES', 'loader': 'I05ARPESLoader', 'file_name': '/Users/Shared/i05-59819.nxs'}   \n",
       "1                                                                Metadata attribute 'scan.name' was manually set to test example   \n",
       "2                                                                                                Data intensity multiplied by 10   \n",
       "3                                                                                                          Added two to the data   \n",
       "\n",
       "  function name       \n",
       "0  _add_load_history  \n",
       "1          .metadata  \n",
       "2      Manual record  \n",
       "3            add_two  "
      ]
     },
     "metadata": {},
     "output_type": "display_data"
    },
    {
     "data": {
      "text/plain": [
       "History as of 24-11-09 15-57-30"
      ]
     },
     "execution_count": 74,
     "metadata": {},
     "output_type": "execute_result"
    }
   ],
   "source": [
    "disp3.history"
   ]
  },
  {
   "cell_type": "markdown",
   "id": "4ee43609-2d0d-4e03-8779-d9d753f760e2",
   "metadata": {},
   "source": [
    "## Saving data\n",
    "Data can be saved using the `.save()` accessor. A single :class:`xarray.DataArray` or :class:`xarray.Dataset` is saved in a netCDF file (extension `.nc`) and a :class:`xarray.DataTree` is stored in a Zarr file (extension `.zarr`). Any metadata attributes stored using `peaks` methods should be serialised and re-openeded correctly, at least if using the same version of `peaks`. If other metadata has been stored in the attributes, this may not be parsed properly depending on the data type."
   ]
  },
  {
   "cell_type": "code",
   "execution_count": 74,
   "id": "23f57bed-18dd-4480-b6c8-c4b1726182a2",
   "metadata": {},
   "outputs": [],
   "source": [
    "disp1.save('disp1.nc')"
   ]
  },
  {
   "cell_type": "code",
   "execution_count": 75,
   "id": "3d72eb19-5013-4320-b93e-a4073c024273",
   "metadata": {},
   "outputs": [
    {
     "name": "stdout",
     "output_type": "stream",
     "text": [
      "[########################################] | 100% Completed | 6.31 s\n"
     ]
    }
   ],
   "source": [
    "multiple_disp.save('dt_example.zarr')"
   ]
  },
  {
   "cell_type": "markdown",
   "id": "9283eecc-68ca-4714-b050-af1982939f78",
   "metadata": {},
   "source": [
    "These can then be loaded again using the regular :class:`peaks.load` method"
   ]
  },
  {
   "cell_type": "code",
   "execution_count": 76,
   "id": "dc08a798-5aaf-4d44-8ecc-0bd019494742",
   "metadata": {},
   "outputs": [],
   "source": [
    "new_disp1 = pks.load('disp1.nc')"
   ]
  },
  {
   "cell_type": "code",
   "execution_count": 77,
   "id": "698af94c-09d6-47e3-bd00-067aa7b52194",
   "metadata": {},
   "outputs": [
    {
     "data": {
      "text/markdown": [
       "<div class=\"alert alert-block alert-info\"><b>Loading info: </b> The data is lazily loaded by default for loading from a Zarr store. Use the .compute() method on the individual data entries to load each into memory. To eagerly load the entire DataTree, pass the `lazy=False` argument to the load function. Ensure that the total data contents is not too large to fit in memory. </div>"
      ],
      "text/plain": [
       "<IPython.core.display.Markdown object>"
      ]
     },
     "metadata": {},
     "output_type": "display_data"
    }
   ],
   "source": [
    "new_dt = pks.load('dt_example.zarr')"
   ]
  }
 ],
 "metadata": {
  "kernelspec": {
   "display_name": "Python 3 (ipykernel)",
   "language": "python",
   "name": "python3"
  },
  "language_info": {
   "codemirror_mode": {
    "name": "ipython",
    "version": 3
   },
   "file_extension": ".py",
   "mimetype": "text/x-python",
   "name": "python",
   "nbconvert_exporter": "python",
   "pygments_lexer": "ipython3",
   "version": "3.12.4"
  }
 },
 "nbformat": 4,
 "nbformat_minor": 5
}
